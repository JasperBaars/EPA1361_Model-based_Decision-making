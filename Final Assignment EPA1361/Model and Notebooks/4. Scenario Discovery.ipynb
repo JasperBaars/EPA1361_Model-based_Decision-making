{
 "cells": [
  {
   "cell_type": "markdown",
   "source": [
    "First, packages are imported."
   ],
   "metadata": {
    "collapsed": false
   }
  },
  {
   "cell_type": "code",
   "execution_count": 1,
   "outputs": [],
   "source": [
    "#   import packages\n",
    "import numpy as np\n",
    "import scipy as sp\n",
    "import pandas as pd\n",
    "import matplotlib.pyplot as plt\n",
    "import seaborn as sns\n",
    "import seaborn.objects as so\n",
    "import networkx as nx\n",
    "import pickle\n",
    "import functools\n",
    "\n",
    "from ema_workbench import (\n",
    "    Model,\n",
    "    Policy,\n",
    "    Scenario,\n",
    "    ema_logging,\n",
    "    SequentialEvaluator,\n",
    "    MultiprocessingEvaluator,\n",
    "    util,\n",
    "    ScalarOutcome,\n",
    ")\n",
    "from dike_model_function import DikeNetwork  # @UnresolvedImport\n",
    "from problem_formulation import get_model_for_problem_formulation, sum_over, sum_over_time\n",
    "from ema_workbench.em_framework.samplers import sample_uncertainties\n",
    "from ema_workbench.em_framework.optimization import ArchiveLogger, EpsilonProgress\n",
    "from ema_workbench.em_framework import parameters_from_csv\n",
    "from ema_workbench.em_framework.evaluators import BaseEvaluator\n",
    "from ema_workbench.analysis import parcoords\n",
    "from ema_workbench.analysis import prim\n",
    "from ema_workbench import Samplers"
   ],
   "metadata": {
    "collapsed": false,
    "ExecuteTime": {
     "end_time": "2023-06-21T07:53:43.425540500Z",
     "start_time": "2023-06-21T07:53:39.448411500Z"
    }
   }
  },
  {
   "cell_type": "markdown",
   "source": [
    "Load results from Uncertainty Analysis"
   ],
   "metadata": {
    "collapsed": false
   }
  },
  {
   "cell_type": "code",
   "execution_count": 2,
   "outputs": [],
   "source": [
    "uncertainty_results = pd.read_pickle(r'../generated_datasets/policy_uncertainty_provinces.pkl')\n",
    "experiments_and_results = pd.read_pickle(r'../generated_datasets/policy_uncertainty_experiments_results.pkl')\n",
    "aggregated_outcomes = pd.read_pickle(r'../generated_datasets/policy_uncertainty_aggregated.pkl')"
   ],
   "metadata": {
    "collapsed": false,
    "ExecuteTime": {
     "end_time": "2023-06-21T07:53:43.499547200Z",
     "start_time": "2023-06-21T07:53:43.429286100Z"
    }
   }
  },
  {
   "cell_type": "markdown",
   "source": [
    "# Calculate Robustness Metrics\n",
    "MOET NOG\n",
    "\n",
    "Once the evaluation data is built through computational experimentation in step 3, that information is used to calculate policy robustness and to discover vulnerabilities in the existing policy op-tionsbasedontheidentifiedrobustnessmeasure(possiblerobustnessmetricswerediscussedinSec-tion 3.2, but RDM traditionally favors a satisficing measure (Matrosov, Woods, & Harou,2013)). Theprocess of searching for vulnerabilities is known as Scenario Discovery. PRIM (the Patient Rule In-duction Method) is typically identified as the most suitable scenario discovery method for RDM, as itproduces simple rules that accurately determine the factors (both uncertainties and policy settings)which contribute to poor performance (Lempert et al.,2006). This information is used to refine boththemodelandpolicyoptionsinaniterativeprocessuntiltheanalystandotherdecisionmakersreacha policy option or set of options that they can implement to address the problem."
   ],
   "metadata": {
    "collapsed": false
   }
  },
  {
   "cell_type": "markdown",
   "source": [
    "### PRIM"
   ],
   "metadata": {
    "collapsed": false
   }
  },
  {
   "cell_type": "code",
   "execution_count": 8,
   "outputs": [
    {
     "data": {
      "text/plain": "<Figure size 640x480 with 0 Axes>"
     },
     "metadata": {},
     "output_type": "display_data"
    },
    {
     "data": {
      "text/plain": "<Figure size 640x480 with 0 Axes>"
     },
     "metadata": {},
     "output_type": "display_data"
    },
    {
     "data": {
      "text/plain": "<Figure size 640x480 with 0 Axes>"
     },
     "metadata": {},
     "output_type": "display_data"
    },
    {
     "data": {
      "text/plain": "<Figure size 640x480 with 0 Axes>"
     },
     "metadata": {},
     "output_type": "display_data"
    },
    {
     "data": {
      "text/plain": "<Figure size 640x480 with 0 Axes>"
     },
     "metadata": {},
     "output_type": "display_data"
    }
   ],
   "source": [
    "x = experiments_and_results.iloc[:, :19]\n",
    "\n",
    "for var in aggregated_outcomes.iloc[:, 2:].columns:\n",
    "    var_path = str('../visualizations/Scenario_Discovery/policy_' + var + '_PRIM.png')\n",
    "    var2_path = str('../visualizations/Scenario_Discovery/policy_' + var + '_PRIM_inspect.png')\n",
    "\n",
    "    y_total_damage = aggregated_outcomes[var].values\n",
    "    y_total_damage = y_total_damage > np.percentile(y_total_damage, 75)\n",
    "\n",
    "    prim_alg_DAM = prim.Prim(x,\n",
    "                             y_total_damage,\n",
    "                             threshold=0.70,\n",
    "                             peel_alpha=0.05, )  # deze variabelen nog tweaken\n",
    "    box_DAM = prim_alg_DAM.find_box()\n",
    "\n",
    "    img = box_DAM.show_tradeoff()\n",
    "    plt.title(var)\n",
    "    fig = img.get_figure()\n",
    "    fig.savefig(var_path, bbox_inches='tight')\n",
    "    fig.clf()"
   ],
   "metadata": {
    "collapsed": false,
    "ExecuteTime": {
     "end_time": "2023-06-19T11:01:45.345020300Z",
     "start_time": "2023-06-19T11:01:37.826791700Z"
    }
   }
  },
  {
   "cell_type": "code",
   "execution_count": 3,
   "outputs": [],
   "source": [],
   "metadata": {
    "collapsed": false,
    "ExecuteTime": {
     "end_time": "2023-06-19T10:10:48.501528700Z",
     "start_time": "2023-06-19T10:10:48.496510100Z"
    }
   }
  }
 ],
 "metadata": {
  "kernelspec": {
   "display_name": "Python 3",
   "language": "python",
   "name": "python3"
  },
  "language_info": {
   "codemirror_mode": {
    "name": "ipython",
    "version": 2
   },
   "file_extension": ".py",
   "mimetype": "text/x-python",
   "name": "python",
   "nbconvert_exporter": "python",
   "pygments_lexer": "ipython2",
   "version": "2.7.6"
  }
 },
 "nbformat": 4,
 "nbformat_minor": 0
}
