{
 "cells": [
  {
   "cell_type": "markdown",
   "source": [
    "First, packages are imported."
   ],
   "metadata": {
    "collapsed": false
   }
  },
  {
   "cell_type": "code",
   "execution_count": 105,
   "outputs": [],
   "source": [
    "#   import packages\n",
    "import numpy as np\n",
    "import scipy as sp\n",
    "import pandas as pd\n",
    "import matplotlib.pyplot as plt\n",
    "import seaborn as sns\n",
    "import seaborn.objects as so\n",
    "import networkx as nx\n",
    "import pickle\n",
    "import functools\n",
    "\n",
    "from ema_workbench import (\n",
    "    Model,\n",
    "    Policy,\n",
    "    Scenario,\n",
    "    ema_logging,\n",
    "    SequentialEvaluator,\n",
    "    MultiprocessingEvaluator,\n",
    "    util,\n",
    "    ScalarOutcome,\n",
    ")\n",
    "from dike_model_function import DikeNetwork  # @UnresolvedImport\n",
    "from problem_formulation import get_model_for_problem_formulation, sum_over, sum_over_time\n",
    "from ema_workbench.em_framework.samplers import sample_uncertainties\n",
    "from ema_workbench.em_framework.optimization import ArchiveLogger, EpsilonProgress\n",
    "from ema_workbench.em_framework import parameters_from_csv\n",
    "from ema_workbench.em_framework.evaluators import BaseEvaluator\n",
    "from ema_workbench.analysis import parcoords\n",
    "from ema_workbench.analysis import prim\n",
    "from ema_workbench import Samplers"
   ],
   "metadata": {
    "collapsed": false,
    "ExecuteTime": {
     "end_time": "2023-06-21T15:12:17.351585800Z",
     "start_time": "2023-06-21T15:12:17.202250Z"
    }
   }
  },
  {
   "cell_type": "markdown",
   "source": [
    "Load results from Uncertainty Analysis"
   ],
   "metadata": {
    "collapsed": false
   }
  },
  {
   "cell_type": "code",
   "execution_count": 106,
   "outputs": [],
   "source": [
    "uncertainty_results = pd.read_pickle(r'../generated_datasets/policy_uncertainty_provinces.pkl')\n",
    "experiments_and_results = pd.read_pickle(r'../generated_datasets/policy_uncertainty_experiments_results.pkl')\n",
    "aggregated_outcomes = pd.read_pickle(r'../generated_datasets/policy_uncertainty_aggregated.pkl')\n",
    "uncertainty_results_run = pd.read_pickle(r'../generated_datasets/policy_uncertainty_test.pkl')"
   ],
   "metadata": {
    "collapsed": false,
    "ExecuteTime": {
     "end_time": "2023-06-21T15:12:17.481219300Z",
     "start_time": "2023-06-21T15:12:17.211871300Z"
    }
   }
  },
  {
   "cell_type": "markdown",
   "source": [
    "# Calculate Robustness Metrics"
   ],
   "metadata": {
    "collapsed": false
   }
  },
  {
   "cell_type": "markdown",
   "source": [
    "First, the time data is combined into a single value, and saved into a DataFrame."
   ],
   "metadata": {
    "collapsed": false
   }
  },
  {
   "cell_type": "code",
   "execution_count": 107,
   "outputs": [],
   "source": [
    "experiments, outcomes = uncertainty_results_run\n",
    "\n",
    "results_df = pd.DataFrame()\n",
    "for k in outcomes:\n",
    "    test_list = []\n",
    "    for i in range(len(experiments)):\n",
    "        t = outcomes[k][i].sum()\n",
    "        test_list.append(t)\n",
    "    results_df[k]=test_list"
   ],
   "metadata": {
    "collapsed": false,
    "ExecuteTime": {
     "end_time": "2023-06-21T15:12:26.268333Z",
     "start_time": "2023-06-21T15:12:17.341985100Z"
    }
   }
  },
  {
   "cell_type": "markdown",
   "source": [
    "Then, we calculate the cost of death for all death columns, making it able to easily construct a total cost."
   ],
   "metadata": {
    "collapsed": false
   }
  },
  {
   "cell_type": "code",
   "execution_count": 108,
   "outputs": [],
   "source": [
    "death_cost_per_person = 6_300_000\n",
    "\n",
    "# calculate the cost of death so every column has the same unit (€)\n",
    "results_df[\"A.1_Deaths_Cost\"]=results_df[\"A.1_Expected Number of Deaths\"]*death_cost_per_person\n",
    "results_df[\"A.2_Deaths_Cost\"]=results_df[\"A.2_Expected Number of Deaths\"]*death_cost_per_person\n",
    "results_df[\"A.3_Deaths_Cost\"]=results_df[\"A.3_Expected Number of Deaths\"]*death_cost_per_person\n",
    "results_df[\"A.4_Deaths_Cost\"]=results_df[\"A.4_Expected Number of Deaths\"]*death_cost_per_person\n",
    "results_df[\"A.5_Deaths_Cost\"]=results_df[\"A.5_Expected Number of Deaths\"]*death_cost_per_person\n",
    "\n",
    "to_drop = [\"A.1_Expected Number of Deaths\",\"A.2_Expected Number of Deaths\",\"A.3_Expected Number of Deaths\",\"A.4_Expected Number of Deaths\",\"A.5_Expected Number of Deaths\"]\n",
    "results_df.drop(to_drop, axis=1, inplace=True)"
   ],
   "metadata": {
    "collapsed": false,
    "ExecuteTime": {
     "end_time": "2023-06-21T15:12:26.306516200Z",
     "start_time": "2023-06-21T15:12:26.271327600Z"
    }
   }
  },
  {
   "cell_type": "markdown",
   "source": [
    "### Gelderland - Overijssel Split"
   ],
   "metadata": {
    "collapsed": false
   }
  },
  {
   "cell_type": "markdown",
   "source": [
    "A function is created to sort the data into two columns: Gelderland and Overijssel."
   ],
   "metadata": {
    "collapsed": false
   }
  },
  {
   "cell_type": "code",
   "execution_count": 109,
   "outputs": [],
   "source": [
    "def combine_columns_province(dataframe, name):\n",
    "    combined_columns_gelderland = []\n",
    "    combined_columns_overijssel = []\n",
    "    for x in dataframe.columns:\n",
    "        if name in x:\n",
    "            if x.startswith('A.1') or x.startswith('A.2') or x.startswith('A.3'):\n",
    "                combined_columns_gelderland.append(x)\n",
    "            if x.startswith('A.4') or x.startswith('A.5'):\n",
    "                combined_columns_overijssel.append(x)\n",
    "\n",
    "\n",
    "    dataframe['Total ' + str(name) + ' Gelderland'] = dataframe[combined_columns_gelderland].sum(axis=1)\n",
    "    dataframe['Total ' + str(name) + ' Overijssel'] = dataframe[combined_columns_overijssel].sum(axis=1)\n"
   ],
   "metadata": {
    "collapsed": false,
    "ExecuteTime": {
     "end_time": "2023-06-21T15:12:26.320775400Z",
     "start_time": "2023-06-21T15:12:26.306516200Z"
    }
   }
  },
  {
   "cell_type": "markdown",
   "source": [
    "A new DataFrame is then created with the province-sorted data."
   ],
   "metadata": {
    "collapsed": false
   }
  },
  {
   "cell_type": "code",
   "execution_count": 110,
   "outputs": [],
   "source": [
    "provinces = results_df.copy()\n",
    "\n",
    "combine_columns_province(provinces, 'Expected Annual Damage')\n",
    "combine_columns_province(provinces, 'Dike Investment Costs')\n",
    "combine_columns_province(provinces, 'Deaths_Cost')"
   ],
   "metadata": {
    "collapsed": false,
    "ExecuteTime": {
     "end_time": "2023-06-21T15:12:26.480474800Z",
     "start_time": "2023-06-21T15:12:26.312780300Z"
    }
   }
  },
  {
   "cell_type": "markdown",
   "source": [
    "The excess columns are then deleted, and columns are created with total cost and total cost for the province of Overijssel."
   ],
   "metadata": {
    "collapsed": false
   }
  },
  {
   "cell_type": "code",
   "execution_count": 111,
   "outputs": [
    {
     "data": {
      "text/plain": "        RfR Total Costs  Expected Evacuation Costs   \n0           121200000.0                        0.0  \\\n1           121200000.0                        0.0   \n2           121200000.0                        0.0   \n3           121200000.0                        0.0   \n4           121200000.0                        0.0   \n...                 ...                        ...   \n224995      121200000.0                        0.0   \n224996      121200000.0                        0.0   \n224997      121200000.0                        0.0   \n224998      121200000.0                        0.0   \n224999      121200000.0                        0.0   \n\n        Total Expected Annual Damage Gelderland   \n0                                  3.503253e+09  \\\n1                                  1.588635e+09   \n2                                  3.029340e+08   \n3                                  2.548956e+09   \n4                                  6.949494e+07   \n...                                         ...   \n224995                             2.778131e+09   \n224996                             2.703409e+09   \n224997                             2.486651e+09   \n224998                             5.964043e+08   \n224999                             2.932539e+09   \n\n        Total Expected Annual Damage Overijssel   \n0                                  1.195769e+06  \\\n1                                  0.000000e+00   \n2                                  3.244102e+07   \n3                                  0.000000e+00   \n4                                  1.497793e+08   \n...                                         ...   \n224995                             0.000000e+00   \n224996                             0.000000e+00   \n224997                             0.000000e+00   \n224998                             0.000000e+00   \n224999                             0.000000e+00   \n\n        Total Dike Investment Costs Gelderland   \n0                                 1.035357e+08  \\\n1                                 1.035357e+08   \n2                                 1.035357e+08   \n3                                 1.035357e+08   \n4                                 1.035357e+08   \n...                                        ...   \n224995                            7.331545e+07   \n224996                            7.331545e+07   \n224997                            7.331545e+07   \n224998                            7.331545e+07   \n224999                            7.331545e+07   \n\n        Total Dike Investment Costs Overijssel  Total Deaths_Cost Gelderland   \n0                                 8.453408e+06                  2.502326e+07  \\\n1                                 8.453408e+06                  2.212850e+07   \n2                                 8.453408e+06                  2.641041e+06   \n3                                 8.453408e+06                  2.552349e+07   \n4                                 8.453408e+06                  6.681032e+05   \n...                                        ...                           ...   \n224995                            7.332080e+06                  1.214940e+07   \n224996                            7.332080e+06                  1.226335e+07   \n224997                            7.332080e+06                  1.220433e+07   \n224998                            7.332080e+06                  5.412402e+06   \n224999                            7.332080e+06                  1.219783e+07   \n\n        Total Deaths_Cost Overijssel  total_cost[€]  total_cost[€]_overijssel  \n0                        4213.778424   3.762665e+09              1.308534e+08  \n1                           0.000000   1.843953e+09              1.296534e+08  \n2                      197638.128681   5.714029e+08              1.622921e+08  \n3                           0.000000   2.807668e+09              1.296534e+08  \n4                      934871.641676   4.540663e+08              2.803676e+08  \n...                              ...            ...                       ...  \n224995                      0.000000   2.992128e+09              1.285321e+08  \n224996                      0.000000   2.917520e+09              1.285321e+08  \n224997                      0.000000   2.700703e+09              1.285321e+08  \n224998                      0.000000   8.036643e+08              1.285321e+08  \n224999                      0.000000   3.146585e+09              1.285321e+08  \n\n[225000 rows x 10 columns]",
      "text/html": "<div>\n<style scoped>\n    .dataframe tbody tr th:only-of-type {\n        vertical-align: middle;\n    }\n\n    .dataframe tbody tr th {\n        vertical-align: top;\n    }\n\n    .dataframe thead th {\n        text-align: right;\n    }\n</style>\n<table border=\"1\" class=\"dataframe\">\n  <thead>\n    <tr style=\"text-align: right;\">\n      <th></th>\n      <th>RfR Total Costs</th>\n      <th>Expected Evacuation Costs</th>\n      <th>Total Expected Annual Damage Gelderland</th>\n      <th>Total Expected Annual Damage Overijssel</th>\n      <th>Total Dike Investment Costs Gelderland</th>\n      <th>Total Dike Investment Costs Overijssel</th>\n      <th>Total Deaths_Cost Gelderland</th>\n      <th>Total Deaths_Cost Overijssel</th>\n      <th>total_cost[€]</th>\n      <th>total_cost[€]_overijssel</th>\n    </tr>\n  </thead>\n  <tbody>\n    <tr>\n      <th>0</th>\n      <td>121200000.0</td>\n      <td>0.0</td>\n      <td>3.503253e+09</td>\n      <td>1.195769e+06</td>\n      <td>1.035357e+08</td>\n      <td>8.453408e+06</td>\n      <td>2.502326e+07</td>\n      <td>4213.778424</td>\n      <td>3.762665e+09</td>\n      <td>1.308534e+08</td>\n    </tr>\n    <tr>\n      <th>1</th>\n      <td>121200000.0</td>\n      <td>0.0</td>\n      <td>1.588635e+09</td>\n      <td>0.000000e+00</td>\n      <td>1.035357e+08</td>\n      <td>8.453408e+06</td>\n      <td>2.212850e+07</td>\n      <td>0.000000</td>\n      <td>1.843953e+09</td>\n      <td>1.296534e+08</td>\n    </tr>\n    <tr>\n      <th>2</th>\n      <td>121200000.0</td>\n      <td>0.0</td>\n      <td>3.029340e+08</td>\n      <td>3.244102e+07</td>\n      <td>1.035357e+08</td>\n      <td>8.453408e+06</td>\n      <td>2.641041e+06</td>\n      <td>197638.128681</td>\n      <td>5.714029e+08</td>\n      <td>1.622921e+08</td>\n    </tr>\n    <tr>\n      <th>3</th>\n      <td>121200000.0</td>\n      <td>0.0</td>\n      <td>2.548956e+09</td>\n      <td>0.000000e+00</td>\n      <td>1.035357e+08</td>\n      <td>8.453408e+06</td>\n      <td>2.552349e+07</td>\n      <td>0.000000</td>\n      <td>2.807668e+09</td>\n      <td>1.296534e+08</td>\n    </tr>\n    <tr>\n      <th>4</th>\n      <td>121200000.0</td>\n      <td>0.0</td>\n      <td>6.949494e+07</td>\n      <td>1.497793e+08</td>\n      <td>1.035357e+08</td>\n      <td>8.453408e+06</td>\n      <td>6.681032e+05</td>\n      <td>934871.641676</td>\n      <td>4.540663e+08</td>\n      <td>2.803676e+08</td>\n    </tr>\n    <tr>\n      <th>...</th>\n      <td>...</td>\n      <td>...</td>\n      <td>...</td>\n      <td>...</td>\n      <td>...</td>\n      <td>...</td>\n      <td>...</td>\n      <td>...</td>\n      <td>...</td>\n      <td>...</td>\n    </tr>\n    <tr>\n      <th>224995</th>\n      <td>121200000.0</td>\n      <td>0.0</td>\n      <td>2.778131e+09</td>\n      <td>0.000000e+00</td>\n      <td>7.331545e+07</td>\n      <td>7.332080e+06</td>\n      <td>1.214940e+07</td>\n      <td>0.000000</td>\n      <td>2.992128e+09</td>\n      <td>1.285321e+08</td>\n    </tr>\n    <tr>\n      <th>224996</th>\n      <td>121200000.0</td>\n      <td>0.0</td>\n      <td>2.703409e+09</td>\n      <td>0.000000e+00</td>\n      <td>7.331545e+07</td>\n      <td>7.332080e+06</td>\n      <td>1.226335e+07</td>\n      <td>0.000000</td>\n      <td>2.917520e+09</td>\n      <td>1.285321e+08</td>\n    </tr>\n    <tr>\n      <th>224997</th>\n      <td>121200000.0</td>\n      <td>0.0</td>\n      <td>2.486651e+09</td>\n      <td>0.000000e+00</td>\n      <td>7.331545e+07</td>\n      <td>7.332080e+06</td>\n      <td>1.220433e+07</td>\n      <td>0.000000</td>\n      <td>2.700703e+09</td>\n      <td>1.285321e+08</td>\n    </tr>\n    <tr>\n      <th>224998</th>\n      <td>121200000.0</td>\n      <td>0.0</td>\n      <td>5.964043e+08</td>\n      <td>0.000000e+00</td>\n      <td>7.331545e+07</td>\n      <td>7.332080e+06</td>\n      <td>5.412402e+06</td>\n      <td>0.000000</td>\n      <td>8.036643e+08</td>\n      <td>1.285321e+08</td>\n    </tr>\n    <tr>\n      <th>224999</th>\n      <td>121200000.0</td>\n      <td>0.0</td>\n      <td>2.932539e+09</td>\n      <td>0.000000e+00</td>\n      <td>7.331545e+07</td>\n      <td>7.332080e+06</td>\n      <td>1.219783e+07</td>\n      <td>0.000000</td>\n      <td>3.146585e+09</td>\n      <td>1.285321e+08</td>\n    </tr>\n  </tbody>\n</table>\n<p>225000 rows × 10 columns</p>\n</div>"
     },
     "execution_count": 111,
     "metadata": {},
     "output_type": "execute_result"
    }
   ],
   "source": [
    "aggregated_outcomes_provinces = pd.concat([experiments[['scenario','policy']],provinces], axis=1).iloc[:,2:]\n",
    "\n",
    "for x in aggregated_outcomes_provinces.columns:\n",
    "\n",
    "        if x.startswith('A.1') or x.startswith('A.2') or x.startswith('A.3') or x.startswith('A.4') or x.startswith('A.5'):\n",
    "            aggregated_outcomes_provinces.drop(x, axis=1, inplace=True)\n",
    "        else:\n",
    "            pass\n",
    "\n",
    "aggregated_outcomes_provinces['total_cost[€]']= aggregated_outcomes_provinces.sum(axis=1)\n",
    "overijssel_sum = ['RfR Total Costs','Expected Evacuation Costs','Total Expected Annual Damage Overijssel','Total Dike Investment Costs Overijssel','Total Deaths_Cost Overijssel']\n",
    "aggregated_outcomes_provinces['total_cost[€]_overijssel']= aggregated_outcomes_provinces.loc[:,overijssel_sum].sum(axis=1)\n",
    "\n",
    "aggregated_outcomes_provinces"
   ],
   "metadata": {
    "collapsed": false,
    "ExecuteTime": {
     "end_time": "2023-06-21T15:12:26.778201200Z",
     "start_time": "2023-06-21T15:12:26.483471100Z"
    }
   }
  },
  {
   "cell_type": "markdown",
   "source": [
    "Lastly, we add the policy number."
   ],
   "metadata": {
    "collapsed": false
   }
  },
  {
   "cell_type": "code",
   "execution_count": 112,
   "outputs": [
    {
     "data": {
      "text/plain": "        RfR Total Costs  Expected Evacuation Costs   \n0           121200000.0                        0.0  \\\n1           121200000.0                        0.0   \n2           121200000.0                        0.0   \n3           121200000.0                        0.0   \n4           121200000.0                        0.0   \n...                 ...                        ...   \n224995      121200000.0                        0.0   \n224996      121200000.0                        0.0   \n224997      121200000.0                        0.0   \n224998      121200000.0                        0.0   \n224999      121200000.0                        0.0   \n\n        Total Expected Annual Damage Gelderland   \n0                                  3.503253e+09  \\\n1                                  1.588635e+09   \n2                                  3.029340e+08   \n3                                  2.548956e+09   \n4                                  6.949494e+07   \n...                                         ...   \n224995                             2.778131e+09   \n224996                             2.703409e+09   \n224997                             2.486651e+09   \n224998                             5.964043e+08   \n224999                             2.932539e+09   \n\n        Total Expected Annual Damage Overijssel   \n0                                  1.195769e+06  \\\n1                                  0.000000e+00   \n2                                  3.244102e+07   \n3                                  0.000000e+00   \n4                                  1.497793e+08   \n...                                         ...   \n224995                             0.000000e+00   \n224996                             0.000000e+00   \n224997                             0.000000e+00   \n224998                             0.000000e+00   \n224999                             0.000000e+00   \n\n        Total Dike Investment Costs Gelderland   \n0                                 1.035357e+08  \\\n1                                 1.035357e+08   \n2                                 1.035357e+08   \n3                                 1.035357e+08   \n4                                 1.035357e+08   \n...                                        ...   \n224995                            7.331545e+07   \n224996                            7.331545e+07   \n224997                            7.331545e+07   \n224998                            7.331545e+07   \n224999                            7.331545e+07   \n\n        Total Dike Investment Costs Overijssel  Total Deaths_Cost Gelderland   \n0                                 8.453408e+06                  2.502326e+07  \\\n1                                 8.453408e+06                  2.212850e+07   \n2                                 8.453408e+06                  2.641041e+06   \n3                                 8.453408e+06                  2.552349e+07   \n4                                 8.453408e+06                  6.681032e+05   \n...                                        ...                           ...   \n224995                            7.332080e+06                  1.214940e+07   \n224996                            7.332080e+06                  1.226335e+07   \n224997                            7.332080e+06                  1.220433e+07   \n224998                            7.332080e+06                  5.412402e+06   \n224999                            7.332080e+06                  1.219783e+07   \n\n        Total Deaths_Cost Overijssel  total_cost[€]  total_cost[€]_overijssel   \n0                        4213.778424   3.762665e+09              1.308534e+08  \\\n1                           0.000000   1.843953e+09              1.296534e+08   \n2                      197638.128681   5.714029e+08              1.622921e+08   \n3                           0.000000   2.807668e+09              1.296534e+08   \n4                      934871.641676   4.540663e+08              2.803676e+08   \n...                              ...            ...                       ...   \n224995                      0.000000   2.992128e+09              1.285321e+08   \n224996                      0.000000   2.917520e+09              1.285321e+08   \n224997                      0.000000   2.700703e+09              1.285321e+08   \n224998                      0.000000   8.036643e+08              1.285321e+08   \n224999                      0.000000   3.146585e+09              1.285321e+08   \n\n       policy  \n0           0  \n1           0  \n2           0  \n3           0  \n4           0  \n...       ...  \n224995     44  \n224996     44  \n224997     44  \n224998     44  \n224999     44  \n\n[225000 rows x 11 columns]",
      "text/html": "<div>\n<style scoped>\n    .dataframe tbody tr th:only-of-type {\n        vertical-align: middle;\n    }\n\n    .dataframe tbody tr th {\n        vertical-align: top;\n    }\n\n    .dataframe thead th {\n        text-align: right;\n    }\n</style>\n<table border=\"1\" class=\"dataframe\">\n  <thead>\n    <tr style=\"text-align: right;\">\n      <th></th>\n      <th>RfR Total Costs</th>\n      <th>Expected Evacuation Costs</th>\n      <th>Total Expected Annual Damage Gelderland</th>\n      <th>Total Expected Annual Damage Overijssel</th>\n      <th>Total Dike Investment Costs Gelderland</th>\n      <th>Total Dike Investment Costs Overijssel</th>\n      <th>Total Deaths_Cost Gelderland</th>\n      <th>Total Deaths_Cost Overijssel</th>\n      <th>total_cost[€]</th>\n      <th>total_cost[€]_overijssel</th>\n      <th>policy</th>\n    </tr>\n  </thead>\n  <tbody>\n    <tr>\n      <th>0</th>\n      <td>121200000.0</td>\n      <td>0.0</td>\n      <td>3.503253e+09</td>\n      <td>1.195769e+06</td>\n      <td>1.035357e+08</td>\n      <td>8.453408e+06</td>\n      <td>2.502326e+07</td>\n      <td>4213.778424</td>\n      <td>3.762665e+09</td>\n      <td>1.308534e+08</td>\n      <td>0</td>\n    </tr>\n    <tr>\n      <th>1</th>\n      <td>121200000.0</td>\n      <td>0.0</td>\n      <td>1.588635e+09</td>\n      <td>0.000000e+00</td>\n      <td>1.035357e+08</td>\n      <td>8.453408e+06</td>\n      <td>2.212850e+07</td>\n      <td>0.000000</td>\n      <td>1.843953e+09</td>\n      <td>1.296534e+08</td>\n      <td>0</td>\n    </tr>\n    <tr>\n      <th>2</th>\n      <td>121200000.0</td>\n      <td>0.0</td>\n      <td>3.029340e+08</td>\n      <td>3.244102e+07</td>\n      <td>1.035357e+08</td>\n      <td>8.453408e+06</td>\n      <td>2.641041e+06</td>\n      <td>197638.128681</td>\n      <td>5.714029e+08</td>\n      <td>1.622921e+08</td>\n      <td>0</td>\n    </tr>\n    <tr>\n      <th>3</th>\n      <td>121200000.0</td>\n      <td>0.0</td>\n      <td>2.548956e+09</td>\n      <td>0.000000e+00</td>\n      <td>1.035357e+08</td>\n      <td>8.453408e+06</td>\n      <td>2.552349e+07</td>\n      <td>0.000000</td>\n      <td>2.807668e+09</td>\n      <td>1.296534e+08</td>\n      <td>0</td>\n    </tr>\n    <tr>\n      <th>4</th>\n      <td>121200000.0</td>\n      <td>0.0</td>\n      <td>6.949494e+07</td>\n      <td>1.497793e+08</td>\n      <td>1.035357e+08</td>\n      <td>8.453408e+06</td>\n      <td>6.681032e+05</td>\n      <td>934871.641676</td>\n      <td>4.540663e+08</td>\n      <td>2.803676e+08</td>\n      <td>0</td>\n    </tr>\n    <tr>\n      <th>...</th>\n      <td>...</td>\n      <td>...</td>\n      <td>...</td>\n      <td>...</td>\n      <td>...</td>\n      <td>...</td>\n      <td>...</td>\n      <td>...</td>\n      <td>...</td>\n      <td>...</td>\n      <td>...</td>\n    </tr>\n    <tr>\n      <th>224995</th>\n      <td>121200000.0</td>\n      <td>0.0</td>\n      <td>2.778131e+09</td>\n      <td>0.000000e+00</td>\n      <td>7.331545e+07</td>\n      <td>7.332080e+06</td>\n      <td>1.214940e+07</td>\n      <td>0.000000</td>\n      <td>2.992128e+09</td>\n      <td>1.285321e+08</td>\n      <td>44</td>\n    </tr>\n    <tr>\n      <th>224996</th>\n      <td>121200000.0</td>\n      <td>0.0</td>\n      <td>2.703409e+09</td>\n      <td>0.000000e+00</td>\n      <td>7.331545e+07</td>\n      <td>7.332080e+06</td>\n      <td>1.226335e+07</td>\n      <td>0.000000</td>\n      <td>2.917520e+09</td>\n      <td>1.285321e+08</td>\n      <td>44</td>\n    </tr>\n    <tr>\n      <th>224997</th>\n      <td>121200000.0</td>\n      <td>0.0</td>\n      <td>2.486651e+09</td>\n      <td>0.000000e+00</td>\n      <td>7.331545e+07</td>\n      <td>7.332080e+06</td>\n      <td>1.220433e+07</td>\n      <td>0.000000</td>\n      <td>2.700703e+09</td>\n      <td>1.285321e+08</td>\n      <td>44</td>\n    </tr>\n    <tr>\n      <th>224998</th>\n      <td>121200000.0</td>\n      <td>0.0</td>\n      <td>5.964043e+08</td>\n      <td>0.000000e+00</td>\n      <td>7.331545e+07</td>\n      <td>7.332080e+06</td>\n      <td>5.412402e+06</td>\n      <td>0.000000</td>\n      <td>8.036643e+08</td>\n      <td>1.285321e+08</td>\n      <td>44</td>\n    </tr>\n    <tr>\n      <th>224999</th>\n      <td>121200000.0</td>\n      <td>0.0</td>\n      <td>2.932539e+09</td>\n      <td>0.000000e+00</td>\n      <td>7.331545e+07</td>\n      <td>7.332080e+06</td>\n      <td>1.219783e+07</td>\n      <td>0.000000</td>\n      <td>3.146585e+09</td>\n      <td>1.285321e+08</td>\n      <td>44</td>\n    </tr>\n  </tbody>\n</table>\n<p>225000 rows × 11 columns</p>\n</div>"
     },
     "execution_count": 112,
     "metadata": {},
     "output_type": "execute_result"
    }
   ],
   "source": [
    "aggregated_outcomes_provinces_policy = aggregated_outcomes_provinces.copy()\n",
    "aggregated_outcomes_provinces_policy['policy'] = experiments.iloc[:,-2]\n",
    "aggregated_outcomes_provinces_policy"
   ],
   "metadata": {
    "collapsed": false,
    "ExecuteTime": {
     "end_time": "2023-06-21T15:12:26.864595700Z",
     "start_time": "2023-06-21T15:12:26.781221Z"
    }
   }
  },
  {
   "cell_type": "markdown",
   "source": [
    "# Generate outcome optimal for Overijssel"
   ],
   "metadata": {
    "collapsed": false
   }
  },
  {
   "cell_type": "markdown",
   "source": [
    "The best 5 (cheapest) policies are selected. For this, we need the robustness metric again: Mean Square Deviation. For this, we construct a function that makes the column."
   ],
   "metadata": {
    "collapsed": false
   }
  },
  {
   "cell_type": "code",
   "execution_count": 141,
   "outputs": [],
   "source": [
    "def mean_square_deviation(df_input, df_output, column_name):\n",
    "    grouping = df_input.groupby(['policy']).agg({column_name:['mean', 'std']})\n",
    "    df_output[(column_name,'mean square deviation')] = np.square(grouping[(column_name, 'mean')]) + np.square(grouping[(column_name, 'std')])\n",
    "    grouping.drop([(column_name, 'mean'), (column_name, 'std')], axis=1, inplace=True)\n",
    "\n",
    "    return grouping"
   ],
   "metadata": {
    "collapsed": false,
    "ExecuteTime": {
     "end_time": "2023-06-21T15:32:42.314833300Z",
     "start_time": "2023-06-21T15:32:42.302749400Z"
    }
   }
  },
  {
   "cell_type": "code",
   "execution_count": 142,
   "outputs": [
    {
     "data": {
      "text/plain": "        (RfR Total Costs, mean square deviation)   \npolicy                                             \n0                                   1.468944e+16  \\\n1                                   3.840281e+17   \n2                                   7.157160e+15   \n3                                   5.875776e+16   \n4                                   0.000000e+00   \n5                                   1.468944e+16   \n6                                   1.281198e+18   \n7                                   5.875776e+16   \n8                                   3.840281e+17   \n9                                   1.468944e+16   \n10                                  0.000000e+00   \n11                                  0.000000e+00   \n12                                  1.468944e+16   \n13                                  0.000000e+00   \n14                                  5.875776e+16   \n15                                  1.468944e+16   \n16                                  5.875776e+16   \n17                                  5.875776e+16   \n18                                  1.468944e+16   \n19                                  5.875776e+16   \n20                                  3.840281e+17   \n21                                  0.000000e+00   \n22                                  5.875776e+16   \n23                                  7.670256e+17   \n24                                  0.000000e+00   \n25                                  0.000000e+00   \n26                                  0.000000e+00   \n27                                  5.875776e+16   \n28                                  1.281198e+18   \n29                                  1.468944e+16   \n30                                  1.468944e+16   \n31                                  5.875776e+16   \n32                                  5.875776e+16   \n33                                  5.875776e+16   \n34                                  1.322050e+17   \n35                                  0.000000e+00   \n36                                  0.000000e+00   \n37                                  1.322050e+17   \n38                                  7.670256e+17   \n39                                  5.875776e+16   \n40                                  0.000000e+00   \n41                                  3.840281e+17   \n42                                  0.000000e+00   \n43                                  3.840281e+17   \n44                                  1.468944e+16   \n\n        (Expected Evacuation Costs, mean square deviation)   \npolicy                                                       \n0                                            0.000000e+00   \\\n1                                            0.000000e+00    \n2                                            2.150062e+09    \n3                                            4.343499e+08    \n4                                            7.701811e+08    \n5                                            2.489074e+09    \n6                                            8.677915e+08    \n7                                            4.222570e+08    \n8                                            3.881502e+08    \n9                                            0.000000e+00    \n10                                           0.000000e+00    \n11                                           0.000000e+00    \n12                                           0.000000e+00    \n13                                           8.588252e+08    \n14                                           4.200890e+08    \n15                                           0.000000e+00    \n16                                           0.000000e+00    \n17                                           4.228740e+08    \n18                                           4.922793e+08    \n19                                           4.479238e+08    \n20                                           3.267774e+08    \n21                                           0.000000e+00    \n22                                           0.000000e+00    \n23                                           0.000000e+00    \n24                                           0.000000e+00    \n25                                           0.000000e+00    \n26                                           8.571678e+08    \n27                                           0.000000e+00    \n28                                           0.000000e+00    \n29                                           0.000000e+00    \n30                                           4.884778e+08    \n31                                           4.317253e+08    \n32                                           4.284660e+08    \n33                                           4.141483e+08    \n34                                           0.000000e+00    \n35                                           0.000000e+00    \n36                                           2.150568e+09    \n37                                           0.000000e+00    \n38                                           0.000000e+00    \n39                                           0.000000e+00    \n40                                           7.431825e+08    \n41                                           0.000000e+00    \n42                                           0.000000e+00    \n43                                           0.000000e+00    \n44                                           0.000000e+00    \n\n        (Total Expected Annual Damage Overijssel, mean square deviation)   \npolicy                                                                     \n0                                            2.012732e+16                 \\\n1                                            3.403165e+15                  \n2                                            7.645692e+16                  \n3                                            8.135886e+15                  \n4                                            5.091462e+16                  \n5                                            1.892160e+16                  \n6                                            2.780349e+15                  \n7                                            9.451960e+15                  \n8                                            2.232683e+15                  \n9                                            1.900966e+16                  \n10                                           5.856608e+16                  \n11                                           4.401768e+16                  \n12                                           2.152415e+16                  \n13                                           5.575232e+16                  \n14                                           8.372454e+15                  \n15                                           2.018755e+16                  \n16                                           7.520108e+15                  \n17                                           8.804301e+15                  \n18                                           2.147409e+16                  \n19                                           7.757580e+15                  \n20                                           3.061595e+15                  \n21                                           4.835445e+16                  \n22                                           6.760737e+15                  \n23                                           2.905601e+15                  \n24                                           5.232268e+16                  \n25                                           5.642680e+16                  \n26                                           4.313912e+16                  \n27                                           6.713334e+15                  \n28                                           3.344410e+15                  \n29                                           2.064107e+16                  \n30                                           2.150724e+16                  \n31                                           8.558531e+15                  \n32                                           8.257632e+15                  \n33                                           9.739565e+15                  \n34                                           2.718303e+15                  \n35                                           5.187147e+16                  \n36                                           7.644827e+16                  \n37                                           2.557517e+15                  \n38                                           2.664547e+15                  \n39                                           7.852882e+15                  \n40                                           6.732638e+16                  \n41                                           2.737432e+15                  \n42                                           6.183006e+16                  \n43                                           2.667570e+15                  \n44                                           1.893466e+16                  \n\n        (Total Dike Investment Costs Overijssel, mean square deviation)   \npolicy                                                                    \n0                                            7.146010e+13                \\\n1                                            3.995252e+13                 \n2                                            9.399681e+13                 \n3                                            3.995252e+13                 \n4                                            3.995252e+13                 \n5                                            5.375940e+13                 \n6                                            0.000000e+00                 \n7                                            3.995252e+13                 \n8                                            3.995252e+13                 \n9                                            5.375940e+13                 \n10                                           1.225177e+14                 \n11                                           0.000000e+00                 \n12                                           3.995252e+13                 \n13                                           5.375940e+13                 \n14                                           3.995252e+13                 \n15                                           0.000000e+00                 \n16                                           3.995252e+13                 \n17                                           3.995252e+13                 \n18                                           5.375940e+13                 \n19                                           3.995252e+13                 \n20                                           3.995252e+13                 \n21                                           3.995252e+13                 \n22                                           3.995252e+13                 \n23                                           3.995252e+13                 \n24                                           3.995252e+13                 \n25                                           7.146010e+13                 \n26                                           3.995252e+13                 \n27                                           5.375940e+13                 \n28                                           0.000000e+00                 \n29                                           3.995252e+13                 \n30                                           3.995252e+13                 \n31                                           3.995252e+13                 \n32                                           3.995252e+13                 \n33                                           3.995252e+13                 \n34                                           3.995252e+13                 \n35                                           5.375940e+13                 \n36                                           9.399681e+13                 \n37                                           0.000000e+00                 \n38                                           0.000000e+00                 \n39                                           0.000000e+00                 \n40                                           7.146010e+13                 \n41                                           0.000000e+00                 \n42                                           7.146010e+13                 \n43                                           3.995252e+13                 \n44                                           5.375940e+13                 \n\n        (Total Deaths_Cost Overijssel, mean square deviation)  \npolicy                                                         \n0                                            6.056629e+11      \n1                                            9.449080e+10      \n2                                            5.411898e+10      \n3                                            2.966145e+10      \n4                                            2.001202e+11      \n5                                            8.060732e+09      \n6                                            1.729214e+09      \n7                                            3.461759e+10      \n8                                            7.656729e+09      \n9                                            5.611542e+11      \n10                                           1.847499e+12      \n11                                           1.298780e+12      \n12                                           6.300147e+11      \n13                                           2.235216e+11      \n14                                           3.049189e+10      \n15                                           5.693272e+11      \n16                                           2.086538e+11      \n17                                           3.207185e+10      \n18                                           8.289020e+10      \n19                                           2.827692e+10      \n20                                           1.092670e+10      \n21                                           1.462956e+12      \n22                                           1.873539e+11      \n23                                           8.169736e+10      \n24                                           1.584021e+12      \n25                                           1.755209e+12      \n26                                           1.689465e+11      \n27                                           1.912738e+11      \n28                                           9.464445e+10      \n29                                           6.046960e+11      \n30                                           8.158678e+10      \n31                                           3.103815e+10      \n32                                           3.019856e+10      \n33                                           3.584538e+10      \n34                                           7.124142e+10      \n35                                           1.598837e+12      \n36                                           5.411173e+10      \n37                                           6.117095e+10      \n38                                           7.138217e+10      \n39                                           2.109822e+11      \n40                                           2.738764e+11      \n41                                           7.096157e+10      \n42                                           1.934108e+12      \n43                                           7.219542e+10      \n44                                           5.602471e+11      ",
      "text/html": "<div>\n<style scoped>\n    .dataframe tbody tr th:only-of-type {\n        vertical-align: middle;\n    }\n\n    .dataframe tbody tr th {\n        vertical-align: top;\n    }\n\n    .dataframe thead th {\n        text-align: right;\n    }\n</style>\n<table border=\"1\" class=\"dataframe\">\n  <thead>\n    <tr style=\"text-align: right;\">\n      <th></th>\n      <th>(RfR Total Costs, mean square deviation)</th>\n      <th>(Expected Evacuation Costs, mean square deviation)</th>\n      <th>(Total Expected Annual Damage Overijssel, mean square deviation)</th>\n      <th>(Total Dike Investment Costs Overijssel, mean square deviation)</th>\n      <th>(Total Deaths_Cost Overijssel, mean square deviation)</th>\n    </tr>\n    <tr>\n      <th>policy</th>\n      <th></th>\n      <th></th>\n      <th></th>\n      <th></th>\n      <th></th>\n    </tr>\n  </thead>\n  <tbody>\n    <tr>\n      <th>0</th>\n      <td>1.468944e+16</td>\n      <td>0.000000e+00</td>\n      <td>2.012732e+16</td>\n      <td>7.146010e+13</td>\n      <td>6.056629e+11</td>\n    </tr>\n    <tr>\n      <th>1</th>\n      <td>3.840281e+17</td>\n      <td>0.000000e+00</td>\n      <td>3.403165e+15</td>\n      <td>3.995252e+13</td>\n      <td>9.449080e+10</td>\n    </tr>\n    <tr>\n      <th>2</th>\n      <td>7.157160e+15</td>\n      <td>2.150062e+09</td>\n      <td>7.645692e+16</td>\n      <td>9.399681e+13</td>\n      <td>5.411898e+10</td>\n    </tr>\n    <tr>\n      <th>3</th>\n      <td>5.875776e+16</td>\n      <td>4.343499e+08</td>\n      <td>8.135886e+15</td>\n      <td>3.995252e+13</td>\n      <td>2.966145e+10</td>\n    </tr>\n    <tr>\n      <th>4</th>\n      <td>0.000000e+00</td>\n      <td>7.701811e+08</td>\n      <td>5.091462e+16</td>\n      <td>3.995252e+13</td>\n      <td>2.001202e+11</td>\n    </tr>\n    <tr>\n      <th>5</th>\n      <td>1.468944e+16</td>\n      <td>2.489074e+09</td>\n      <td>1.892160e+16</td>\n      <td>5.375940e+13</td>\n      <td>8.060732e+09</td>\n    </tr>\n    <tr>\n      <th>6</th>\n      <td>1.281198e+18</td>\n      <td>8.677915e+08</td>\n      <td>2.780349e+15</td>\n      <td>0.000000e+00</td>\n      <td>1.729214e+09</td>\n    </tr>\n    <tr>\n      <th>7</th>\n      <td>5.875776e+16</td>\n      <td>4.222570e+08</td>\n      <td>9.451960e+15</td>\n      <td>3.995252e+13</td>\n      <td>3.461759e+10</td>\n    </tr>\n    <tr>\n      <th>8</th>\n      <td>3.840281e+17</td>\n      <td>3.881502e+08</td>\n      <td>2.232683e+15</td>\n      <td>3.995252e+13</td>\n      <td>7.656729e+09</td>\n    </tr>\n    <tr>\n      <th>9</th>\n      <td>1.468944e+16</td>\n      <td>0.000000e+00</td>\n      <td>1.900966e+16</td>\n      <td>5.375940e+13</td>\n      <td>5.611542e+11</td>\n    </tr>\n    <tr>\n      <th>10</th>\n      <td>0.000000e+00</td>\n      <td>0.000000e+00</td>\n      <td>5.856608e+16</td>\n      <td>1.225177e+14</td>\n      <td>1.847499e+12</td>\n    </tr>\n    <tr>\n      <th>11</th>\n      <td>0.000000e+00</td>\n      <td>0.000000e+00</td>\n      <td>4.401768e+16</td>\n      <td>0.000000e+00</td>\n      <td>1.298780e+12</td>\n    </tr>\n    <tr>\n      <th>12</th>\n      <td>1.468944e+16</td>\n      <td>0.000000e+00</td>\n      <td>2.152415e+16</td>\n      <td>3.995252e+13</td>\n      <td>6.300147e+11</td>\n    </tr>\n    <tr>\n      <th>13</th>\n      <td>0.000000e+00</td>\n      <td>8.588252e+08</td>\n      <td>5.575232e+16</td>\n      <td>5.375940e+13</td>\n      <td>2.235216e+11</td>\n    </tr>\n    <tr>\n      <th>14</th>\n      <td>5.875776e+16</td>\n      <td>4.200890e+08</td>\n      <td>8.372454e+15</td>\n      <td>3.995252e+13</td>\n      <td>3.049189e+10</td>\n    </tr>\n    <tr>\n      <th>15</th>\n      <td>1.468944e+16</td>\n      <td>0.000000e+00</td>\n      <td>2.018755e+16</td>\n      <td>0.000000e+00</td>\n      <td>5.693272e+11</td>\n    </tr>\n    <tr>\n      <th>16</th>\n      <td>5.875776e+16</td>\n      <td>0.000000e+00</td>\n      <td>7.520108e+15</td>\n      <td>3.995252e+13</td>\n      <td>2.086538e+11</td>\n    </tr>\n    <tr>\n      <th>17</th>\n      <td>5.875776e+16</td>\n      <td>4.228740e+08</td>\n      <td>8.804301e+15</td>\n      <td>3.995252e+13</td>\n      <td>3.207185e+10</td>\n    </tr>\n    <tr>\n      <th>18</th>\n      <td>1.468944e+16</td>\n      <td>4.922793e+08</td>\n      <td>2.147409e+16</td>\n      <td>5.375940e+13</td>\n      <td>8.289020e+10</td>\n    </tr>\n    <tr>\n      <th>19</th>\n      <td>5.875776e+16</td>\n      <td>4.479238e+08</td>\n      <td>7.757580e+15</td>\n      <td>3.995252e+13</td>\n      <td>2.827692e+10</td>\n    </tr>\n    <tr>\n      <th>20</th>\n      <td>3.840281e+17</td>\n      <td>3.267774e+08</td>\n      <td>3.061595e+15</td>\n      <td>3.995252e+13</td>\n      <td>1.092670e+10</td>\n    </tr>\n    <tr>\n      <th>21</th>\n      <td>0.000000e+00</td>\n      <td>0.000000e+00</td>\n      <td>4.835445e+16</td>\n      <td>3.995252e+13</td>\n      <td>1.462956e+12</td>\n    </tr>\n    <tr>\n      <th>22</th>\n      <td>5.875776e+16</td>\n      <td>0.000000e+00</td>\n      <td>6.760737e+15</td>\n      <td>3.995252e+13</td>\n      <td>1.873539e+11</td>\n    </tr>\n    <tr>\n      <th>23</th>\n      <td>7.670256e+17</td>\n      <td>0.000000e+00</td>\n      <td>2.905601e+15</td>\n      <td>3.995252e+13</td>\n      <td>8.169736e+10</td>\n    </tr>\n    <tr>\n      <th>24</th>\n      <td>0.000000e+00</td>\n      <td>0.000000e+00</td>\n      <td>5.232268e+16</td>\n      <td>3.995252e+13</td>\n      <td>1.584021e+12</td>\n    </tr>\n    <tr>\n      <th>25</th>\n      <td>0.000000e+00</td>\n      <td>0.000000e+00</td>\n      <td>5.642680e+16</td>\n      <td>7.146010e+13</td>\n      <td>1.755209e+12</td>\n    </tr>\n    <tr>\n      <th>26</th>\n      <td>0.000000e+00</td>\n      <td>8.571678e+08</td>\n      <td>4.313912e+16</td>\n      <td>3.995252e+13</td>\n      <td>1.689465e+11</td>\n    </tr>\n    <tr>\n      <th>27</th>\n      <td>5.875776e+16</td>\n      <td>0.000000e+00</td>\n      <td>6.713334e+15</td>\n      <td>5.375940e+13</td>\n      <td>1.912738e+11</td>\n    </tr>\n    <tr>\n      <th>28</th>\n      <td>1.281198e+18</td>\n      <td>0.000000e+00</td>\n      <td>3.344410e+15</td>\n      <td>0.000000e+00</td>\n      <td>9.464445e+10</td>\n    </tr>\n    <tr>\n      <th>29</th>\n      <td>1.468944e+16</td>\n      <td>0.000000e+00</td>\n      <td>2.064107e+16</td>\n      <td>3.995252e+13</td>\n      <td>6.046960e+11</td>\n    </tr>\n    <tr>\n      <th>30</th>\n      <td>1.468944e+16</td>\n      <td>4.884778e+08</td>\n      <td>2.150724e+16</td>\n      <td>3.995252e+13</td>\n      <td>8.158678e+10</td>\n    </tr>\n    <tr>\n      <th>31</th>\n      <td>5.875776e+16</td>\n      <td>4.317253e+08</td>\n      <td>8.558531e+15</td>\n      <td>3.995252e+13</td>\n      <td>3.103815e+10</td>\n    </tr>\n    <tr>\n      <th>32</th>\n      <td>5.875776e+16</td>\n      <td>4.284660e+08</td>\n      <td>8.257632e+15</td>\n      <td>3.995252e+13</td>\n      <td>3.019856e+10</td>\n    </tr>\n    <tr>\n      <th>33</th>\n      <td>5.875776e+16</td>\n      <td>4.141483e+08</td>\n      <td>9.739565e+15</td>\n      <td>3.995252e+13</td>\n      <td>3.584538e+10</td>\n    </tr>\n    <tr>\n      <th>34</th>\n      <td>1.322050e+17</td>\n      <td>0.000000e+00</td>\n      <td>2.718303e+15</td>\n      <td>3.995252e+13</td>\n      <td>7.124142e+10</td>\n    </tr>\n    <tr>\n      <th>35</th>\n      <td>0.000000e+00</td>\n      <td>0.000000e+00</td>\n      <td>5.187147e+16</td>\n      <td>5.375940e+13</td>\n      <td>1.598837e+12</td>\n    </tr>\n    <tr>\n      <th>36</th>\n      <td>0.000000e+00</td>\n      <td>2.150568e+09</td>\n      <td>7.644827e+16</td>\n      <td>9.399681e+13</td>\n      <td>5.411173e+10</td>\n    </tr>\n    <tr>\n      <th>37</th>\n      <td>1.322050e+17</td>\n      <td>0.000000e+00</td>\n      <td>2.557517e+15</td>\n      <td>0.000000e+00</td>\n      <td>6.117095e+10</td>\n    </tr>\n    <tr>\n      <th>38</th>\n      <td>7.670256e+17</td>\n      <td>0.000000e+00</td>\n      <td>2.664547e+15</td>\n      <td>0.000000e+00</td>\n      <td>7.138217e+10</td>\n    </tr>\n    <tr>\n      <th>39</th>\n      <td>5.875776e+16</td>\n      <td>0.000000e+00</td>\n      <td>7.852882e+15</td>\n      <td>0.000000e+00</td>\n      <td>2.109822e+11</td>\n    </tr>\n    <tr>\n      <th>40</th>\n      <td>0.000000e+00</td>\n      <td>7.431825e+08</td>\n      <td>6.732638e+16</td>\n      <td>7.146010e+13</td>\n      <td>2.738764e+11</td>\n    </tr>\n    <tr>\n      <th>41</th>\n      <td>3.840281e+17</td>\n      <td>0.000000e+00</td>\n      <td>2.737432e+15</td>\n      <td>0.000000e+00</td>\n      <td>7.096157e+10</td>\n    </tr>\n    <tr>\n      <th>42</th>\n      <td>0.000000e+00</td>\n      <td>0.000000e+00</td>\n      <td>6.183006e+16</td>\n      <td>7.146010e+13</td>\n      <td>1.934108e+12</td>\n    </tr>\n    <tr>\n      <th>43</th>\n      <td>3.840281e+17</td>\n      <td>0.000000e+00</td>\n      <td>2.667570e+15</td>\n      <td>3.995252e+13</td>\n      <td>7.219542e+10</td>\n    </tr>\n    <tr>\n      <th>44</th>\n      <td>1.468944e+16</td>\n      <td>0.000000e+00</td>\n      <td>1.893466e+16</td>\n      <td>5.375940e+13</td>\n      <td>5.602471e+11</td>\n    </tr>\n  </tbody>\n</table>\n</div>"
     },
     "execution_count": 142,
     "metadata": {},
     "output_type": "execute_result"
    }
   ],
   "source": [
    "robust_df = pd.DataFrame()\n",
    "\n",
    "mean_square_deviation(aggregated_outcomes_provinces_policy, robust_df, 'RfR Total Costs')\n",
    "mean_square_deviation(aggregated_outcomes_provinces_policy, robust_df, 'Expected Evacuation Costs')\n",
    "mean_square_deviation(aggregated_outcomes_provinces_policy, robust_df, 'Total Expected Annual Damage Overijssel')\n",
    "mean_square_deviation(aggregated_outcomes_provinces_policy, robust_df, 'Total Dike Investment Costs Overijssel')\n",
    "mean_square_deviation(aggregated_outcomes_provinces_policy, robust_df, 'Total Deaths_Cost Overijssel')\n",
    "\n",
    "robust_df"
   ],
   "metadata": {
    "collapsed": false,
    "ExecuteTime": {
     "end_time": "2023-06-21T15:32:42.610847400Z",
     "start_time": "2023-06-21T15:32:42.549410400Z"
    }
   }
  },
  {
   "cell_type": "code",
   "execution_count": 123,
   "outputs": [
    {
     "data": {
      "text/plain": "       total_cost[€]_overijssel                                    \n                           mean           std mean square deviation\npolicy                                                             \n26                 8.331391e+07  1.933501e+08          4.432547e+16\n11                 8.407651e+07  1.934453e+08          4.448995e+16\n5                  1.760816e+08  1.291865e+08          4.769388e+16\n44                 1.763057e+08  1.298316e+08          4.793996e+16\n9                  1.764013e+08  1.300868e+08          4.803999e+16",
      "text/html": "<div>\n<style scoped>\n    .dataframe tbody tr th:only-of-type {\n        vertical-align: middle;\n    }\n\n    .dataframe tbody tr th {\n        vertical-align: top;\n    }\n\n    .dataframe thead tr th {\n        text-align: left;\n    }\n\n    .dataframe thead tr:last-of-type th {\n        text-align: right;\n    }\n</style>\n<table border=\"1\" class=\"dataframe\">\n  <thead>\n    <tr>\n      <th></th>\n      <th colspan=\"3\" halign=\"left\">total_cost[€]_overijssel</th>\n    </tr>\n    <tr>\n      <th></th>\n      <th>mean</th>\n      <th>std</th>\n      <th>mean square deviation</th>\n    </tr>\n    <tr>\n      <th>policy</th>\n      <th></th>\n      <th></th>\n      <th></th>\n    </tr>\n  </thead>\n  <tbody>\n    <tr>\n      <th>26</th>\n      <td>8.331391e+07</td>\n      <td>1.933501e+08</td>\n      <td>4.432547e+16</td>\n    </tr>\n    <tr>\n      <th>11</th>\n      <td>8.407651e+07</td>\n      <td>1.934453e+08</td>\n      <td>4.448995e+16</td>\n    </tr>\n    <tr>\n      <th>5</th>\n      <td>1.760816e+08</td>\n      <td>1.291865e+08</td>\n      <td>4.769388e+16</td>\n    </tr>\n    <tr>\n      <th>44</th>\n      <td>1.763057e+08</td>\n      <td>1.298316e+08</td>\n      <td>4.793996e+16</td>\n    </tr>\n    <tr>\n      <th>9</th>\n      <td>1.764013e+08</td>\n      <td>1.300868e+08</td>\n      <td>4.803999e+16</td>\n    </tr>\n  </tbody>\n</table>\n</div>"
     },
     "execution_count": 123,
     "metadata": {},
     "output_type": "execute_result"
    }
   ],
   "source": [
    "n_scenarios_of_interest = 5\n",
    "\n",
    "results_of_interest = grouping.sort_values(by=('total_cost[€]_overijssel','mean square deviation'), ascending=True).head(n_scenarios_of_interest)\n",
    "\n",
    "with open(r'..\\generated_datasets\\final_policies_overijssel.pkl','wb') as pickle_file:\n",
    "    pickle.dump(results_of_interest, pickle_file)\n",
    "\n",
    "results_of_interest"
   ],
   "metadata": {
    "collapsed": false,
    "ExecuteTime": {
     "end_time": "2023-06-21T15:16:51.877141500Z",
     "start_time": "2023-06-21T15:16:51.864599100Z"
    }
   }
  },
  {
   "cell_type": "markdown",
   "source": [
    "### Visualization"
   ],
   "metadata": {
    "collapsed": false
   }
  },
  {
   "cell_type": "code",
   "execution_count": 126,
   "outputs": [
    {
     "data": {
      "text/plain": "[26, 11, 5, 44, 9]\nCategories (45, int64): [0, 1, 2, 3, ..., 41, 42, 43, 44]"
     },
     "execution_count": 126,
     "metadata": {},
     "output_type": "execute_result"
    }
   ],
   "source": [
    "results_of_interest.index.values"
   ],
   "metadata": {
    "collapsed": false,
    "ExecuteTime": {
     "end_time": "2023-06-21T15:17:00.530827900Z",
     "start_time": "2023-06-21T15:17:00.512429500Z"
    }
   }
  },
  {
   "cell_type": "code",
   "execution_count": 147,
   "outputs": [],
   "source": [
    "data = robust_df.iloc[results_of_interest.index.values,:]\n",
    "limits = parcoords.get_limits(data)\n",
    "paraxes = parcoords.ParallelAxes(limits)\n",
    "paraxes.plot(data)\n",
    "sns.despine()\n",
    "plt.savefig(r'../visualizations/Scenario_Discovery/pareto_visualization.png', bbox_inches='tight')\n",
    "sns.set(rc={'figure.figsize': (15, 6)})"
   ],
   "metadata": {
    "collapsed": false
   }
  },
  {
   "cell_type": "markdown",
   "source": [
    "# Generate outcome optimal for Gelderland and Overijssel combined."
   ],
   "metadata": {
    "collapsed": false
   }
  },
  {
   "cell_type": "markdown",
   "source": [
    "The same is done for the total cost of the provinces of Gelderland and Overijssel combined."
   ],
   "metadata": {
    "collapsed": false
   }
  },
  {
   "cell_type": "code",
   "execution_count": 115,
   "outputs": [],
   "source": [
    "grouping = aggregated_outcomes_provinces_policy.groupby(['policy']).agg({'total_cost[€]':['mean', 'std']})\n",
    "grouping[('total_cost[€]','mean square deviation')] = np.square(grouping[('total_cost[€]', 'mean')]) + np.square(grouping[('total_cost[€]', 'std')])"
   ],
   "metadata": {
    "collapsed": false,
    "ExecuteTime": {
     "end_time": "2023-06-21T15:12:26.894636600Z",
     "start_time": "2023-06-21T15:12:26.845366700Z"
    }
   }
  },
  {
   "cell_type": "code",
   "execution_count": 116,
   "outputs": [
    {
     "data": {
      "text/plain": "       total_cost[€]                                    \n                mean           std mean square deviation\npolicy                                                  \n36      1.033884e+09  7.140469e+08          1.578779e+18\n2       1.181345e+09  7.133925e+08          1.904505e+18\n10      1.373723e+09  9.660506e+08          2.820368e+18\n25      1.422984e+09  9.787605e+08          2.982856e+18\n1       1.481486e+09  8.880334e+08          2.983405e+18",
      "text/html": "<div>\n<style scoped>\n    .dataframe tbody tr th:only-of-type {\n        vertical-align: middle;\n    }\n\n    .dataframe tbody tr th {\n        vertical-align: top;\n    }\n\n    .dataframe thead tr th {\n        text-align: left;\n    }\n\n    .dataframe thead tr:last-of-type th {\n        text-align: right;\n    }\n</style>\n<table border=\"1\" class=\"dataframe\">\n  <thead>\n    <tr>\n      <th></th>\n      <th colspan=\"3\" halign=\"left\">total_cost[€]</th>\n    </tr>\n    <tr>\n      <th></th>\n      <th>mean</th>\n      <th>std</th>\n      <th>mean square deviation</th>\n    </tr>\n    <tr>\n      <th>policy</th>\n      <th></th>\n      <th></th>\n      <th></th>\n    </tr>\n  </thead>\n  <tbody>\n    <tr>\n      <th>36</th>\n      <td>1.033884e+09</td>\n      <td>7.140469e+08</td>\n      <td>1.578779e+18</td>\n    </tr>\n    <tr>\n      <th>2</th>\n      <td>1.181345e+09</td>\n      <td>7.133925e+08</td>\n      <td>1.904505e+18</td>\n    </tr>\n    <tr>\n      <th>10</th>\n      <td>1.373723e+09</td>\n      <td>9.660506e+08</td>\n      <td>2.820368e+18</td>\n    </tr>\n    <tr>\n      <th>25</th>\n      <td>1.422984e+09</td>\n      <td>9.787605e+08</td>\n      <td>2.982856e+18</td>\n    </tr>\n    <tr>\n      <th>1</th>\n      <td>1.481486e+09</td>\n      <td>8.880334e+08</td>\n      <td>2.983405e+18</td>\n    </tr>\n  </tbody>\n</table>\n</div>"
     },
     "execution_count": 116,
     "metadata": {},
     "output_type": "execute_result"
    }
   ],
   "source": [
    "n_scenarios_of_interest = 5\n",
    "\n",
    "results_of_interest = grouping.sort_values(by=('total_cost[€]','mean square deviation'), ascending=True).head(n_scenarios_of_interest)\n",
    "\n",
    "with open(r'..\\generated_datasets\\final_policies.pkl','wb') as pickle_file:\n",
    "    pickle.dump(results_of_interest, pickle_file)\n",
    "\n",
    "results_of_interest"
   ],
   "metadata": {
    "collapsed": false,
    "ExecuteTime": {
     "end_time": "2023-06-21T15:12:26.894636600Z",
     "start_time": "2023-06-21T15:12:26.847359200Z"
    }
   }
  },
  {
   "cell_type": "markdown",
   "source": [
    "### PRIM"
   ],
   "metadata": {
    "collapsed": false
   }
  },
  {
   "cell_type": "code",
   "execution_count": 117,
   "outputs": [
    {
     "data": {
      "text/plain": "<Figure size 640x480 with 0 Axes>"
     },
     "metadata": {},
     "output_type": "display_data"
    },
    {
     "data": {
      "text/plain": "<Figure size 640x480 with 0 Axes>"
     },
     "metadata": {},
     "output_type": "display_data"
    },
    {
     "data": {
      "text/plain": "<Figure size 640x480 with 0 Axes>"
     },
     "metadata": {},
     "output_type": "display_data"
    },
    {
     "data": {
      "text/plain": "<Figure size 640x480 with 0 Axes>"
     },
     "metadata": {},
     "output_type": "display_data"
    },
    {
     "data": {
      "text/plain": "<Figure size 640x480 with 0 Axes>"
     },
     "metadata": {},
     "output_type": "display_data"
    }
   ],
   "source": [
    "x = experiments_and_results.iloc[:, :19]\n",
    "\n",
    "for var in aggregated_outcomes.iloc[:, 2:].columns:\n",
    "    var_path = str('../visualizations/Scenario_Discovery/policy_' + var + '_PRIM.png')\n",
    "    var2_path = str('../visualizations/Scenario_Discovery/policy_' + var + '_PRIM_inspect.png')\n",
    "\n",
    "    y_total_damage = aggregated_outcomes[var].values\n",
    "    y_total_damage = y_total_damage > np.percentile(y_total_damage, 75)\n",
    "\n",
    "    prim_alg_DAM = prim.Prim(x,\n",
    "                             y_total_damage,\n",
    "                             threshold=0.70,\n",
    "                             peel_alpha=0.05, )  # deze variabelen nog tweaken\n",
    "    box_DAM = prim_alg_DAM.find_box()\n",
    "\n",
    "    img = box_DAM.show_tradeoff()\n",
    "    plt.title(var)\n",
    "    fig = img.get_figure()\n",
    "    fig.savefig(var_path, bbox_inches='tight')\n",
    "    fig.clf()"
   ],
   "metadata": {
    "collapsed": false,
    "ExecuteTime": {
     "end_time": "2023-06-21T15:12:40.378136800Z",
     "start_time": "2023-06-21T15:12:26.863595700Z"
    }
   }
  },
  {
   "cell_type": "code",
   "execution_count": 117,
   "outputs": [],
   "source": [],
   "metadata": {
    "collapsed": false,
    "ExecuteTime": {
     "end_time": "2023-06-21T15:12:40.382411800Z",
     "start_time": "2023-06-21T15:12:40.379125100Z"
    }
   }
  }
 ],
 "metadata": {
  "kernelspec": {
   "display_name": "Python 3",
   "language": "python",
   "name": "python3"
  },
  "language_info": {
   "codemirror_mode": {
    "name": "ipython",
    "version": 2
   },
   "file_extension": ".py",
   "mimetype": "text/x-python",
   "name": "python",
   "nbconvert_exporter": "python",
   "pygments_lexer": "ipython2",
   "version": "2.7.6"
  }
 },
 "nbformat": 4,
 "nbformat_minor": 0
}
