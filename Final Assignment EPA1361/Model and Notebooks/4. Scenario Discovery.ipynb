{
 "cells": [
  {
   "cell_type": "markdown",
   "source": [
    "First, packages are imported."
   ],
   "metadata": {
    "collapsed": false
   }
  },
  {
   "cell_type": "code",
   "execution_count": 36,
   "outputs": [],
   "source": [
    "#   import packages\n",
    "import numpy as np\n",
    "import scipy as sp\n",
    "import pandas as pd\n",
    "import matplotlib.pyplot as plt\n",
    "import seaborn as sns\n",
    "import seaborn.objects as so\n",
    "import networkx as nx\n",
    "import pickle\n",
    "import functools\n",
    "\n",
    "from ema_workbench import (\n",
    "    Model,\n",
    "    Policy,\n",
    "    Scenario,\n",
    "    ema_logging,\n",
    "    SequentialEvaluator,\n",
    "    MultiprocessingEvaluator,\n",
    "    util,\n",
    "    ScalarOutcome,\n",
    ")\n",
    "from dike_model_function import DikeNetwork  # @UnresolvedImport\n",
    "from problem_formulation import get_model_for_problem_formulation, sum_over, sum_over_time\n",
    "from ema_workbench.em_framework.samplers import sample_uncertainties\n",
    "from ema_workbench.em_framework.optimization import ArchiveLogger, EpsilonProgress\n",
    "from ema_workbench.em_framework import parameters_from_csv\n",
    "from ema_workbench.em_framework.evaluators import BaseEvaluator\n",
    "from ema_workbench.analysis import parcoords\n",
    "from ema_workbench.analysis import prim\n",
    "from ema_workbench import Samplers"
   ],
   "metadata": {
    "collapsed": false,
    "ExecuteTime": {
     "end_time": "2023-06-21T14:21:07.115161300Z",
     "start_time": "2023-06-21T14:21:06.942407500Z"
    }
   }
  },
  {
   "cell_type": "markdown",
   "source": [
    "Load results from Uncertainty Analysis"
   ],
   "metadata": {
    "collapsed": false
   }
  },
  {
   "cell_type": "code",
   "execution_count": 37,
   "outputs": [],
   "source": [
    "uncertainty_results = pd.read_pickle(r'../generated_datasets/policy_uncertainty_provinces.pkl')\n",
    "experiments_and_results = pd.read_pickle(r'../generated_datasets/policy_uncertainty_experiments_results.pkl')\n",
    "aggregated_outcomes = pd.read_pickle(r'../generated_datasets/policy_uncertainty_aggregated.pkl')\n",
    "uncertainty_results_run = pd.read_pickle(r'../generated_datasets/policy_uncertainty_test.pkl')"
   ],
   "metadata": {
    "collapsed": false,
    "ExecuteTime": {
     "end_time": "2023-06-21T14:21:07.191192600Z",
     "start_time": "2023-06-21T14:21:06.950741500Z"
    }
   }
  },
  {
   "cell_type": "markdown",
   "source": [
    "# Calculate Robustness Metrics"
   ],
   "metadata": {
    "collapsed": false
   }
  },
  {
   "cell_type": "markdown",
   "source": [
    "First, the time data is combined into a single value, and saved into a DataFrame."
   ],
   "metadata": {
    "collapsed": false
   }
  },
  {
   "cell_type": "code",
   "execution_count": 38,
   "outputs": [],
   "source": [
    "experiments, outcomes = uncertainty_results_run\n",
    "\n",
    "results_df = pd.DataFrame()\n",
    "for k in outcomes:\n",
    "    test_list = []\n",
    "    for i in range(len(experiments)):\n",
    "        t = outcomes[k][i].sum()\n",
    "        test_list.append(t)\n",
    "    results_df[k]=test_list"
   ],
   "metadata": {
    "collapsed": false,
    "ExecuteTime": {
     "end_time": "2023-06-21T14:21:09.179684700Z",
     "start_time": "2023-06-21T14:21:06.999097400Z"
    }
   }
  },
  {
   "cell_type": "markdown",
   "source": [
    "Then, we calculate the cost of death for all death columns, making it able to easily construct a total cost."
   ],
   "metadata": {
    "collapsed": false
   }
  },
  {
   "cell_type": "code",
   "execution_count": 39,
   "outputs": [],
   "source": [
    "death_cost_per_person = 6_300_000\n",
    "\n",
    "# calculate the cost of death so every column has the same unit (€)\n",
    "results_df[\"A.1_Deaths_Cost\"]=results_df[\"A.1_Expected Number of Deaths\"]*death_cost_per_person\n",
    "results_df[\"A.2_Deaths_Cost\"]=results_df[\"A.2_Expected Number of Deaths\"]*death_cost_per_person\n",
    "results_df[\"A.3_Deaths_Cost\"]=results_df[\"A.3_Expected Number of Deaths\"]*death_cost_per_person\n",
    "results_df[\"A.4_Deaths_Cost\"]=results_df[\"A.4_Expected Number of Deaths\"]*death_cost_per_person\n",
    "results_df[\"A.5_Deaths_Cost\"]=results_df[\"A.5_Expected Number of Deaths\"]*death_cost_per_person\n",
    "\n",
    "to_drop = [\"A.1_Expected Number of Deaths\",\"A.2_Expected Number of Deaths\",\"A.3_Expected Number of Deaths\",\"A.4_Expected Number of Deaths\",\"A.5_Expected Number of Deaths\"]\n",
    "results_df.drop(to_drop, axis=1, inplace=True)"
   ],
   "metadata": {
    "collapsed": false,
    "ExecuteTime": {
     "end_time": "2023-06-21T14:21:09.197936600Z",
     "start_time": "2023-06-21T14:21:09.183695400Z"
    }
   }
  },
  {
   "cell_type": "markdown",
   "source": [
    "### Gelderland - Overijssel Split"
   ],
   "metadata": {
    "collapsed": false
   }
  },
  {
   "cell_type": "markdown",
   "source": [
    "A function is created to sort the data into two columns: Gelderland and Overijssel."
   ],
   "metadata": {
    "collapsed": false
   }
  },
  {
   "cell_type": "code",
   "execution_count": 40,
   "outputs": [],
   "source": [
    "def combine_columns_province(dataframe, name):\n",
    "    combined_columns_gelderland = []\n",
    "    combined_columns_overijssel = []\n",
    "    for x in dataframe.columns:\n",
    "        if name in x:\n",
    "            if x.startswith('A.1') or x.startswith('A.2') or x.startswith('A.3'):\n",
    "                combined_columns_gelderland.append(x)\n",
    "            if x.startswith('A.4') or x.startswith('A.5'):\n",
    "                combined_columns_overijssel.append(x)\n",
    "\n",
    "\n",
    "    dataframe['Total ' + str(name) + ' Gelderland'] = dataframe[combined_columns_gelderland].sum(axis=1)\n",
    "    dataframe['Total ' + str(name) + ' Overijssel'] = dataframe[combined_columns_overijssel].sum(axis=1)\n"
   ],
   "metadata": {
    "collapsed": false,
    "ExecuteTime": {
     "end_time": "2023-06-21T14:21:09.204058900Z",
     "start_time": "2023-06-21T14:21:09.199949100Z"
    }
   }
  },
  {
   "cell_type": "markdown",
   "source": [
    "A new DataFrame is then created with the province-sorted data."
   ],
   "metadata": {
    "collapsed": false
   }
  },
  {
   "cell_type": "code",
   "execution_count": 41,
   "outputs": [],
   "source": [
    "provinces = results_df.copy()\n",
    "\n",
    "combine_columns_province(provinces, 'Expected Annual Damage')\n",
    "combine_columns_province(provinces, 'Dike Investment Costs')\n",
    "combine_columns_province(provinces, 'Deaths_Cost')"
   ],
   "metadata": {
    "collapsed": false,
    "ExecuteTime": {
     "end_time": "2023-06-21T14:21:09.261325300Z",
     "start_time": "2023-06-21T14:21:09.207597600Z"
    }
   }
  },
  {
   "cell_type": "markdown",
   "source": [
    "The excess columns are then deleted, and columns are created with total cost and total cost for the province of Overijssel."
   ],
   "metadata": {
    "collapsed": false
   }
  },
  {
   "cell_type": "code",
   "execution_count": 42,
   "outputs": [
    {
     "data": {
      "text/plain": "       RfR Total Costs  Expected Evacuation Costs   \n0          121200000.0                7440.699768  \\\n1          121200000.0                 529.613015   \n2          121200000.0                1131.697699   \n3          121200000.0                3997.055938   \n4          121200000.0               12299.407927   \n...                ...                        ...   \n66995              0.0                5617.388654   \n66996              0.0                2236.872345   \n66997              0.0                1140.688872   \n66998              0.0                 438.029693   \n66999              0.0                6003.740298   \n\n       Total Expected Annual Damage Gelderland   \n0                                 2.598958e+08  \\\n1                                 2.007740e+07   \n2                                 2.169477e+07   \n3                                 1.138822e+08   \n4                                 2.680297e+08   \n...                                        ...   \n66995                             2.618213e+07   \n66996                             2.509358e+07   \n66997                             4.610411e+07   \n66998                             4.829867e+06   \n66999                             0.000000e+00   \n\n       Total Expected Annual Damage Overijssel   \n0                                 0.000000e+00  \\\n1                                 0.000000e+00   \n2                                 0.000000e+00   \n3                                 0.000000e+00   \n4                                 0.000000e+00   \n...                                        ...   \n66995                             4.928776e+07   \n66996                             7.452276e+06   \n66997                             1.455608e+06   \n66998                             3.099803e+06   \n66999                             7.691441e+07   \n\n       Total Dike Investment Costs Gelderland   \n0                                4.261252e+08  \\\n1                                4.261252e+08   \n2                                4.261252e+08   \n3                                4.261252e+08   \n4                                4.261252e+08   \n...                                       ...   \n66995                            4.000580e+08   \n66996                            4.000580e+08   \n66997                            4.000580e+08   \n66998                            4.000580e+08   \n66999                            4.000580e+08   \n\n       Total Dike Investment Costs Overijssel  Total Deaths_Cost Gelderland   \n0                                8.364938e+07                 322971.446503  \\\n1                                8.364938e+07                  25938.556696   \n2                                8.364938e+07                  54763.469958   \n3                                8.364938e+07                 181533.542707   \n4                                8.364938e+07                 527180.556318   \n...                                       ...                           ...   \n66995                            8.641652e+07                  49677.442362   \n66996                            8.641652e+07                  50151.312206   \n66997                            8.641652e+07                  35518.629332   \n66998                            8.641652e+07                   8316.725584   \n66999                            8.641652e+07                      0.000000   \n\n       Total Deaths_Cost Overijssel  total_cost[€]  total_cost[€]_overijssel  \n0                          0.000000   8.912008e+08              2.048568e+08  \n1                          0.000000   6.510785e+08              2.048499e+08  \n2                          0.000000   6.527253e+08              2.048505e+08  \n3                          0.000000   7.450423e+08              2.048534e+08  \n4                          0.000000   8.995438e+08              2.048617e+08  \n...                             ...            ...                       ...  \n66995                  44187.468244   5.620439e+08              1.357541e+08  \n66996                   4283.788780   5.190771e+08              9.387531e+07  \n66997                    874.937299   5.340718e+08              8.787414e+07  \n66998                   1432.709180   4.944144e+08              8.951819e+07  \n66999                  29316.585422   5.634242e+08              1.633662e+08  \n\n[67000 rows x 10 columns]",
      "text/html": "<div>\n<style scoped>\n    .dataframe tbody tr th:only-of-type {\n        vertical-align: middle;\n    }\n\n    .dataframe tbody tr th {\n        vertical-align: top;\n    }\n\n    .dataframe thead th {\n        text-align: right;\n    }\n</style>\n<table border=\"1\" class=\"dataframe\">\n  <thead>\n    <tr style=\"text-align: right;\">\n      <th></th>\n      <th>RfR Total Costs</th>\n      <th>Expected Evacuation Costs</th>\n      <th>Total Expected Annual Damage Gelderland</th>\n      <th>Total Expected Annual Damage Overijssel</th>\n      <th>Total Dike Investment Costs Gelderland</th>\n      <th>Total Dike Investment Costs Overijssel</th>\n      <th>Total Deaths_Cost Gelderland</th>\n      <th>Total Deaths_Cost Overijssel</th>\n      <th>total_cost[€]</th>\n      <th>total_cost[€]_overijssel</th>\n    </tr>\n  </thead>\n  <tbody>\n    <tr>\n      <th>0</th>\n      <td>121200000.0</td>\n      <td>7440.699768</td>\n      <td>2.598958e+08</td>\n      <td>0.000000e+00</td>\n      <td>4.261252e+08</td>\n      <td>8.364938e+07</td>\n      <td>322971.446503</td>\n      <td>0.000000</td>\n      <td>8.912008e+08</td>\n      <td>2.048568e+08</td>\n    </tr>\n    <tr>\n      <th>1</th>\n      <td>121200000.0</td>\n      <td>529.613015</td>\n      <td>2.007740e+07</td>\n      <td>0.000000e+00</td>\n      <td>4.261252e+08</td>\n      <td>8.364938e+07</td>\n      <td>25938.556696</td>\n      <td>0.000000</td>\n      <td>6.510785e+08</td>\n      <td>2.048499e+08</td>\n    </tr>\n    <tr>\n      <th>2</th>\n      <td>121200000.0</td>\n      <td>1131.697699</td>\n      <td>2.169477e+07</td>\n      <td>0.000000e+00</td>\n      <td>4.261252e+08</td>\n      <td>8.364938e+07</td>\n      <td>54763.469958</td>\n      <td>0.000000</td>\n      <td>6.527253e+08</td>\n      <td>2.048505e+08</td>\n    </tr>\n    <tr>\n      <th>3</th>\n      <td>121200000.0</td>\n      <td>3997.055938</td>\n      <td>1.138822e+08</td>\n      <td>0.000000e+00</td>\n      <td>4.261252e+08</td>\n      <td>8.364938e+07</td>\n      <td>181533.542707</td>\n      <td>0.000000</td>\n      <td>7.450423e+08</td>\n      <td>2.048534e+08</td>\n    </tr>\n    <tr>\n      <th>4</th>\n      <td>121200000.0</td>\n      <td>12299.407927</td>\n      <td>2.680297e+08</td>\n      <td>0.000000e+00</td>\n      <td>4.261252e+08</td>\n      <td>8.364938e+07</td>\n      <td>527180.556318</td>\n      <td>0.000000</td>\n      <td>8.995438e+08</td>\n      <td>2.048617e+08</td>\n    </tr>\n    <tr>\n      <th>...</th>\n      <td>...</td>\n      <td>...</td>\n      <td>...</td>\n      <td>...</td>\n      <td>...</td>\n      <td>...</td>\n      <td>...</td>\n      <td>...</td>\n      <td>...</td>\n      <td>...</td>\n    </tr>\n    <tr>\n      <th>66995</th>\n      <td>0.0</td>\n      <td>5617.388654</td>\n      <td>2.618213e+07</td>\n      <td>4.928776e+07</td>\n      <td>4.000580e+08</td>\n      <td>8.641652e+07</td>\n      <td>49677.442362</td>\n      <td>44187.468244</td>\n      <td>5.620439e+08</td>\n      <td>1.357541e+08</td>\n    </tr>\n    <tr>\n      <th>66996</th>\n      <td>0.0</td>\n      <td>2236.872345</td>\n      <td>2.509358e+07</td>\n      <td>7.452276e+06</td>\n      <td>4.000580e+08</td>\n      <td>8.641652e+07</td>\n      <td>50151.312206</td>\n      <td>4283.788780</td>\n      <td>5.190771e+08</td>\n      <td>9.387531e+07</td>\n    </tr>\n    <tr>\n      <th>66997</th>\n      <td>0.0</td>\n      <td>1140.688872</td>\n      <td>4.610411e+07</td>\n      <td>1.455608e+06</td>\n      <td>4.000580e+08</td>\n      <td>8.641652e+07</td>\n      <td>35518.629332</td>\n      <td>874.937299</td>\n      <td>5.340718e+08</td>\n      <td>8.787414e+07</td>\n    </tr>\n    <tr>\n      <th>66998</th>\n      <td>0.0</td>\n      <td>438.029693</td>\n      <td>4.829867e+06</td>\n      <td>3.099803e+06</td>\n      <td>4.000580e+08</td>\n      <td>8.641652e+07</td>\n      <td>8316.725584</td>\n      <td>1432.709180</td>\n      <td>4.944144e+08</td>\n      <td>8.951819e+07</td>\n    </tr>\n    <tr>\n      <th>66999</th>\n      <td>0.0</td>\n      <td>6003.740298</td>\n      <td>0.000000e+00</td>\n      <td>7.691441e+07</td>\n      <td>4.000580e+08</td>\n      <td>8.641652e+07</td>\n      <td>0.000000</td>\n      <td>29316.585422</td>\n      <td>5.634242e+08</td>\n      <td>1.633662e+08</td>\n    </tr>\n  </tbody>\n</table>\n<p>67000 rows × 10 columns</p>\n</div>"
     },
     "execution_count": 42,
     "metadata": {},
     "output_type": "execute_result"
    }
   ],
   "source": [
    "aggregated_outcomes_provinces = pd.concat([experiments[['scenario','policy']],provinces], axis=1).iloc[:,2:]\n",
    "\n",
    "for x in aggregated_outcomes_provinces.columns:\n",
    "\n",
    "        if x.startswith('A.1') or x.startswith('A.2') or x.startswith('A.3') or x.startswith('A.4') or x.startswith('A.5'):\n",
    "            aggregated_outcomes_provinces.drop(x, axis=1, inplace=True)\n",
    "        else:\n",
    "            pass\n",
    "\n",
    "aggregated_outcomes_provinces['total_cost[€]']= aggregated_outcomes_provinces.sum(axis=1)\n",
    "overijssel_sum = ['RfR Total Costs','Expected Evacuation Costs','Total Expected Annual Damage Overijssel','Total Dike Investment Costs Overijssel','Total Deaths_Cost Overijssel']\n",
    "aggregated_outcomes_provinces['total_cost[€]_overijssel']= aggregated_outcomes_provinces.loc[:,overijssel_sum].sum(axis=1)\n",
    "\n",
    "aggregated_outcomes_provinces"
   ],
   "metadata": {
    "collapsed": false,
    "ExecuteTime": {
     "end_time": "2023-06-21T14:21:09.356434200Z",
     "start_time": "2023-06-21T14:21:09.263833400Z"
    }
   }
  },
  {
   "cell_type": "markdown",
   "source": [
    "Lastly, we add the policy number."
   ],
   "metadata": {
    "collapsed": false
   }
  },
  {
   "cell_type": "code",
   "execution_count": 43,
   "outputs": [
    {
     "data": {
      "text/plain": "       RfR Total Costs  Expected Evacuation Costs   \n0          121200000.0                7440.699768  \\\n1          121200000.0                 529.613015   \n2          121200000.0                1131.697699   \n3          121200000.0                3997.055938   \n4          121200000.0               12299.407927   \n...                ...                        ...   \n66995              0.0                5617.388654   \n66996              0.0                2236.872345   \n66997              0.0                1140.688872   \n66998              0.0                 438.029693   \n66999              0.0                6003.740298   \n\n       Total Expected Annual Damage Gelderland   \n0                                 2.598958e+08  \\\n1                                 2.007740e+07   \n2                                 2.169477e+07   \n3                                 1.138822e+08   \n4                                 2.680297e+08   \n...                                        ...   \n66995                             2.618213e+07   \n66996                             2.509358e+07   \n66997                             4.610411e+07   \n66998                             4.829867e+06   \n66999                             0.000000e+00   \n\n       Total Expected Annual Damage Overijssel   \n0                                 0.000000e+00  \\\n1                                 0.000000e+00   \n2                                 0.000000e+00   \n3                                 0.000000e+00   \n4                                 0.000000e+00   \n...                                        ...   \n66995                             4.928776e+07   \n66996                             7.452276e+06   \n66997                             1.455608e+06   \n66998                             3.099803e+06   \n66999                             7.691441e+07   \n\n       Total Dike Investment Costs Gelderland   \n0                                4.261252e+08  \\\n1                                4.261252e+08   \n2                                4.261252e+08   \n3                                4.261252e+08   \n4                                4.261252e+08   \n...                                       ...   \n66995                            4.000580e+08   \n66996                            4.000580e+08   \n66997                            4.000580e+08   \n66998                            4.000580e+08   \n66999                            4.000580e+08   \n\n       Total Dike Investment Costs Overijssel  Total Deaths_Cost Gelderland   \n0                                8.364938e+07                 322971.446503  \\\n1                                8.364938e+07                  25938.556696   \n2                                8.364938e+07                  54763.469958   \n3                                8.364938e+07                 181533.542707   \n4                                8.364938e+07                 527180.556318   \n...                                       ...                           ...   \n66995                            8.641652e+07                  49677.442362   \n66996                            8.641652e+07                  50151.312206   \n66997                            8.641652e+07                  35518.629332   \n66998                            8.641652e+07                   8316.725584   \n66999                            8.641652e+07                      0.000000   \n\n       Total Deaths_Cost Overijssel  total_cost[€]  total_cost[€]_overijssel   \n0                          0.000000   8.912008e+08              2.048568e+08  \\\n1                          0.000000   6.510785e+08              2.048499e+08   \n2                          0.000000   6.527253e+08              2.048505e+08   \n3                          0.000000   7.450423e+08              2.048534e+08   \n4                          0.000000   8.995438e+08              2.048617e+08   \n...                             ...            ...                       ...   \n66995                  44187.468244   5.620439e+08              1.357541e+08   \n66996                   4283.788780   5.190771e+08              9.387531e+07   \n66997                    874.937299   5.340718e+08              8.787414e+07   \n66998                   1432.709180   4.944144e+08              8.951819e+07   \n66999                  29316.585422   5.634242e+08              1.633662e+08   \n\n      policy  \n0          0  \n1          0  \n2          0  \n3          0  \n4          0  \n...      ...  \n66995     66  \n66996     66  \n66997     66  \n66998     66  \n66999     66  \n\n[67000 rows x 11 columns]",
      "text/html": "<div>\n<style scoped>\n    .dataframe tbody tr th:only-of-type {\n        vertical-align: middle;\n    }\n\n    .dataframe tbody tr th {\n        vertical-align: top;\n    }\n\n    .dataframe thead th {\n        text-align: right;\n    }\n</style>\n<table border=\"1\" class=\"dataframe\">\n  <thead>\n    <tr style=\"text-align: right;\">\n      <th></th>\n      <th>RfR Total Costs</th>\n      <th>Expected Evacuation Costs</th>\n      <th>Total Expected Annual Damage Gelderland</th>\n      <th>Total Expected Annual Damage Overijssel</th>\n      <th>Total Dike Investment Costs Gelderland</th>\n      <th>Total Dike Investment Costs Overijssel</th>\n      <th>Total Deaths_Cost Gelderland</th>\n      <th>Total Deaths_Cost Overijssel</th>\n      <th>total_cost[€]</th>\n      <th>total_cost[€]_overijssel</th>\n      <th>policy</th>\n    </tr>\n  </thead>\n  <tbody>\n    <tr>\n      <th>0</th>\n      <td>121200000.0</td>\n      <td>7440.699768</td>\n      <td>2.598958e+08</td>\n      <td>0.000000e+00</td>\n      <td>4.261252e+08</td>\n      <td>8.364938e+07</td>\n      <td>322971.446503</td>\n      <td>0.000000</td>\n      <td>8.912008e+08</td>\n      <td>2.048568e+08</td>\n      <td>0</td>\n    </tr>\n    <tr>\n      <th>1</th>\n      <td>121200000.0</td>\n      <td>529.613015</td>\n      <td>2.007740e+07</td>\n      <td>0.000000e+00</td>\n      <td>4.261252e+08</td>\n      <td>8.364938e+07</td>\n      <td>25938.556696</td>\n      <td>0.000000</td>\n      <td>6.510785e+08</td>\n      <td>2.048499e+08</td>\n      <td>0</td>\n    </tr>\n    <tr>\n      <th>2</th>\n      <td>121200000.0</td>\n      <td>1131.697699</td>\n      <td>2.169477e+07</td>\n      <td>0.000000e+00</td>\n      <td>4.261252e+08</td>\n      <td>8.364938e+07</td>\n      <td>54763.469958</td>\n      <td>0.000000</td>\n      <td>6.527253e+08</td>\n      <td>2.048505e+08</td>\n      <td>0</td>\n    </tr>\n    <tr>\n      <th>3</th>\n      <td>121200000.0</td>\n      <td>3997.055938</td>\n      <td>1.138822e+08</td>\n      <td>0.000000e+00</td>\n      <td>4.261252e+08</td>\n      <td>8.364938e+07</td>\n      <td>181533.542707</td>\n      <td>0.000000</td>\n      <td>7.450423e+08</td>\n      <td>2.048534e+08</td>\n      <td>0</td>\n    </tr>\n    <tr>\n      <th>4</th>\n      <td>121200000.0</td>\n      <td>12299.407927</td>\n      <td>2.680297e+08</td>\n      <td>0.000000e+00</td>\n      <td>4.261252e+08</td>\n      <td>8.364938e+07</td>\n      <td>527180.556318</td>\n      <td>0.000000</td>\n      <td>8.995438e+08</td>\n      <td>2.048617e+08</td>\n      <td>0</td>\n    </tr>\n    <tr>\n      <th>...</th>\n      <td>...</td>\n      <td>...</td>\n      <td>...</td>\n      <td>...</td>\n      <td>...</td>\n      <td>...</td>\n      <td>...</td>\n      <td>...</td>\n      <td>...</td>\n      <td>...</td>\n      <td>...</td>\n    </tr>\n    <tr>\n      <th>66995</th>\n      <td>0.0</td>\n      <td>5617.388654</td>\n      <td>2.618213e+07</td>\n      <td>4.928776e+07</td>\n      <td>4.000580e+08</td>\n      <td>8.641652e+07</td>\n      <td>49677.442362</td>\n      <td>44187.468244</td>\n      <td>5.620439e+08</td>\n      <td>1.357541e+08</td>\n      <td>66</td>\n    </tr>\n    <tr>\n      <th>66996</th>\n      <td>0.0</td>\n      <td>2236.872345</td>\n      <td>2.509358e+07</td>\n      <td>7.452276e+06</td>\n      <td>4.000580e+08</td>\n      <td>8.641652e+07</td>\n      <td>50151.312206</td>\n      <td>4283.788780</td>\n      <td>5.190771e+08</td>\n      <td>9.387531e+07</td>\n      <td>66</td>\n    </tr>\n    <tr>\n      <th>66997</th>\n      <td>0.0</td>\n      <td>1140.688872</td>\n      <td>4.610411e+07</td>\n      <td>1.455608e+06</td>\n      <td>4.000580e+08</td>\n      <td>8.641652e+07</td>\n      <td>35518.629332</td>\n      <td>874.937299</td>\n      <td>5.340718e+08</td>\n      <td>8.787414e+07</td>\n      <td>66</td>\n    </tr>\n    <tr>\n      <th>66998</th>\n      <td>0.0</td>\n      <td>438.029693</td>\n      <td>4.829867e+06</td>\n      <td>3.099803e+06</td>\n      <td>4.000580e+08</td>\n      <td>8.641652e+07</td>\n      <td>8316.725584</td>\n      <td>1432.709180</td>\n      <td>4.944144e+08</td>\n      <td>8.951819e+07</td>\n      <td>66</td>\n    </tr>\n    <tr>\n      <th>66999</th>\n      <td>0.0</td>\n      <td>6003.740298</td>\n      <td>0.000000e+00</td>\n      <td>7.691441e+07</td>\n      <td>4.000580e+08</td>\n      <td>8.641652e+07</td>\n      <td>0.000000</td>\n      <td>29316.585422</td>\n      <td>5.634242e+08</td>\n      <td>1.633662e+08</td>\n      <td>66</td>\n    </tr>\n  </tbody>\n</table>\n<p>67000 rows × 11 columns</p>\n</div>"
     },
     "execution_count": 43,
     "metadata": {},
     "output_type": "execute_result"
    }
   ],
   "source": [
    "aggregated_outcomes_provinces_policy = aggregated_outcomes_provinces.copy()\n",
    "aggregated_outcomes_provinces_policy['policy'] = experiments.iloc[:,-2]\n",
    "aggregated_outcomes_provinces_policy"
   ],
   "metadata": {
    "collapsed": false,
    "ExecuteTime": {
     "end_time": "2023-06-21T14:21:09.376021500Z",
     "start_time": "2023-06-21T14:21:09.356434200Z"
    }
   }
  },
  {
   "cell_type": "markdown",
   "source": [
    "### Generate outcome optimal for Overijssel"
   ],
   "metadata": {
    "collapsed": false
   }
  },
  {
   "cell_type": "markdown",
   "source": [
    "The best (cheapest) policies are selected. For this, we need the robustness metric again: Mean Square Deviation."
   ],
   "metadata": {
    "collapsed": false
   }
  },
  {
   "cell_type": "code",
   "execution_count": 104,
   "outputs": [],
   "source": [
    "grouping = aggregated_outcomes_provinces_policy.groupby(['policy']).agg({'total_cost[€]_overijssel':['mean', 'std']})\n",
    "grouping[('total_cost[€]_overijssel','mean square deviation')] = np.square(grouping[('total_cost[€]_overijssel', 'mean')]) + np.square(grouping[('total_cost[€]_overijssel', 'std')])"
   ],
   "metadata": {
    "collapsed": false,
    "ExecuteTime": {
     "end_time": "2023-06-21T15:08:45.226533600Z",
     "start_time": "2023-06-21T15:08:45.186213900Z"
    }
   }
  },
  {
   "cell_type": "code",
   "execution_count": 99,
   "outputs": [
    {
     "data": {
      "text/plain": "       total_cost[€]_overijssel                                    \n                           mean           std mean square deviation\npolicy                                                             \n7                  7.251303e+07  2.398231e+07          5.833290e+15\n6                  7.715460e+07  2.411583e+07          6.534405e+15\n4                  7.924735e+07  2.243784e+07          6.783599e+15\n22                 9.973077e+07  3.087734e+07          1.089964e+16\n9                  1.039058e+08  2.849956e+07          1.160864e+16",
      "text/html": "<div>\n<style scoped>\n    .dataframe tbody tr th:only-of-type {\n        vertical-align: middle;\n    }\n\n    .dataframe tbody tr th {\n        vertical-align: top;\n    }\n\n    .dataframe thead tr th {\n        text-align: left;\n    }\n\n    .dataframe thead tr:last-of-type th {\n        text-align: right;\n    }\n</style>\n<table border=\"1\" class=\"dataframe\">\n  <thead>\n    <tr>\n      <th></th>\n      <th colspan=\"3\" halign=\"left\">total_cost[€]_overijssel</th>\n    </tr>\n    <tr>\n      <th></th>\n      <th>mean</th>\n      <th>std</th>\n      <th>mean square deviation</th>\n    </tr>\n    <tr>\n      <th>policy</th>\n      <th></th>\n      <th></th>\n      <th></th>\n    </tr>\n  </thead>\n  <tbody>\n    <tr>\n      <th>7</th>\n      <td>7.251303e+07</td>\n      <td>2.398231e+07</td>\n      <td>5.833290e+15</td>\n    </tr>\n    <tr>\n      <th>6</th>\n      <td>7.715460e+07</td>\n      <td>2.411583e+07</td>\n      <td>6.534405e+15</td>\n    </tr>\n    <tr>\n      <th>4</th>\n      <td>7.924735e+07</td>\n      <td>2.243784e+07</td>\n      <td>6.783599e+15</td>\n    </tr>\n    <tr>\n      <th>22</th>\n      <td>9.973077e+07</td>\n      <td>3.087734e+07</td>\n      <td>1.089964e+16</td>\n    </tr>\n    <tr>\n      <th>9</th>\n      <td>1.039058e+08</td>\n      <td>2.849956e+07</td>\n      <td>1.160864e+16</td>\n    </tr>\n  </tbody>\n</table>\n</div>"
     },
     "execution_count": 99,
     "metadata": {},
     "output_type": "execute_result"
    }
   ],
   "source": [
    "n_scenarios_of_interest = 5\n",
    "\n",
    "results_of_interest = grouping.sort_values(by=('total_cost[€]_overijssel','mean square deviation'), ascending=True).head(n_scenarios_of_interest)\n",
    "\n",
    "with open(r'..\\generated_datasets\\final_policies_overijssel.pkl','wb') as pickle_file:\n",
    "    pickle.dump(results_of_interest, pickle_file)\n",
    "\n",
    "results_of_interest"
   ],
   "metadata": {
    "collapsed": false,
    "ExecuteTime": {
     "end_time": "2023-06-21T15:05:48.636308100Z",
     "start_time": "2023-06-21T15:05:48.611730800Z"
    }
   }
  },
  {
   "cell_type": "markdown",
   "source": [
    "### Generate outcome optimal for Gelderland and Overijssel combined."
   ],
   "metadata": {
    "collapsed": false
   }
  },
  {
   "cell_type": "code",
   "execution_count": 103,
   "outputs": [],
   "source": [
    "grouping = aggregated_outcomes_provinces_policy.groupby(['policy']).agg({'total_cost[€]':['mean', 'std']})\n",
    "grouping[('total_cost[€]','mean square deviation')] = np.square(grouping[('total_cost[€]', 'mean')]) + np.square(grouping[('total_cost[€]', 'std')])"
   ],
   "metadata": {
    "collapsed": false,
    "ExecuteTime": {
     "end_time": "2023-06-21T15:08:37.189176900Z",
     "start_time": "2023-06-21T15:08:37.168470300Z"
    }
   }
  },
  {
   "cell_type": "code",
   "execution_count": 102,
   "outputs": [
    {
     "data": {
      "text/plain": "       total_cost[€]                                    \n                mean           std mean square deviation\npolicy                                                  \n42      6.735707e+08  1.441888e+08          4.744879e+17\n9       6.355444e+08  2.908834e+08          4.885299e+17\n41      6.693379e+08  2.284622e+08          5.002081e+17\n66      6.436564e+08  3.294160e+08          5.228085e+17\n23      7.303488e+08  7.537737e+07          5.390911e+17",
      "text/html": "<div>\n<style scoped>\n    .dataframe tbody tr th:only-of-type {\n        vertical-align: middle;\n    }\n\n    .dataframe tbody tr th {\n        vertical-align: top;\n    }\n\n    .dataframe thead tr th {\n        text-align: left;\n    }\n\n    .dataframe thead tr:last-of-type th {\n        text-align: right;\n    }\n</style>\n<table border=\"1\" class=\"dataframe\">\n  <thead>\n    <tr>\n      <th></th>\n      <th colspan=\"3\" halign=\"left\">total_cost[€]</th>\n    </tr>\n    <tr>\n      <th></th>\n      <th>mean</th>\n      <th>std</th>\n      <th>mean square deviation</th>\n    </tr>\n    <tr>\n      <th>policy</th>\n      <th></th>\n      <th></th>\n      <th></th>\n    </tr>\n  </thead>\n  <tbody>\n    <tr>\n      <th>42</th>\n      <td>6.735707e+08</td>\n      <td>1.441888e+08</td>\n      <td>4.744879e+17</td>\n    </tr>\n    <tr>\n      <th>9</th>\n      <td>6.355444e+08</td>\n      <td>2.908834e+08</td>\n      <td>4.885299e+17</td>\n    </tr>\n    <tr>\n      <th>41</th>\n      <td>6.693379e+08</td>\n      <td>2.284622e+08</td>\n      <td>5.002081e+17</td>\n    </tr>\n    <tr>\n      <th>66</th>\n      <td>6.436564e+08</td>\n      <td>3.294160e+08</td>\n      <td>5.228085e+17</td>\n    </tr>\n    <tr>\n      <th>23</th>\n      <td>7.303488e+08</td>\n      <td>7.537737e+07</td>\n      <td>5.390911e+17</td>\n    </tr>\n  </tbody>\n</table>\n</div>"
     },
     "execution_count": 102,
     "metadata": {},
     "output_type": "execute_result"
    }
   ],
   "source": [
    "n_scenarios_of_interest = 5\n",
    "\n",
    "results_of_interest = grouping.sort_values(by=('total_cost[€]','mean square deviation'), ascending=True).head(n_scenarios_of_interest)\n",
    "\n",
    "with open(r'..\\generated_datasets\\final_policies.pkl','wb') as pickle_file:\n",
    "    pickle.dump(results_of_interest, pickle_file)\n",
    "\n",
    "results_of_interest"
   ],
   "metadata": {
    "collapsed": false,
    "ExecuteTime": {
     "end_time": "2023-06-21T15:08:00.668726500Z",
     "start_time": "2023-06-21T15:08:00.649022300Z"
    }
   }
  },
  {
   "cell_type": "markdown",
   "source": [
    "### PRIM"
   ],
   "metadata": {
    "collapsed": false
   }
  },
  {
   "cell_type": "code",
   "execution_count": 46,
   "outputs": [
    {
     "data": {
      "text/plain": "<Figure size 640x480 with 0 Axes>"
     },
     "metadata": {},
     "output_type": "display_data"
    },
    {
     "data": {
      "text/plain": "<Figure size 640x480 with 0 Axes>"
     },
     "metadata": {},
     "output_type": "display_data"
    },
    {
     "data": {
      "text/plain": "<Figure size 640x480 with 0 Axes>"
     },
     "metadata": {},
     "output_type": "display_data"
    },
    {
     "data": {
      "text/plain": "<Figure size 640x480 with 0 Axes>"
     },
     "metadata": {},
     "output_type": "display_data"
    },
    {
     "data": {
      "text/plain": "<Figure size 640x480 with 0 Axes>"
     },
     "metadata": {},
     "output_type": "display_data"
    }
   ],
   "source": [
    "x = experiments_and_results.iloc[:, :19]\n",
    "\n",
    "for var in aggregated_outcomes.iloc[:, 2:].columns:\n",
    "    var_path = str('../visualizations/Scenario_Discovery/policy_' + var + '_PRIM.png')\n",
    "    var2_path = str('../visualizations/Scenario_Discovery/policy_' + var + '_PRIM_inspect.png')\n",
    "\n",
    "    y_total_damage = aggregated_outcomes[var].values\n",
    "    y_total_damage = y_total_damage > np.percentile(y_total_damage, 75)\n",
    "\n",
    "    prim_alg_DAM = prim.Prim(x,\n",
    "                             y_total_damage,\n",
    "                             threshold=0.70,\n",
    "                             peel_alpha=0.05, )  # deze variabelen nog tweaken\n",
    "    box_DAM = prim_alg_DAM.find_box()\n",
    "\n",
    "    img = box_DAM.show_tradeoff()\n",
    "    plt.title(var)\n",
    "    fig = img.get_figure()\n",
    "    fig.savefig(var_path, bbox_inches='tight')\n",
    "    fig.clf()"
   ],
   "metadata": {
    "collapsed": false,
    "ExecuteTime": {
     "end_time": "2023-06-21T14:21:22.736640500Z",
     "start_time": "2023-06-21T14:21:09.432729700Z"
    }
   }
  },
  {
   "cell_type": "code",
   "execution_count": 46,
   "outputs": [],
   "source": [],
   "metadata": {
    "collapsed": false,
    "ExecuteTime": {
     "end_time": "2023-06-21T14:21:22.737567300Z",
     "start_time": "2023-06-21T14:21:22.737013900Z"
    }
   }
  }
 ],
 "metadata": {
  "kernelspec": {
   "display_name": "Python 3",
   "language": "python",
   "name": "python3"
  },
  "language_info": {
   "codemirror_mode": {
    "name": "ipython",
    "version": 2
   },
   "file_extension": ".py",
   "mimetype": "text/x-python",
   "name": "python",
   "nbconvert_exporter": "python",
   "pygments_lexer": "ipython2",
   "version": "2.7.6"
  }
 },
 "nbformat": 4,
 "nbformat_minor": 0
}
