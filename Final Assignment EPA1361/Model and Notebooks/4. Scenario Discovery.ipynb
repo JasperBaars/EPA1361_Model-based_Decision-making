{
 "cells": [
  {
   "cell_type": "markdown",
   "source": [
    "First, packages are imported."
   ],
   "metadata": {
    "collapsed": false
   }
  },
  {
   "cell_type": "code",
   "execution_count": 3,
   "outputs": [],
   "source": [
    "#   import packages\n",
    "import numpy as np\n",
    "import scipy as sp\n",
    "import pandas as pd\n",
    "import matplotlib.pyplot as plt\n",
    "import seaborn as sns\n",
    "import seaborn.objects as so\n",
    "import networkx as nx\n",
    "import pickle\n",
    "import functools\n",
    "\n",
    "from ema_workbench import (\n",
    "    Model,\n",
    "    Policy,\n",
    "    Scenario,\n",
    "    ema_logging,\n",
    "    SequentialEvaluator,\n",
    "    MultiprocessingEvaluator,\n",
    "    util,\n",
    "    ScalarOutcome,\n",
    ")\n",
    "from dike_model_function import DikeNetwork  # @UnresolvedImport\n",
    "from problem_formulation import get_model_for_problem_formulation, sum_over, sum_over_time\n",
    "from ema_workbench.em_framework.samplers import sample_uncertainties\n",
    "from ema_workbench.em_framework.optimization import ArchiveLogger, EpsilonProgress\n",
    "from ema_workbench.em_framework import parameters_from_csv\n",
    "from ema_workbench.em_framework.evaluators import BaseEvaluator\n",
    "from ema_workbench.analysis import parcoords\n",
    "from ema_workbench.analysis import prim\n",
    "from ema_workbench import Samplers"
   ],
   "metadata": {
    "collapsed": false,
    "ExecuteTime": {
     "end_time": "2023-06-21T08:27:44.296745600Z",
     "start_time": "2023-06-21T08:27:44.277077200Z"
    }
   }
  },
  {
   "cell_type": "markdown",
   "source": [
    "Load results from Uncertainty Analysis"
   ],
   "metadata": {
    "collapsed": false
   }
  },
  {
   "cell_type": "code",
   "execution_count": 70,
   "outputs": [],
   "source": [
    "uncertainty_results = pd.read_pickle(r'../generated_datasets/policy_uncertainty_provinces.pkl')\n",
    "experiments_and_results = pd.read_pickle(r'../generated_datasets/policy_uncertainty_experiments_results.pkl')\n",
    "aggregated_outcomes = pd.read_pickle(r'../generated_datasets/policy_uncertainty_aggregated.pkl')\n",
    "uncertainty_results_run = pd.read_pickle(r'../generated_datasets/policy_uncertainty_test.pkl')"
   ],
   "metadata": {
    "collapsed": false,
    "ExecuteTime": {
     "end_time": "2023-06-21T09:14:30.629516200Z",
     "start_time": "2023-06-21T09:14:30.551286100Z"
    }
   }
  },
  {
   "cell_type": "markdown",
   "source": [
    "# Calculate Robustness Metrics\n",
    "MOET NOG\n",
    "\n",
    "Once the evaluation data is built through computational experimentation in step 3, that information is used to calculate policy robustness and to discover vulnerabilities in the existing policy op-tionsbasedontheidentifiedrobustnessmeasure(possiblerobustnessmetricswerediscussedinSec-tion 3.2, but RDM traditionally favors a satisficing measure (Matrosov, Woods, & Harou,2013)). Theprocess of searching for vulnerabilities is known as Scenario Discovery. PRIM (the Patient Rule In-duction Method) is typically identified as the most suitable scenario discovery method for RDM, as itproduces simple rules that accurately determine the factors (both uncertainties and policy settings)which contribute to poor performance (Lempert et al.,2006). This information is used to refine boththemodelandpolicyoptionsinaniterativeprocessuntiltheanalystandotherdecisionmakersreacha policy option or set of options that they can implement to address the problem."
   ],
   "metadata": {
    "collapsed": false
   }
  },
  {
   "cell_type": "code",
   "execution_count": 71,
   "outputs": [
    {
     "data": {
      "text/plain": "       A.1_Expected Annual Damage  A.1_Dike Investment Costs   \n0                    0.000000e+00               1.422000e+08  \\\n1                    0.000000e+00               1.422000e+08   \n2                    0.000000e+00               1.422000e+08   \n3                    0.000000e+00               1.422000e+08   \n4                    0.000000e+00               1.422000e+08   \n...                           ...                        ...   \n66995                0.000000e+00               1.352742e+08   \n66996                0.000000e+00               1.352742e+08   \n66997                4.610411e+07               1.352742e+08   \n66998                0.000000e+00               1.352742e+08   \n66999                0.000000e+00               1.352742e+08   \n\n       A.1_Expected Number of Deaths  A.2_Expected Annual Damage   \n0                           0.000000                         0.0  \\\n1                           0.000000                         0.0   \n2                           0.000000                         0.0   \n3                           0.000000                         0.0   \n4                           0.000000                         0.0   \n...                              ...                         ...   \n66995                       0.000000                         0.0   \n66996                       0.000000                         0.0   \n66997                       0.005638                         0.0   \n66998                       0.000000                         0.0   \n66999                       0.000000                         0.0   \n\n       A.2_Dike Investment Costs  A.2_Expected Number of Deaths   \n0                   2.343025e+08                            0.0  \\\n1                   2.343025e+08                            0.0   \n2                   2.343025e+08                            0.0   \n3                   2.343025e+08                            0.0   \n4                   2.343025e+08                            0.0   \n...                          ...                            ...   \n66995               2.160669e+08                            0.0   \n66996               2.160669e+08                            0.0   \n66997               2.160669e+08                            0.0   \n66998               2.160669e+08                            0.0   \n66999               2.160669e+08                            0.0   \n\n       A.3_Expected Annual Damage  A.3_Dike Investment Costs   \n0                    2.598958e+08               4.962273e+07  \\\n1                    2.007740e+07               4.962273e+07   \n2                    2.169477e+07               4.962273e+07   \n3                    1.138822e+08               4.962273e+07   \n4                    2.680297e+08               4.962273e+07   \n...                           ...                        ...   \n66995                2.618213e+07               4.871687e+07   \n66996                2.509358e+07               4.871687e+07   \n66997                0.000000e+00               4.871687e+07   \n66998                4.829867e+06               4.871687e+07   \n66999                0.000000e+00               4.871687e+07   \n\n       A.3_Expected Number of Deaths  A.4_Expected Annual Damage   \n0                           0.051265                0.000000e+00  \\\n1                           0.004117                0.000000e+00   \n2                           0.008693                0.000000e+00   \n3                           0.028815                0.000000e+00   \n4                           0.083679                0.000000e+00   \n...                              ...                         ...   \n66995                       0.007885                1.605862e+06   \n66996                       0.007961                7.452276e+06   \n66997                       0.000000                1.455608e+06   \n66998                       0.001320                3.099803e+06   \n66999                       0.000000                7.691441e+07   \n\n       A.4_Dike Investment Costs  A.4_Expected Number of Deaths   \n0                   1.106877e+07                       0.000000  \\\n1                   1.106877e+07                       0.000000   \n2                   1.106877e+07                       0.000000   \n3                   1.106877e+07                       0.000000   \n4                   1.106877e+07                       0.000000   \n...                          ...                            ...   \n66995               7.332080e+06                       0.000131   \n66996               7.332080e+06                       0.000680   \n66997               7.332080e+06                       0.000139   \n66998               7.332080e+06                       0.000227   \n66999               7.332080e+06                       0.004653   \n\n       A.5_Expected Annual Damage  A.5_Dike Investment Costs   \n0                    0.000000e+00               7.258061e+07  \\\n1                    0.000000e+00               7.258061e+07   \n2                    0.000000e+00               7.258061e+07   \n3                    0.000000e+00               7.258061e+07   \n4                    0.000000e+00               7.258061e+07   \n...                           ...                        ...   \n66995                4.768190e+07               7.908444e+07   \n66996                0.000000e+00               7.908444e+07   \n66997                0.000000e+00               7.908444e+07   \n66998                0.000000e+00               7.908444e+07   \n66999                0.000000e+00               7.908444e+07   \n\n       A.5_Expected Number of Deaths  RfR Total Costs   \n0                           0.000000      121200000.0  \\\n1                           0.000000      121200000.0   \n2                           0.000000      121200000.0   \n3                           0.000000      121200000.0   \n4                           0.000000      121200000.0   \n...                              ...              ...   \n66995                       0.006883              0.0   \n66996                       0.000000              0.0   \n66997                       0.000000              0.0   \n66998                       0.000000              0.0   \n66999                       0.000000              0.0   \n\n       Expected Evacuation Costs  \n0                    7440.699768  \n1                     529.613015  \n2                    1131.697699  \n3                    3997.055938  \n4                   12299.407927  \n...                          ...  \n66995                5617.388654  \n66996                2236.872345  \n66997                1140.688872  \n66998                 438.029693  \n66999                6003.740298  \n\n[67000 rows x 17 columns]",
      "text/html": "<div>\n<style scoped>\n    .dataframe tbody tr th:only-of-type {\n        vertical-align: middle;\n    }\n\n    .dataframe tbody tr th {\n        vertical-align: top;\n    }\n\n    .dataframe thead th {\n        text-align: right;\n    }\n</style>\n<table border=\"1\" class=\"dataframe\">\n  <thead>\n    <tr style=\"text-align: right;\">\n      <th></th>\n      <th>A.1_Expected Annual Damage</th>\n      <th>A.1_Dike Investment Costs</th>\n      <th>A.1_Expected Number of Deaths</th>\n      <th>A.2_Expected Annual Damage</th>\n      <th>A.2_Dike Investment Costs</th>\n      <th>A.2_Expected Number of Deaths</th>\n      <th>A.3_Expected Annual Damage</th>\n      <th>A.3_Dike Investment Costs</th>\n      <th>A.3_Expected Number of Deaths</th>\n      <th>A.4_Expected Annual Damage</th>\n      <th>A.4_Dike Investment Costs</th>\n      <th>A.4_Expected Number of Deaths</th>\n      <th>A.5_Expected Annual Damage</th>\n      <th>A.5_Dike Investment Costs</th>\n      <th>A.5_Expected Number of Deaths</th>\n      <th>RfR Total Costs</th>\n      <th>Expected Evacuation Costs</th>\n    </tr>\n  </thead>\n  <tbody>\n    <tr>\n      <th>0</th>\n      <td>0.000000e+00</td>\n      <td>1.422000e+08</td>\n      <td>0.000000</td>\n      <td>0.0</td>\n      <td>2.343025e+08</td>\n      <td>0.0</td>\n      <td>2.598958e+08</td>\n      <td>4.962273e+07</td>\n      <td>0.051265</td>\n      <td>0.000000e+00</td>\n      <td>1.106877e+07</td>\n      <td>0.000000</td>\n      <td>0.000000e+00</td>\n      <td>7.258061e+07</td>\n      <td>0.000000</td>\n      <td>121200000.0</td>\n      <td>7440.699768</td>\n    </tr>\n    <tr>\n      <th>1</th>\n      <td>0.000000e+00</td>\n      <td>1.422000e+08</td>\n      <td>0.000000</td>\n      <td>0.0</td>\n      <td>2.343025e+08</td>\n      <td>0.0</td>\n      <td>2.007740e+07</td>\n      <td>4.962273e+07</td>\n      <td>0.004117</td>\n      <td>0.000000e+00</td>\n      <td>1.106877e+07</td>\n      <td>0.000000</td>\n      <td>0.000000e+00</td>\n      <td>7.258061e+07</td>\n      <td>0.000000</td>\n      <td>121200000.0</td>\n      <td>529.613015</td>\n    </tr>\n    <tr>\n      <th>2</th>\n      <td>0.000000e+00</td>\n      <td>1.422000e+08</td>\n      <td>0.000000</td>\n      <td>0.0</td>\n      <td>2.343025e+08</td>\n      <td>0.0</td>\n      <td>2.169477e+07</td>\n      <td>4.962273e+07</td>\n      <td>0.008693</td>\n      <td>0.000000e+00</td>\n      <td>1.106877e+07</td>\n      <td>0.000000</td>\n      <td>0.000000e+00</td>\n      <td>7.258061e+07</td>\n      <td>0.000000</td>\n      <td>121200000.0</td>\n      <td>1131.697699</td>\n    </tr>\n    <tr>\n      <th>3</th>\n      <td>0.000000e+00</td>\n      <td>1.422000e+08</td>\n      <td>0.000000</td>\n      <td>0.0</td>\n      <td>2.343025e+08</td>\n      <td>0.0</td>\n      <td>1.138822e+08</td>\n      <td>4.962273e+07</td>\n      <td>0.028815</td>\n      <td>0.000000e+00</td>\n      <td>1.106877e+07</td>\n      <td>0.000000</td>\n      <td>0.000000e+00</td>\n      <td>7.258061e+07</td>\n      <td>0.000000</td>\n      <td>121200000.0</td>\n      <td>3997.055938</td>\n    </tr>\n    <tr>\n      <th>4</th>\n      <td>0.000000e+00</td>\n      <td>1.422000e+08</td>\n      <td>0.000000</td>\n      <td>0.0</td>\n      <td>2.343025e+08</td>\n      <td>0.0</td>\n      <td>2.680297e+08</td>\n      <td>4.962273e+07</td>\n      <td>0.083679</td>\n      <td>0.000000e+00</td>\n      <td>1.106877e+07</td>\n      <td>0.000000</td>\n      <td>0.000000e+00</td>\n      <td>7.258061e+07</td>\n      <td>0.000000</td>\n      <td>121200000.0</td>\n      <td>12299.407927</td>\n    </tr>\n    <tr>\n      <th>...</th>\n      <td>...</td>\n      <td>...</td>\n      <td>...</td>\n      <td>...</td>\n      <td>...</td>\n      <td>...</td>\n      <td>...</td>\n      <td>...</td>\n      <td>...</td>\n      <td>...</td>\n      <td>...</td>\n      <td>...</td>\n      <td>...</td>\n      <td>...</td>\n      <td>...</td>\n      <td>...</td>\n      <td>...</td>\n    </tr>\n    <tr>\n      <th>66995</th>\n      <td>0.000000e+00</td>\n      <td>1.352742e+08</td>\n      <td>0.000000</td>\n      <td>0.0</td>\n      <td>2.160669e+08</td>\n      <td>0.0</td>\n      <td>2.618213e+07</td>\n      <td>4.871687e+07</td>\n      <td>0.007885</td>\n      <td>1.605862e+06</td>\n      <td>7.332080e+06</td>\n      <td>0.000131</td>\n      <td>4.768190e+07</td>\n      <td>7.908444e+07</td>\n      <td>0.006883</td>\n      <td>0.0</td>\n      <td>5617.388654</td>\n    </tr>\n    <tr>\n      <th>66996</th>\n      <td>0.000000e+00</td>\n      <td>1.352742e+08</td>\n      <td>0.000000</td>\n      <td>0.0</td>\n      <td>2.160669e+08</td>\n      <td>0.0</td>\n      <td>2.509358e+07</td>\n      <td>4.871687e+07</td>\n      <td>0.007961</td>\n      <td>7.452276e+06</td>\n      <td>7.332080e+06</td>\n      <td>0.000680</td>\n      <td>0.000000e+00</td>\n      <td>7.908444e+07</td>\n      <td>0.000000</td>\n      <td>0.0</td>\n      <td>2236.872345</td>\n    </tr>\n    <tr>\n      <th>66997</th>\n      <td>4.610411e+07</td>\n      <td>1.352742e+08</td>\n      <td>0.005638</td>\n      <td>0.0</td>\n      <td>2.160669e+08</td>\n      <td>0.0</td>\n      <td>0.000000e+00</td>\n      <td>4.871687e+07</td>\n      <td>0.000000</td>\n      <td>1.455608e+06</td>\n      <td>7.332080e+06</td>\n      <td>0.000139</td>\n      <td>0.000000e+00</td>\n      <td>7.908444e+07</td>\n      <td>0.000000</td>\n      <td>0.0</td>\n      <td>1140.688872</td>\n    </tr>\n    <tr>\n      <th>66998</th>\n      <td>0.000000e+00</td>\n      <td>1.352742e+08</td>\n      <td>0.000000</td>\n      <td>0.0</td>\n      <td>2.160669e+08</td>\n      <td>0.0</td>\n      <td>4.829867e+06</td>\n      <td>4.871687e+07</td>\n      <td>0.001320</td>\n      <td>3.099803e+06</td>\n      <td>7.332080e+06</td>\n      <td>0.000227</td>\n      <td>0.000000e+00</td>\n      <td>7.908444e+07</td>\n      <td>0.000000</td>\n      <td>0.0</td>\n      <td>438.029693</td>\n    </tr>\n    <tr>\n      <th>66999</th>\n      <td>0.000000e+00</td>\n      <td>1.352742e+08</td>\n      <td>0.000000</td>\n      <td>0.0</td>\n      <td>2.160669e+08</td>\n      <td>0.0</td>\n      <td>0.000000e+00</td>\n      <td>4.871687e+07</td>\n      <td>0.000000</td>\n      <td>7.691441e+07</td>\n      <td>7.332080e+06</td>\n      <td>0.004653</td>\n      <td>0.000000e+00</td>\n      <td>7.908444e+07</td>\n      <td>0.000000</td>\n      <td>0.0</td>\n      <td>6003.740298</td>\n    </tr>\n  </tbody>\n</table>\n<p>67000 rows × 17 columns</p>\n</div>"
     },
     "execution_count": 71,
     "metadata": {},
     "output_type": "execute_result"
    }
   ],
   "source": [
    "experiments, outcomes = uncertainty_results_run\n",
    "\n",
    "results_df = pd.DataFrame()\n",
    "for k in outcomes:\n",
    "    test_list = []\n",
    "    for i in range(len(experiments)):\n",
    "        t = outcomes[k][i].sum()\n",
    "        test_list.append(t)\n",
    "    results_df[k]=test_list\n",
    "\n",
    "results_df"
   ],
   "metadata": {
    "collapsed": false,
    "ExecuteTime": {
     "end_time": "2023-06-21T09:14:34.724941900Z",
     "start_time": "2023-06-21T09:14:31.596938100Z"
    }
   }
  },
  {
   "cell_type": "code",
   "execution_count": 72,
   "outputs": [
    {
     "data": {
      "text/plain": "       A.1_Expected Annual Damage  A.1_Dike Investment Costs   \n0                    0.000000e+00               1.422000e+08  \\\n1                    0.000000e+00               1.422000e+08   \n2                    0.000000e+00               1.422000e+08   \n3                    0.000000e+00               1.422000e+08   \n4                    0.000000e+00               1.422000e+08   \n...                           ...                        ...   \n66995                0.000000e+00               1.352742e+08   \n66996                0.000000e+00               1.352742e+08   \n66997                4.610411e+07               1.352742e+08   \n66998                0.000000e+00               1.352742e+08   \n66999                0.000000e+00               1.352742e+08   \n\n       A.2_Expected Annual Damage  A.2_Dike Investment Costs   \n0                             0.0               2.343025e+08  \\\n1                             0.0               2.343025e+08   \n2                             0.0               2.343025e+08   \n3                             0.0               2.343025e+08   \n4                             0.0               2.343025e+08   \n...                           ...                        ...   \n66995                         0.0               2.160669e+08   \n66996                         0.0               2.160669e+08   \n66997                         0.0               2.160669e+08   \n66998                         0.0               2.160669e+08   \n66999                         0.0               2.160669e+08   \n\n       A.3_Expected Annual Damage  A.3_Dike Investment Costs   \n0                    2.598958e+08               4.962273e+07  \\\n1                    2.007740e+07               4.962273e+07   \n2                    2.169477e+07               4.962273e+07   \n3                    1.138822e+08               4.962273e+07   \n4                    2.680297e+08               4.962273e+07   \n...                           ...                        ...   \n66995                2.618213e+07               4.871687e+07   \n66996                2.509358e+07               4.871687e+07   \n66997                0.000000e+00               4.871687e+07   \n66998                4.829867e+06               4.871687e+07   \n66999                0.000000e+00               4.871687e+07   \n\n       A.4_Expected Annual Damage  A.4_Dike Investment Costs   \n0                    0.000000e+00               1.106877e+07  \\\n1                    0.000000e+00               1.106877e+07   \n2                    0.000000e+00               1.106877e+07   \n3                    0.000000e+00               1.106877e+07   \n4                    0.000000e+00               1.106877e+07   \n...                           ...                        ...   \n66995                1.605862e+06               7.332080e+06   \n66996                7.452276e+06               7.332080e+06   \n66997                1.455608e+06               7.332080e+06   \n66998                3.099803e+06               7.332080e+06   \n66999                7.691441e+07               7.332080e+06   \n\n       A.5_Expected Annual Damage  A.5_Dike Investment Costs  RfR Total Costs   \n0                    0.000000e+00               7.258061e+07      121200000.0  \\\n1                    0.000000e+00               7.258061e+07      121200000.0   \n2                    0.000000e+00               7.258061e+07      121200000.0   \n3                    0.000000e+00               7.258061e+07      121200000.0   \n4                    0.000000e+00               7.258061e+07      121200000.0   \n...                           ...                        ...              ...   \n66995                4.768190e+07               7.908444e+07              0.0   \n66996                0.000000e+00               7.908444e+07              0.0   \n66997                0.000000e+00               7.908444e+07              0.0   \n66998                0.000000e+00               7.908444e+07              0.0   \n66999                0.000000e+00               7.908444e+07              0.0   \n\n       Expected Evacuation Costs  A.1_Deaths_Cost  A.2_Deaths_Cost   \n0                    7440.699768         0.000000              0.0  \\\n1                     529.613015         0.000000              0.0   \n2                    1131.697699         0.000000              0.0   \n3                    3997.055938         0.000000              0.0   \n4                   12299.407927         0.000000              0.0   \n...                          ...              ...              ...   \n66995                5617.388654         0.000000              0.0   \n66996                2236.872345         0.000000              0.0   \n66997                1140.688872     35518.629332              0.0   \n66998                 438.029693         0.000000              0.0   \n66999                6003.740298         0.000000              0.0   \n\n       A.3_Deaths_Cost  A.4_Deaths_Cost  A.5_Deaths_Cost  \n0        322971.446503         0.000000         0.000000  \n1         25938.556696         0.000000         0.000000  \n2         54763.469958         0.000000         0.000000  \n3        181533.542707         0.000000         0.000000  \n4        527180.556318         0.000000         0.000000  \n...                ...              ...              ...  \n66995     49677.442362       827.562598     43359.905646  \n66996     50151.312206      4283.788780         0.000000  \n66997         0.000000       874.937299         0.000000  \n66998      8316.725584      1432.709180         0.000000  \n66999         0.000000     29316.585422         0.000000  \n\n[67000 rows x 17 columns]",
      "text/html": "<div>\n<style scoped>\n    .dataframe tbody tr th:only-of-type {\n        vertical-align: middle;\n    }\n\n    .dataframe tbody tr th {\n        vertical-align: top;\n    }\n\n    .dataframe thead th {\n        text-align: right;\n    }\n</style>\n<table border=\"1\" class=\"dataframe\">\n  <thead>\n    <tr style=\"text-align: right;\">\n      <th></th>\n      <th>A.1_Expected Annual Damage</th>\n      <th>A.1_Dike Investment Costs</th>\n      <th>A.2_Expected Annual Damage</th>\n      <th>A.2_Dike Investment Costs</th>\n      <th>A.3_Expected Annual Damage</th>\n      <th>A.3_Dike Investment Costs</th>\n      <th>A.4_Expected Annual Damage</th>\n      <th>A.4_Dike Investment Costs</th>\n      <th>A.5_Expected Annual Damage</th>\n      <th>A.5_Dike Investment Costs</th>\n      <th>RfR Total Costs</th>\n      <th>Expected Evacuation Costs</th>\n      <th>A.1_Deaths_Cost</th>\n      <th>A.2_Deaths_Cost</th>\n      <th>A.3_Deaths_Cost</th>\n      <th>A.4_Deaths_Cost</th>\n      <th>A.5_Deaths_Cost</th>\n    </tr>\n  </thead>\n  <tbody>\n    <tr>\n      <th>0</th>\n      <td>0.000000e+00</td>\n      <td>1.422000e+08</td>\n      <td>0.0</td>\n      <td>2.343025e+08</td>\n      <td>2.598958e+08</td>\n      <td>4.962273e+07</td>\n      <td>0.000000e+00</td>\n      <td>1.106877e+07</td>\n      <td>0.000000e+00</td>\n      <td>7.258061e+07</td>\n      <td>121200000.0</td>\n      <td>7440.699768</td>\n      <td>0.000000</td>\n      <td>0.0</td>\n      <td>322971.446503</td>\n      <td>0.000000</td>\n      <td>0.000000</td>\n    </tr>\n    <tr>\n      <th>1</th>\n      <td>0.000000e+00</td>\n      <td>1.422000e+08</td>\n      <td>0.0</td>\n      <td>2.343025e+08</td>\n      <td>2.007740e+07</td>\n      <td>4.962273e+07</td>\n      <td>0.000000e+00</td>\n      <td>1.106877e+07</td>\n      <td>0.000000e+00</td>\n      <td>7.258061e+07</td>\n      <td>121200000.0</td>\n      <td>529.613015</td>\n      <td>0.000000</td>\n      <td>0.0</td>\n      <td>25938.556696</td>\n      <td>0.000000</td>\n      <td>0.000000</td>\n    </tr>\n    <tr>\n      <th>2</th>\n      <td>0.000000e+00</td>\n      <td>1.422000e+08</td>\n      <td>0.0</td>\n      <td>2.343025e+08</td>\n      <td>2.169477e+07</td>\n      <td>4.962273e+07</td>\n      <td>0.000000e+00</td>\n      <td>1.106877e+07</td>\n      <td>0.000000e+00</td>\n      <td>7.258061e+07</td>\n      <td>121200000.0</td>\n      <td>1131.697699</td>\n      <td>0.000000</td>\n      <td>0.0</td>\n      <td>54763.469958</td>\n      <td>0.000000</td>\n      <td>0.000000</td>\n    </tr>\n    <tr>\n      <th>3</th>\n      <td>0.000000e+00</td>\n      <td>1.422000e+08</td>\n      <td>0.0</td>\n      <td>2.343025e+08</td>\n      <td>1.138822e+08</td>\n      <td>4.962273e+07</td>\n      <td>0.000000e+00</td>\n      <td>1.106877e+07</td>\n      <td>0.000000e+00</td>\n      <td>7.258061e+07</td>\n      <td>121200000.0</td>\n      <td>3997.055938</td>\n      <td>0.000000</td>\n      <td>0.0</td>\n      <td>181533.542707</td>\n      <td>0.000000</td>\n      <td>0.000000</td>\n    </tr>\n    <tr>\n      <th>4</th>\n      <td>0.000000e+00</td>\n      <td>1.422000e+08</td>\n      <td>0.0</td>\n      <td>2.343025e+08</td>\n      <td>2.680297e+08</td>\n      <td>4.962273e+07</td>\n      <td>0.000000e+00</td>\n      <td>1.106877e+07</td>\n      <td>0.000000e+00</td>\n      <td>7.258061e+07</td>\n      <td>121200000.0</td>\n      <td>12299.407927</td>\n      <td>0.000000</td>\n      <td>0.0</td>\n      <td>527180.556318</td>\n      <td>0.000000</td>\n      <td>0.000000</td>\n    </tr>\n    <tr>\n      <th>...</th>\n      <td>...</td>\n      <td>...</td>\n      <td>...</td>\n      <td>...</td>\n      <td>...</td>\n      <td>...</td>\n      <td>...</td>\n      <td>...</td>\n      <td>...</td>\n      <td>...</td>\n      <td>...</td>\n      <td>...</td>\n      <td>...</td>\n      <td>...</td>\n      <td>...</td>\n      <td>...</td>\n      <td>...</td>\n    </tr>\n    <tr>\n      <th>66995</th>\n      <td>0.000000e+00</td>\n      <td>1.352742e+08</td>\n      <td>0.0</td>\n      <td>2.160669e+08</td>\n      <td>2.618213e+07</td>\n      <td>4.871687e+07</td>\n      <td>1.605862e+06</td>\n      <td>7.332080e+06</td>\n      <td>4.768190e+07</td>\n      <td>7.908444e+07</td>\n      <td>0.0</td>\n      <td>5617.388654</td>\n      <td>0.000000</td>\n      <td>0.0</td>\n      <td>49677.442362</td>\n      <td>827.562598</td>\n      <td>43359.905646</td>\n    </tr>\n    <tr>\n      <th>66996</th>\n      <td>0.000000e+00</td>\n      <td>1.352742e+08</td>\n      <td>0.0</td>\n      <td>2.160669e+08</td>\n      <td>2.509358e+07</td>\n      <td>4.871687e+07</td>\n      <td>7.452276e+06</td>\n      <td>7.332080e+06</td>\n      <td>0.000000e+00</td>\n      <td>7.908444e+07</td>\n      <td>0.0</td>\n      <td>2236.872345</td>\n      <td>0.000000</td>\n      <td>0.0</td>\n      <td>50151.312206</td>\n      <td>4283.788780</td>\n      <td>0.000000</td>\n    </tr>\n    <tr>\n      <th>66997</th>\n      <td>4.610411e+07</td>\n      <td>1.352742e+08</td>\n      <td>0.0</td>\n      <td>2.160669e+08</td>\n      <td>0.000000e+00</td>\n      <td>4.871687e+07</td>\n      <td>1.455608e+06</td>\n      <td>7.332080e+06</td>\n      <td>0.000000e+00</td>\n      <td>7.908444e+07</td>\n      <td>0.0</td>\n      <td>1140.688872</td>\n      <td>35518.629332</td>\n      <td>0.0</td>\n      <td>0.000000</td>\n      <td>874.937299</td>\n      <td>0.000000</td>\n    </tr>\n    <tr>\n      <th>66998</th>\n      <td>0.000000e+00</td>\n      <td>1.352742e+08</td>\n      <td>0.0</td>\n      <td>2.160669e+08</td>\n      <td>4.829867e+06</td>\n      <td>4.871687e+07</td>\n      <td>3.099803e+06</td>\n      <td>7.332080e+06</td>\n      <td>0.000000e+00</td>\n      <td>7.908444e+07</td>\n      <td>0.0</td>\n      <td>438.029693</td>\n      <td>0.000000</td>\n      <td>0.0</td>\n      <td>8316.725584</td>\n      <td>1432.709180</td>\n      <td>0.000000</td>\n    </tr>\n    <tr>\n      <th>66999</th>\n      <td>0.000000e+00</td>\n      <td>1.352742e+08</td>\n      <td>0.0</td>\n      <td>2.160669e+08</td>\n      <td>0.000000e+00</td>\n      <td>4.871687e+07</td>\n      <td>7.691441e+07</td>\n      <td>7.332080e+06</td>\n      <td>0.000000e+00</td>\n      <td>7.908444e+07</td>\n      <td>0.0</td>\n      <td>6003.740298</td>\n      <td>0.000000</td>\n      <td>0.0</td>\n      <td>0.000000</td>\n      <td>29316.585422</td>\n      <td>0.000000</td>\n    </tr>\n  </tbody>\n</table>\n<p>67000 rows × 17 columns</p>\n</div>"
     },
     "execution_count": 72,
     "metadata": {},
     "output_type": "execute_result"
    }
   ],
   "source": [
    "death_cost_per_person = 6_300_000\n",
    "\n",
    "# calculate the cost of death so every column has the same unit (€)\n",
    "results_df[\"A.1_Deaths_Cost\"]=results_df[\"A.1_Expected Number of Deaths\"]*death_cost_per_person\n",
    "results_df[\"A.2_Deaths_Cost\"]=results_df[\"A.2_Expected Number of Deaths\"]*death_cost_per_person\n",
    "results_df[\"A.3_Deaths_Cost\"]=results_df[\"A.3_Expected Number of Deaths\"]*death_cost_per_person\n",
    "results_df[\"A.4_Deaths_Cost\"]=results_df[\"A.4_Expected Number of Deaths\"]*death_cost_per_person\n",
    "results_df[\"A.5_Deaths_Cost\"]=results_df[\"A.5_Expected Number of Deaths\"]*death_cost_per_person\n",
    "\n",
    "to_drop = [\"A.1_Expected Number of Deaths\",\"A.2_Expected Number of Deaths\",\"A.3_Expected Number of Deaths\",\"A.4_Expected Number of Deaths\",\"A.5_Expected Number of Deaths\"]\n",
    "\n",
    "results_df.drop(to_drop, axis=1, inplace=True)\n",
    "# results_df['total_cost[€]']= results_df.sum(axis=1)\n",
    "\n",
    "results_df"
   ],
   "metadata": {
    "collapsed": false,
    "ExecuteTime": {
     "end_time": "2023-06-21T09:14:34.816640900Z",
     "start_time": "2023-06-21T09:14:34.725940800Z"
    }
   }
  },
  {
   "cell_type": "markdown",
   "source": [
    "### Gelderland - Overijssel Split"
   ],
   "metadata": {
    "collapsed": false
   }
  },
  {
   "cell_type": "code",
   "execution_count": 73,
   "outputs": [],
   "source": [
    "def combine_columns_province(dataframe, name):\n",
    "    combined_columns_gelderland = []\n",
    "    combined_columns_overijssel = []\n",
    "    for x in dataframe.columns:\n",
    "        if name in x:\n",
    "            if x.startswith('A.1') or x.startswith('A.2') or x.startswith('A.3'):\n",
    "                combined_columns_gelderland.append(x)\n",
    "            if x.startswith('A.4') or x.startswith('A.5'):\n",
    "                combined_columns_overijssel.append(x)\n",
    "\n",
    "\n",
    "    dataframe['Total ' + str(name) + ' Gelderland'] = dataframe[combined_columns_gelderland].sum(axis=1)\n",
    "    dataframe['Total ' + str(name) + ' Overijssel'] = dataframe[combined_columns_overijssel].sum(axis=1)\n"
   ],
   "metadata": {
    "collapsed": false,
    "ExecuteTime": {
     "end_time": "2023-06-21T09:14:38.199477300Z",
     "start_time": "2023-06-21T09:14:38.189303600Z"
    }
   }
  },
  {
   "cell_type": "code",
   "execution_count": 74,
   "outputs": [],
   "source": [
    "provinces = results_df.copy()\n",
    "\n",
    "combine_columns_province(provinces, 'Expected Annual Damage')\n",
    "combine_columns_province(provinces, 'Dike Investment Costs')\n",
    "combine_columns_province(provinces, 'Deaths_Cost')\n",
    "#combine_columns_province(provinces, 'RfR Total Costs')\n",
    "#combine_columns_province(provinces, 'Expected Evacuation Costs')"
   ],
   "metadata": {
    "collapsed": false,
    "ExecuteTime": {
     "end_time": "2023-06-21T09:14:39.619225900Z",
     "start_time": "2023-06-21T09:14:39.561269400Z"
    }
   }
  },
  {
   "cell_type": "code",
   "execution_count": 93,
   "outputs": [
    {
     "data": {
      "text/plain": "       RfR Total Costs  Expected Evacuation Costs   \n0          121200000.0                7440.699768  \\\n1          121200000.0                 529.613015   \n2          121200000.0                1131.697699   \n3          121200000.0                3997.055938   \n4          121200000.0               12299.407927   \n...                ...                        ...   \n66995              0.0                5617.388654   \n66996              0.0                2236.872345   \n66997              0.0                1140.688872   \n66998              0.0                 438.029693   \n66999              0.0                6003.740298   \n\n       Total Expected Annual Damage Gelderland   \n0                                 2.598958e+08  \\\n1                                 2.007740e+07   \n2                                 2.169477e+07   \n3                                 1.138822e+08   \n4                                 2.680297e+08   \n...                                        ...   \n66995                             2.618213e+07   \n66996                             2.509358e+07   \n66997                             4.610411e+07   \n66998                             4.829867e+06   \n66999                             0.000000e+00   \n\n       Total Expected Annual Damage Overijssel   \n0                                 0.000000e+00  \\\n1                                 0.000000e+00   \n2                                 0.000000e+00   \n3                                 0.000000e+00   \n4                                 0.000000e+00   \n...                                        ...   \n66995                             4.928776e+07   \n66996                             7.452276e+06   \n66997                             1.455608e+06   \n66998                             3.099803e+06   \n66999                             7.691441e+07   \n\n       Total Dike Investment Costs Gelderland   \n0                                4.261252e+08  \\\n1                                4.261252e+08   \n2                                4.261252e+08   \n3                                4.261252e+08   \n4                                4.261252e+08   \n...                                       ...   \n66995                            4.000580e+08   \n66996                            4.000580e+08   \n66997                            4.000580e+08   \n66998                            4.000580e+08   \n66999                            4.000580e+08   \n\n       Total Dike Investment Costs Overijssel  Total Deaths_Cost Gelderland   \n0                                8.364938e+07                 322971.446503  \\\n1                                8.364938e+07                  25938.556696   \n2                                8.364938e+07                  54763.469958   \n3                                8.364938e+07                 181533.542707   \n4                                8.364938e+07                 527180.556318   \n...                                       ...                           ...   \n66995                            8.641652e+07                  49677.442362   \n66996                            8.641652e+07                  50151.312206   \n66997                            8.641652e+07                  35518.629332   \n66998                            8.641652e+07                   8316.725584   \n66999                            8.641652e+07                      0.000000   \n\n       Total Deaths_Cost Overijssel  total_cost[€]  total_cost[€]_overijssel  \n0                          0.000000   8.912008e+08              2.048568e+08  \n1                          0.000000   6.510785e+08              2.048499e+08  \n2                          0.000000   6.527253e+08              2.048505e+08  \n3                          0.000000   7.450423e+08              2.048534e+08  \n4                          0.000000   8.995438e+08              2.048617e+08  \n...                             ...            ...                       ...  \n66995                  44187.468244   5.620439e+08              1.357541e+08  \n66996                   4283.788780   5.190771e+08              9.387531e+07  \n66997                    874.937299   5.340718e+08              8.787414e+07  \n66998                   1432.709180   4.944144e+08              8.951819e+07  \n66999                  29316.585422   5.634242e+08              1.633662e+08  \n\n[67000 rows x 10 columns]",
      "text/html": "<div>\n<style scoped>\n    .dataframe tbody tr th:only-of-type {\n        vertical-align: middle;\n    }\n\n    .dataframe tbody tr th {\n        vertical-align: top;\n    }\n\n    .dataframe thead th {\n        text-align: right;\n    }\n</style>\n<table border=\"1\" class=\"dataframe\">\n  <thead>\n    <tr style=\"text-align: right;\">\n      <th></th>\n      <th>RfR Total Costs</th>\n      <th>Expected Evacuation Costs</th>\n      <th>Total Expected Annual Damage Gelderland</th>\n      <th>Total Expected Annual Damage Overijssel</th>\n      <th>Total Dike Investment Costs Gelderland</th>\n      <th>Total Dike Investment Costs Overijssel</th>\n      <th>Total Deaths_Cost Gelderland</th>\n      <th>Total Deaths_Cost Overijssel</th>\n      <th>total_cost[€]</th>\n      <th>total_cost[€]_overijssel</th>\n    </tr>\n  </thead>\n  <tbody>\n    <tr>\n      <th>0</th>\n      <td>121200000.0</td>\n      <td>7440.699768</td>\n      <td>2.598958e+08</td>\n      <td>0.000000e+00</td>\n      <td>4.261252e+08</td>\n      <td>8.364938e+07</td>\n      <td>322971.446503</td>\n      <td>0.000000</td>\n      <td>8.912008e+08</td>\n      <td>2.048568e+08</td>\n    </tr>\n    <tr>\n      <th>1</th>\n      <td>121200000.0</td>\n      <td>529.613015</td>\n      <td>2.007740e+07</td>\n      <td>0.000000e+00</td>\n      <td>4.261252e+08</td>\n      <td>8.364938e+07</td>\n      <td>25938.556696</td>\n      <td>0.000000</td>\n      <td>6.510785e+08</td>\n      <td>2.048499e+08</td>\n    </tr>\n    <tr>\n      <th>2</th>\n      <td>121200000.0</td>\n      <td>1131.697699</td>\n      <td>2.169477e+07</td>\n      <td>0.000000e+00</td>\n      <td>4.261252e+08</td>\n      <td>8.364938e+07</td>\n      <td>54763.469958</td>\n      <td>0.000000</td>\n      <td>6.527253e+08</td>\n      <td>2.048505e+08</td>\n    </tr>\n    <tr>\n      <th>3</th>\n      <td>121200000.0</td>\n      <td>3997.055938</td>\n      <td>1.138822e+08</td>\n      <td>0.000000e+00</td>\n      <td>4.261252e+08</td>\n      <td>8.364938e+07</td>\n      <td>181533.542707</td>\n      <td>0.000000</td>\n      <td>7.450423e+08</td>\n      <td>2.048534e+08</td>\n    </tr>\n    <tr>\n      <th>4</th>\n      <td>121200000.0</td>\n      <td>12299.407927</td>\n      <td>2.680297e+08</td>\n      <td>0.000000e+00</td>\n      <td>4.261252e+08</td>\n      <td>8.364938e+07</td>\n      <td>527180.556318</td>\n      <td>0.000000</td>\n      <td>8.995438e+08</td>\n      <td>2.048617e+08</td>\n    </tr>\n    <tr>\n      <th>...</th>\n      <td>...</td>\n      <td>...</td>\n      <td>...</td>\n      <td>...</td>\n      <td>...</td>\n      <td>...</td>\n      <td>...</td>\n      <td>...</td>\n      <td>...</td>\n      <td>...</td>\n    </tr>\n    <tr>\n      <th>66995</th>\n      <td>0.0</td>\n      <td>5617.388654</td>\n      <td>2.618213e+07</td>\n      <td>4.928776e+07</td>\n      <td>4.000580e+08</td>\n      <td>8.641652e+07</td>\n      <td>49677.442362</td>\n      <td>44187.468244</td>\n      <td>5.620439e+08</td>\n      <td>1.357541e+08</td>\n    </tr>\n    <tr>\n      <th>66996</th>\n      <td>0.0</td>\n      <td>2236.872345</td>\n      <td>2.509358e+07</td>\n      <td>7.452276e+06</td>\n      <td>4.000580e+08</td>\n      <td>8.641652e+07</td>\n      <td>50151.312206</td>\n      <td>4283.788780</td>\n      <td>5.190771e+08</td>\n      <td>9.387531e+07</td>\n    </tr>\n    <tr>\n      <th>66997</th>\n      <td>0.0</td>\n      <td>1140.688872</td>\n      <td>4.610411e+07</td>\n      <td>1.455608e+06</td>\n      <td>4.000580e+08</td>\n      <td>8.641652e+07</td>\n      <td>35518.629332</td>\n      <td>874.937299</td>\n      <td>5.340718e+08</td>\n      <td>8.787414e+07</td>\n    </tr>\n    <tr>\n      <th>66998</th>\n      <td>0.0</td>\n      <td>438.029693</td>\n      <td>4.829867e+06</td>\n      <td>3.099803e+06</td>\n      <td>4.000580e+08</td>\n      <td>8.641652e+07</td>\n      <td>8316.725584</td>\n      <td>1432.709180</td>\n      <td>4.944144e+08</td>\n      <td>8.951819e+07</td>\n    </tr>\n    <tr>\n      <th>66999</th>\n      <td>0.0</td>\n      <td>6003.740298</td>\n      <td>0.000000e+00</td>\n      <td>7.691441e+07</td>\n      <td>4.000580e+08</td>\n      <td>8.641652e+07</td>\n      <td>0.000000</td>\n      <td>29316.585422</td>\n      <td>5.634242e+08</td>\n      <td>1.633662e+08</td>\n    </tr>\n  </tbody>\n</table>\n<p>67000 rows × 10 columns</p>\n</div>"
     },
     "execution_count": 93,
     "metadata": {},
     "output_type": "execute_result"
    }
   ],
   "source": [
    "aggregated_outcomes_provinces = pd.concat([experiments[['scenario','policy']],provinces], axis=1).iloc[:,2:]\n",
    "\n",
    "for x in aggregated_outcomes_provinces.columns:\n",
    "\n",
    "        if x.startswith('A.1') or x.startswith('A.2') or x.startswith('A.3') or x.startswith('A.4') or x.startswith('A.5'):\n",
    "            aggregated_outcomes_provinces.drop(x, axis=1, inplace=True)\n",
    "        else:\n",
    "            pass\n",
    "\n",
    "aggregated_outcomes_provinces['total_cost[€]']= aggregated_outcomes_provinces.sum(axis=1)\n",
    "overijssel_sum = ['RfR Total Costs','Expected Evacuation Costs','Total Expected Annual Damage Overijssel','Total Dike Investment Costs Overijssel','Total Deaths_Cost Overijssel']\n",
    "aggregated_outcomes_provinces['total_cost[€]_overijssel']= aggregated_outcomes_provinces.loc[:,overijssel_sum].sum(axis=1)\n",
    "\n",
    "#with open(r'../generated_datasets/policy_uncertainty_provinces.pkl', 'wb') as file_pi:\n",
    " #   pickle.dump(aggregated_outcomes_provinces, file_pi)\n",
    "aggregated_outcomes_provinces"
   ],
   "metadata": {
    "collapsed": false,
    "ExecuteTime": {
     "end_time": "2023-06-21T09:24:31.210172300Z",
     "start_time": "2023-06-21T09:24:31.108897Z"
    }
   }
  },
  {
   "cell_type": "markdown",
   "source": [
    "### Generate outcome optimal for Overijssel"
   ],
   "metadata": {
    "collapsed": false
   }
  },
  {
   "cell_type": "code",
   "execution_count": 96,
   "outputs": [
    {
     "data": {
      "text/plain": "       RfR Total Costs  Expected Evacuation Costs   \n10153              0.0                        0.0  \\\n10004              0.0                        0.0   \n10718              0.0                        0.0   \n10717              0.0                        0.0   \n10942              0.0                        0.0   \n\n       Total Expected Annual Damage Gelderland   \n10153                             1.466074e+09  \\\n10004                             7.806502e+08   \n10718                             1.774258e+09   \n10717                             1.229246e+09   \n10942                             2.527842e+09   \n\n       Total Expected Annual Damage Overijssel   \n10153                                      0.0  \\\n10004                                      0.0   \n10718                                      0.0   \n10717                                      0.0   \n10942                                      0.0   \n\n       Total Dike Investment Costs Gelderland   \n10153                            2.399554e+08  \\\n10004                            2.399554e+08   \n10718                            2.399554e+08   \n10717                            2.399554e+08   \n10942                            2.399554e+08   \n\n       Total Dike Investment Costs Overijssel  Total Deaths_Cost Gelderland   \n10153                                     0.0                  1.808713e+07  \\\n10004                                     0.0                  9.854233e+06   \n10718                                     0.0                  1.769794e+07   \n10717                                     0.0                  1.794797e+07   \n10942                                     0.0                  1.251653e+07   \n\n       Total Deaths_Cost Overijssel  total_cost[€]  total_cost[€]_overijssel  \n10153                           0.0   1.724117e+09                       0.0  \n10004                           0.0   1.030460e+09                       0.0  \n10718                           0.0   2.031912e+09                       0.0  \n10717                           0.0   1.487149e+09                       0.0  \n10942                           0.0   2.780314e+09                       0.0  ",
      "text/html": "<div>\n<style scoped>\n    .dataframe tbody tr th:only-of-type {\n        vertical-align: middle;\n    }\n\n    .dataframe tbody tr th {\n        vertical-align: top;\n    }\n\n    .dataframe thead th {\n        text-align: right;\n    }\n</style>\n<table border=\"1\" class=\"dataframe\">\n  <thead>\n    <tr style=\"text-align: right;\">\n      <th></th>\n      <th>RfR Total Costs</th>\n      <th>Expected Evacuation Costs</th>\n      <th>Total Expected Annual Damage Gelderland</th>\n      <th>Total Expected Annual Damage Overijssel</th>\n      <th>Total Dike Investment Costs Gelderland</th>\n      <th>Total Dike Investment Costs Overijssel</th>\n      <th>Total Deaths_Cost Gelderland</th>\n      <th>Total Deaths_Cost Overijssel</th>\n      <th>total_cost[€]</th>\n      <th>total_cost[€]_overijssel</th>\n    </tr>\n  </thead>\n  <tbody>\n    <tr>\n      <th>10153</th>\n      <td>0.0</td>\n      <td>0.0</td>\n      <td>1.466074e+09</td>\n      <td>0.0</td>\n      <td>2.399554e+08</td>\n      <td>0.0</td>\n      <td>1.808713e+07</td>\n      <td>0.0</td>\n      <td>1.724117e+09</td>\n      <td>0.0</td>\n    </tr>\n    <tr>\n      <th>10004</th>\n      <td>0.0</td>\n      <td>0.0</td>\n      <td>7.806502e+08</td>\n      <td>0.0</td>\n      <td>2.399554e+08</td>\n      <td>0.0</td>\n      <td>9.854233e+06</td>\n      <td>0.0</td>\n      <td>1.030460e+09</td>\n      <td>0.0</td>\n    </tr>\n    <tr>\n      <th>10718</th>\n      <td>0.0</td>\n      <td>0.0</td>\n      <td>1.774258e+09</td>\n      <td>0.0</td>\n      <td>2.399554e+08</td>\n      <td>0.0</td>\n      <td>1.769794e+07</td>\n      <td>0.0</td>\n      <td>2.031912e+09</td>\n      <td>0.0</td>\n    </tr>\n    <tr>\n      <th>10717</th>\n      <td>0.0</td>\n      <td>0.0</td>\n      <td>1.229246e+09</td>\n      <td>0.0</td>\n      <td>2.399554e+08</td>\n      <td>0.0</td>\n      <td>1.794797e+07</td>\n      <td>0.0</td>\n      <td>1.487149e+09</td>\n      <td>0.0</td>\n    </tr>\n    <tr>\n      <th>10942</th>\n      <td>0.0</td>\n      <td>0.0</td>\n      <td>2.527842e+09</td>\n      <td>0.0</td>\n      <td>2.399554e+08</td>\n      <td>0.0</td>\n      <td>1.251653e+07</td>\n      <td>0.0</td>\n      <td>2.780314e+09</td>\n      <td>0.0</td>\n    </tr>\n  </tbody>\n</table>\n</div>"
     },
     "execution_count": 96,
     "metadata": {},
     "output_type": "execute_result"
    }
   ],
   "source": [
    "n_scenarios_of_interest = 5\n",
    "\n",
    "results_of_interest = aggregated_outcomes_provinces.sort_values(by='total_cost[€]_overijssel', ascending=True).head(n_scenarios_of_interest)\n",
    "\n",
    "with open(r'..\\generated_datasets\\final_policies_overijssel.pkl','wb') as pickle_file:\n",
    "    pickle.dump(results_of_interest, pickle_file)\n",
    "\n",
    "results_of_interest"
   ],
   "metadata": {
    "collapsed": false,
    "ExecuteTime": {
     "end_time": "2023-06-21T09:33:49.278572400Z",
     "start_time": "2023-06-21T09:33:49.243367700Z"
    }
   }
  },
  {
   "cell_type": "markdown",
   "source": [
    "### Generate outcome optimal for Gelderland and Overijssel combined."
   ],
   "metadata": {
    "collapsed": false
   }
  },
  {
   "cell_type": "code",
   "execution_count": 97,
   "outputs": [
    {
     "data": {
      "text/plain": "       RfR Total Costs  Expected Evacuation Costs   \n46168              0.0                1091.291595  \\\n46279              0.0                1031.516199   \n46099              0.0                1547.899340   \n46162              0.0                1514.935674   \n46468              0.0                2204.888753   \n\n       Total Expected Annual Damage Gelderland   \n46168                             5.996380e+06  \\\n46279                             1.359283e+07   \n46099                             1.040607e+07   \n46162                             1.686334e+07   \n46468                             1.354374e+07   \n\n       Total Expected Annual Damage Overijssel   \n46168                             1.259604e+07  \\\n46279                             1.500558e+07   \n46099                             1.963150e+07   \n46162                             1.922814e+07   \n46468                             2.326346e+07   \n\n       Total Dike Investment Costs Gelderland   \n46168                            2.192581e+08  \\\n46279                            2.192581e+08   \n46099                            2.192581e+08   \n46162                            2.192581e+08   \n46468                            2.192581e+08   \n\n       Total Dike Investment Costs Overijssel  Total Deaths_Cost Gelderland   \n46168                                     0.0                  13130.164696  \\\n46279                                     0.0                   9379.099391   \n46099                                     0.0                  11660.359848   \n46162                                     0.0                  11557.108157   \n46468                                     0.0                  15023.981315   \n\n       Total Deaths_Cost Overijssel  total_cost[€]  total_cost[€]_overijssel  \n46168                   7226.065362   2.378719e+08              1.260436e+07  \n46279                   6215.012226   2.478731e+08              1.501282e+07  \n46099                   9365.151806   2.493182e+08              1.964241e+07  \n46162                  15437.227596   2.553780e+08              1.924509e+07  \n46468                  12454.073843   2.560949e+08              2.327812e+07  ",
      "text/html": "<div>\n<style scoped>\n    .dataframe tbody tr th:only-of-type {\n        vertical-align: middle;\n    }\n\n    .dataframe tbody tr th {\n        vertical-align: top;\n    }\n\n    .dataframe thead th {\n        text-align: right;\n    }\n</style>\n<table border=\"1\" class=\"dataframe\">\n  <thead>\n    <tr style=\"text-align: right;\">\n      <th></th>\n      <th>RfR Total Costs</th>\n      <th>Expected Evacuation Costs</th>\n      <th>Total Expected Annual Damage Gelderland</th>\n      <th>Total Expected Annual Damage Overijssel</th>\n      <th>Total Dike Investment Costs Gelderland</th>\n      <th>Total Dike Investment Costs Overijssel</th>\n      <th>Total Deaths_Cost Gelderland</th>\n      <th>Total Deaths_Cost Overijssel</th>\n      <th>total_cost[€]</th>\n      <th>total_cost[€]_overijssel</th>\n    </tr>\n  </thead>\n  <tbody>\n    <tr>\n      <th>46168</th>\n      <td>0.0</td>\n      <td>1091.291595</td>\n      <td>5.996380e+06</td>\n      <td>1.259604e+07</td>\n      <td>2.192581e+08</td>\n      <td>0.0</td>\n      <td>13130.164696</td>\n      <td>7226.065362</td>\n      <td>2.378719e+08</td>\n      <td>1.260436e+07</td>\n    </tr>\n    <tr>\n      <th>46279</th>\n      <td>0.0</td>\n      <td>1031.516199</td>\n      <td>1.359283e+07</td>\n      <td>1.500558e+07</td>\n      <td>2.192581e+08</td>\n      <td>0.0</td>\n      <td>9379.099391</td>\n      <td>6215.012226</td>\n      <td>2.478731e+08</td>\n      <td>1.501282e+07</td>\n    </tr>\n    <tr>\n      <th>46099</th>\n      <td>0.0</td>\n      <td>1547.899340</td>\n      <td>1.040607e+07</td>\n      <td>1.963150e+07</td>\n      <td>2.192581e+08</td>\n      <td>0.0</td>\n      <td>11660.359848</td>\n      <td>9365.151806</td>\n      <td>2.493182e+08</td>\n      <td>1.964241e+07</td>\n    </tr>\n    <tr>\n      <th>46162</th>\n      <td>0.0</td>\n      <td>1514.935674</td>\n      <td>1.686334e+07</td>\n      <td>1.922814e+07</td>\n      <td>2.192581e+08</td>\n      <td>0.0</td>\n      <td>11557.108157</td>\n      <td>15437.227596</td>\n      <td>2.553780e+08</td>\n      <td>1.924509e+07</td>\n    </tr>\n    <tr>\n      <th>46468</th>\n      <td>0.0</td>\n      <td>2204.888753</td>\n      <td>1.354374e+07</td>\n      <td>2.326346e+07</td>\n      <td>2.192581e+08</td>\n      <td>0.0</td>\n      <td>15023.981315</td>\n      <td>12454.073843</td>\n      <td>2.560949e+08</td>\n      <td>2.327812e+07</td>\n    </tr>\n  </tbody>\n</table>\n</div>"
     },
     "execution_count": 97,
     "metadata": {},
     "output_type": "execute_result"
    }
   ],
   "source": [
    "n_scenarios_of_interest = 5\n",
    "\n",
    "results_of_interest = aggregated_outcomes_provinces.sort_values(by='total_cost[€]', ascending=True).head(n_scenarios_of_interest)\n",
    "\n",
    "with open(r'..\\generated_datasets\\final_policies.pkl','wb') as pickle_file:\n",
    "    pickle.dump(results_of_interest, pickle_file)\n",
    "\n",
    "results_of_interest"
   ],
   "metadata": {
    "collapsed": false,
    "ExecuteTime": {
     "end_time": "2023-06-21T09:33:53.390125600Z",
     "start_time": "2023-06-21T09:33:53.352658Z"
    }
   }
  },
  {
   "cell_type": "markdown",
   "source": [
    "### PRIM"
   ],
   "metadata": {
    "collapsed": false
   }
  },
  {
   "cell_type": "code",
   "execution_count": 8,
   "outputs": [
    {
     "data": {
      "text/plain": "<Figure size 640x480 with 0 Axes>"
     },
     "metadata": {},
     "output_type": "display_data"
    },
    {
     "data": {
      "text/plain": "<Figure size 640x480 with 0 Axes>"
     },
     "metadata": {},
     "output_type": "display_data"
    },
    {
     "data": {
      "text/plain": "<Figure size 640x480 with 0 Axes>"
     },
     "metadata": {},
     "output_type": "display_data"
    },
    {
     "data": {
      "text/plain": "<Figure size 640x480 with 0 Axes>"
     },
     "metadata": {},
     "output_type": "display_data"
    },
    {
     "data": {
      "text/plain": "<Figure size 640x480 with 0 Axes>"
     },
     "metadata": {},
     "output_type": "display_data"
    }
   ],
   "source": [
    "x = experiments_and_results.iloc[:, :19]\n",
    "\n",
    "for var in aggregated_outcomes.iloc[:, 2:].columns:\n",
    "    var_path = str('../visualizations/Scenario_Discovery/policy_' + var + '_PRIM.png')\n",
    "    var2_path = str('../visualizations/Scenario_Discovery/policy_' + var + '_PRIM_inspect.png')\n",
    "\n",
    "    y_total_damage = aggregated_outcomes[var].values\n",
    "    y_total_damage = y_total_damage > np.percentile(y_total_damage, 75)\n",
    "\n",
    "    prim_alg_DAM = prim.Prim(x,\n",
    "                             y_total_damage,\n",
    "                             threshold=0.70,\n",
    "                             peel_alpha=0.05, )  # deze variabelen nog tweaken\n",
    "    box_DAM = prim_alg_DAM.find_box()\n",
    "\n",
    "    img = box_DAM.show_tradeoff()\n",
    "    plt.title(var)\n",
    "    fig = img.get_figure()\n",
    "    fig.savefig(var_path, bbox_inches='tight')\n",
    "    fig.clf()"
   ],
   "metadata": {
    "collapsed": false,
    "ExecuteTime": {
     "end_time": "2023-06-19T11:01:45.345020300Z",
     "start_time": "2023-06-19T11:01:37.826791700Z"
    }
   }
  },
  {
   "cell_type": "code",
   "execution_count": 3,
   "outputs": [],
   "source": [],
   "metadata": {
    "collapsed": false,
    "ExecuteTime": {
     "end_time": "2023-06-19T10:10:48.501528700Z",
     "start_time": "2023-06-19T10:10:48.496510100Z"
    }
   }
  }
 ],
 "metadata": {
  "kernelspec": {
   "display_name": "Python 3",
   "language": "python",
   "name": "python3"
  },
  "language_info": {
   "codemirror_mode": {
    "name": "ipython",
    "version": 2
   },
   "file_extension": ".py",
   "mimetype": "text/x-python",
   "name": "python",
   "nbconvert_exporter": "python",
   "pygments_lexer": "ipython2",
   "version": "2.7.6"
  }
 },
 "nbformat": 4,
 "nbformat_minor": 0
}
