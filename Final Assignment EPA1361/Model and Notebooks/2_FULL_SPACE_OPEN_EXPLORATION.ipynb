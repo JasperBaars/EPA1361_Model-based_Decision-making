{
 "cells": [
  {
   "cell_type": "code",
   "execution_count": 2,
   "metadata": {
    "collapsed": true,
    "ExecuteTime": {
     "end_time": "2023-06-14T07:03:34.507311700Z",
     "start_time": "2023-06-14T07:03:29.178944300Z"
    }
   },
   "outputs": [],
   "source": [
    "import numpy as np\n",
    "import scipy as sp\n",
    "import pandas as pd\n",
    "import matplotlib.pyplot as plt\n",
    "import seaborn as sns\n",
    "import networkx as nx\n",
    "\n",
    "from ema_workbench import (\n",
    "    Model,\n",
    "    Policy,\n",
    "    ema_logging,\n",
    "    SequentialEvaluator,\n",
    "    MultiprocessingEvaluator,\n",
    "    Samplers,\n",
    ")\n",
    "from dike_model_function import DikeNetwork  # @UnresolvedImport\n",
    "from problem_formulation import get_model_for_problem_formulation, sum_over, sum_over_time\n",
    "import pickle\n",
    "\n",
    "from ema_workbench.util import utilities\n",
    "from ema_workbench.analysis import prim, cart"
   ]
  },
  {
   "cell_type": "markdown",
   "source": [
    "Open exploration with a lot of scenarios and a lot of policies to understand full space"
   ],
   "metadata": {
    "collapsed": false
   }
  },
  {
   "cell_type": "code",
   "execution_count": 3,
   "outputs": [],
   "source": [
    "ema_logging.log_to_stderr(ema_logging.INFO)\n",
    "\n",
    "# initiate model instance\n",
    "dike_model, planning_steps = get_model_for_problem_formulation(3)"
   ],
   "metadata": {
    "collapsed": false,
    "ExecuteTime": {
     "end_time": "2023-06-14T07:03:35.282497600Z",
     "start_time": "2023-06-14T07:03:34.511316200Z"
    }
   }
  },
  {
   "cell_type": "code",
   "execution_count": 3,
   "outputs": [
    {
     "name": "stderr",
     "output_type": "stream",
     "text": [
      "[MainProcess/INFO] pool started with 12 workers\n",
      "[MainProcess/INFO] performing 500 scenarios * 100 policies * 1 model(s) = 50000 experiments\n",
      "100%|██████████████████████████████████| 50000/50000 [1:37:04<00:00,  8.58it/s]\n",
      "[MainProcess/INFO] experiments finished\n",
      "[MainProcess/INFO] terminating pool\n"
     ]
    }
   ],
   "source": [
    "# running the model through EMA workbench\n",
    "with MultiprocessingEvaluator(dike_model) as evaluator:\n",
    "    experiments, outcomes = evaluator.perform_experiments(scenarios=500,\n",
    "                                                          policies=100,\n",
    "                                                          uncertainty_sampling=Samplers.LHS)\n",
    "\n",
    "with open(r'generated_datasets\\open_exploration_500_100_p3_experiments.pkl','wb') as pickle_file:\n",
    "    pickle.dump(experiments, pickle_file)\n",
    "\n",
    "with open(r'generated_datasets\\open_exploration_500_100_p3_outcomes.pkl','wb') as pickle_file:\n",
    "    pickle.dump(outcomes, pickle_file)"
   ],
   "metadata": {
    "collapsed": false,
    "ExecuteTime": {
     "end_time": "2023-06-13T22:02:01.212770500Z",
     "start_time": "2023-06-13T20:24:11.937046500Z"
    }
   }
  },
  {
   "cell_type": "code",
   "execution_count": 22,
   "outputs": [],
   "source": [
    "outcomes_df = pd.DataFrame(pd.read_pickle(r'generated_datasets\\open_exploration_500_100_p3_outcomes.pkl'))\n",
    "experiments_df = pd.read_pickle(r'generated_datasets\\open_exploration_500_100_p3_experiments.pkl')"
   ],
   "metadata": {
    "collapsed": false,
    "ExecuteTime": {
     "end_time": "2023-06-14T07:09:05.370481600Z",
     "start_time": "2023-06-14T07:09:05.266512300Z"
    }
   }
  },
  {
   "cell_type": "markdown",
   "source": [
    "# Visualizations\n",
    "- histograms, means"
   ],
   "metadata": {
    "collapsed": false
   }
  },
  {
   "cell_type": "code",
   "execution_count": null,
   "outputs": [],
   "source": [],
   "metadata": {
    "collapsed": false
   }
  }
 ],
 "metadata": {
  "kernelspec": {
   "display_name": "Python 3",
   "language": "python",
   "name": "python3"
  },
  "language_info": {
   "codemirror_mode": {
    "name": "ipython",
    "version": 2
   },
   "file_extension": ".py",
   "mimetype": "text/x-python",
   "name": "python",
   "nbconvert_exporter": "python",
   "pygments_lexer": "ipython2",
   "version": "2.7.6"
  }
 },
 "nbformat": 4,
 "nbformat_minor": 0
}
