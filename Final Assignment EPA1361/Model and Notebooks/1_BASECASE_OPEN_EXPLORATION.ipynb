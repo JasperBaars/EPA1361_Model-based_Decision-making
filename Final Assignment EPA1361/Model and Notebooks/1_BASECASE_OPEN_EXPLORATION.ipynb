{
 "cells": [
  {
   "cell_type": "markdown",
   "source": [
    "### Open Exploration for the Base Case\n",
    "# Introduction\n",
    "This notebook presents our open exploration of the base case, where no policies have been implemented. We assess 10,000 scenarios against this policy by employing Latin Hypercube Sampling (LHS). LHS is advantageous as it keeps track of the previously sampled points, enabling us to achieve a broad coverage across the uncertainty ranges.\n",
    "\n",
    "Essentially, the following analysis provides insights into the behavior of the IJsseldelta when no actions are taken, as visualized through data. Moreover, we utilize scenario discovery techniques to examine the uncertainties that contribute to the most unfavorable outcomes (Kwakkel, Auping & Pruyt, 2012). Specifically, we employ PRIM and CART for this purpose."
   ],
   "metadata": {
    "collapsed": false
   }
  },
  {
   "cell_type": "markdown",
   "source": [
    "# Imports\n",
    "- only import thats notably different from the \"standard\" ones aside from all EMA related ones, is the pickle import to speed data storage up"
   ],
   "metadata": {
    "collapsed": false
   }
  },
  {
   "cell_type": "code",
   "execution_count": 1,
   "outputs": [],
   "source": [
    "#load dependencies\n",
    "import numpy as np\n",
    "import scipy as sp\n",
    "import pandas as pd\n",
    "import matplotlib.pyplot as plt\n",
    "import seaborn as sns\n",
    "import networkx as nx\n",
    "\n",
    "from ema_workbench import (\n",
    "    Model,\n",
    "    Policy,\n",
    "    ema_logging,\n",
    "    SequentialEvaluator,\n",
    "    MultiprocessingEvaluator,\n",
    "    Samplers,\n",
    ")\n",
    "from dike_model_function import DikeNetwork  # @UnresolvedImport\n",
    "from problem_formulation import get_model_for_problem_formulation, sum_over, sum_over_time\n",
    "import pickle\n",
    "\n",
    "from ema_workbench.util import utilities\n",
    "from ema_workbench.analysis import prim, cart"
   ],
   "metadata": {
    "collapsed": false,
    "ExecuteTime": {
     "end_time": "2023-06-16T13:35:19.206025200Z",
     "start_time": "2023-06-16T13:35:16.415708800Z"
    }
   }
  },
  {
   "cell_type": "code",
   "execution_count": 2,
   "outputs": [
    {
     "data": {
      "text/plain": "<Logger EMA (DEBUG)>"
     },
     "execution_count": 2,
     "metadata": {},
     "output_type": "execute_result"
    }
   ],
   "source": [
    "ema_logging.log_to_stderr(ema_logging.INFO)"
   ],
   "metadata": {
    "collapsed": false,
    "ExecuteTime": {
     "end_time": "2023-06-16T13:35:19.214904100Z",
     "start_time": "2023-06-16T13:35:19.208042100Z"
    }
   }
  },
  {
   "cell_type": "markdown",
   "source": [
    "# Open Exploration"
   ],
   "metadata": {
    "collapsed": false
   }
  },
  {
   "cell_type": "markdown",
   "source": [
    "- No policy (everything 0)\n",
    "- Latin hypercube of scenarios (10 000 scenarios)\n",
    "- Result: choose 20 to 50 scenarios"
   ],
   "metadata": {
    "collapsed": false
   }
  },
  {
   "cell_type": "markdown",
   "source": [
    "First, the model is initialized, using problem formulation 5."
   ],
   "metadata": {
    "collapsed": false
   }
  },
  {
   "cell_type": "code",
   "execution_count": 3,
   "outputs": [],
   "source": [
    "# initiate model\n",
    "dike_model, planning_steps = get_model_for_problem_formulation(5)"
   ],
   "metadata": {
    "collapsed": false,
    "ExecuteTime": {
     "end_time": "2023-06-16T13:35:19.767650Z",
     "start_time": "2023-06-16T13:35:19.215901400Z"
    }
   }
  },
  {
   "cell_type": "markdown",
   "source": [
    "Then, a reference policy is initialized, in which all policy variables are set to 0."
   ],
   "metadata": {
    "collapsed": false
   }
  },
  {
   "cell_type": "code",
   "execution_count": 4,
   "outputs": [],
   "source": [
    "# set reference policy as all 0's\n",
    "reference = Policy(\"0_policy\", **{l.name: 0 for l in dike_model.levers})"
   ],
   "metadata": {
    "collapsed": false,
    "ExecuteTime": {
     "end_time": "2023-06-16T13:35:19.774357400Z",
     "start_time": "2023-06-16T13:35:19.770608900Z"
    }
   }
  },
  {
   "cell_type": "markdown",
   "source": [
    "if we decide to include the timestep: this saves the seperate timesteps to a csv. However this is not needed at the time"
   ],
   "metadata": {
    "collapsed": false
   }
  },
  {
   "cell_type": "code",
   "execution_count": 5,
   "outputs": [],
   "source": [
    "# n_scenarios = 10_000\n",
    "#\n",
    "# # running the model through EMA workbench, using Latin Hypercube Sampling and the reference policy\n",
    "# with MultiprocessingEvaluator(dike_model, n_processes=-1) as evaluator:\n",
    "#     results = evaluator.perform_experiments(scenarios=n_scenarios, policies=reference, uncertainty_sampling=Samplers.LHS)\n",
    "#\n",
    "# utilities.save_results(results,r'generated_datasets\\50ScenariosBaseCase_separate.csv')"
   ],
   "metadata": {
    "collapsed": false,
    "ExecuteTime": {
     "end_time": "2023-06-16T13:35:19.779139Z",
     "start_time": "2023-06-16T13:35:19.775379900Z"
    }
   }
  },
  {
   "cell_type": "code",
   "execution_count": 6,
   "outputs": [],
   "source": [
    "# test = pd.read_csv(r'generated_datasets\\50ScenariosBaseCase_separate.csv', compression='gzip',on_bad_lines='skip').dropna()\n",
    "# test"
   ],
   "metadata": {
    "collapsed": false,
    "ExecuteTime": {
     "end_time": "2023-06-16T13:35:19.785123500Z",
     "start_time": "2023-06-16T13:35:19.781140600Z"
    }
   }
  },
  {
   "cell_type": "markdown",
   "source": [
    "This is the one that we will be using: combining the timesteps into a single value. The model is run, and results are saved"
   ],
   "metadata": {
    "collapsed": false
   }
  },
  {
   "cell_type": "code",
   "execution_count": 7,
   "outputs": [
    {
     "name": "stderr",
     "output_type": "stream",
     "text": [
      "[MainProcess/INFO] pool started with 12 workers\n",
      "[MainProcess/INFO] performing 10 scenarios * 1 policies * 1 model(s) = 10 experiments\n",
      "100%|██████████████████████████████████████████| 10/10 [00:01<00:00,  9.97it/s]\n",
      "[MainProcess/INFO] experiments finished\n",
      "[MainProcess/INFO] terminating pool\n"
     ]
    }
   ],
   "source": [
    "n_scenarios = 10_000\n",
    "\n",
    "# running the model through EMA workbench, using Latin Hypercube Sampling and the reference policy\n",
    "with MultiprocessingEvaluator(dike_model) as evaluator:\n",
    "    experiments, outcomes = evaluator.perform_experiments(scenarios=n_scenarios, policies=reference, uncertainty_sampling=Samplers.LHS)"
   ],
   "metadata": {
    "collapsed": false,
    "ExecuteTime": {
     "end_time": "2023-06-16T13:35:53.006041500Z",
     "start_time": "2023-06-16T13:35:19.786112Z"
    }
   }
  },
  {
   "cell_type": "code",
   "execution_count": 10,
   "outputs": [],
   "source": [
    "# as we do not plan on using the timeseries data, we add them up into a single value. This is then saved to a pickle file for later use\n",
    "\n",
    "df = pd.DataFrame()\n",
    "for k in outcomes:\n",
    "    test_list = []\n",
    "    for i in range(len(experiments)):\n",
    "        t = outcomes[k][i].sum()\n",
    "        test_list.append(t)\n",
    "    df[k]=test_list\n",
    "\n",
    "with open(r'..\\generated_datasets\\open_exploration_base_policy.pkl','wb') as pickle_file:\n",
    "    pickle.dump(df, pickle_file)"
   ],
   "metadata": {
    "collapsed": false,
    "ExecuteTime": {
     "end_time": "2023-06-16T13:36:24.401928800Z",
     "start_time": "2023-06-16T13:36:24.381264100Z"
    }
   }
  },
  {
   "cell_type": "markdown",
   "source": [
    "The data is then loaded into a dataframe. The cost of death variables are calculated and added to the data."
   ],
   "metadata": {
    "collapsed": false
   }
  },
  {
   "cell_type": "code",
   "execution_count": 11,
   "outputs": [],
   "source": [
    "outcomes = pd.read_pickle(r'..\\generated_datasets\\open_exploration_base_policy.pkl')"
   ],
   "metadata": {
    "collapsed": false,
    "ExecuteTime": {
     "end_time": "2023-06-16T13:36:37.332367800Z",
     "start_time": "2023-06-16T13:36:37.300601100Z"
    }
   }
  },
  {
   "cell_type": "code",
   "execution_count": null,
   "outputs": [],
   "source": [
    "death_cost_per_person = 6_300_000\n",
    "\n",
    "# calculate the cost of death so every column has the same unit (€)\n",
    "outcomes[\"A.1_Deaths_Cost\"]=outcomes[\"A.1_Expected Number of Deaths\"]*death_cost_per_person\n",
    "outcomes[\"A.2_Deaths_Cost\"]=outcomes[\"A.2_Expected Number of Deaths\"]*death_cost_per_person\n",
    "outcomes[\"A.3_Deaths_Cost\"]=outcomes[\"A.3_Expected Number of Deaths\"]*death_cost_per_person\n",
    "outcomes[\"A.4_Deaths_Cost\"]=outcomes[\"A.4_Expected Number of Deaths\"]*death_cost_per_person\n",
    "outcomes[\"A.5_Deaths_Cost\"]=outcomes[\"A.5_Expected Number of Deaths\"]*death_cost_per_person\n",
    "\n",
    "to_drop = [\"A.1_Expected Number of Deaths\",\"A.2_Expected Number of Deaths\",\"A.3_Expected Number of Deaths\",\"A.4_Expected Number of Deaths\",\"A.5_Expected Number of Deaths\"]\n",
    "\n",
    "outcomes.drop(to_drop, axis=1, inplace=True)\n",
    "outcomes['total_cost[€]']= outcomes.sum(axis=1)"
   ],
   "metadata": {
    "collapsed": false
   }
  },
  {
   "cell_type": "code",
   "execution_count": null,
   "outputs": [],
   "source": [
    "#input variables and output combined into a single dataframe\n",
    "results = experiments.join(outcomes)\n",
    "results.drop(columns=['policy','model','scenario'], inplace=True)"
   ],
   "metadata": {
    "collapsed": false
   }
  },
  {
   "cell_type": "code",
   "execution_count": null,
   "outputs": [],
   "source": [
    "with open(r'..\\generated_datasets\\open_exploration_base_policy_ALL_scenarios.pkl','wb') as pickle_file:\n",
    "    pickle.dump(results, pickle_file)\n"
   ],
   "metadata": {
    "collapsed": false
   }
  },
  {
   "cell_type": "code",
   "execution_count": null,
   "outputs": [],
   "source": [
    "results = pd.read_pickle(r'..\\generated_datasets\\open_exploration_base_policy_ALL_scenarios.pkl')"
   ],
   "metadata": {
    "collapsed": false
   }
  },
  {
   "cell_type": "markdown",
   "source": [
    "The dikerings are added up together to explore the total costs over all dikerings combined"
   ],
   "metadata": {
    "collapsed": false
   }
  },
  {
   "cell_type": "code",
   "execution_count": null,
   "outputs": [],
   "source": [
    "total_values = pd.DataFrame()\n",
    "total_values['Expected_Annual_Damage'] = results['A.1_Expected Annual Damage'] + \\\n",
    "                                         results['A.2_Expected Annual Damage'] + \\\n",
    "                                         results['A.3_Expected Annual Damage'] + \\\n",
    "                                         results['A.4_Expected Annual Damage'] + \\\n",
    "                                         results['A.5_Expected Annual Damage']\n",
    "\n",
    "total_values['Dike_Investment_Costs'] = results['A.1_Dike Investment Costs'] + \\\n",
    "                                        results['A.2_Dike Investment Costs'] + \\\n",
    "                                        results['A.3_Dike Investment Costs'] + \\\n",
    "                                        results['A.4_Dike Investment Costs'] + \\\n",
    "                                        results['A.5_Dike Investment Costs']\n",
    "\n",
    "total_values['Deaths_Cost'] = results['A.1_Deaths_Cost'] + \\\n",
    "                              results['A.2_Deaths_Cost'] + \\\n",
    "                              results['A.3_Deaths_Cost'] + \\\n",
    "                              results['A.4_Deaths_Cost'] + \\\n",
    "                              results['A.5_Deaths_Cost']\n",
    "\n",
    "total_values['Expected_Annual_Damage_Overijssel'] = results['A.4_Expected Annual Damage'] + \\\n",
    "                                                    results['A.5_Expected Annual Damage']\n",
    "\n",
    "total_values['Dike_Investment_Costs_Overijssel'] = results['A.4_Dike Investment Costs'] + \\\n",
    "                                                   results['A.5_Dike Investment Costs']\n",
    "\n",
    "total_values['Deaths_Cost_Overijssel'] = results['A.4_Deaths_Cost'] + \\\n",
    "                                         results['A.5_Deaths_Cost']"
   ],
   "metadata": {
    "collapsed": false
   }
  },
  {
   "cell_type": "markdown",
   "source": [
    "# Visualizations"
   ],
   "metadata": {
    "collapsed": false
   }
  },
  {
   "cell_type": "markdown",
   "source": [
    "Finding the worst case scenarios top 20, defined by highest total costs"
   ],
   "metadata": {
    "collapsed": false
   }
  },
  {
   "cell_type": "code",
   "execution_count": null,
   "outputs": [],
   "source": [
    "n_scenarios_of_interest = 50\n",
    "\n",
    "results_of_interest = results.sort_values(by='total_cost[€]', ascending=False).head(n_scenarios_of_interest)\n",
    "\n",
    "with open(r'..\\generated_datasets\\open_exploration_base_policy_worst_scenarios.pkl','wb') as pickle_file:\n",
    "    pickle.dump(results_of_interest, pickle_file)"
   ],
   "metadata": {
    "collapsed": false
   }
  },
  {
   "cell_type": "markdown",
   "source": [
    "### Scenario Discovery\n",
    "Boxplots, PRIM ,Scatterplots, CART-tree will be created for the variables 'expected annual damage', 'Death costs', and 'Dike investment costs'\n",
    "note that the dike investment costs are not relevant since no policies means that there is no investments.\n",
    "however, it has been elected to include this visualisation anyway for future scenarios."
   ],
   "metadata": {
    "collapsed": false
   }
  },
  {
   "cell_type": "markdown",
   "source": [
    "## Boxplots and histogram\n",
    "- expected annual damage\n",
    "- Death costs\n",
    "- Dike investment costs"
   ],
   "metadata": {
    "collapsed": false
   }
  },
  {
   "cell_type": "code",
   "execution_count": null,
   "outputs": [],
   "source": [
    "fig, axes = plt.subplots(3,2)\n",
    "\n",
    "# Expected Annual Damage boxplot\n",
    "sns.boxplot(\n",
    "    ax=axes[0,0],\n",
    "    data=total_values['Expected_Annual_Damage'],\n",
    "    orient='h',\n",
    "    color='greenyellow',\n",
    ").set(title='Expected Annual Damage')\n",
    "\n",
    "# Deaths_Cost boxplot\n",
    "sns.boxplot(\n",
    "    ax=axes[1,0],\n",
    "    data=total_values['Deaths_Cost'],\n",
    "    orient='h',\n",
    ").set(title='Deaths Cost')\n",
    "\n",
    "# Dike Investment Costs boxplot\n",
    "sns.boxplot(\n",
    "    ax=axes[2,0],\n",
    "    data=total_values['Dike_Investment_Costs'],\n",
    "    orient='h',\n",
    ").set(title='Dike Investment Costs')\n",
    "\n",
    "# Expected Annual Damage histogram\n",
    "sns.histplot(\n",
    "    ax=axes[0,1],\n",
    "    data=total_values['Expected_Annual_Damage'],\n",
    "    bins=7,\n",
    "    color='greenyellow',\n",
    ")\n",
    "\n",
    "# Dike Investment Costs histogram\n",
    "sns.histplot(\n",
    "    ax=axes[2,1],\n",
    "    data=total_values['Dike_Investment_Costs'],\n",
    "    bins=7,\n",
    ")\n",
    "\n",
    "# Deaths_Cost histogram\n",
    "sns.histplot(\n",
    "    ax=axes[1,1],\n",
    "    data=total_values['Deaths_Cost'],\n",
    "    bins=7,\n",
    ")\n",
    "\n",
    "plt.tight_layout()"
   ],
   "metadata": {
    "collapsed": false
   }
  },
  {
   "cell_type": "markdown",
   "source": [
    "## Total cost\n",
    "The total cost is also represented in both a histogram and boxplot"
   ],
   "metadata": {
    "collapsed": false
   }
  },
  {
   "cell_type": "code",
   "execution_count": null,
   "outputs": [],
   "source": [
    "fig, axes = plt.subplots(2)\n",
    "\n",
    "sns.boxplot(\n",
    "    ax=axes[0],\n",
    "    data=results['total_cost[€]'],\n",
    "    orient='h',\n",
    ").set(title='total cost [€]')\n",
    "\n",
    "sns.histplot(\n",
    "    ax=axes[1],\n",
    "    data=results['total_cost[€]'],\n",
    "    bins=7,\n",
    ")\n",
    "\n",
    "plt.tight_layout()"
   ],
   "metadata": {
    "collapsed": false
   }
  },
  {
   "cell_type": "markdown",
   "source": [
    "### preparations for the visualisations"
   ],
   "metadata": {
    "collapsed": false
   }
  },
  {
   "cell_type": "code",
   "execution_count": null,
   "outputs": [],
   "source": [
    "x = results.iloc[:,:19]  # Only take the uncertainties\n",
    "\n",
    "y_death_cost = total_values['Deaths_Cost'].values\n",
    "y_death_cost = y_death_cost > np.percentile(y_death_cost, 75)\n",
    "y_dama = total_values['Expected_Annual_Damage'].values\n",
    "y_dama = y_dama > np.percentile(y_dama, 75)\n",
    "y_invest = total_values['Dike_Investment_Costs'].values\n",
    "y_invest = y_invest > np.percentile(y_invest, 75)\n"
   ],
   "metadata": {
    "collapsed": false
   }
  },
  {
   "cell_type": "markdown",
   "source": [
    "## Death cost visualisation"
   ],
   "metadata": {
    "collapsed": false
   }
  },
  {
   "cell_type": "code",
   "execution_count": null,
   "outputs": [],
   "source": [
    "prim_alg_DC = prim.Prim(x,\n",
    "                     y_death_cost,\n",
    "                     threshold=0.75,\n",
    "                     peel_alpha=0.05,) # deze variabelen nog tweaken\n",
    "box_DC = prim_alg_DC.find_box()\n",
    "\n",
    "box_DC.show_tradeoff()\n",
    "plt.tight_layout()\n"
   ],
   "metadata": {
    "collapsed": false
   }
  },
  {
   "cell_type": "code",
   "execution_count": null,
   "outputs": [],
   "source": [
    "box_DC.inspect()\n",
    "box_DC.inspect(style='graph')\n",
    "plt.tight_layout()"
   ],
   "metadata": {
    "collapsed": false
   }
  },
  {
   "cell_type": "code",
   "execution_count": null,
   "outputs": [],
   "source": [
    "box_DC.select(-1)\n",
    "box_DC.show_pairs_scatter()\n",
    "fig = plt.gcf()\n",
    "plt.tight_layout()\n"
   ],
   "metadata": {
    "collapsed": false
   }
  },
  {
   "cell_type": "markdown",
   "source": [
    "## Expected annual damages visualisation"
   ],
   "metadata": {
    "collapsed": false
   }
  },
  {
   "cell_type": "code",
   "execution_count": null,
   "outputs": [],
   "source": [
    "prim_alg_DAM = prim.Prim(x,\n",
    "                     y_dama,\n",
    "                     threshold=0.75,\n",
    "                     peel_alpha=0.05,) # deze variabelen nog tweaken\n",
    "box_DAM = prim_alg_DAM.find_box()\n",
    "\n",
    "box_DAM.show_tradeoff()\n",
    "plt.tight_layout()"
   ],
   "metadata": {
    "collapsed": false
   }
  },
  {
   "cell_type": "code",
   "execution_count": null,
   "outputs": [],
   "source": [
    "box_DAM.inspect()\n",
    "box_DAM.inspect(style='graph')\n",
    "plt.tight_layout()\n"
   ],
   "metadata": {
    "collapsed": false
   }
  },
  {
   "cell_type": "code",
   "execution_count": null,
   "outputs": [],
   "source": [
    "box_DAM.select(-1)\n",
    "box_DAM.show_pairs_scatter(dims=[\"A.4_Bmax\",\"A.1_pfail\",\"A.2_Bmax\",\"A.3_Bmax\"])\n",
    "fig_DAM = plt.gcf()\n",
    "plt.tight_layout()\n"
   ],
   "metadata": {
    "collapsed": false
   }
  },
  {
   "cell_type": "markdown",
   "source": [
    "## Investment costs visualisation\n",
    "As discussed previously the investment costs are irrelevant for the basecase, but will prove\n",
    "to be usefull in the future, hence they are included but not used."
   ],
   "metadata": {
    "collapsed": false
   }
  },
  {
   "cell_type": "code",
   "execution_count": null,
   "outputs": [],
   "source": [
    "# prim_alg_INV = prim.Prim(x,\n",
    "#                      y_invest,\n",
    "#                      threshold=0.75,\n",
    "#                      peel_alpha=0.05,) # deze variabelen nog tweaken\n",
    "# box_INV = prim_alg_INV.find_box()\n",
    "#\n",
    "# box_INV.show_tradeoff()\n",
    "# plt.tight_layout()"
   ],
   "metadata": {
    "collapsed": false
   }
  },
  {
   "cell_type": "code",
   "execution_count": null,
   "outputs": [],
   "source": [
    "# box_INV.inspect()\n",
    "# box_INV.inspect(style='graph')\n",
    "# plt.tight_layout()\n"
   ],
   "metadata": {
    "collapsed": false
   }
  },
  {
   "cell_type": "code",
   "execution_count": null,
   "outputs": [],
   "source": [
    "# box_INV.select(-1)\n",
    "# box_INV.show_pairs_scatter()\n",
    "# fig_INV = plt.gcf()\n",
    "# plt.tight_layout()"
   ],
   "metadata": {
    "collapsed": false
   }
  },
  {
   "cell_type": "markdown",
   "source": [
    "# CART charts"
   ],
   "metadata": {
    "collapsed": false
   }
  },
  {
   "cell_type": "markdown",
   "source": [
    "### CART chart death cost"
   ],
   "metadata": {
    "collapsed": false
   }
  },
  {
   "cell_type": "code",
   "execution_count": null,
   "outputs": [],
   "source": [
    "cart_plot = cart.CART(x, y_death_cost, 0.05)\n",
    "cart_plot.build_tree()\n",
    "\n",
    "# Make sure to have GraphViz installed for the tree to show up (https://www.graphviz.org/download/)\n",
    "fig = cart_plot.show_tree()\n",
    "fig.set_size_inches(12, 12)\n",
    "plt.show()"
   ],
   "metadata": {
    "collapsed": false
   }
  },
  {
   "cell_type": "markdown",
   "source": [
    "### CART chart expected annual damages"
   ],
   "metadata": {
    "collapsed": false
   }
  },
  {
   "cell_type": "code",
   "execution_count": null,
   "outputs": [],
   "source": [
    "cart_plot = cart.CART(x, y_dama, 0.05)\n",
    "cart_plot.build_tree()\n",
    "\n",
    "# Make sure to have GraphViz installed for the tree to show up (https://www.graphviz.org/download/)\n",
    "fig = cart_plot.show_tree()\n",
    "fig.set_size_inches(12, 12)\n",
    "plt.show()"
   ],
   "metadata": {
    "collapsed": false
   }
  },
  {
   "cell_type": "markdown",
   "source": [
    "### CART chart investment costs\n",
    "once again, irrelevant at thuis moment"
   ],
   "metadata": {
    "collapsed": false
   }
  },
  {
   "cell_type": "code",
   "execution_count": null,
   "outputs": [],
   "source": [
    "# plt.show()\n",
    "# cart_plot = cart.CART(x, y_invest, 0.05)\n",
    "# cart_plot.build_tree()\n",
    "#\n",
    "# # Make sure to have GraphViz installed for the tree to show up (https://www.graphviz.org/download/)\n",
    "# fig = cart_plot.show_tree()\n",
    "# fig.set_size_inches(12, 12)\n",
    "# plt.show()"
   ],
   "metadata": {
    "collapsed": false
   }
  },
  {
   "cell_type": "code",
   "execution_count": null,
   "outputs": [],
   "source": [],
   "metadata": {
    "collapsed": false
   }
  }
 ],
 "metadata": {
  "kernelspec": {
   "display_name": "Python 3",
   "language": "python",
   "name": "python3"
  },
  "language_info": {
   "codemirror_mode": {
    "name": "ipython",
    "version": 2
   },
   "file_extension": ".py",
   "mimetype": "text/x-python",
   "name": "python",
   "nbconvert_exporter": "python",
   "pygments_lexer": "ipython2",
   "version": "2.7.6"
  }
 },
 "nbformat": 4,
 "nbformat_minor": 0
}
