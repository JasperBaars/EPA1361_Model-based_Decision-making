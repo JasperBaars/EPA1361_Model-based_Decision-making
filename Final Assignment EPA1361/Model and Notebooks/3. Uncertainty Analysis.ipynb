{
 "cells": [
  {
   "cell_type": "markdown",
   "source": [],
   "metadata": {
    "collapsed": false
   }
  },
  {
   "cell_type": "markdown",
   "source": [
    "# Import"
   ],
   "metadata": {
    "collapsed": false
   }
  },
  {
   "cell_type": "code",
   "execution_count": 1,
   "outputs": [],
   "source": [
    "#   import packages\n",
    "import numpy as np\n",
    "import scipy as sp\n",
    "import pandas as pd\n",
    "import matplotlib.pyplot as plt\n",
    "import seaborn as sns\n",
    "import seaborn.objects as so\n",
    "import networkx as nx\n",
    "import pickle\n",
    "import functools\n",
    "\n",
    "from ema_workbench import (\n",
    "    Model,\n",
    "    Policy,\n",
    "    Scenario,\n",
    "    ema_logging,\n",
    "    SequentialEvaluator,\n",
    "    MultiprocessingEvaluator,\n",
    "    util,\n",
    "    ScalarOutcome,\n",
    ")\n",
    "from dike_model_function import DikeNetwork  # @UnresolvedImport\n",
    "from problem_formulation import get_model_for_problem_formulation, sum_over, sum_over_time\n",
    "from ema_workbench.em_framework.samplers import sample_uncertainties\n",
    "from ema_workbench.em_framework.optimization import ArchiveLogger, EpsilonProgress\n",
    "from ema_workbench.em_framework import parameters_from_csv\n",
    "from ema_workbench.em_framework.evaluators import BaseEvaluator\n",
    "from ema_workbench.analysis import parcoords\n",
    "from ema_workbench.analysis import prim\n",
    "from ema_workbench import Samplers"
   ],
   "metadata": {
    "collapsed": false,
    "ExecuteTime": {
     "end_time": "2023-06-21T13:55:40.647136100Z",
     "start_time": "2023-06-21T13:55:37.828171400Z"
    }
   }
  },
  {
   "cell_type": "markdown",
   "source": [
    "Then, the model is loaded, and logging is set."
   ],
   "metadata": {
    "collapsed": false
   }
  },
  {
   "cell_type": "code",
   "execution_count": 2,
   "outputs": [
    {
     "data": {
      "text/plain": "<Logger EMA (DEBUG)>"
     },
     "execution_count": 2,
     "metadata": {},
     "output_type": "execute_result"
    }
   ],
   "source": [
    "dike_model, planning_steps = get_model_for_problem_formulation(5)\n",
    "ema_logging.log_to_stderr(ema_logging.INFO)"
   ],
   "metadata": {
    "collapsed": false,
    "ExecuteTime": {
     "end_time": "2023-06-21T07:11:22.373545800Z",
     "start_time": "2023-06-21T07:11:21.187308800Z"
    }
   }
  },
  {
   "cell_type": "markdown",
   "source": [
    "First, the results of the policy discovery is loaded."
   ],
   "metadata": {
    "collapsed": false
   }
  },
  {
   "cell_type": "code",
   "execution_count": 3,
   "outputs": [],
   "source": [
    "pareto_policies = pd.read_pickle(r'../generated_datasets/initial_Pareto_policies.pkl')"
   ],
   "metadata": {
    "collapsed": false,
    "ExecuteTime": {
     "end_time": "2023-06-21T07:11:26.106952500Z",
     "start_time": "2023-06-21T07:11:26.085505800Z"
    }
   }
  },
  {
   "cell_type": "markdown",
   "source": [
    "Then, the policies from the analysis are loaded into the model."
   ],
   "metadata": {
    "collapsed": false
   }
  },
  {
   "cell_type": "code",
   "execution_count": 4,
   "outputs": [],
   "source": [
    "policies = []\n",
    "for row_number in range(pareto_policies.shape[0]):\n",
    "    policies.append(\n",
    "        Policy(name=row_number, **pareto_policies.iloc[row_number, :-5].to_dict())\n",
    "    )"
   ],
   "metadata": {
    "collapsed": false,
    "ExecuteTime": {
     "end_time": "2023-06-21T07:11:27.287066800Z",
     "start_time": "2023-06-21T07:11:27.243552Z"
    }
   }
  },
  {
   "cell_type": "markdown",
   "source": [
    "General settings of the model are set."
   ],
   "metadata": {
    "collapsed": false
   }
  },
  {
   "cell_type": "code",
   "execution_count": 5,
   "outputs": [],
   "source": [
    "n_scenarios = int(10_000)"
   ],
   "metadata": {
    "collapsed": false,
    "ExecuteTime": {
     "end_time": "2023-06-20T19:15:01.452756700Z",
     "start_time": "2023-06-20T19:15:01.431983200Z"
    }
   }
  },
  {
   "cell_type": "markdown",
   "source": [
    "Then, run the model with the robust policies as input, and generate results over a lot of scenarios"
   ],
   "metadata": {
    "collapsed": false
   }
  },
  {
   "cell_type": "code",
   "execution_count": null,
   "outputs": [
    {
     "name": "stderr",
     "output_type": "stream",
     "text": [
      "[MainProcess/INFO] pool started with 12 workers\n",
      "[MainProcess/INFO] performing 10000 scenarios * 45 policies * 1 model(s) = 450000 experiments\n",
      "  0%|                                  | 163/450000 [00:16<10:34:08, 11.82it/s]"
     ]
    }
   ],
   "source": [
    "with MultiprocessingEvaluator(dike_model) as evaluator:\n",
    "    results = evaluator.perform_experiments(scenarios=n_scenarios,\n",
    "                                            policies=policies,\n",
    "                                            uncertainty_sampling=Samplers.LHS\n",
    "                                            )\n",
    "\n",
    "with open(r'../generated_datasets/policy_uncertainty_test.pkl', 'wb') as file_pi:\n",
    "    pickle.dump(results, file_pi)"
   ],
   "metadata": {
    "collapsed": false,
    "is_executing": true,
    "ExecuteTime": {
     "start_time": "2023-06-20T19:15:01.452756700Z"
    }
   }
  },
  {
   "cell_type": "markdown",
   "source": [
    "The results are then loaded in for analysis"
   ],
   "metadata": {
    "collapsed": false
   }
  },
  {
   "cell_type": "code",
   "execution_count": 3,
   "outputs": [
    {
     "data": {
      "text/plain": "       A.0_ID flood wave shape    A.1_Bmax A.1_Brate  A.1_pfail    A.2_Bmax   \n0                           48  220.533199       1.0   0.247230  153.375851  \\\n1                           21   67.149570      10.0   0.420960  226.487687   \n2                           31   76.451266       1.0   0.327000   67.115388   \n3                           61  127.952044       1.0   0.766719  291.080472   \n4                          121  117.912505       1.0   0.638428  290.598552   \n...                        ...         ...       ...        ...         ...   \n66995                        4  177.229138       1.5   0.984079  271.295149   \n66996                       20  302.894975       1.5   0.318097   64.593990   \n66997                       84  157.204078       1.0   0.083453  253.820279   \n66998                       71  340.448536       1.0   0.792912   99.445132   \n66999                      118  159.323221      10.0   0.395020  145.884746   \n\n      A.2_Brate  A.2_pfail    A.3_Bmax A.3_Brate  A.3_pfail  ...   \n0          10.0   0.997775  178.309323       1.5   0.251558  ...  \\\n1           1.0   0.209996  202.824278       1.5   0.786272  ...   \n2           1.0   0.876109  182.551213      10.0   0.518388  ...   \n3           1.5   0.371684  107.187029       1.0   0.352222  ...   \n4           1.5   0.397689  159.114245      10.0   0.211288  ...   \n...         ...        ...         ...       ...        ...  ...   \n66995       1.0   0.478427  195.491156       1.5   0.186950  ...   \n66996      10.0   0.788062  128.320223       1.0   0.207763  ...   \n66997       1.0   0.564167  343.477028       1.5   0.806896  ...   \n66998      10.0   0.602468   97.887405       1.5   0.549740  ...   \n66999      10.0   0.233815  230.456727       1.5   0.852284  ...   \n\n       A.3_DikeIncrease 2 A.4_DikeIncrease 0  A.4_DikeIncrease 1   \n0                       1                  5                   0  \\\n1                       1                  5                   0   \n2                       1                  5                   0   \n3                       1                  5                   0   \n4                       1                  5                   0   \n...                   ...                ...                 ...   \n66995                   0                  2                   0   \n66996                   0                  2                   0   \n66997                   0                  2                   0   \n66998                   0                  2                   0   \n66999                   0                  2                   0   \n\n       A.4_DikeIncrease 2 A.5_DikeIncrease 0  A.5_DikeIncrease 1   \n0                       0                  5                   3  \\\n1                       0                  5                   3   \n2                       0                  5                   3   \n3                       0                  5                   3   \n4                       0                  5                   3   \n...                   ...                ...                 ...   \n66995                   0                  7                   2   \n66996                   0                  7                   2   \n66997                   0                  7                   2   \n66998                   0                  7                   2   \n66999                   0                  7                   2   \n\n      A.5_DikeIncrease 2 scenario policy     model  \n0                      0        0      0  dikesnet  \n1                      0        1      0  dikesnet  \n2                      0        2      0  dikesnet  \n3                      0        3      0  dikesnet  \n4                      0        4      0  dikesnet  \n...                  ...      ...    ...       ...  \n66995                  0      995     66  dikesnet  \n66996                  0      996     66  dikesnet  \n66997                  0      997     66  dikesnet  \n66998                  0      998     66  dikesnet  \n66999                  0      999     66  dikesnet  \n\n[67000 rows x 53 columns]",
      "text/html": "<div>\n<style scoped>\n    .dataframe tbody tr th:only-of-type {\n        vertical-align: middle;\n    }\n\n    .dataframe tbody tr th {\n        vertical-align: top;\n    }\n\n    .dataframe thead th {\n        text-align: right;\n    }\n</style>\n<table border=\"1\" class=\"dataframe\">\n  <thead>\n    <tr style=\"text-align: right;\">\n      <th></th>\n      <th>A.0_ID flood wave shape</th>\n      <th>A.1_Bmax</th>\n      <th>A.1_Brate</th>\n      <th>A.1_pfail</th>\n      <th>A.2_Bmax</th>\n      <th>A.2_Brate</th>\n      <th>A.2_pfail</th>\n      <th>A.3_Bmax</th>\n      <th>A.3_Brate</th>\n      <th>A.3_pfail</th>\n      <th>...</th>\n      <th>A.3_DikeIncrease 2</th>\n      <th>A.4_DikeIncrease 0</th>\n      <th>A.4_DikeIncrease 1</th>\n      <th>A.4_DikeIncrease 2</th>\n      <th>A.5_DikeIncrease 0</th>\n      <th>A.5_DikeIncrease 1</th>\n      <th>A.5_DikeIncrease 2</th>\n      <th>scenario</th>\n      <th>policy</th>\n      <th>model</th>\n    </tr>\n  </thead>\n  <tbody>\n    <tr>\n      <th>0</th>\n      <td>48</td>\n      <td>220.533199</td>\n      <td>1.0</td>\n      <td>0.247230</td>\n      <td>153.375851</td>\n      <td>10.0</td>\n      <td>0.997775</td>\n      <td>178.309323</td>\n      <td>1.5</td>\n      <td>0.251558</td>\n      <td>...</td>\n      <td>1</td>\n      <td>5</td>\n      <td>0</td>\n      <td>0</td>\n      <td>5</td>\n      <td>3</td>\n      <td>0</td>\n      <td>0</td>\n      <td>0</td>\n      <td>dikesnet</td>\n    </tr>\n    <tr>\n      <th>1</th>\n      <td>21</td>\n      <td>67.149570</td>\n      <td>10.0</td>\n      <td>0.420960</td>\n      <td>226.487687</td>\n      <td>1.0</td>\n      <td>0.209996</td>\n      <td>202.824278</td>\n      <td>1.5</td>\n      <td>0.786272</td>\n      <td>...</td>\n      <td>1</td>\n      <td>5</td>\n      <td>0</td>\n      <td>0</td>\n      <td>5</td>\n      <td>3</td>\n      <td>0</td>\n      <td>1</td>\n      <td>0</td>\n      <td>dikesnet</td>\n    </tr>\n    <tr>\n      <th>2</th>\n      <td>31</td>\n      <td>76.451266</td>\n      <td>1.0</td>\n      <td>0.327000</td>\n      <td>67.115388</td>\n      <td>1.0</td>\n      <td>0.876109</td>\n      <td>182.551213</td>\n      <td>10.0</td>\n      <td>0.518388</td>\n      <td>...</td>\n      <td>1</td>\n      <td>5</td>\n      <td>0</td>\n      <td>0</td>\n      <td>5</td>\n      <td>3</td>\n      <td>0</td>\n      <td>2</td>\n      <td>0</td>\n      <td>dikesnet</td>\n    </tr>\n    <tr>\n      <th>3</th>\n      <td>61</td>\n      <td>127.952044</td>\n      <td>1.0</td>\n      <td>0.766719</td>\n      <td>291.080472</td>\n      <td>1.5</td>\n      <td>0.371684</td>\n      <td>107.187029</td>\n      <td>1.0</td>\n      <td>0.352222</td>\n      <td>...</td>\n      <td>1</td>\n      <td>5</td>\n      <td>0</td>\n      <td>0</td>\n      <td>5</td>\n      <td>3</td>\n      <td>0</td>\n      <td>3</td>\n      <td>0</td>\n      <td>dikesnet</td>\n    </tr>\n    <tr>\n      <th>4</th>\n      <td>121</td>\n      <td>117.912505</td>\n      <td>1.0</td>\n      <td>0.638428</td>\n      <td>290.598552</td>\n      <td>1.5</td>\n      <td>0.397689</td>\n      <td>159.114245</td>\n      <td>10.0</td>\n      <td>0.211288</td>\n      <td>...</td>\n      <td>1</td>\n      <td>5</td>\n      <td>0</td>\n      <td>0</td>\n      <td>5</td>\n      <td>3</td>\n      <td>0</td>\n      <td>4</td>\n      <td>0</td>\n      <td>dikesnet</td>\n    </tr>\n    <tr>\n      <th>...</th>\n      <td>...</td>\n      <td>...</td>\n      <td>...</td>\n      <td>...</td>\n      <td>...</td>\n      <td>...</td>\n      <td>...</td>\n      <td>...</td>\n      <td>...</td>\n      <td>...</td>\n      <td>...</td>\n      <td>...</td>\n      <td>...</td>\n      <td>...</td>\n      <td>...</td>\n      <td>...</td>\n      <td>...</td>\n      <td>...</td>\n      <td>...</td>\n      <td>...</td>\n      <td>...</td>\n    </tr>\n    <tr>\n      <th>66995</th>\n      <td>4</td>\n      <td>177.229138</td>\n      <td>1.5</td>\n      <td>0.984079</td>\n      <td>271.295149</td>\n      <td>1.0</td>\n      <td>0.478427</td>\n      <td>195.491156</td>\n      <td>1.5</td>\n      <td>0.186950</td>\n      <td>...</td>\n      <td>0</td>\n      <td>2</td>\n      <td>0</td>\n      <td>0</td>\n      <td>7</td>\n      <td>2</td>\n      <td>0</td>\n      <td>995</td>\n      <td>66</td>\n      <td>dikesnet</td>\n    </tr>\n    <tr>\n      <th>66996</th>\n      <td>20</td>\n      <td>302.894975</td>\n      <td>1.5</td>\n      <td>0.318097</td>\n      <td>64.593990</td>\n      <td>10.0</td>\n      <td>0.788062</td>\n      <td>128.320223</td>\n      <td>1.0</td>\n      <td>0.207763</td>\n      <td>...</td>\n      <td>0</td>\n      <td>2</td>\n      <td>0</td>\n      <td>0</td>\n      <td>7</td>\n      <td>2</td>\n      <td>0</td>\n      <td>996</td>\n      <td>66</td>\n      <td>dikesnet</td>\n    </tr>\n    <tr>\n      <th>66997</th>\n      <td>84</td>\n      <td>157.204078</td>\n      <td>1.0</td>\n      <td>0.083453</td>\n      <td>253.820279</td>\n      <td>1.0</td>\n      <td>0.564167</td>\n      <td>343.477028</td>\n      <td>1.5</td>\n      <td>0.806896</td>\n      <td>...</td>\n      <td>0</td>\n      <td>2</td>\n      <td>0</td>\n      <td>0</td>\n      <td>7</td>\n      <td>2</td>\n      <td>0</td>\n      <td>997</td>\n      <td>66</td>\n      <td>dikesnet</td>\n    </tr>\n    <tr>\n      <th>66998</th>\n      <td>71</td>\n      <td>340.448536</td>\n      <td>1.0</td>\n      <td>0.792912</td>\n      <td>99.445132</td>\n      <td>10.0</td>\n      <td>0.602468</td>\n      <td>97.887405</td>\n      <td>1.5</td>\n      <td>0.549740</td>\n      <td>...</td>\n      <td>0</td>\n      <td>2</td>\n      <td>0</td>\n      <td>0</td>\n      <td>7</td>\n      <td>2</td>\n      <td>0</td>\n      <td>998</td>\n      <td>66</td>\n      <td>dikesnet</td>\n    </tr>\n    <tr>\n      <th>66999</th>\n      <td>118</td>\n      <td>159.323221</td>\n      <td>10.0</td>\n      <td>0.395020</td>\n      <td>145.884746</td>\n      <td>10.0</td>\n      <td>0.233815</td>\n      <td>230.456727</td>\n      <td>1.5</td>\n      <td>0.852284</td>\n      <td>...</td>\n      <td>0</td>\n      <td>2</td>\n      <td>0</td>\n      <td>0</td>\n      <td>7</td>\n      <td>2</td>\n      <td>0</td>\n      <td>999</td>\n      <td>66</td>\n      <td>dikesnet</td>\n    </tr>\n  </tbody>\n</table>\n<p>67000 rows × 53 columns</p>\n</div>"
     },
     "execution_count": 3,
     "metadata": {},
     "output_type": "execute_result"
    }
   ],
   "source": [
    "scenario_results = pd.read_pickle(r'../generated_datasets/policy_uncertainty_test.pkl')\n",
    "experiments, outcomes = scenario_results\n",
    "experiments"
   ],
   "metadata": {
    "collapsed": false,
    "ExecuteTime": {
     "end_time": "2023-06-21T14:01:41.721096300Z",
     "start_time": "2023-06-21T14:01:41.657034400Z"
    }
   }
  },
  {
   "cell_type": "markdown",
   "source": [
    "Make a dataframe column for every timestep of the results."
   ],
   "metadata": {
    "collapsed": false
   }
  },
  {
   "cell_type": "code",
   "execution_count": null,
   "outputs": [],
   "source": [
    "policies_all_scenarios = pd.DataFrame()\n",
    "for key, value in outcomes.items():\n",
    "    temp_df = pd.DataFrame(value, columns=[key + ' '+ str(x) for x in range(len(value[0]))])\n",
    "    policies_all_scenarios = pd.concat([policies_all_scenarios, temp_df], axis=1)"
   ],
   "metadata": {
    "collapsed": false,
    "is_executing": true
   }
  },
  {
   "cell_type": "markdown",
   "source": [
    "Add experiments input to the outputs for analysis"
   ],
   "metadata": {
    "collapsed": false
   }
  },
  {
   "cell_type": "code",
   "execution_count": null,
   "outputs": [],
   "source": [
    "experiments_and_results = pd.concat([experiments,policies_all_scenarios], axis=1)\n",
    "\n",
    "with open(r'../generated_datasets/policy_uncertainty_experiments_results.pkl', 'wb') as file_pi:\n",
    "    pickle.dump(experiments_and_results, file_pi)"
   ],
   "metadata": {
    "collapsed": false,
    "is_executing": true
   }
  },
  {
   "cell_type": "markdown",
   "source": [
    "Combine the variables of different dikes and times"
   ],
   "metadata": {
    "collapsed": false
   }
  },
  {
   "cell_type": "code",
   "execution_count": null,
   "outputs": [],
   "source": [
    "def combine_columns(dataframe, name):\n",
    "    combined_columns = []\n",
    "    for x in dataframe.columns:\n",
    "        if name in x:\n",
    "            combined_columns.append(x)\n",
    "\n",
    "    dataframe['Total ' + str(name)] = dataframe[combined_columns].sum(axis=1)"
   ],
   "metadata": {
    "collapsed": false,
    "is_executing": true
   }
  },
  {
   "cell_type": "code",
   "execution_count": null,
   "outputs": [],
   "source": [
    "combine_columns(policies_all_scenarios, 'Expected Annual Damage')\n",
    "combine_columns(policies_all_scenarios, 'Dike Investment Costs')\n",
    "combine_columns(policies_all_scenarios, 'Expected Number of Deaths')\n",
    "combine_columns(policies_all_scenarios, 'RfR Total Costs')\n",
    "combine_columns(policies_all_scenarios, 'Expected Evacuation Costs')"
   ],
   "metadata": {
    "collapsed": false,
    "is_executing": true
   }
  },
  {
   "cell_type": "markdown",
   "source": [
    "Generate statistics"
   ],
   "metadata": {
    "collapsed": false
   }
  },
  {
   "cell_type": "code",
   "execution_count": null,
   "outputs": [],
   "source": [
    "aggregated_outcomes = pd.concat([experiments[['scenario','policy']],policies_all_scenarios.iloc[:,-5:]], axis=1)\n",
    "\n",
    "stats_df = pd.DataFrame()\n",
    "for column in aggregated_outcomes.iloc[:,2:].columns:\n",
    "    stats_df[column + ' mean'] = aggregated_outcomes.groupby('policy').agg({column:['mean']})\n",
    "    stats_df[column + ' std'] = aggregated_outcomes.groupby('policy').agg({column:['std']})\n",
    "\n",
    "with open(r'../generated_datasets/policy_uncertainty_aggregated.pkl', 'wb') as file_pi:\n",
    "    pickle.dump(aggregated_outcomes, file_pi)"
   ],
   "metadata": {
    "collapsed": false,
    "is_executing": true
   }
  }
 ],
 "metadata": {
  "kernelspec": {
   "display_name": "Python 3",
   "language": "python",
   "name": "python3"
  },
  "language_info": {
   "codemirror_mode": {
    "name": "ipython",
    "version": 2
   },
   "file_extension": ".py",
   "mimetype": "text/x-python",
   "name": "python",
   "nbconvert_exporter": "python",
   "pygments_lexer": "ipython2",
   "version": "2.7.6"
  }
 },
 "nbformat": 4,
 "nbformat_minor": 0
}
