{
 "cells": [
  {
   "cell_type": "markdown",
   "source": [
    "In step three, the XLRM specification is used to build a diverse ensemble of possible future states ofthe world (SOWs), or scenarios, that span the uncertainty space specified in the first step. The set offuture SOWs are used to determine how the defined policies may react to a wide variety of possiblefutures. This stage generally involves the use of software to both build the ensemble of scenariosandto apply that ensembleto the set ofpolicy options to build adata set that evaluatesthe potentialeffectiveness of a policy given the XLRM problem definition."
   ],
   "metadata": {
    "collapsed": false
   }
  },
  {
   "cell_type": "markdown",
   "source": [
    "# Import"
   ],
   "metadata": {
    "collapsed": false
   }
  },
  {
   "cell_type": "code",
   "execution_count": 1,
   "outputs": [],
   "source": [
    "#   import packages\n",
    "import numpy as np\n",
    "import scipy as sp\n",
    "import pandas as pd\n",
    "import matplotlib.pyplot as plt\n",
    "import seaborn as sns\n",
    "import seaborn.objects as so\n",
    "import networkx as nx\n",
    "import pickle\n",
    "import functools\n",
    "\n",
    "from ema_workbench import (\n",
    "    Model,\n",
    "    Policy,\n",
    "    Scenario,\n",
    "    ema_logging,\n",
    "    SequentialEvaluator,\n",
    "    MultiprocessingEvaluator,\n",
    "    util,\n",
    "    ScalarOutcome,\n",
    ")\n",
    "from dike_model_function import DikeNetwork  # @UnresolvedImport\n",
    "from problem_formulation import get_model_for_problem_formulation, sum_over, sum_over_time\n",
    "from ema_workbench.em_framework.samplers import sample_uncertainties\n",
    "from ema_workbench.em_framework.optimization import ArchiveLogger, EpsilonProgress\n",
    "from ema_workbench.em_framework import parameters_from_csv\n",
    "from ema_workbench.em_framework.evaluators import BaseEvaluator\n",
    "from ema_workbench.analysis import parcoords\n",
    "from ema_workbench.analysis import prim\n",
    "from ema_workbench import Samplers"
   ],
   "metadata": {
    "collapsed": false,
    "ExecuteTime": {
     "end_time": "2023-06-21T07:11:18.978552900Z",
     "start_time": "2023-06-21T07:11:12.938401300Z"
    }
   }
  },
  {
   "cell_type": "markdown",
   "source": [
    "Then, the model is loaded, and logging is set."
   ],
   "metadata": {
    "collapsed": false
   }
  },
  {
   "cell_type": "code",
   "execution_count": 2,
   "outputs": [
    {
     "data": {
      "text/plain": "<Logger EMA (DEBUG)>"
     },
     "execution_count": 2,
     "metadata": {},
     "output_type": "execute_result"
    }
   ],
   "source": [
    "dike_model, planning_steps = get_model_for_problem_formulation(5)\n",
    "ema_logging.log_to_stderr(ema_logging.INFO)"
   ],
   "metadata": {
    "collapsed": false,
    "ExecuteTime": {
     "end_time": "2023-06-21T07:11:22.373545800Z",
     "start_time": "2023-06-21T07:11:21.187308800Z"
    }
   }
  },
  {
   "cell_type": "markdown",
   "source": [
    "First, the results of the policy discovery is loaded."
   ],
   "metadata": {
    "collapsed": false
   }
  },
  {
   "cell_type": "code",
   "execution_count": 3,
   "outputs": [],
   "source": [
    "pareto_policies = pd.read_pickle(r'../generated_datasets/initial_Pareto_policies.pkl')"
   ],
   "metadata": {
    "collapsed": false,
    "ExecuteTime": {
     "end_time": "2023-06-21T07:11:26.106952500Z",
     "start_time": "2023-06-21T07:11:26.085505800Z"
    }
   }
  },
  {
   "cell_type": "markdown",
   "source": [
    "Then, the policies from the analysis are loaded into the model."
   ],
   "metadata": {
    "collapsed": false
   }
  },
  {
   "cell_type": "code",
   "execution_count": 4,
   "outputs": [],
   "source": [
    "policies = []\n",
    "for row_number in range(pareto_policies.shape[0]):\n",
    "    policies.append(\n",
    "        Policy(name=row_number, **pareto_policies.iloc[row_number, :-5].to_dict())\n",
    "    )"
   ],
   "metadata": {
    "collapsed": false,
    "ExecuteTime": {
     "end_time": "2023-06-21T07:11:27.287066800Z",
     "start_time": "2023-06-21T07:11:27.243552Z"
    }
   }
  },
  {
   "cell_type": "markdown",
   "source": [
    "General settings of the model are set."
   ],
   "metadata": {
    "collapsed": false
   }
  },
  {
   "cell_type": "code",
   "execution_count": 5,
   "outputs": [],
   "source": [
    "n_scenarios = int(10_000)"
   ],
   "metadata": {
    "collapsed": false,
    "ExecuteTime": {
     "end_time": "2023-06-20T19:15:01.452756700Z",
     "start_time": "2023-06-20T19:15:01.431983200Z"
    }
   }
  },
  {
   "cell_type": "markdown",
   "source": [
    "Then, run the model with the robust policies as input, and generate results over a lot of scenarios"
   ],
   "metadata": {
    "collapsed": false
   }
  },
  {
   "cell_type": "code",
   "execution_count": null,
   "outputs": [
    {
     "name": "stderr",
     "output_type": "stream",
     "text": [
      "[MainProcess/INFO] pool started with 12 workers\n",
      "[MainProcess/INFO] performing 10000 scenarios * 45 policies * 1 model(s) = 450000 experiments\n",
      "  0%|                                  | 163/450000 [00:16<10:34:08, 11.82it/s]"
     ]
    }
   ],
   "source": [
    "with MultiprocessingEvaluator(dike_model) as evaluator:\n",
    "    results = evaluator.perform_experiments(scenarios=n_scenarios,\n",
    "                                            policies=policies,\n",
    "                                            uncertainty_sampling=Samplers.LHS\n",
    "                                            )\n",
    "\n",
    "with open(r'../generated_datasets/policy_uncertainty_test.pkl', 'wb') as file_pi:\n",
    "    pickle.dump(results, file_pi)"
   ],
   "metadata": {
    "collapsed": false,
    "is_executing": true,
    "ExecuteTime": {
     "start_time": "2023-06-20T19:15:01.452756700Z"
    }
   }
  },
  {
   "cell_type": "markdown",
   "source": [
    "The results are then loaded in for analysis"
   ],
   "metadata": {
    "collapsed": false
   }
  },
  {
   "cell_type": "code",
   "execution_count": null,
   "outputs": [],
   "source": [
    "scenario_results = pd.read_pickle(r'../generated_datasets/policy_uncertainty_test.pkl')\n",
    "experiments, outcomes = scenario_results"
   ],
   "metadata": {
    "collapsed": false,
    "is_executing": true
   }
  },
  {
   "cell_type": "markdown",
   "source": [
    "Make a dataframe column for every timestep of the results."
   ],
   "metadata": {
    "collapsed": false
   }
  },
  {
   "cell_type": "code",
   "execution_count": null,
   "outputs": [],
   "source": [
    "policies_all_scenarios = pd.DataFrame()\n",
    "for key, value in outcomes.items():\n",
    "    temp_df = pd.DataFrame(value, columns=[key + ' '+ str(x) for x in range(len(value[0]))])\n",
    "    policies_all_scenarios = pd.concat([policies_all_scenarios, temp_df], axis=1)"
   ],
   "metadata": {
    "collapsed": false,
    "is_executing": true
   }
  },
  {
   "cell_type": "markdown",
   "source": [
    "Add experiments input to the outputs for analysis"
   ],
   "metadata": {
    "collapsed": false
   }
  },
  {
   "cell_type": "code",
   "execution_count": null,
   "outputs": [],
   "source": [
    "experiments_and_results = pd.concat([experiments,policies_all_scenarios], axis=1)\n",
    "\n",
    "with open(r'../generated_datasets/policy_uncertainty_experiments_results.pkl', 'wb') as file_pi:\n",
    "    pickle.dump(experiments_and_results, file_pi)"
   ],
   "metadata": {
    "collapsed": false,
    "is_executing": true
   }
  },
  {
   "cell_type": "markdown",
   "source": [
    "Combine the variables of different dikes and times"
   ],
   "metadata": {
    "collapsed": false
   }
  },
  {
   "cell_type": "code",
   "execution_count": null,
   "outputs": [],
   "source": [
    "def combine_columns(dataframe, name):\n",
    "    combined_columns = []\n",
    "    for x in dataframe.columns:\n",
    "        if name in x:\n",
    "            combined_columns.append(x)\n",
    "\n",
    "    dataframe['Total ' + str(name)] = dataframe[combined_columns].sum(axis=1)"
   ],
   "metadata": {
    "collapsed": false,
    "is_executing": true
   }
  },
  {
   "cell_type": "code",
   "execution_count": null,
   "outputs": [],
   "source": [
    "combine_columns(policies_all_scenarios, 'Expected Annual Damage')\n",
    "combine_columns(policies_all_scenarios, 'Dike Investment Costs')\n",
    "combine_columns(policies_all_scenarios, 'Expected Number of Deaths')\n",
    "combine_columns(policies_all_scenarios, 'RfR Total Costs')\n",
    "combine_columns(policies_all_scenarios, 'Expected Evacuation Costs')"
   ],
   "metadata": {
    "collapsed": false,
    "is_executing": true
   }
  },
  {
   "cell_type": "markdown",
   "source": [
    "Generate statistics"
   ],
   "metadata": {
    "collapsed": false
   }
  },
  {
   "cell_type": "code",
   "execution_count": null,
   "outputs": [],
   "source": [
    "aggregated_outcomes = pd.concat([experiments[['scenario','policy']],policies_all_scenarios.iloc[:,-5:]], axis=1)\n",
    "\n",
    "stats_df = pd.DataFrame()\n",
    "for column in aggregated_outcomes.iloc[:,2:].columns:\n",
    "    stats_df[column + ' mean'] = aggregated_outcomes.groupby('policy').agg({column:['mean']})\n",
    "    stats_df[column + ' std'] = aggregated_outcomes.groupby('policy').agg({column:['std']})\n",
    "\n",
    "with open(r'../generated_datasets/policy_uncertainty_aggregated.pkl', 'wb') as file_pi:\n",
    "    pickle.dump(aggregated_outcomes, file_pi)"
   ],
   "metadata": {
    "collapsed": false,
    "is_executing": true
   }
  },
  {
   "cell_type": "markdown",
   "source": [
    "### Gelderland - Overijssel Split"
   ],
   "metadata": {
    "collapsed": false
   }
  },
  {
   "cell_type": "code",
   "execution_count": null,
   "outputs": [],
   "source": [
    "def combine_columns_province(dataframe, name):\n",
    "    combined_columns_gelderland = []\n",
    "    combined_columns_overijssel = []\n",
    "    for x in dataframe.columns:\n",
    "        if name in x:\n",
    "            if x.startswith('A.1') or x.startswith('A.2') or x.startswith('A.3'):\n",
    "                combined_columns_gelderland.append(x)\n",
    "            if x.startswith('A.4') or x.startswith('A.5'):\n",
    "                combined_columns_overijssel.append(x)\n",
    "\n",
    "    dataframe['Total ' + str(name) + ' Gelderland'] = dataframe[combined_columns_gelderland].sum(axis=1)\n",
    "    dataframe['Total ' + str(name) + ' Overijssel'] = dataframe[combined_columns_overijssel].sum(axis=1)"
   ],
   "metadata": {
    "collapsed": false,
    "is_executing": true
   }
  },
  {
   "cell_type": "code",
   "execution_count": null,
   "outputs": [],
   "source": [
    "provinces = policies_all_scenarios.copy()\n",
    "\n",
    "combine_columns_province(provinces, 'Expected Annual Damage')\n",
    "combine_columns_province(provinces, 'Dike Investment Costs')\n",
    "combine_columns_province(provinces, 'Expected Number of Deaths')\n",
    "combine_columns_province(provinces, 'RfR Total Costs')\n",
    "combine_columns_province(provinces, 'Expected Evacuation Costs')"
   ],
   "metadata": {
    "collapsed": false,
    "is_executing": true
   }
  },
  {
   "cell_type": "code",
   "execution_count": null,
   "outputs": [],
   "source": [
    "aggregated_outcomes_provinces = pd.concat([experiments[['scenario','policy']],provinces.iloc[:,-10:]], axis=1)\n",
    "\n",
    "with open(r'../generated_datasets/policy_uncertainty_provinces.pkl', 'wb') as file_pi:\n",
    "    pickle.dump(aggregated_outcomes_provinces, file_pi)"
   ],
   "metadata": {
    "collapsed": false,
    "is_executing": true
   }
  },
  {
   "cell_type": "code",
   "execution_count": null,
   "outputs": [],
   "source": [],
   "metadata": {
    "collapsed": false,
    "is_executing": true
   }
  }
 ],
 "metadata": {
  "kernelspec": {
   "display_name": "Python 3",
   "language": "python",
   "name": "python3"
  },
  "language_info": {
   "codemirror_mode": {
    "name": "ipython",
    "version": 2
   },
   "file_extension": ".py",
   "mimetype": "text/x-python",
   "name": "python",
   "nbconvert_exporter": "python",
   "pygments_lexer": "ipython2",
   "version": "2.7.6"
  }
 },
 "nbformat": 4,
 "nbformat_minor": 0
}
