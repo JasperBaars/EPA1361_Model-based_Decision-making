{
 "cells": [
  {
   "cell_type": "markdown",
   "source": [],
   "metadata": {
    "collapsed": false
   }
  },
  {
   "cell_type": "markdown",
   "source": [
    "# Import"
   ],
   "metadata": {
    "collapsed": false
   }
  },
  {
   "cell_type": "code",
   "execution_count": 1,
   "outputs": [],
   "source": [
    "#   import packages\n",
    "import numpy as np\n",
    "import scipy as sp\n",
    "import pandas as pd\n",
    "import matplotlib.pyplot as plt\n",
    "import seaborn as sns\n",
    "import seaborn.objects as so\n",
    "import networkx as nx\n",
    "import pickle\n",
    "import functools\n",
    "\n",
    "from ema_workbench import (\n",
    "    Model,\n",
    "    Policy,\n",
    "    Scenario,\n",
    "    ema_logging,\n",
    "    SequentialEvaluator,\n",
    "    MultiprocessingEvaluator,\n",
    "    util,\n",
    "    ScalarOutcome,\n",
    ")\n",
    "from dike_model_function import DikeNetwork  # @UnresolvedImport\n",
    "from problem_formulation import get_model_for_problem_formulation, sum_over, sum_over_time\n",
    "from ema_workbench.em_framework.samplers import sample_uncertainties\n",
    "from ema_workbench.em_framework.optimization import ArchiveLogger, EpsilonProgress\n",
    "from ema_workbench.em_framework import parameters_from_csv\n",
    "from ema_workbench.em_framework.evaluators import BaseEvaluator\n",
    "from ema_workbench.analysis import parcoords\n",
    "from ema_workbench.analysis import prim\n",
    "from ema_workbench import Samplers"
   ],
   "metadata": {
    "collapsed": false,
    "ExecuteTime": {
     "end_time": "2023-06-21T16:07:20.046489300Z",
     "start_time": "2023-06-21T16:07:17.279325200Z"
    }
   }
  },
  {
   "cell_type": "markdown",
   "source": [
    "Then, the model is loaded, and logging is set."
   ],
   "metadata": {
    "collapsed": false
   }
  },
  {
   "cell_type": "code",
   "execution_count": 2,
   "outputs": [
    {
     "data": {
      "text/plain": "<Logger EMA (DEBUG)>"
     },
     "execution_count": 2,
     "metadata": {},
     "output_type": "execute_result"
    }
   ],
   "source": [
    "dike_model, planning_steps = get_model_for_problem_formulation(5)\n",
    "ema_logging.log_to_stderr(ema_logging.INFO)"
   ],
   "metadata": {
    "collapsed": false,
    "ExecuteTime": {
     "end_time": "2023-06-21T16:07:27.981473600Z",
     "start_time": "2023-06-21T16:07:27.347262400Z"
    }
   }
  },
  {
   "cell_type": "markdown",
   "source": [
    "First, the results of the policy discovery is loaded."
   ],
   "metadata": {
    "collapsed": false
   }
  },
  {
   "cell_type": "code",
   "execution_count": 3,
   "outputs": [],
   "source": [
    "pareto_policies = pd.read_pickle(r'../generated_datasets/initial_Pareto_policies.pkl')"
   ],
   "metadata": {
    "collapsed": false,
    "ExecuteTime": {
     "end_time": "2023-06-21T16:07:29.859271800Z",
     "start_time": "2023-06-21T16:07:29.853923800Z"
    }
   }
  },
  {
   "cell_type": "markdown",
   "source": [
    "Then, the policies from the analysis are loaded into the model."
   ],
   "metadata": {
    "collapsed": false
   }
  },
  {
   "cell_type": "code",
   "execution_count": 4,
   "outputs": [],
   "source": [
    "policies = []\n",
    "for row_number in range(pareto_policies.shape[0]):\n",
    "    policies.append(\n",
    "        Policy(name=row_number, **pareto_policies.iloc[row_number, :-5].to_dict())\n",
    "    )"
   ],
   "metadata": {
    "collapsed": false,
    "ExecuteTime": {
     "end_time": "2023-06-21T16:07:32.881244900Z",
     "start_time": "2023-06-21T16:07:32.866994100Z"
    }
   }
  },
  {
   "cell_type": "markdown",
   "source": [
    "General settings of the model are set."
   ],
   "metadata": {
    "collapsed": false
   }
  },
  {
   "cell_type": "code",
   "execution_count": 5,
   "outputs": [],
   "source": [
    "n_scenarios = int(10_000)"
   ],
   "metadata": {
    "collapsed": false,
    "ExecuteTime": {
     "end_time": "2023-06-21T16:07:34.777262200Z",
     "start_time": "2023-06-21T16:07:34.771676300Z"
    }
   }
  },
  {
   "cell_type": "markdown",
   "source": [
    "Then, run the model with the robust policies as input, and generate results over a lot of scenarios"
   ],
   "metadata": {
    "collapsed": false
   }
  },
  {
   "cell_type": "code",
   "execution_count": null,
   "outputs": [
    {
     "name": "stderr",
     "output_type": "stream",
     "text": [
      "[MainProcess/INFO] pool started with 12 workers\n",
      "[MainProcess/INFO] performing 10000 scenarios * 45 policies * 1 model(s) = 450000 experiments\n",
      "  0%|                                  | 163/450000 [00:16<10:34:08, 11.82it/s]"
     ]
    }
   ],
   "source": [
    "with MultiprocessingEvaluator(dike_model) as evaluator:\n",
    "    results = evaluator.perform_experiments(scenarios=n_scenarios,\n",
    "                                            policies=policies,\n",
    "                                            uncertainty_sampling=Samplers.LHS\n",
    "                                            )\n",
    "\n",
    "with open(r'../generated_datasets/policy_uncertainty_test.pkl', 'wb') as file_pi:\n",
    "    pickle.dump(results, file_pi)"
   ],
   "metadata": {
    "collapsed": false,
    "is_executing": true,
    "ExecuteTime": {
     "start_time": "2023-06-20T19:15:01.452756700Z"
    }
   }
  },
  {
   "cell_type": "markdown",
   "source": [
    "The results are then loaded in for analysis"
   ],
   "metadata": {
    "collapsed": false
   }
  },
  {
   "cell_type": "code",
   "execution_count": 6,
   "outputs": [
    {
     "data": {
      "text/plain": "        A.0_ID flood wave shape    A.1_Bmax A.1_Brate  A.1_pfail    A.2_Bmax   \n0                           123  114.999161       1.5   0.097214  267.026880  \\\n1                            12  114.507209      10.0   0.539099  117.390183   \n2                            93   67.728956       1.0   0.518512  105.078120   \n3                            76  189.885408      10.0   0.381116  147.348388   \n4                           105  220.684581      10.0   0.822199  341.672453   \n...                         ...         ...       ...        ...         ...   \n224995                       31  289.668313       1.0   0.052410   99.791409   \n224996                       69  314.054116       1.0   0.103507  181.102471   \n224997                       12  199.471980       1.0   0.020007  118.888179   \n224998                       65  319.848416       1.5   0.459135   97.898038   \n224999                       58  346.554302       1.0   0.187809  198.736924   \n\n       A.2_Brate  A.2_pfail    A.3_Bmax A.3_Brate  A.3_pfail  ...   \n0           10.0   0.534503   41.222939       1.5   0.074974  ...  \\\n1            1.5   0.810281  209.314732       1.0   0.011289  ...   \n2           10.0   0.700256   89.773865      10.0   0.407997  ...   \n3            1.0   0.320509  329.767171       1.0   0.035767  ...   \n4           10.0   0.331055  210.102760      10.0   0.801983  ...   \n...          ...        ...         ...       ...        ...  ...   \n224995       1.5   0.475975  117.906512       1.5   0.997902  ...   \n224996       1.5   0.875119   69.791147       1.0   0.342026  ...   \n224997       1.0   0.490355  325.124367      10.0   0.750680  ...   \n224998       1.5   0.945095  327.164295       1.5   0.325334  ...   \n224999      10.0   0.409980   93.531855       1.0   0.294995  ...   \n\n        A.3_DikeIncrease 2 A.4_DikeIncrease 0  A.4_DikeIncrease 1   \n0                        0                  3                   0  \\\n1                        0                  3                   0   \n2                        0                  3                   0   \n3                        0                  3                   0   \n4                        0                  3                   0   \n...                    ...                ...                 ...   \n224995                   0                  2                   0   \n224996                   0                  2                   0   \n224997                   0                  2                   0   \n224998                   0                  2                   0   \n224999                   0                  2                   0   \n\n        A.4_DikeIncrease 2 A.5_DikeIncrease 0  A.5_DikeIncrease 1   \n0                        0                  0                   0  \\\n1                        0                  0                   0   \n2                        0                  0                   0   \n3                        0                  0                   0   \n4                        0                  0                   0   \n...                    ...                ...                 ...   \n224995                   0                  0                   0   \n224996                   0                  0                   0   \n224997                   0                  0                   0   \n224998                   0                  0                   0   \n224999                   0                  0                   0   \n\n       A.5_DikeIncrease 2 scenario policy     model  \n0                       0        0      0  dikesnet  \n1                       0        1      0  dikesnet  \n2                       0        2      0  dikesnet  \n3                       0        3      0  dikesnet  \n4                       0        4      0  dikesnet  \n...                   ...      ...    ...       ...  \n224995                  0     4995     44  dikesnet  \n224996                  0     4996     44  dikesnet  \n224997                  0     4997     44  dikesnet  \n224998                  0     4998     44  dikesnet  \n224999                  0     4999     44  dikesnet  \n\n[225000 rows x 53 columns]",
      "text/html": "<div>\n<style scoped>\n    .dataframe tbody tr th:only-of-type {\n        vertical-align: middle;\n    }\n\n    .dataframe tbody tr th {\n        vertical-align: top;\n    }\n\n    .dataframe thead th {\n        text-align: right;\n    }\n</style>\n<table border=\"1\" class=\"dataframe\">\n  <thead>\n    <tr style=\"text-align: right;\">\n      <th></th>\n      <th>A.0_ID flood wave shape</th>\n      <th>A.1_Bmax</th>\n      <th>A.1_Brate</th>\n      <th>A.1_pfail</th>\n      <th>A.2_Bmax</th>\n      <th>A.2_Brate</th>\n      <th>A.2_pfail</th>\n      <th>A.3_Bmax</th>\n      <th>A.3_Brate</th>\n      <th>A.3_pfail</th>\n      <th>...</th>\n      <th>A.3_DikeIncrease 2</th>\n      <th>A.4_DikeIncrease 0</th>\n      <th>A.4_DikeIncrease 1</th>\n      <th>A.4_DikeIncrease 2</th>\n      <th>A.5_DikeIncrease 0</th>\n      <th>A.5_DikeIncrease 1</th>\n      <th>A.5_DikeIncrease 2</th>\n      <th>scenario</th>\n      <th>policy</th>\n      <th>model</th>\n    </tr>\n  </thead>\n  <tbody>\n    <tr>\n      <th>0</th>\n      <td>123</td>\n      <td>114.999161</td>\n      <td>1.5</td>\n      <td>0.097214</td>\n      <td>267.026880</td>\n      <td>10.0</td>\n      <td>0.534503</td>\n      <td>41.222939</td>\n      <td>1.5</td>\n      <td>0.074974</td>\n      <td>...</td>\n      <td>0</td>\n      <td>3</td>\n      <td>0</td>\n      <td>0</td>\n      <td>0</td>\n      <td>0</td>\n      <td>0</td>\n      <td>0</td>\n      <td>0</td>\n      <td>dikesnet</td>\n    </tr>\n    <tr>\n      <th>1</th>\n      <td>12</td>\n      <td>114.507209</td>\n      <td>10.0</td>\n      <td>0.539099</td>\n      <td>117.390183</td>\n      <td>1.5</td>\n      <td>0.810281</td>\n      <td>209.314732</td>\n      <td>1.0</td>\n      <td>0.011289</td>\n      <td>...</td>\n      <td>0</td>\n      <td>3</td>\n      <td>0</td>\n      <td>0</td>\n      <td>0</td>\n      <td>0</td>\n      <td>0</td>\n      <td>1</td>\n      <td>0</td>\n      <td>dikesnet</td>\n    </tr>\n    <tr>\n      <th>2</th>\n      <td>93</td>\n      <td>67.728956</td>\n      <td>1.0</td>\n      <td>0.518512</td>\n      <td>105.078120</td>\n      <td>10.0</td>\n      <td>0.700256</td>\n      <td>89.773865</td>\n      <td>10.0</td>\n      <td>0.407997</td>\n      <td>...</td>\n      <td>0</td>\n      <td>3</td>\n      <td>0</td>\n      <td>0</td>\n      <td>0</td>\n      <td>0</td>\n      <td>0</td>\n      <td>2</td>\n      <td>0</td>\n      <td>dikesnet</td>\n    </tr>\n    <tr>\n      <th>3</th>\n      <td>76</td>\n      <td>189.885408</td>\n      <td>10.0</td>\n      <td>0.381116</td>\n      <td>147.348388</td>\n      <td>1.0</td>\n      <td>0.320509</td>\n      <td>329.767171</td>\n      <td>1.0</td>\n      <td>0.035767</td>\n      <td>...</td>\n      <td>0</td>\n      <td>3</td>\n      <td>0</td>\n      <td>0</td>\n      <td>0</td>\n      <td>0</td>\n      <td>0</td>\n      <td>3</td>\n      <td>0</td>\n      <td>dikesnet</td>\n    </tr>\n    <tr>\n      <th>4</th>\n      <td>105</td>\n      <td>220.684581</td>\n      <td>10.0</td>\n      <td>0.822199</td>\n      <td>341.672453</td>\n      <td>10.0</td>\n      <td>0.331055</td>\n      <td>210.102760</td>\n      <td>10.0</td>\n      <td>0.801983</td>\n      <td>...</td>\n      <td>0</td>\n      <td>3</td>\n      <td>0</td>\n      <td>0</td>\n      <td>0</td>\n      <td>0</td>\n      <td>0</td>\n      <td>4</td>\n      <td>0</td>\n      <td>dikesnet</td>\n    </tr>\n    <tr>\n      <th>...</th>\n      <td>...</td>\n      <td>...</td>\n      <td>...</td>\n      <td>...</td>\n      <td>...</td>\n      <td>...</td>\n      <td>...</td>\n      <td>...</td>\n      <td>...</td>\n      <td>...</td>\n      <td>...</td>\n      <td>...</td>\n      <td>...</td>\n      <td>...</td>\n      <td>...</td>\n      <td>...</td>\n      <td>...</td>\n      <td>...</td>\n      <td>...</td>\n      <td>...</td>\n      <td>...</td>\n    </tr>\n    <tr>\n      <th>224995</th>\n      <td>31</td>\n      <td>289.668313</td>\n      <td>1.0</td>\n      <td>0.052410</td>\n      <td>99.791409</td>\n      <td>1.5</td>\n      <td>0.475975</td>\n      <td>117.906512</td>\n      <td>1.5</td>\n      <td>0.997902</td>\n      <td>...</td>\n      <td>0</td>\n      <td>2</td>\n      <td>0</td>\n      <td>0</td>\n      <td>0</td>\n      <td>0</td>\n      <td>0</td>\n      <td>4995</td>\n      <td>44</td>\n      <td>dikesnet</td>\n    </tr>\n    <tr>\n      <th>224996</th>\n      <td>69</td>\n      <td>314.054116</td>\n      <td>1.0</td>\n      <td>0.103507</td>\n      <td>181.102471</td>\n      <td>1.5</td>\n      <td>0.875119</td>\n      <td>69.791147</td>\n      <td>1.0</td>\n      <td>0.342026</td>\n      <td>...</td>\n      <td>0</td>\n      <td>2</td>\n      <td>0</td>\n      <td>0</td>\n      <td>0</td>\n      <td>0</td>\n      <td>0</td>\n      <td>4996</td>\n      <td>44</td>\n      <td>dikesnet</td>\n    </tr>\n    <tr>\n      <th>224997</th>\n      <td>12</td>\n      <td>199.471980</td>\n      <td>1.0</td>\n      <td>0.020007</td>\n      <td>118.888179</td>\n      <td>1.0</td>\n      <td>0.490355</td>\n      <td>325.124367</td>\n      <td>10.0</td>\n      <td>0.750680</td>\n      <td>...</td>\n      <td>0</td>\n      <td>2</td>\n      <td>0</td>\n      <td>0</td>\n      <td>0</td>\n      <td>0</td>\n      <td>0</td>\n      <td>4997</td>\n      <td>44</td>\n      <td>dikesnet</td>\n    </tr>\n    <tr>\n      <th>224998</th>\n      <td>65</td>\n      <td>319.848416</td>\n      <td>1.5</td>\n      <td>0.459135</td>\n      <td>97.898038</td>\n      <td>1.5</td>\n      <td>0.945095</td>\n      <td>327.164295</td>\n      <td>1.5</td>\n      <td>0.325334</td>\n      <td>...</td>\n      <td>0</td>\n      <td>2</td>\n      <td>0</td>\n      <td>0</td>\n      <td>0</td>\n      <td>0</td>\n      <td>0</td>\n      <td>4998</td>\n      <td>44</td>\n      <td>dikesnet</td>\n    </tr>\n    <tr>\n      <th>224999</th>\n      <td>58</td>\n      <td>346.554302</td>\n      <td>1.0</td>\n      <td>0.187809</td>\n      <td>198.736924</td>\n      <td>10.0</td>\n      <td>0.409980</td>\n      <td>93.531855</td>\n      <td>1.0</td>\n      <td>0.294995</td>\n      <td>...</td>\n      <td>0</td>\n      <td>2</td>\n      <td>0</td>\n      <td>0</td>\n      <td>0</td>\n      <td>0</td>\n      <td>0</td>\n      <td>4999</td>\n      <td>44</td>\n      <td>dikesnet</td>\n    </tr>\n  </tbody>\n</table>\n<p>225000 rows × 53 columns</p>\n</div>"
     },
     "execution_count": 6,
     "metadata": {},
     "output_type": "execute_result"
    }
   ],
   "source": [
    "scenario_results = pd.read_pickle(r'../generated_datasets/policy_uncertainty_test.pkl')\n",
    "experiments, outcomes = scenario_results\n",
    "experiments"
   ],
   "metadata": {
    "collapsed": false,
    "ExecuteTime": {
     "end_time": "2023-06-21T16:07:46.637732300Z",
     "start_time": "2023-06-21T16:07:46.502554700Z"
    }
   }
  },
  {
   "cell_type": "markdown",
   "source": [
    "Make a dataframe column for every timestep of the results."
   ],
   "metadata": {
    "collapsed": false
   }
  },
  {
   "cell_type": "code",
   "execution_count": 7,
   "outputs": [],
   "source": [
    "policies_all_scenarios = pd.DataFrame()\n",
    "for key, value in outcomes.items():\n",
    "    temp_df = pd.DataFrame(value, columns=[key + ' '+ str(x) for x in range(len(value[0]))])\n",
    "    policies_all_scenarios = pd.concat([policies_all_scenarios, temp_df], axis=1)"
   ],
   "metadata": {
    "collapsed": false,
    "ExecuteTime": {
     "end_time": "2023-06-21T16:07:51.390096200Z",
     "start_time": "2023-06-21T16:07:51.130914300Z"
    }
   }
  },
  {
   "cell_type": "markdown",
   "source": [
    "Add experiments input to the outputs for analysis"
   ],
   "metadata": {
    "collapsed": false
   }
  },
  {
   "cell_type": "code",
   "execution_count": 8,
   "outputs": [],
   "source": [
    "experiments_and_results = pd.concat([experiments,policies_all_scenarios], axis=1)\n",
    "\n",
    "with open(r'../generated_datasets/policy_uncertainty_experiments_results.pkl', 'wb') as file_pi:\n",
    "    pickle.dump(experiments_and_results, file_pi)"
   ],
   "metadata": {
    "collapsed": false,
    "ExecuteTime": {
     "end_time": "2023-06-21T16:07:52.422158700Z",
     "start_time": "2023-06-21T16:07:52.258325300Z"
    }
   }
  },
  {
   "cell_type": "markdown",
   "source": [
    "Combine the variables of different dikes and times"
   ],
   "metadata": {
    "collapsed": false
   }
  },
  {
   "cell_type": "code",
   "execution_count": 9,
   "outputs": [],
   "source": [
    "def combine_columns(dataframe, name):\n",
    "    combined_columns = []\n",
    "    for x in dataframe.columns:\n",
    "        if name in x:\n",
    "            combined_columns.append(x)\n",
    "\n",
    "    dataframe['Total ' + str(name)] = dataframe[combined_columns].sum(axis=1)"
   ],
   "metadata": {
    "collapsed": false,
    "ExecuteTime": {
     "end_time": "2023-06-21T16:07:53.617702100Z",
     "start_time": "2023-06-21T16:07:53.583718600Z"
    }
   }
  },
  {
   "cell_type": "code",
   "execution_count": 10,
   "outputs": [],
   "source": [
    "combine_columns(policies_all_scenarios, 'Expected Annual Damage')\n",
    "combine_columns(policies_all_scenarios, 'Dike Investment Costs')\n",
    "combine_columns(policies_all_scenarios, 'Expected Number of Deaths')\n",
    "combine_columns(policies_all_scenarios, 'RfR Total Costs')\n",
    "combine_columns(policies_all_scenarios, 'Expected Evacuation Costs')"
   ],
   "metadata": {
    "collapsed": false,
    "ExecuteTime": {
     "end_time": "2023-06-21T16:07:54.645523200Z",
     "start_time": "2023-06-21T16:07:54.456360900Z"
    }
   }
  },
  {
   "cell_type": "markdown",
   "source": [
    "Generate statistics"
   ],
   "metadata": {
    "collapsed": false
   }
  },
  {
   "cell_type": "code",
   "execution_count": 11,
   "outputs": [],
   "source": [
    "aggregated_outcomes = pd.concat([experiments[['scenario','policy']],policies_all_scenarios.iloc[:,-5:]], axis=1)\n",
    "\n",
    "stats_df = pd.DataFrame()\n",
    "for column in aggregated_outcomes.iloc[:,2:].columns:\n",
    "    stats_df[column + ' mean'] = aggregated_outcomes.groupby('policy').agg({column:['mean']})\n",
    "    stats_df[column + ' std'] = aggregated_outcomes.groupby('policy').agg({column:['std']})\n",
    "\n",
    "with open(r'../generated_datasets/policy_uncertainty_aggregated.pkl', 'wb') as file_pi:\n",
    "    pickle.dump(aggregated_outcomes, file_pi)"
   ],
   "metadata": {
    "collapsed": false,
    "ExecuteTime": {
     "end_time": "2023-06-21T16:07:55.658580200Z",
     "start_time": "2023-06-21T16:07:55.599660700Z"
    }
   }
  },
  {
   "cell_type": "code",
   "execution_count": null,
   "outputs": [],
   "source": [],
   "metadata": {
    "collapsed": false
   }
  }
 ],
 "metadata": {
  "kernelspec": {
   "display_name": "Python 3",
   "language": "python",
   "name": "python3"
  },
  "language_info": {
   "codemirror_mode": {
    "name": "ipython",
    "version": 2
   },
   "file_extension": ".py",
   "mimetype": "text/x-python",
   "name": "python",
   "nbconvert_exporter": "python",
   "pygments_lexer": "ipython2",
   "version": "2.7.6"
  }
 },
 "nbformat": 4,
 "nbformat_minor": 0
}
