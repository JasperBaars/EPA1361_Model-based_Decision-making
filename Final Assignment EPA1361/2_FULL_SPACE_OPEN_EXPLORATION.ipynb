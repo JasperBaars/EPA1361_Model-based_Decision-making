{
 "cells": [
  {
   "cell_type": "code",
   "execution_count": 1,
   "metadata": {
    "collapsed": true,
    "ExecuteTime": {
     "end_time": "2023-06-08T12:33:55.754731900Z",
     "start_time": "2023-06-08T12:33:49.691902300Z"
    }
   },
   "outputs": [],
   "source": [
    "import numpy as np\n",
    "import scipy as sp\n",
    "import pandas as pd\n",
    "import matplotlib.pyplot as plt\n",
    "import seaborn as sns\n",
    "import networkx as nx\n",
    "\n",
    "from ema_workbench import (\n",
    "    Model,\n",
    "    Policy,\n",
    "    ema_logging,\n",
    "    SequentialEvaluator,\n",
    "    MultiprocessingEvaluator,\n",
    "    Samplers,\n",
    ")\n",
    "from dike_model_function import DikeNetwork  # @UnresolvedImport\n",
    "from problem_formulation import get_model_for_problem_formulation, sum_over, sum_over_time\n",
    "import pickle\n",
    "\n",
    "from ema_workbench.util import utilities\n",
    "from ema_workbench.analysis import prim, cart"
   ]
  },
  {
   "cell_type": "markdown",
   "source": [
    "Open exploration with a lot of scenarios and a lot of policies to understand full space"
   ],
   "metadata": {
    "collapsed": false
   }
  },
  {
   "cell_type": "code",
   "execution_count": 2,
   "outputs": [],
   "source": [
    "ema_logging.log_to_stderr(ema_logging.INFO)\n",
    "\n",
    "# choose problem formulation number, between 0-5\n",
    "# each problem formulation has its own list of outcomes\n",
    "dike_model, planning_steps = get_model_for_problem_formulation(5)"
   ],
   "metadata": {
    "collapsed": false,
    "ExecuteTime": {
     "end_time": "2023-06-08T12:33:56.598128700Z",
     "start_time": "2023-06-08T12:33:55.754731900Z"
    }
   }
  },
  {
   "cell_type": "code",
   "execution_count": 3,
   "outputs": [
    {
     "name": "stderr",
     "output_type": "stream",
     "text": [
      "[MainProcess/INFO] pool started with 12 workers\n",
      "[MainProcess/INFO] performing 5 scenarios * 100 policies * 1 model(s) = 500 experiments\n",
      "100%|████████████████████████████████████████| 500/500 [01:03<00:00,  7.84it/s]\n",
      "[MainProcess/INFO] experiments finished\n",
      "[MainProcess/INFO] terminating pool\n",
      "[MainProcess/INFO] results saved successfully to C:\\Users\\beren\\Documents\\TU_Delft\\M_Jaar_1\\Q4\\Model_based_decision_making\\github_map\\EPA1361_Model-based_Decision-making\\Final Assignment EPA1361\\generated_datasets\\Open_exploration_500s_100p.csv\n"
     ]
    }
   ],
   "source": [
    "# running the model through EMA workbench\n",
    "with MultiprocessingEvaluator(dike_model) as evaluator:\n",
    "    results = evaluator.perform_experiments(scenarios=500, policies=100, uncertainty_sampling=Samplers.LHS)\n",
    "\n",
    "utilities.save_results(results,r'generated_datasets\\Open_exploration_500s_100p.csv')"
   ],
   "metadata": {
    "collapsed": false,
    "ExecuteTime": {
     "end_time": "2023-06-08T12:35:47.241954100Z",
     "start_time": "2023-06-08T12:33:59.450559900Z"
    }
   }
  },
  {
   "cell_type": "code",
   "execution_count": 8,
   "outputs": [],
   "source": [
    "results = pd.read_csv(r'generated_datasets\\Open_exploration_500s_100p.csv', compression='gzip',on_bad_lines='skip').dropna()"
   ],
   "metadata": {
    "collapsed": false,
    "ExecuteTime": {
     "end_time": "2023-06-08T12:37:26.136340100Z",
     "start_time": "2023-06-08T12:37:26.060376600Z"
    }
   }
  },
  {
   "cell_type": "code",
   "execution_count": 9,
   "outputs": [
    {
     "data": {
      "text/plain": "     experiments.csv    A.1_Bmax  A.1_Brate  A.1_pfail    A.2_Bmax  A.2_Brate   \n0               73.0  327.658885        1.5   0.925839  209.514169       10.0  \\\n1              131.0  111.849054       10.0   0.067978   94.865958        1.5   \n2               20.0   88.336384        1.0   0.221836  302.519898       10.0   \n3               93.0  178.529816        1.5   0.725354   72.761846        1.0   \n4               49.0  225.897724        1.5   0.451458  280.124764        1.5   \n..               ...         ...        ...        ...         ...        ...   \n495             73.0  327.658885        1.5   0.925839  209.514169       10.0   \n496            131.0  111.849054       10.0   0.067978   94.865958        1.5   \n497             20.0   88.336384        1.0   0.221836  302.519898       10.0   \n498             93.0  178.529816        1.5   0.725354   72.761846        1.0   \n499             49.0  225.897724        1.5   0.451458  280.124764        1.5   \n\n     A.2_pfail    A.3_Bmax  A.3_Brate  A.3_pfail  ...  A.4_DikeIncrease 0   \n0     0.445168   61.612325        1.0   0.177597  ...                 4.0  \\\n1     0.019514  101.516894       10.0   0.563677  ...                 4.0   \n2     0.900617  250.165264        1.5   0.349013  ...                 4.0   \n3     0.343151  331.719361        1.5   0.660683  ...                 4.0   \n4     0.788358  204.462435        1.0   0.862399  ...                 4.0   \n..         ...         ...        ...        ...  ...                 ...   \n495   0.445168   61.612325        1.0   0.177597  ...                10.0   \n496   0.019514  101.516894       10.0   0.563677  ...                10.0   \n497   0.900617  250.165264        1.5   0.349013  ...                10.0   \n498   0.343151  331.719361        1.5   0.660683  ...                10.0   \n499   0.788358  204.462435        1.0   0.862399  ...                10.0   \n\n     A.4_DikeIncrease 1  A.4_DikeIncrease 2  A.5_DikeIncrease 0   \n0                   2.0                 8.0                 8.0  \\\n1                   2.0                 8.0                 8.0   \n2                   2.0                 8.0                 8.0   \n3                   2.0                 8.0                 8.0   \n4                   2.0                 8.0                 8.0   \n..                  ...                 ...                 ...   \n495                 7.0                 1.0                 7.0   \n496                 7.0                 1.0                 7.0   \n497                 7.0                 1.0                 7.0   \n498                 7.0                 1.0                 7.0   \n499                 7.0                 1.0                 7.0   \n\n     A.5_DikeIncrease 1  A.5_DikeIncrease 2  EWS_DaysToThreat  scenario   \n0                   4.0                 9.0               2.0     100.0  \\\n1                   4.0                 9.0               2.0     101.0   \n2                   4.0                 9.0               2.0     102.0   \n3                   4.0                 9.0               2.0     103.0   \n4                   4.0                 9.0               2.0     104.0   \n..                  ...                 ...               ...       ...   \n495                10.0                 4.0               2.0     100.0   \n496                10.0                 4.0               2.0     101.0   \n497                10.0                 4.0               2.0     102.0   \n498                10.0                 4.0               2.0     103.0   \n499                10.0                 4.0               2.0     104.0   \n\n     policy     model  \n0       0.0  dikesnet  \n1       0.0  dikesnet  \n2       0.0  dikesnet  \n3       0.0  dikesnet  \n4       0.0  dikesnet  \n..      ...       ...  \n495    99.0  dikesnet  \n496    99.0  dikesnet  \n497    99.0  dikesnet  \n498    99.0  dikesnet  \n499    99.0  dikesnet  \n\n[500 rows x 53 columns]",
      "text/html": "<div>\n<style scoped>\n    .dataframe tbody tr th:only-of-type {\n        vertical-align: middle;\n    }\n\n    .dataframe tbody tr th {\n        vertical-align: top;\n    }\n\n    .dataframe thead th {\n        text-align: right;\n    }\n</style>\n<table border=\"1\" class=\"dataframe\">\n  <thead>\n    <tr style=\"text-align: right;\">\n      <th></th>\n      <th>experiments.csv</th>\n      <th>A.1_Bmax</th>\n      <th>A.1_Brate</th>\n      <th>A.1_pfail</th>\n      <th>A.2_Bmax</th>\n      <th>A.2_Brate</th>\n      <th>A.2_pfail</th>\n      <th>A.3_Bmax</th>\n      <th>A.3_Brate</th>\n      <th>A.3_pfail</th>\n      <th>...</th>\n      <th>A.4_DikeIncrease 0</th>\n      <th>A.4_DikeIncrease 1</th>\n      <th>A.4_DikeIncrease 2</th>\n      <th>A.5_DikeIncrease 0</th>\n      <th>A.5_DikeIncrease 1</th>\n      <th>A.5_DikeIncrease 2</th>\n      <th>EWS_DaysToThreat</th>\n      <th>scenario</th>\n      <th>policy</th>\n      <th>model</th>\n    </tr>\n  </thead>\n  <tbody>\n    <tr>\n      <th>0</th>\n      <td>73.0</td>\n      <td>327.658885</td>\n      <td>1.5</td>\n      <td>0.925839</td>\n      <td>209.514169</td>\n      <td>10.0</td>\n      <td>0.445168</td>\n      <td>61.612325</td>\n      <td>1.0</td>\n      <td>0.177597</td>\n      <td>...</td>\n      <td>4.0</td>\n      <td>2.0</td>\n      <td>8.0</td>\n      <td>8.0</td>\n      <td>4.0</td>\n      <td>9.0</td>\n      <td>2.0</td>\n      <td>100.0</td>\n      <td>0.0</td>\n      <td>dikesnet</td>\n    </tr>\n    <tr>\n      <th>1</th>\n      <td>131.0</td>\n      <td>111.849054</td>\n      <td>10.0</td>\n      <td>0.067978</td>\n      <td>94.865958</td>\n      <td>1.5</td>\n      <td>0.019514</td>\n      <td>101.516894</td>\n      <td>10.0</td>\n      <td>0.563677</td>\n      <td>...</td>\n      <td>4.0</td>\n      <td>2.0</td>\n      <td>8.0</td>\n      <td>8.0</td>\n      <td>4.0</td>\n      <td>9.0</td>\n      <td>2.0</td>\n      <td>101.0</td>\n      <td>0.0</td>\n      <td>dikesnet</td>\n    </tr>\n    <tr>\n      <th>2</th>\n      <td>20.0</td>\n      <td>88.336384</td>\n      <td>1.0</td>\n      <td>0.221836</td>\n      <td>302.519898</td>\n      <td>10.0</td>\n      <td>0.900617</td>\n      <td>250.165264</td>\n      <td>1.5</td>\n      <td>0.349013</td>\n      <td>...</td>\n      <td>4.0</td>\n      <td>2.0</td>\n      <td>8.0</td>\n      <td>8.0</td>\n      <td>4.0</td>\n      <td>9.0</td>\n      <td>2.0</td>\n      <td>102.0</td>\n      <td>0.0</td>\n      <td>dikesnet</td>\n    </tr>\n    <tr>\n      <th>3</th>\n      <td>93.0</td>\n      <td>178.529816</td>\n      <td>1.5</td>\n      <td>0.725354</td>\n      <td>72.761846</td>\n      <td>1.0</td>\n      <td>0.343151</td>\n      <td>331.719361</td>\n      <td>1.5</td>\n      <td>0.660683</td>\n      <td>...</td>\n      <td>4.0</td>\n      <td>2.0</td>\n      <td>8.0</td>\n      <td>8.0</td>\n      <td>4.0</td>\n      <td>9.0</td>\n      <td>2.0</td>\n      <td>103.0</td>\n      <td>0.0</td>\n      <td>dikesnet</td>\n    </tr>\n    <tr>\n      <th>4</th>\n      <td>49.0</td>\n      <td>225.897724</td>\n      <td>1.5</td>\n      <td>0.451458</td>\n      <td>280.124764</td>\n      <td>1.5</td>\n      <td>0.788358</td>\n      <td>204.462435</td>\n      <td>1.0</td>\n      <td>0.862399</td>\n      <td>...</td>\n      <td>4.0</td>\n      <td>2.0</td>\n      <td>8.0</td>\n      <td>8.0</td>\n      <td>4.0</td>\n      <td>9.0</td>\n      <td>2.0</td>\n      <td>104.0</td>\n      <td>0.0</td>\n      <td>dikesnet</td>\n    </tr>\n    <tr>\n      <th>...</th>\n      <td>...</td>\n      <td>...</td>\n      <td>...</td>\n      <td>...</td>\n      <td>...</td>\n      <td>...</td>\n      <td>...</td>\n      <td>...</td>\n      <td>...</td>\n      <td>...</td>\n      <td>...</td>\n      <td>...</td>\n      <td>...</td>\n      <td>...</td>\n      <td>...</td>\n      <td>...</td>\n      <td>...</td>\n      <td>...</td>\n      <td>...</td>\n      <td>...</td>\n      <td>...</td>\n    </tr>\n    <tr>\n      <th>495</th>\n      <td>73.0</td>\n      <td>327.658885</td>\n      <td>1.5</td>\n      <td>0.925839</td>\n      <td>209.514169</td>\n      <td>10.0</td>\n      <td>0.445168</td>\n      <td>61.612325</td>\n      <td>1.0</td>\n      <td>0.177597</td>\n      <td>...</td>\n      <td>10.0</td>\n      <td>7.0</td>\n      <td>1.0</td>\n      <td>7.0</td>\n      <td>10.0</td>\n      <td>4.0</td>\n      <td>2.0</td>\n      <td>100.0</td>\n      <td>99.0</td>\n      <td>dikesnet</td>\n    </tr>\n    <tr>\n      <th>496</th>\n      <td>131.0</td>\n      <td>111.849054</td>\n      <td>10.0</td>\n      <td>0.067978</td>\n      <td>94.865958</td>\n      <td>1.5</td>\n      <td>0.019514</td>\n      <td>101.516894</td>\n      <td>10.0</td>\n      <td>0.563677</td>\n      <td>...</td>\n      <td>10.0</td>\n      <td>7.0</td>\n      <td>1.0</td>\n      <td>7.0</td>\n      <td>10.0</td>\n      <td>4.0</td>\n      <td>2.0</td>\n      <td>101.0</td>\n      <td>99.0</td>\n      <td>dikesnet</td>\n    </tr>\n    <tr>\n      <th>497</th>\n      <td>20.0</td>\n      <td>88.336384</td>\n      <td>1.0</td>\n      <td>0.221836</td>\n      <td>302.519898</td>\n      <td>10.0</td>\n      <td>0.900617</td>\n      <td>250.165264</td>\n      <td>1.5</td>\n      <td>0.349013</td>\n      <td>...</td>\n      <td>10.0</td>\n      <td>7.0</td>\n      <td>1.0</td>\n      <td>7.0</td>\n      <td>10.0</td>\n      <td>4.0</td>\n      <td>2.0</td>\n      <td>102.0</td>\n      <td>99.0</td>\n      <td>dikesnet</td>\n    </tr>\n    <tr>\n      <th>498</th>\n      <td>93.0</td>\n      <td>178.529816</td>\n      <td>1.5</td>\n      <td>0.725354</td>\n      <td>72.761846</td>\n      <td>1.0</td>\n      <td>0.343151</td>\n      <td>331.719361</td>\n      <td>1.5</td>\n      <td>0.660683</td>\n      <td>...</td>\n      <td>10.0</td>\n      <td>7.0</td>\n      <td>1.0</td>\n      <td>7.0</td>\n      <td>10.0</td>\n      <td>4.0</td>\n      <td>2.0</td>\n      <td>103.0</td>\n      <td>99.0</td>\n      <td>dikesnet</td>\n    </tr>\n    <tr>\n      <th>499</th>\n      <td>49.0</td>\n      <td>225.897724</td>\n      <td>1.5</td>\n      <td>0.451458</td>\n      <td>280.124764</td>\n      <td>1.5</td>\n      <td>0.788358</td>\n      <td>204.462435</td>\n      <td>1.0</td>\n      <td>0.862399</td>\n      <td>...</td>\n      <td>10.0</td>\n      <td>7.0</td>\n      <td>1.0</td>\n      <td>7.0</td>\n      <td>10.0</td>\n      <td>4.0</td>\n      <td>2.0</td>\n      <td>104.0</td>\n      <td>99.0</td>\n      <td>dikesnet</td>\n    </tr>\n  </tbody>\n</table>\n<p>500 rows × 53 columns</p>\n</div>"
     },
     "execution_count": 9,
     "metadata": {},
     "output_type": "execute_result"
    }
   ],
   "source": [
    "results"
   ],
   "metadata": {
    "collapsed": false,
    "ExecuteTime": {
     "end_time": "2023-06-08T12:37:32.763237Z",
     "start_time": "2023-06-08T12:37:32.700501300Z"
    }
   }
  },
  {
   "cell_type": "markdown",
   "source": [
    "# Visualizations\n",
    "- histograms, means"
   ],
   "metadata": {
    "collapsed": false
   }
  },
  {
   "cell_type": "code",
   "execution_count": null,
   "outputs": [],
   "source": [],
   "metadata": {
    "collapsed": false
   }
  }
 ],
 "metadata": {
  "kernelspec": {
   "display_name": "Python 3",
   "language": "python",
   "name": "python3"
  },
  "language_info": {
   "codemirror_mode": {
    "name": "ipython",
    "version": 2
   },
   "file_extension": ".py",
   "mimetype": "text/x-python",
   "name": "python",
   "nbconvert_exporter": "python",
   "pygments_lexer": "ipython2",
   "version": "2.7.6"
  }
 },
 "nbformat": 4,
 "nbformat_minor": 0
}
