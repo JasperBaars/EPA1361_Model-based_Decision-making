{
 "cells": [
  {
   "cell_type": "code",
   "execution_count": 1,
   "metadata": {
    "collapsed": true,
    "ExecuteTime": {
     "end_time": "2023-06-12T20:59:36.812541900Z",
     "start_time": "2023-06-12T20:59:28.744924200Z"
    }
   },
   "outputs": [
    {
     "name": "stderr",
     "output_type": "stream",
     "text": [
      "D:\\EPA\\Advanced_simulation\\EPA1361_Model-based_Decision-making\\Lib\\site-packages\\ema_workbench\\analysis\\prim.py:30: ImportWarning: altair based interactive inspection not available\n",
      "  warnings.warn((\"altair based interactive \" \"inspection not available\"), ImportWarning)\n"
     ]
    }
   ],
   "source": [
    "import numpy as np\n",
    "import scipy as sp\n",
    "import pandas as pd\n",
    "import matplotlib.pyplot as plt\n",
    "import seaborn as sns\n",
    "import networkx as nx\n",
    "\n",
    "from ema_workbench import (\n",
    "    Model,\n",
    "    Policy,\n",
    "    ema_logging,\n",
    "    SequentialEvaluator,\n",
    "    MultiprocessingEvaluator,\n",
    "    Samplers,\n",
    ")\n",
    "from dike_model_function import DikeNetwork  # @UnresolvedImport\n",
    "from problem_formulation import get_model_for_problem_formulation, sum_over, sum_over_time\n",
    "import pickle\n",
    "\n",
    "from ema_workbench.util import utilities\n",
    "from ema_workbench.analysis import prim, cart"
   ]
  },
  {
   "cell_type": "markdown",
   "source": [
    "Open exploration with a lot of scenarios and a lot of policies to understand full space"
   ],
   "metadata": {
    "collapsed": false
   }
  },
  {
   "cell_type": "code",
   "execution_count": 2,
   "outputs": [],
   "source": [
    "ema_logging.log_to_stderr(ema_logging.INFO)\n",
    "\n",
    "# choose problem formulation number, between 0-5\n",
    "# each problem formulation has its own list of outcomes\n",
    "dike_model, planning_steps = get_model_for_problem_formulation(5)"
   ],
   "metadata": {
    "collapsed": false,
    "ExecuteTime": {
     "end_time": "2023-06-12T20:59:37.719547600Z",
     "start_time": "2023-06-12T20:59:36.813541100Z"
    }
   }
  },
  {
   "cell_type": "code",
   "execution_count": 3,
   "outputs": [
    {
     "name": "stderr",
     "output_type": "stream",
     "text": [
      "[MainProcess/INFO] pool started with 12 workers\n",
      "[MainProcess/INFO] performing 500 scenarios * 100 policies * 1 model(s) = 50000 experiments\n",
      "100%|██████████████████████████████████| 50000/50000 [1:11:53<00:00, 11.59it/s]\n",
      "[MainProcess/INFO] experiments finished\n",
      "[MainProcess/INFO] terminating pool\n",
      "[MainProcess/INFO] results saved successfully to D:\\EPA\\Model based des\\github\\EPA1361_Model-based_Decision-making\\Final Assignment EPA1361\\generated_datasets\\Open_exploration_500s_100p.csv\n"
     ]
    }
   ],
   "source": [
    "# running the model through EMA workbench\n",
    "with MultiprocessingEvaluator(dike_model) as evaluator:\n",
    "    results = evaluator.perform_experiments(scenarios=500, policies=100, uncertainty_sampling=Samplers.LHS)\n",
    "\n",
    "utilities.save_results(results,r'generated_datasets\\Open_exploration_500s_100p.csv')"
   ],
   "metadata": {
    "collapsed": false,
    "ExecuteTime": {
     "end_time": "2023-06-12T22:12:22.434418400Z",
     "start_time": "2023-06-12T20:59:37.720547Z"
    }
   }
  },
  {
   "cell_type": "code",
   "execution_count": 4,
   "outputs": [
    {
     "name": "stderr",
     "output_type": "stream",
     "text": [
      "C:\\Users\\Mr Wide Man\\AppData\\Local\\Temp\\ipykernel_21036\\2990351976.py:1: DtypeWarning: Columns (52) have mixed types. Specify dtype option on import or set low_memory=False.\n",
      "  results = pd.read_csv(r'generated_datasets\\Open_exploration_500s_100p.csv', compression='gzip',on_bad_lines='skip').dropna()\n"
     ]
    }
   ],
   "source": [
    "results = pd.read_csv(r'generated_datasets\\Open_exploration_500s_100p.csv', compression='gzip',on_bad_lines='skip').dropna()"
   ],
   "metadata": {
    "collapsed": false,
    "ExecuteTime": {
     "end_time": "2023-06-12T22:12:24.622886700Z",
     "start_time": "2023-06-12T22:12:22.434418400Z"
    }
   }
  },
  {
   "cell_type": "code",
   "execution_count": 5,
   "outputs": [
    {
     "data": {
      "text/plain": "       experiments.csv    A.1_Bmax  A.1_Brate  A.1_pfail    A.2_Bmax  \\\n0                103.0  126.761790       10.0   0.480237  286.206356   \n1                 77.0  174.536130        1.0   0.514238  140.234977   \n2                104.0  347.401620        1.0   0.788641  340.740728   \n3                 67.0  243.821032        1.0   0.301965  110.680584   \n4                107.0  254.885236       10.0   0.382175   64.608617   \n...                ...         ...        ...        ...         ...   \n49995             77.0  115.271860        1.5   0.803646   43.533300   \n49996             92.0  224.129978        1.5   0.177211   92.265256   \n49997             67.0  102.038022        1.0   0.451318  142.984067   \n49998             83.0  223.532833        1.0   0.913788  139.657520   \n49999             58.0  119.305955        1.5   0.513381  154.488091   \n\n       A.2_Brate  A.2_pfail    A.3_Bmax  A.3_Brate  A.3_pfail  ...  \\\n0            1.5   0.209962  235.418035        1.0   0.867331  ...   \n1           10.0   0.017645   44.285252        1.5   0.955095  ...   \n2            1.5   0.189081   82.164102       10.0   0.304170  ...   \n3            1.5   0.247839  326.319987        1.0   0.897078  ...   \n4            1.0   0.387761  275.928361        1.0   0.138295  ...   \n...          ...        ...         ...        ...        ...  ...   \n49995        1.5   0.340982  322.824429        1.0   0.087758  ...   \n49996        1.0   0.791877   34.992179        1.5   0.412027  ...   \n49997        1.0   0.766596  286.951851        1.0   0.561066  ...   \n49998        1.5   0.938869  180.252710        1.5   0.316079  ...   \n49999       10.0   0.982249   42.128091        1.5   0.814998  ...   \n\n       A.4_DikeIncrease 0  A.4_DikeIncrease 1  A.4_DikeIncrease 2  \\\n0                     8.0                 5.0                 6.0   \n1                     8.0                 5.0                 6.0   \n2                     8.0                 5.0                 6.0   \n3                     8.0                 5.0                 6.0   \n4                     8.0                 5.0                 6.0   \n...                   ...                 ...                 ...   \n49995                10.0                 0.0                 3.0   \n49996                10.0                 0.0                 3.0   \n49997                10.0                 0.0                 3.0   \n49998                10.0                 0.0                 3.0   \n49999                10.0                 0.0                 3.0   \n\n       A.5_DikeIncrease 0  A.5_DikeIncrease 1  A.5_DikeIncrease 2  \\\n0                    10.0                 4.0                 1.0   \n1                    10.0                 4.0                 1.0   \n2                    10.0                 4.0                 1.0   \n3                    10.0                 4.0                 1.0   \n4                    10.0                 4.0                 1.0   \n...                   ...                 ...                 ...   \n49995                10.0                 9.0                10.0   \n49996                10.0                 9.0                10.0   \n49997                10.0                 9.0                10.0   \n49998                10.0                 9.0                10.0   \n49999                10.0                 9.0                10.0   \n\n       EWS_DaysToThreat  scenario  policy     model  \n0                   0.0     100.0     0.0  dikesnet  \n1                   0.0     101.0     0.0  dikesnet  \n2                   0.0     102.0     0.0  dikesnet  \n3                   0.0     103.0     0.0  dikesnet  \n4                   0.0     104.0     0.0  dikesnet  \n...                 ...       ...     ...       ...  \n49995               4.0     595.0    99.0  dikesnet  \n49996               4.0     596.0    99.0  dikesnet  \n49997               4.0     597.0    99.0  dikesnet  \n49998               4.0     598.0    99.0  dikesnet  \n49999               4.0     599.0    99.0  dikesnet  \n\n[50000 rows x 53 columns]",
      "text/html": "<div>\n<style scoped>\n    .dataframe tbody tr th:only-of-type {\n        vertical-align: middle;\n    }\n\n    .dataframe tbody tr th {\n        vertical-align: top;\n    }\n\n    .dataframe thead th {\n        text-align: right;\n    }\n</style>\n<table border=\"1\" class=\"dataframe\">\n  <thead>\n    <tr style=\"text-align: right;\">\n      <th></th>\n      <th>experiments.csv</th>\n      <th>A.1_Bmax</th>\n      <th>A.1_Brate</th>\n      <th>A.1_pfail</th>\n      <th>A.2_Bmax</th>\n      <th>A.2_Brate</th>\n      <th>A.2_pfail</th>\n      <th>A.3_Bmax</th>\n      <th>A.3_Brate</th>\n      <th>A.3_pfail</th>\n      <th>...</th>\n      <th>A.4_DikeIncrease 0</th>\n      <th>A.4_DikeIncrease 1</th>\n      <th>A.4_DikeIncrease 2</th>\n      <th>A.5_DikeIncrease 0</th>\n      <th>A.5_DikeIncrease 1</th>\n      <th>A.5_DikeIncrease 2</th>\n      <th>EWS_DaysToThreat</th>\n      <th>scenario</th>\n      <th>policy</th>\n      <th>model</th>\n    </tr>\n  </thead>\n  <tbody>\n    <tr>\n      <th>0</th>\n      <td>103.0</td>\n      <td>126.761790</td>\n      <td>10.0</td>\n      <td>0.480237</td>\n      <td>286.206356</td>\n      <td>1.5</td>\n      <td>0.209962</td>\n      <td>235.418035</td>\n      <td>1.0</td>\n      <td>0.867331</td>\n      <td>...</td>\n      <td>8.0</td>\n      <td>5.0</td>\n      <td>6.0</td>\n      <td>10.0</td>\n      <td>4.0</td>\n      <td>1.0</td>\n      <td>0.0</td>\n      <td>100.0</td>\n      <td>0.0</td>\n      <td>dikesnet</td>\n    </tr>\n    <tr>\n      <th>1</th>\n      <td>77.0</td>\n      <td>174.536130</td>\n      <td>1.0</td>\n      <td>0.514238</td>\n      <td>140.234977</td>\n      <td>10.0</td>\n      <td>0.017645</td>\n      <td>44.285252</td>\n      <td>1.5</td>\n      <td>0.955095</td>\n      <td>...</td>\n      <td>8.0</td>\n      <td>5.0</td>\n      <td>6.0</td>\n      <td>10.0</td>\n      <td>4.0</td>\n      <td>1.0</td>\n      <td>0.0</td>\n      <td>101.0</td>\n      <td>0.0</td>\n      <td>dikesnet</td>\n    </tr>\n    <tr>\n      <th>2</th>\n      <td>104.0</td>\n      <td>347.401620</td>\n      <td>1.0</td>\n      <td>0.788641</td>\n      <td>340.740728</td>\n      <td>1.5</td>\n      <td>0.189081</td>\n      <td>82.164102</td>\n      <td>10.0</td>\n      <td>0.304170</td>\n      <td>...</td>\n      <td>8.0</td>\n      <td>5.0</td>\n      <td>6.0</td>\n      <td>10.0</td>\n      <td>4.0</td>\n      <td>1.0</td>\n      <td>0.0</td>\n      <td>102.0</td>\n      <td>0.0</td>\n      <td>dikesnet</td>\n    </tr>\n    <tr>\n      <th>3</th>\n      <td>67.0</td>\n      <td>243.821032</td>\n      <td>1.0</td>\n      <td>0.301965</td>\n      <td>110.680584</td>\n      <td>1.5</td>\n      <td>0.247839</td>\n      <td>326.319987</td>\n      <td>1.0</td>\n      <td>0.897078</td>\n      <td>...</td>\n      <td>8.0</td>\n      <td>5.0</td>\n      <td>6.0</td>\n      <td>10.0</td>\n      <td>4.0</td>\n      <td>1.0</td>\n      <td>0.0</td>\n      <td>103.0</td>\n      <td>0.0</td>\n      <td>dikesnet</td>\n    </tr>\n    <tr>\n      <th>4</th>\n      <td>107.0</td>\n      <td>254.885236</td>\n      <td>10.0</td>\n      <td>0.382175</td>\n      <td>64.608617</td>\n      <td>1.0</td>\n      <td>0.387761</td>\n      <td>275.928361</td>\n      <td>1.0</td>\n      <td>0.138295</td>\n      <td>...</td>\n      <td>8.0</td>\n      <td>5.0</td>\n      <td>6.0</td>\n      <td>10.0</td>\n      <td>4.0</td>\n      <td>1.0</td>\n      <td>0.0</td>\n      <td>104.0</td>\n      <td>0.0</td>\n      <td>dikesnet</td>\n    </tr>\n    <tr>\n      <th>...</th>\n      <td>...</td>\n      <td>...</td>\n      <td>...</td>\n      <td>...</td>\n      <td>...</td>\n      <td>...</td>\n      <td>...</td>\n      <td>...</td>\n      <td>...</td>\n      <td>...</td>\n      <td>...</td>\n      <td>...</td>\n      <td>...</td>\n      <td>...</td>\n      <td>...</td>\n      <td>...</td>\n      <td>...</td>\n      <td>...</td>\n      <td>...</td>\n      <td>...</td>\n      <td>...</td>\n    </tr>\n    <tr>\n      <th>49995</th>\n      <td>77.0</td>\n      <td>115.271860</td>\n      <td>1.5</td>\n      <td>0.803646</td>\n      <td>43.533300</td>\n      <td>1.5</td>\n      <td>0.340982</td>\n      <td>322.824429</td>\n      <td>1.0</td>\n      <td>0.087758</td>\n      <td>...</td>\n      <td>10.0</td>\n      <td>0.0</td>\n      <td>3.0</td>\n      <td>10.0</td>\n      <td>9.0</td>\n      <td>10.0</td>\n      <td>4.0</td>\n      <td>595.0</td>\n      <td>99.0</td>\n      <td>dikesnet</td>\n    </tr>\n    <tr>\n      <th>49996</th>\n      <td>92.0</td>\n      <td>224.129978</td>\n      <td>1.5</td>\n      <td>0.177211</td>\n      <td>92.265256</td>\n      <td>1.0</td>\n      <td>0.791877</td>\n      <td>34.992179</td>\n      <td>1.5</td>\n      <td>0.412027</td>\n      <td>...</td>\n      <td>10.0</td>\n      <td>0.0</td>\n      <td>3.0</td>\n      <td>10.0</td>\n      <td>9.0</td>\n      <td>10.0</td>\n      <td>4.0</td>\n      <td>596.0</td>\n      <td>99.0</td>\n      <td>dikesnet</td>\n    </tr>\n    <tr>\n      <th>49997</th>\n      <td>67.0</td>\n      <td>102.038022</td>\n      <td>1.0</td>\n      <td>0.451318</td>\n      <td>142.984067</td>\n      <td>1.0</td>\n      <td>0.766596</td>\n      <td>286.951851</td>\n      <td>1.0</td>\n      <td>0.561066</td>\n      <td>...</td>\n      <td>10.0</td>\n      <td>0.0</td>\n      <td>3.0</td>\n      <td>10.0</td>\n      <td>9.0</td>\n      <td>10.0</td>\n      <td>4.0</td>\n      <td>597.0</td>\n      <td>99.0</td>\n      <td>dikesnet</td>\n    </tr>\n    <tr>\n      <th>49998</th>\n      <td>83.0</td>\n      <td>223.532833</td>\n      <td>1.0</td>\n      <td>0.913788</td>\n      <td>139.657520</td>\n      <td>1.5</td>\n      <td>0.938869</td>\n      <td>180.252710</td>\n      <td>1.5</td>\n      <td>0.316079</td>\n      <td>...</td>\n      <td>10.0</td>\n      <td>0.0</td>\n      <td>3.0</td>\n      <td>10.0</td>\n      <td>9.0</td>\n      <td>10.0</td>\n      <td>4.0</td>\n      <td>598.0</td>\n      <td>99.0</td>\n      <td>dikesnet</td>\n    </tr>\n    <tr>\n      <th>49999</th>\n      <td>58.0</td>\n      <td>119.305955</td>\n      <td>1.5</td>\n      <td>0.513381</td>\n      <td>154.488091</td>\n      <td>10.0</td>\n      <td>0.982249</td>\n      <td>42.128091</td>\n      <td>1.5</td>\n      <td>0.814998</td>\n      <td>...</td>\n      <td>10.0</td>\n      <td>0.0</td>\n      <td>3.0</td>\n      <td>10.0</td>\n      <td>9.0</td>\n      <td>10.0</td>\n      <td>4.0</td>\n      <td>599.0</td>\n      <td>99.0</td>\n      <td>dikesnet</td>\n    </tr>\n  </tbody>\n</table>\n<p>50000 rows × 53 columns</p>\n</div>"
     },
     "execution_count": 5,
     "metadata": {},
     "output_type": "execute_result"
    }
   ],
   "source": [
    "results"
   ],
   "metadata": {
    "collapsed": false,
    "ExecuteTime": {
     "end_time": "2023-06-12T22:12:24.696603300Z",
     "start_time": "2023-06-12T22:12:24.607256800Z"
    }
   }
  },
  {
   "cell_type": "markdown",
   "source": [
    "# Visualizations\n",
    "- histograms, means"
   ],
   "metadata": {
    "collapsed": false
   }
  },
  {
   "cell_type": "code",
   "execution_count": 5,
   "outputs": [],
   "source": [],
   "metadata": {
    "collapsed": false,
    "ExecuteTime": {
     "end_time": "2023-06-12T22:12:24.696603300Z",
     "start_time": "2023-06-12T22:12:24.696603300Z"
    }
   }
  }
 ],
 "metadata": {
  "kernelspec": {
   "display_name": "Python 3",
   "language": "python",
   "name": "python3"
  },
  "language_info": {
   "codemirror_mode": {
    "name": "ipython",
    "version": 2
   },
   "file_extension": ".py",
   "mimetype": "text/x-python",
   "name": "python",
   "nbconvert_exporter": "python",
   "pygments_lexer": "ipython2",
   "version": "2.7.6"
  }
 },
 "nbformat": 4,
 "nbformat_minor": 0
}
