{
 "cells": [
  {
   "cell_type": "code",
   "execution_count": 1,
   "metadata": {
    "collapsed": true,
    "ExecuteTime": {
     "end_time": "2023-06-12T18:12:44.138370100Z",
     "start_time": "2023-06-12T18:12:42.526980500Z"
    }
   },
   "outputs": [
    {
     "data": {
      "text/plain": "<Logger EMA (DEBUG)>"
     },
     "execution_count": 1,
     "metadata": {},
     "output_type": "execute_result"
    }
   ],
   "source": [
    "from ema_workbench import (Model, RealParameter, ScalarOutcome,\n",
    "                           MultiprocessingEvaluator, ema_logging,\n",
    "                           Constant)\n",
    "from problem_formulation import get_model_for_problem_formulation\n",
    "\n",
    "\n",
    "\n",
    "from ema_workbench import MultiprocessingEvaluator, ema_logging\n",
    "from ema_workbench.em_framework.evaluators import MultiprocessingEvaluator\n",
    "\n",
    "ema_logging.log_to_stderr(ema_logging.INFO)"
   ]
  },
  {
   "cell_type": "code",
   "execution_count": 2,
   "outputs": [],
   "source": [
    "dike_model, planning_steps = get_model_for_problem_formulation(1)\n",
    "\n",
    "# add direction of preferred outcomes\n",
    "#dike_model.outcomes = [ScalarOutcome(i, kind=ScalarOutcome.MINIMIZE) for i in dike_model.outcomes.keys()]"
   ],
   "metadata": {
    "collapsed": false,
    "ExecuteTime": {
     "end_time": "2023-06-12T18:12:45.159403500Z",
     "start_time": "2023-06-12T18:12:44.510413600Z"
    }
   }
  },
  {
   "cell_type": "markdown",
   "source": [
    "- epsilon-NSGA2, a state of the art many-objective evolutionary algorithm.\n",
    "- nfe: number of function evaluations, to be determined by analyzing whether the algorithm has converged.\n",
    "- epsilons: grid is imposed on the objective space, and per grid cell a single solution is maintained. The granularity of the grid is specified through the epsilon values. Epsilon should be a list or array with a length equal to the number of outcomes. Below, we will see what the impact is of changing epsilon values. By making our epsilons higher, we are coursening the grid, and thus are reducing the number of solutions we find."
   ],
   "metadata": {
    "collapsed": false
   }
  },
  {
   "cell_type": "code",
   "execution_count": 9,
   "outputs": [
    {
     "name": "stdout",
     "output_type": "stream",
     "text": [
      "[0.1, 0.1, 0.1]\n"
     ]
    }
   ],
   "source": [
    "dike_model\n",
    "test = [0.1,]*len(dike_model.outcomes)\n",
    "print(test)"
   ],
   "metadata": {
    "collapsed": false,
    "ExecuteTime": {
     "end_time": "2023-06-12T18:13:23.125149700Z",
     "start_time": "2023-06-12T18:13:23.116828300Z"
    }
   }
  },
  {
   "cell_type": "code",
   "execution_count": 4,
   "outputs": [
    {
     "ename": "TypeError",
     "evalue": "[0 1 2] should be an AbstractModel instance but is a <class 'numpy.ndarray'> instance",
     "output_type": "error",
     "traceback": [
      "\u001B[1;31m---------------------------------------------------------------------------\u001B[0m",
      "\u001B[1;31mTypeError\u001B[0m                                 Traceback (most recent call last)",
      "Cell \u001B[1;32mIn[4], line 1\u001B[0m\n\u001B[1;32m----> 1\u001B[0m \u001B[38;5;28;01mwith\u001B[39;00m \u001B[43mMultiprocessingEvaluator\u001B[49m\u001B[43m(\u001B[49m\u001B[43mdike_model\u001B[49m\u001B[43m)\u001B[49m \u001B[38;5;28;01mas\u001B[39;00m evaluator:\n\u001B[0;32m      2\u001B[0m     results \u001B[38;5;241m=\u001B[39m evaluator\u001B[38;5;241m.\u001B[39moptimize(nfe\u001B[38;5;241m=\u001B[39m\u001B[38;5;241m10\u001B[39m, searchover\u001B[38;5;241m=\u001B[39m\u001B[38;5;124m'\u001B[39m\u001B[38;5;124mlevers\u001B[39m\u001B[38;5;124m'\u001B[39m, epsilons\u001B[38;5;241m=\u001B[39m[\u001B[38;5;241m0.1\u001B[39m]\u001B[38;5;241m*\u001B[39m\u001B[38;5;28mlen\u001B[39m(dike_model\u001B[38;5;241m.\u001B[39moutcomes))\n",
      "File \u001B[1;32m~\\Documents\\TU_Delft\\M_Jaar_1\\Q4\\Model_based_decision_making\\mbd_venv\\Lib\\site-packages\\ema_workbench\\em_framework\\evaluators.py:335\u001B[0m, in \u001B[0;36mMultiprocessingEvaluator.__init__\u001B[1;34m(self, msis, n_processes, maxtasksperchild, **kwargs)\u001B[0m\n\u001B[0;32m    334\u001B[0m \u001B[38;5;28;01mdef\u001B[39;00m \u001B[38;5;21m__init__\u001B[39m(\u001B[38;5;28mself\u001B[39m, msis, n_processes\u001B[38;5;241m=\u001B[39m\u001B[38;5;28;01mNone\u001B[39;00m, maxtasksperchild\u001B[38;5;241m=\u001B[39m\u001B[38;5;28;01mNone\u001B[39;00m, \u001B[38;5;241m*\u001B[39m\u001B[38;5;241m*\u001B[39mkwargs):\n\u001B[1;32m--> 335\u001B[0m     \u001B[38;5;28;43msuper\u001B[39;49m\u001B[43m(\u001B[49m\u001B[43m)\u001B[49m\u001B[38;5;241;43m.\u001B[39;49m\u001B[38;5;21;43m__init__\u001B[39;49m\u001B[43m(\u001B[49m\u001B[43mmsis\u001B[49m\u001B[43m,\u001B[49m\u001B[43m \u001B[49m\u001B[38;5;241;43m*\u001B[39;49m\u001B[38;5;241;43m*\u001B[39;49m\u001B[43mkwargs\u001B[49m\u001B[43m)\u001B[49m\n\u001B[0;32m    337\u001B[0m     \u001B[38;5;28mself\u001B[39m\u001B[38;5;241m.\u001B[39m_pool \u001B[38;5;241m=\u001B[39m \u001B[38;5;28;01mNone\u001B[39;00m\n\u001B[0;32m    339\u001B[0m     \u001B[38;5;66;03m# Calculate n_processes if negative value is inputted\u001B[39;00m\n",
      "File \u001B[1;32m~\\Documents\\TU_Delft\\M_Jaar_1\\Q4\\Model_based_decision_making\\mbd_venv\\Lib\\site-packages\\ema_workbench\\em_framework\\evaluators.py:118\u001B[0m, in \u001B[0;36mBaseEvaluator.__init__\u001B[1;34m(self, msis)\u001B[0m\n\u001B[0;32m    116\u001B[0m     \u001B[38;5;28;01mfor\u001B[39;00m entry \u001B[38;5;129;01min\u001B[39;00m msis:\n\u001B[0;32m    117\u001B[0m         \u001B[38;5;28;01mif\u001B[39;00m \u001B[38;5;129;01mnot\u001B[39;00m \u001B[38;5;28misinstance\u001B[39m(entry, AbstractModel):\n\u001B[1;32m--> 118\u001B[0m             \u001B[38;5;28;01mraise\u001B[39;00m \u001B[38;5;167;01mTypeError\u001B[39;00m(\n\u001B[0;32m    119\u001B[0m                 \u001B[38;5;124mf\u001B[39m\u001B[38;5;124m\"\u001B[39m\u001B[38;5;132;01m{\u001B[39;00mentry\u001B[38;5;132;01m}\u001B[39;00m\u001B[38;5;124m should be an AbstractModel \u001B[39m\u001B[38;5;124m\"\u001B[39m\n\u001B[0;32m    120\u001B[0m                 \u001B[38;5;124mf\u001B[39m\u001B[38;5;124m\"\u001B[39m\u001B[38;5;124minstance but is a \u001B[39m\u001B[38;5;132;01m{\u001B[39;00mentry\u001B[38;5;241m.\u001B[39m\u001B[38;5;18m__class__\u001B[39m\u001B[38;5;132;01m}\u001B[39;00m\u001B[38;5;124m instance\u001B[39m\u001B[38;5;124m\"\u001B[39m\n\u001B[0;32m    121\u001B[0m             )\n\u001B[0;32m    123\u001B[0m \u001B[38;5;28mself\u001B[39m\u001B[38;5;241m.\u001B[39m_msis \u001B[38;5;241m=\u001B[39m msis\n\u001B[0;32m    124\u001B[0m \u001B[38;5;28mself\u001B[39m\u001B[38;5;241m.\u001B[39mcallback \u001B[38;5;241m=\u001B[39m \u001B[38;5;28;01mNone\u001B[39;00m\n",
      "\u001B[1;31mTypeError\u001B[0m: [0 1 2] should be an AbstractModel instance but is a <class 'numpy.ndarray'> instance"
     ]
    }
   ],
   "source": [
    "# om een of andere reden geeft deze een error: ema_workbench.util.ema_exceptions.EMAError: exception in run_model Caused by: KeyError: 'ID flood wave shape'\n",
    "\n",
    "# https://github.com/quaquel/epa1361_open/blob/master/Week%205-6%20-%20robustness%20and%20direct%20search/assignment%209%20-%20model%20answer.ipynb\n",
    "\n",
    "with MultiprocessingEvaluator(dike_model) as evaluator:\n",
    "    results = evaluator.optimize(nfe=10, searchover='levers', epsilons=[0.1]*len(dike_model.outcomes))"
   ],
   "metadata": {
    "collapsed": false,
    "ExecuteTime": {
     "end_time": "2023-06-12T17:50:47.298481500Z",
     "start_time": "2023-06-12T17:50:47.246272300Z"
    }
   }
  },
  {
   "cell_type": "code",
   "execution_count": null,
   "outputs": [],
   "source": [],
   "metadata": {
    "collapsed": false
   }
  }
 ],
 "metadata": {
  "kernelspec": {
   "display_name": "Python 3",
   "language": "python",
   "name": "python3"
  },
  "language_info": {
   "codemirror_mode": {
    "name": "ipython",
    "version": 2
   },
   "file_extension": ".py",
   "mimetype": "text/x-python",
   "name": "python",
   "nbconvert_exporter": "python",
   "pygments_lexer": "ipython2",
   "version": "2.7.6"
  }
 },
 "nbformat": 4,
 "nbformat_minor": 0
}
