{
 "cells": [
  {
   "cell_type": "code",
   "execution_count": 1,
   "metadata": {
    "ExecuteTime": {
     "end_time": "2023-05-10T12:06:50.421029Z",
     "start_time": "2023-05-10T12:06:49.987024Z"
    }
   },
   "outputs": [],
   "source": [
    "import numpy as np\n",
    "import scipy as sp\n",
    "import pandas as pd\n",
    "import matplotlib.pyplot as plt\n",
    "import seaborn as sns\n",
    "import networkx as nx"
   ]
  },
  {
   "cell_type": "code",
   "execution_count": 2,
   "metadata": {
    "ExecuteTime": {
     "end_time": "2023-05-10T12:06:50.429838700Z",
     "start_time": "2023-05-10T12:06:50.422034200Z"
    }
   },
   "outputs": [
    {
     "name": "stdout",
     "output_type": "stream",
     "text": [
      "2.0.2\n",
      "3.1\n"
     ]
    }
   ],
   "source": [
    "# make sure pandas is version 1.0 or higher\n",
    "# make sure networkx is verion 2.4 or higher\n",
    "print(pd.__version__)\n",
    "print(nx.__version__)"
   ]
  },
  {
   "cell_type": "code",
   "execution_count": 3,
   "metadata": {
    "scrolled": true
   },
   "outputs": [],
   "source": [
    "from ema_workbench import (\n",
    "    Model,\n",
    "    Policy,\n",
    "    ema_logging,\n",
    "    SequentialEvaluator,\n",
    "    MultiprocessingEvaluator,\n",
    ")\n",
    "from dike_model_function import DikeNetwork  # @UnresolvedImport\n",
    "from problem_formulation import get_model_for_problem_formulation, sum_over, sum_over_time\n",
    "\n"
   ]
  },
  {
   "cell_type": "code",
   "execution_count": 4,
   "metadata": {},
   "outputs": [],
   "source": [
    "ema_logging.log_to_stderr(ema_logging.INFO)\n",
    "\n",
    "# choose problem formulation number, between 0-5\n",
    "# each problem formulation has its own list of outcomes\n",
    "dike_model, planning_steps = get_model_for_problem_formulation(3)"
   ]
  },
  {
   "cell_type": "code",
   "execution_count": 5,
   "metadata": {},
   "outputs": [
    {
     "name": "stdout",
     "output_type": "stream",
     "text": [
      "CategoricalParameter('discount rate 0', [0, 1, 2, 3])\n",
      "CategoricalParameter('discount rate 1', [0, 1, 2, 3])\n",
      "CategoricalParameter('discount rate 2', [0, 1, 2, 3])\n",
      "IntegerParameter('A.0_ID flood wave shape', 0, 132, resolution=None, default=None, variable_name=['A.0_ID flood wave shape'], pff=False)\n",
      "RealParameter('A.1_Bmax', 30, 350, resolution=None, default=None, variable_name=['A.1_Bmax'], pff=False)\n",
      "RealParameter('A.1_pfail', 0, 1, resolution=None, default=None, variable_name=['A.1_pfail'], pff=False)\n",
      "CategoricalParameter('A.1_Brate', [0, 1, 2])\n",
      "RealParameter('A.2_Bmax', 30, 350, resolution=None, default=None, variable_name=['A.2_Bmax'], pff=False)\n",
      "RealParameter('A.2_pfail', 0, 1, resolution=None, default=None, variable_name=['A.2_pfail'], pff=False)\n",
      "CategoricalParameter('A.2_Brate', [0, 1, 2])\n",
      "RealParameter('A.3_Bmax', 30, 350, resolution=None, default=None, variable_name=['A.3_Bmax'], pff=False)\n",
      "RealParameter('A.3_pfail', 0, 1, resolution=None, default=None, variable_name=['A.3_pfail'], pff=False)\n",
      "CategoricalParameter('A.3_Brate', [0, 1, 2])\n",
      "RealParameter('A.4_Bmax', 30, 350, resolution=None, default=None, variable_name=['A.4_Bmax'], pff=False)\n",
      "RealParameter('A.4_pfail', 0, 1, resolution=None, default=None, variable_name=['A.4_pfail'], pff=False)\n",
      "CategoricalParameter('A.4_Brate', [0, 1, 2])\n",
      "RealParameter('A.5_Bmax', 30, 350, resolution=None, default=None, variable_name=['A.5_Bmax'], pff=False)\n",
      "RealParameter('A.5_pfail', 0, 1, resolution=None, default=None, variable_name=['A.5_pfail'], pff=False)\n",
      "CategoricalParameter('A.5_Brate', [0, 1, 2])\n"
     ]
    }
   ],
   "source": [
    "# enlisting uncertainties, their types (RealParameter/IntegerParameter/CategoricalParameter), lower boundary, and upper boundary\n",
    "import copy\n",
    "\n",
    "for unc in dike_model.uncertainties:\n",
    "    print(repr(unc))\n",
    "\n",
    "uncertainties = copy.deepcopy(dike_model.uncertainties)"
   ]
  },
  {
   "cell_type": "code",
   "execution_count": 6,
   "metadata": {},
   "outputs": [
    {
     "name": "stdout",
     "output_type": "stream",
     "text": [
      "IntegerParameter('0_RfR 0', 0, 1, resolution=None, default=None, variable_name=['0_RfR 0'], pff=False)\n",
      "IntegerParameter('0_RfR 1', 0, 1, resolution=None, default=None, variable_name=['0_RfR 1'], pff=False)\n",
      "IntegerParameter('0_RfR 2', 0, 1, resolution=None, default=None, variable_name=['0_RfR 2'], pff=False)\n",
      "IntegerParameter('1_RfR 0', 0, 1, resolution=None, default=None, variable_name=['1_RfR 0'], pff=False)\n",
      "IntegerParameter('1_RfR 1', 0, 1, resolution=None, default=None, variable_name=['1_RfR 1'], pff=False)\n",
      "IntegerParameter('1_RfR 2', 0, 1, resolution=None, default=None, variable_name=['1_RfR 2'], pff=False)\n",
      "IntegerParameter('2_RfR 0', 0, 1, resolution=None, default=None, variable_name=['2_RfR 0'], pff=False)\n",
      "IntegerParameter('2_RfR 1', 0, 1, resolution=None, default=None, variable_name=['2_RfR 1'], pff=False)\n",
      "IntegerParameter('2_RfR 2', 0, 1, resolution=None, default=None, variable_name=['2_RfR 2'], pff=False)\n",
      "IntegerParameter('3_RfR 0', 0, 1, resolution=None, default=None, variable_name=['3_RfR 0'], pff=False)\n",
      "IntegerParameter('3_RfR 1', 0, 1, resolution=None, default=None, variable_name=['3_RfR 1'], pff=False)\n",
      "IntegerParameter('3_RfR 2', 0, 1, resolution=None, default=None, variable_name=['3_RfR 2'], pff=False)\n",
      "IntegerParameter('4_RfR 0', 0, 1, resolution=None, default=None, variable_name=['4_RfR 0'], pff=False)\n",
      "IntegerParameter('4_RfR 1', 0, 1, resolution=None, default=None, variable_name=['4_RfR 1'], pff=False)\n",
      "IntegerParameter('4_RfR 2', 0, 1, resolution=None, default=None, variable_name=['4_RfR 2'], pff=False)\n",
      "IntegerParameter('EWS_DaysToThreat', 0, 4, resolution=None, default=None, variable_name=['EWS_DaysToThreat'], pff=False)\n",
      "IntegerParameter('A.1_DikeIncrease 0', 0, 10, resolution=None, default=None, variable_name=['A.1_DikeIncrease 0'], pff=False)\n",
      "IntegerParameter('A.1_DikeIncrease 1', 0, 10, resolution=None, default=None, variable_name=['A.1_DikeIncrease 1'], pff=False)\n",
      "IntegerParameter('A.1_DikeIncrease 2', 0, 10, resolution=None, default=None, variable_name=['A.1_DikeIncrease 2'], pff=False)\n",
      "IntegerParameter('A.2_DikeIncrease 0', 0, 10, resolution=None, default=None, variable_name=['A.2_DikeIncrease 0'], pff=False)\n",
      "IntegerParameter('A.2_DikeIncrease 1', 0, 10, resolution=None, default=None, variable_name=['A.2_DikeIncrease 1'], pff=False)\n",
      "IntegerParameter('A.2_DikeIncrease 2', 0, 10, resolution=None, default=None, variable_name=['A.2_DikeIncrease 2'], pff=False)\n",
      "IntegerParameter('A.3_DikeIncrease 0', 0, 10, resolution=None, default=None, variable_name=['A.3_DikeIncrease 0'], pff=False)\n",
      "IntegerParameter('A.3_DikeIncrease 1', 0, 10, resolution=None, default=None, variable_name=['A.3_DikeIncrease 1'], pff=False)\n",
      "IntegerParameter('A.3_DikeIncrease 2', 0, 10, resolution=None, default=None, variable_name=['A.3_DikeIncrease 2'], pff=False)\n",
      "IntegerParameter('A.4_DikeIncrease 0', 0, 10, resolution=None, default=None, variable_name=['A.4_DikeIncrease 0'], pff=False)\n",
      "IntegerParameter('A.4_DikeIncrease 1', 0, 10, resolution=None, default=None, variable_name=['A.4_DikeIncrease 1'], pff=False)\n",
      "IntegerParameter('A.4_DikeIncrease 2', 0, 10, resolution=None, default=None, variable_name=['A.4_DikeIncrease 2'], pff=False)\n",
      "IntegerParameter('A.5_DikeIncrease 0', 0, 10, resolution=None, default=None, variable_name=['A.5_DikeIncrease 0'], pff=False)\n",
      "IntegerParameter('A.5_DikeIncrease 1', 0, 10, resolution=None, default=None, variable_name=['A.5_DikeIncrease 1'], pff=False)\n",
      "IntegerParameter('A.5_DikeIncrease 2', 0, 10, resolution=None, default=None, variable_name=['A.5_DikeIncrease 2'], pff=False)\n"
     ]
    }
   ],
   "source": [
    "# enlisting policy levers, their types (RealParameter/IntegerParameter), lower boundary, and upper boundary\n",
    "for policy in dike_model.levers:\n",
    "    print(repr(policy))\n",
    "\n",
    "levers = copy.deepcopy(dike_model.levers)"
   ]
  },
  {
   "cell_type": "code",
   "execution_count": 7,
   "metadata": {},
   "outputs": [
    {
     "name": "stdout",
     "output_type": "stream",
     "text": [
      "ScalarOutcome('A.1 Total Costs', variable_name=('A.1_Expected Annual Damage', 'A.1_Dike Investment Costs'), function=<function sum_over at 0x000002269CBC13A0>)\n",
      "ScalarOutcome('A.1_Expected Number of Deaths', variable_name=('A.1_Expected Number of Deaths',), function=<function sum_over at 0x000002269CBC13A0>)\n",
      "ScalarOutcome('A.2 Total Costs', variable_name=('A.2_Expected Annual Damage', 'A.2_Dike Investment Costs'), function=<function sum_over at 0x000002269CBC13A0>)\n",
      "ScalarOutcome('A.2_Expected Number of Deaths', variable_name=('A.2_Expected Number of Deaths',), function=<function sum_over at 0x000002269CBC13A0>)\n",
      "ScalarOutcome('A.3 Total Costs', variable_name=('A.3_Expected Annual Damage', 'A.3_Dike Investment Costs'), function=<function sum_over at 0x000002269CBC13A0>)\n",
      "ScalarOutcome('A.3_Expected Number of Deaths', variable_name=('A.3_Expected Number of Deaths',), function=<function sum_over at 0x000002269CBC13A0>)\n",
      "ScalarOutcome('A.4 Total Costs', variable_name=('A.4_Expected Annual Damage', 'A.4_Dike Investment Costs'), function=<function sum_over at 0x000002269CBC13A0>)\n",
      "ScalarOutcome('A.4_Expected Number of Deaths', variable_name=('A.4_Expected Number of Deaths',), function=<function sum_over at 0x000002269CBC13A0>)\n",
      "ScalarOutcome('A.5 Total Costs', variable_name=('A.5_Expected Annual Damage', 'A.5_Dike Investment Costs'), function=<function sum_over at 0x000002269CBC13A0>)\n",
      "ScalarOutcome('A.5_Expected Number of Deaths', variable_name=('A.5_Expected Number of Deaths',), function=<function sum_over at 0x000002269CBC13A0>)\n",
      "ScalarOutcome('RfR Total Costs', variable_name=('RfR Total Costs',), function=<function sum_over at 0x000002269CBC13A0>)\n",
      "ScalarOutcome('Expected Evacuation Costs', variable_name=('Expected Evacuation Costs',), function=<function sum_over at 0x000002269CBC13A0>)\n"
     ]
    }
   ],
   "source": [
    "# enlisting outcomes\n",
    "for outcome in dike_model.outcomes:\n",
    "    print(repr(outcome))"
   ]
  },
  {
   "cell_type": "code",
   "execution_count": 8,
   "metadata": {},
   "outputs": [
    {
     "name": "stderr",
     "output_type": "stream",
     "text": [
      "[MainProcess/INFO] pool started with 8 workers\n",
      "[MainProcess/INFO] performing 50 scenarios * 4 policies * 1 model(s) = 200 experiments\n",
      "100%|████████████████████████████████████████| 200/200 [00:15<00:00, 12.52it/s]\n",
      "[MainProcess/INFO] experiments finished\n",
      "[MainProcess/INFO] terminating pool\n"
     ]
    }
   ],
   "source": [
    "# running the model through EMA workbench\n",
    "with MultiprocessingEvaluator(dike_model) as evaluator:\n",
    "    results = evaluator.perform_experiments(scenarios=50, policies=4)"
   ]
  },
  {
   "cell_type": "code",
   "execution_count": 9,
   "metadata": {
    "scrolled": true
   },
   "outputs": [
    {
     "name": "stdout",
     "output_type": "stream",
     "text": [
      "dict_keys(['A.1 Total Costs', 'A.1_Expected Number of Deaths', 'A.2 Total Costs', 'A.2_Expected Number of Deaths', 'A.3 Total Costs', 'A.3_Expected Number of Deaths', 'A.4 Total Costs', 'A.4_Expected Number of Deaths', 'A.5 Total Costs', 'A.5_Expected Number of Deaths', 'RfR Total Costs', 'Expected Evacuation Costs'])\n"
     ]
    },
    {
     "data": {
      "text/plain": "     A.0_ID flood wave shape    A.1_Bmax A.1_Brate  A.1_pfail    A.2_Bmax  \\\n0                         69  221.023376      10.0   0.612853  225.411013   \n1                         59  120.857354       1.5   0.742109  127.198807   \n2                         52  329.111934      10.0   0.295050  244.208683   \n3                         21  296.878160       1.5   0.579170  266.143568   \n4                         82   93.920649       1.5   0.228620  313.311091   \n..                       ...         ...       ...        ...         ...   \n195                       44  108.830072      10.0   0.814868  233.576530   \n196                       11   48.232595      10.0   0.309814  241.076030   \n197                      115   52.934279       1.0   0.060758  122.440710   \n198                       72  161.156649       1.0   0.785318   32.693343   \n199                       85  199.522186       1.5   0.458510  253.599344   \n\n    A.2_Brate  A.2_pfail    A.3_Bmax A.3_Brate  A.3_pfail  ...  \\\n0         1.5   0.278286   90.425356       1.0   0.930530  ...   \n1         1.5   0.644897  158.422428       1.0   0.176009  ...   \n2        10.0   0.239674  345.218592       1.5   0.291367  ...   \n3         1.5   0.871824  293.761080      10.0   0.040766  ...   \n4         1.0   0.634719  332.892563       1.0   0.987247  ...   \n..        ...        ...         ...       ...        ...  ...   \n195       1.0   0.391640  187.459663       1.0   0.386501  ...   \n196       1.5   0.481866  240.058592       1.5   0.378285  ...   \n197       1.0   0.563679  226.652336       1.5   0.012291  ...   \n198       1.5   0.172013   46.484232       1.0   0.447739  ...   \n199       1.0   0.426021  122.952984      10.0   0.103291  ...   \n\n     A.4_DikeIncrease 0 A.4_DikeIncrease 1  A.4_DikeIncrease 2  \\\n0                    10                  7                   3   \n1                    10                  7                   3   \n2                    10                  7                   3   \n3                    10                  7                   3   \n4                    10                  7                   3   \n..                  ...                ...                 ...   \n195                   6                  1                   6   \n196                   6                  1                   6   \n197                   6                  1                   6   \n198                   6                  1                   6   \n199                   6                  1                   6   \n\n     A.5_DikeIncrease 0 A.5_DikeIncrease 1  A.5_DikeIncrease 2  \\\n0                     6                  5                   3   \n1                     6                  5                   3   \n2                     6                  5                   3   \n3                     6                  5                   3   \n4                     6                  5                   3   \n..                  ...                ...                 ...   \n195                   2                  1                   5   \n196                   2                  1                   5   \n197                   2                  1                   5   \n198                   2                  1                   5   \n199                   2                  1                   5   \n\n    EWS_DaysToThreat scenario policy     model  \n0                  0        4      0  dikesnet  \n1                  0        5      0  dikesnet  \n2                  0        6      0  dikesnet  \n3                  0        7      0  dikesnet  \n4                  0        8      0  dikesnet  \n..               ...      ...    ...       ...  \n195                2       49      3  dikesnet  \n196                2       50      3  dikesnet  \n197                2       51      3  dikesnet  \n198                2       52      3  dikesnet  \n199                2       53      3  dikesnet  \n\n[200 rows x 53 columns]",
      "text/html": "<div>\n<style scoped>\n    .dataframe tbody tr th:only-of-type {\n        vertical-align: middle;\n    }\n\n    .dataframe tbody tr th {\n        vertical-align: top;\n    }\n\n    .dataframe thead th {\n        text-align: right;\n    }\n</style>\n<table border=\"1\" class=\"dataframe\">\n  <thead>\n    <tr style=\"text-align: right;\">\n      <th></th>\n      <th>A.0_ID flood wave shape</th>\n      <th>A.1_Bmax</th>\n      <th>A.1_Brate</th>\n      <th>A.1_pfail</th>\n      <th>A.2_Bmax</th>\n      <th>A.2_Brate</th>\n      <th>A.2_pfail</th>\n      <th>A.3_Bmax</th>\n      <th>A.3_Brate</th>\n      <th>A.3_pfail</th>\n      <th>...</th>\n      <th>A.4_DikeIncrease 0</th>\n      <th>A.4_DikeIncrease 1</th>\n      <th>A.4_DikeIncrease 2</th>\n      <th>A.5_DikeIncrease 0</th>\n      <th>A.5_DikeIncrease 1</th>\n      <th>A.5_DikeIncrease 2</th>\n      <th>EWS_DaysToThreat</th>\n      <th>scenario</th>\n      <th>policy</th>\n      <th>model</th>\n    </tr>\n  </thead>\n  <tbody>\n    <tr>\n      <th>0</th>\n      <td>69</td>\n      <td>221.023376</td>\n      <td>10.0</td>\n      <td>0.612853</td>\n      <td>225.411013</td>\n      <td>1.5</td>\n      <td>0.278286</td>\n      <td>90.425356</td>\n      <td>1.0</td>\n      <td>0.930530</td>\n      <td>...</td>\n      <td>10</td>\n      <td>7</td>\n      <td>3</td>\n      <td>6</td>\n      <td>5</td>\n      <td>3</td>\n      <td>0</td>\n      <td>4</td>\n      <td>0</td>\n      <td>dikesnet</td>\n    </tr>\n    <tr>\n      <th>1</th>\n      <td>59</td>\n      <td>120.857354</td>\n      <td>1.5</td>\n      <td>0.742109</td>\n      <td>127.198807</td>\n      <td>1.5</td>\n      <td>0.644897</td>\n      <td>158.422428</td>\n      <td>1.0</td>\n      <td>0.176009</td>\n      <td>...</td>\n      <td>10</td>\n      <td>7</td>\n      <td>3</td>\n      <td>6</td>\n      <td>5</td>\n      <td>3</td>\n      <td>0</td>\n      <td>5</td>\n      <td>0</td>\n      <td>dikesnet</td>\n    </tr>\n    <tr>\n      <th>2</th>\n      <td>52</td>\n      <td>329.111934</td>\n      <td>10.0</td>\n      <td>0.295050</td>\n      <td>244.208683</td>\n      <td>10.0</td>\n      <td>0.239674</td>\n      <td>345.218592</td>\n      <td>1.5</td>\n      <td>0.291367</td>\n      <td>...</td>\n      <td>10</td>\n      <td>7</td>\n      <td>3</td>\n      <td>6</td>\n      <td>5</td>\n      <td>3</td>\n      <td>0</td>\n      <td>6</td>\n      <td>0</td>\n      <td>dikesnet</td>\n    </tr>\n    <tr>\n      <th>3</th>\n      <td>21</td>\n      <td>296.878160</td>\n      <td>1.5</td>\n      <td>0.579170</td>\n      <td>266.143568</td>\n      <td>1.5</td>\n      <td>0.871824</td>\n      <td>293.761080</td>\n      <td>10.0</td>\n      <td>0.040766</td>\n      <td>...</td>\n      <td>10</td>\n      <td>7</td>\n      <td>3</td>\n      <td>6</td>\n      <td>5</td>\n      <td>3</td>\n      <td>0</td>\n      <td>7</td>\n      <td>0</td>\n      <td>dikesnet</td>\n    </tr>\n    <tr>\n      <th>4</th>\n      <td>82</td>\n      <td>93.920649</td>\n      <td>1.5</td>\n      <td>0.228620</td>\n      <td>313.311091</td>\n      <td>1.0</td>\n      <td>0.634719</td>\n      <td>332.892563</td>\n      <td>1.0</td>\n      <td>0.987247</td>\n      <td>...</td>\n      <td>10</td>\n      <td>7</td>\n      <td>3</td>\n      <td>6</td>\n      <td>5</td>\n      <td>3</td>\n      <td>0</td>\n      <td>8</td>\n      <td>0</td>\n      <td>dikesnet</td>\n    </tr>\n    <tr>\n      <th>...</th>\n      <td>...</td>\n      <td>...</td>\n      <td>...</td>\n      <td>...</td>\n      <td>...</td>\n      <td>...</td>\n      <td>...</td>\n      <td>...</td>\n      <td>...</td>\n      <td>...</td>\n      <td>...</td>\n      <td>...</td>\n      <td>...</td>\n      <td>...</td>\n      <td>...</td>\n      <td>...</td>\n      <td>...</td>\n      <td>...</td>\n      <td>...</td>\n      <td>...</td>\n      <td>...</td>\n    </tr>\n    <tr>\n      <th>195</th>\n      <td>44</td>\n      <td>108.830072</td>\n      <td>10.0</td>\n      <td>0.814868</td>\n      <td>233.576530</td>\n      <td>1.0</td>\n      <td>0.391640</td>\n      <td>187.459663</td>\n      <td>1.0</td>\n      <td>0.386501</td>\n      <td>...</td>\n      <td>6</td>\n      <td>1</td>\n      <td>6</td>\n      <td>2</td>\n      <td>1</td>\n      <td>5</td>\n      <td>2</td>\n      <td>49</td>\n      <td>3</td>\n      <td>dikesnet</td>\n    </tr>\n    <tr>\n      <th>196</th>\n      <td>11</td>\n      <td>48.232595</td>\n      <td>10.0</td>\n      <td>0.309814</td>\n      <td>241.076030</td>\n      <td>1.5</td>\n      <td>0.481866</td>\n      <td>240.058592</td>\n      <td>1.5</td>\n      <td>0.378285</td>\n      <td>...</td>\n      <td>6</td>\n      <td>1</td>\n      <td>6</td>\n      <td>2</td>\n      <td>1</td>\n      <td>5</td>\n      <td>2</td>\n      <td>50</td>\n      <td>3</td>\n      <td>dikesnet</td>\n    </tr>\n    <tr>\n      <th>197</th>\n      <td>115</td>\n      <td>52.934279</td>\n      <td>1.0</td>\n      <td>0.060758</td>\n      <td>122.440710</td>\n      <td>1.0</td>\n      <td>0.563679</td>\n      <td>226.652336</td>\n      <td>1.5</td>\n      <td>0.012291</td>\n      <td>...</td>\n      <td>6</td>\n      <td>1</td>\n      <td>6</td>\n      <td>2</td>\n      <td>1</td>\n      <td>5</td>\n      <td>2</td>\n      <td>51</td>\n      <td>3</td>\n      <td>dikesnet</td>\n    </tr>\n    <tr>\n      <th>198</th>\n      <td>72</td>\n      <td>161.156649</td>\n      <td>1.0</td>\n      <td>0.785318</td>\n      <td>32.693343</td>\n      <td>1.5</td>\n      <td>0.172013</td>\n      <td>46.484232</td>\n      <td>1.0</td>\n      <td>0.447739</td>\n      <td>...</td>\n      <td>6</td>\n      <td>1</td>\n      <td>6</td>\n      <td>2</td>\n      <td>1</td>\n      <td>5</td>\n      <td>2</td>\n      <td>52</td>\n      <td>3</td>\n      <td>dikesnet</td>\n    </tr>\n    <tr>\n      <th>199</th>\n      <td>85</td>\n      <td>199.522186</td>\n      <td>1.5</td>\n      <td>0.458510</td>\n      <td>253.599344</td>\n      <td>1.0</td>\n      <td>0.426021</td>\n      <td>122.952984</td>\n      <td>10.0</td>\n      <td>0.103291</td>\n      <td>...</td>\n      <td>6</td>\n      <td>1</td>\n      <td>6</td>\n      <td>2</td>\n      <td>1</td>\n      <td>5</td>\n      <td>2</td>\n      <td>53</td>\n      <td>3</td>\n      <td>dikesnet</td>\n    </tr>\n  </tbody>\n</table>\n<p>200 rows × 53 columns</p>\n</div>"
     },
     "execution_count": 9,
     "metadata": {},
     "output_type": "execute_result"
    }
   ],
   "source": [
    "# observing the simulation runs\n",
    "experiments, outcomes = results\n",
    "print(outcomes.keys())\n",
    "experiments"
   ]
  },
  {
   "cell_type": "code",
   "execution_count": 10,
   "metadata": {},
   "outputs": [
    {
     "data": {
      "text/plain": "     A.1 Total Costs  A.1_Expected Number of Deaths  A.2 Total Costs  \\\n0       2.493124e+08                            0.0     1.984829e+08   \n1       2.493124e+08                            0.0     1.914127e+08   \n2       2.493124e+08                            0.0     1.963108e+08   \n3       2.493124e+08                            0.0     1.895730e+08   \n4       2.493124e+08                            0.0     1.919475e+08   \n..               ...                            ...              ...   \n195     2.698586e+08                            0.0     1.490725e+08   \n196     2.698586e+08                            0.0     1.473184e+08   \n197     2.698586e+08                            0.0     1.448688e+08   \n198     2.698586e+08                            0.0     1.645779e+08   \n199     2.698586e+08                            0.0     1.463681e+08   \n\n     A.2_Expected Number of Deaths  A.3 Total Costs  \\\n0                         0.010178     1.068026e+08   \n1                         0.001730     1.068026e+08   \n2                         0.007618     1.068026e+08   \n3                         0.000000     1.080112e+08   \n4                         0.001714     1.068026e+08   \n..                             ...              ...   \n195                       0.000631     1.361440e+08   \n196                       0.000273     1.361440e+08   \n197                       0.000000     1.389661e+08   \n198                       0.002473     1.361440e+08   \n199                       0.000271     1.361440e+08   \n\n     A.3_Expected Number of Deaths  A.4 Total Costs  \\\n0                         0.000000     5.530705e+07   \n1                         0.000000     5.530705e+07   \n2                         0.000000     5.530705e+07   \n3                         0.001600     5.530705e+07   \n4                         0.000000     5.530705e+07   \n..                             ...              ...   \n195                       0.000000     3.624297e+07   \n196                       0.000000     3.624297e+07   \n197                       0.000946     3.624297e+07   \n198                       0.000000     3.624297e+07   \n199                       0.000000     3.624297e+07   \n\n     A.4_Expected Number of Deaths  A.5 Total Costs  \\\n0                              0.0     1.290658e+08   \n1                              0.0     1.290658e+08   \n2                              0.0     1.290658e+08   \n3                              0.0     1.290658e+08   \n4                              0.0     1.290658e+08   \n..                             ...              ...   \n195                            0.0     9.492220e+07   \n196                            0.0     9.499398e+07   \n197                            0.0     1.598319e+08   \n198                            0.0     9.622138e+07   \n199                            0.0     9.492220e+07   \n\n     A.5_Expected Number of Deaths  RfR Total Costs  Expected Evacuation Costs  \n0                         0.000000     8.564000e+08                   0.000000  \n1                         0.000000     8.564000e+08                   0.000000  \n2                         0.000000     8.564000e+08                   0.000000  \n3                         0.000000     8.564000e+08                   0.000000  \n4                         0.000000     8.564000e+08                   0.000000  \n..                             ...              ...                        ...  \n195                       0.000000     1.321100e+09                 184.346880  \n196                       0.000010     1.321100e+09                  82.795281  \n197                       0.009682     1.321100e+09                3954.687313  \n198                       0.000133     1.321100e+09                 789.441455  \n199                       0.000000     1.321100e+09                  79.074945  \n\n[200 rows x 12 columns]",
      "text/html": "<div>\n<style scoped>\n    .dataframe tbody tr th:only-of-type {\n        vertical-align: middle;\n    }\n\n    .dataframe tbody tr th {\n        vertical-align: top;\n    }\n\n    .dataframe thead th {\n        text-align: right;\n    }\n</style>\n<table border=\"1\" class=\"dataframe\">\n  <thead>\n    <tr style=\"text-align: right;\">\n      <th></th>\n      <th>A.1 Total Costs</th>\n      <th>A.1_Expected Number of Deaths</th>\n      <th>A.2 Total Costs</th>\n      <th>A.2_Expected Number of Deaths</th>\n      <th>A.3 Total Costs</th>\n      <th>A.3_Expected Number of Deaths</th>\n      <th>A.4 Total Costs</th>\n      <th>A.4_Expected Number of Deaths</th>\n      <th>A.5 Total Costs</th>\n      <th>A.5_Expected Number of Deaths</th>\n      <th>RfR Total Costs</th>\n      <th>Expected Evacuation Costs</th>\n    </tr>\n  </thead>\n  <tbody>\n    <tr>\n      <th>0</th>\n      <td>2.493124e+08</td>\n      <td>0.0</td>\n      <td>1.984829e+08</td>\n      <td>0.010178</td>\n      <td>1.068026e+08</td>\n      <td>0.000000</td>\n      <td>5.530705e+07</td>\n      <td>0.0</td>\n      <td>1.290658e+08</td>\n      <td>0.000000</td>\n      <td>8.564000e+08</td>\n      <td>0.000000</td>\n    </tr>\n    <tr>\n      <th>1</th>\n      <td>2.493124e+08</td>\n      <td>0.0</td>\n      <td>1.914127e+08</td>\n      <td>0.001730</td>\n      <td>1.068026e+08</td>\n      <td>0.000000</td>\n      <td>5.530705e+07</td>\n      <td>0.0</td>\n      <td>1.290658e+08</td>\n      <td>0.000000</td>\n      <td>8.564000e+08</td>\n      <td>0.000000</td>\n    </tr>\n    <tr>\n      <th>2</th>\n      <td>2.493124e+08</td>\n      <td>0.0</td>\n      <td>1.963108e+08</td>\n      <td>0.007618</td>\n      <td>1.068026e+08</td>\n      <td>0.000000</td>\n      <td>5.530705e+07</td>\n      <td>0.0</td>\n      <td>1.290658e+08</td>\n      <td>0.000000</td>\n      <td>8.564000e+08</td>\n      <td>0.000000</td>\n    </tr>\n    <tr>\n      <th>3</th>\n      <td>2.493124e+08</td>\n      <td>0.0</td>\n      <td>1.895730e+08</td>\n      <td>0.000000</td>\n      <td>1.080112e+08</td>\n      <td>0.001600</td>\n      <td>5.530705e+07</td>\n      <td>0.0</td>\n      <td>1.290658e+08</td>\n      <td>0.000000</td>\n      <td>8.564000e+08</td>\n      <td>0.000000</td>\n    </tr>\n    <tr>\n      <th>4</th>\n      <td>2.493124e+08</td>\n      <td>0.0</td>\n      <td>1.919475e+08</td>\n      <td>0.001714</td>\n      <td>1.068026e+08</td>\n      <td>0.000000</td>\n      <td>5.530705e+07</td>\n      <td>0.0</td>\n      <td>1.290658e+08</td>\n      <td>0.000000</td>\n      <td>8.564000e+08</td>\n      <td>0.000000</td>\n    </tr>\n    <tr>\n      <th>...</th>\n      <td>...</td>\n      <td>...</td>\n      <td>...</td>\n      <td>...</td>\n      <td>...</td>\n      <td>...</td>\n      <td>...</td>\n      <td>...</td>\n      <td>...</td>\n      <td>...</td>\n      <td>...</td>\n      <td>...</td>\n    </tr>\n    <tr>\n      <th>195</th>\n      <td>2.698586e+08</td>\n      <td>0.0</td>\n      <td>1.490725e+08</td>\n      <td>0.000631</td>\n      <td>1.361440e+08</td>\n      <td>0.000000</td>\n      <td>3.624297e+07</td>\n      <td>0.0</td>\n      <td>9.492220e+07</td>\n      <td>0.000000</td>\n      <td>1.321100e+09</td>\n      <td>184.346880</td>\n    </tr>\n    <tr>\n      <th>196</th>\n      <td>2.698586e+08</td>\n      <td>0.0</td>\n      <td>1.473184e+08</td>\n      <td>0.000273</td>\n      <td>1.361440e+08</td>\n      <td>0.000000</td>\n      <td>3.624297e+07</td>\n      <td>0.0</td>\n      <td>9.499398e+07</td>\n      <td>0.000010</td>\n      <td>1.321100e+09</td>\n      <td>82.795281</td>\n    </tr>\n    <tr>\n      <th>197</th>\n      <td>2.698586e+08</td>\n      <td>0.0</td>\n      <td>1.448688e+08</td>\n      <td>0.000000</td>\n      <td>1.389661e+08</td>\n      <td>0.000946</td>\n      <td>3.624297e+07</td>\n      <td>0.0</td>\n      <td>1.598319e+08</td>\n      <td>0.009682</td>\n      <td>1.321100e+09</td>\n      <td>3954.687313</td>\n    </tr>\n    <tr>\n      <th>198</th>\n      <td>2.698586e+08</td>\n      <td>0.0</td>\n      <td>1.645779e+08</td>\n      <td>0.002473</td>\n      <td>1.361440e+08</td>\n      <td>0.000000</td>\n      <td>3.624297e+07</td>\n      <td>0.0</td>\n      <td>9.622138e+07</td>\n      <td>0.000133</td>\n      <td>1.321100e+09</td>\n      <td>789.441455</td>\n    </tr>\n    <tr>\n      <th>199</th>\n      <td>2.698586e+08</td>\n      <td>0.0</td>\n      <td>1.463681e+08</td>\n      <td>0.000271</td>\n      <td>1.361440e+08</td>\n      <td>0.000000</td>\n      <td>3.624297e+07</td>\n      <td>0.0</td>\n      <td>9.492220e+07</td>\n      <td>0.000000</td>\n      <td>1.321100e+09</td>\n      <td>79.074945</td>\n    </tr>\n  </tbody>\n</table>\n<p>200 rows × 12 columns</p>\n</div>"
     },
     "execution_count": 10,
     "metadata": {},
     "output_type": "execute_result"
    }
   ],
   "source": [
    "# only works because we have scalar outcomes\n",
    "pd.DataFrame(outcomes)"
   ]
  },
  {
   "cell_type": "code",
   "execution_count": 11,
   "metadata": {},
   "outputs": [],
   "source": [
    "# defining specific policies\n",
    "# for example, policy 1 is about extra protection in upper boundary\n",
    "# policy 2 is about extra protection in lower boundary\n",
    "# policy 3 is extra protection in random locations\n",
    "\n",
    "\n",
    "def get_do_nothing_dict():\n",
    "    return {l.name: 0 for l in dike_model.levers}\n",
    "\n",
    "\n",
    "policies = [\n",
    "    Policy(\n",
    "        \"policy 1\",\n",
    "        **dict(\n",
    "            get_do_nothing_dict(),\n",
    "            **{\"0_RfR 0\": 1, \"0_RfR 1\": 1, \"0_RfR 2\": 1, \"A.1_DikeIncrease 0\": 5}\n",
    "        )\n",
    "    ),\n",
    "    Policy(\n",
    "        \"policy 2\",\n",
    "        **dict(\n",
    "            get_do_nothing_dict(),\n",
    "            **{\"4_RfR 0\": 1, \"4_RfR 1\": 1, \"4_RfR 2\": 1, \"A.5_DikeIncrease 0\": 5}\n",
    "        )\n",
    "    ),\n",
    "    Policy(\n",
    "        \"policy 3\",\n",
    "        **dict(\n",
    "            get_do_nothing_dict(),\n",
    "            **{\"1_RfR 0\": 1, \"2_RfR 1\": 1, \"3_RfR 2\": 1, \"A.3_DikeIncrease 0\": 5}\n",
    "        )\n",
    "    ),\n",
    "]"
   ]
  },
  {
   "cell_type": "code",
   "execution_count": 12,
   "metadata": {},
   "outputs": [
    {
     "name": "stderr",
     "output_type": "stream",
     "text": [
      "[MainProcess/INFO] pool started with 8 workers\n",
      "[MainProcess/INFO] performing 100 scenarios * 3 policies * 1 model(s) = 300 experiments\n",
      "100%|████████████████████████████████████████| 300/300 [00:25<00:00, 11.67it/s]\n",
      "[MainProcess/INFO] experiments finished\n",
      "[MainProcess/INFO] terminating pool\n"
     ]
    }
   ],
   "source": [
    "# pass the policies list to EMA workbench experiment runs\n",
    "n_scenarios = 100\n",
    "with MultiprocessingEvaluator(dike_model) as evaluator:\n",
    "    results = evaluator.perform_experiments(n_scenarios, policies)"
   ]
  },
  {
   "cell_type": "code",
   "execution_count": 13,
   "metadata": {},
   "outputs": [],
   "source": [
    "experiments, outcomes = results"
   ]
  },
  {
   "cell_type": "code",
   "execution_count": 14,
   "metadata": {},
   "outputs": [
    {
     "data": {
      "text/plain": "     A.1 Total Costs  A.1_Expected Number of Deaths  A.2 Total Costs  \\\n0       5.397251e+07                       0.000000     4.620660e+06   \n1       5.397251e+07                       0.000000     9.875764e+07   \n2       5.397251e+07                       0.000000     4.682906e+07   \n3       5.397251e+07                       0.000000     5.559100e+07   \n4       5.397251e+07                       0.000000     9.558758e+06   \n..               ...                            ...              ...   \n295     1.625123e+07                       0.009414     4.625496e+07   \n296     1.341257e+09                       0.837254     1.460801e+06   \n297     2.975870e+09                       1.660996     7.115702e+07   \n298     0.000000e+00                       0.000000     7.561023e+08   \n299     2.210706e+09                       1.660509     1.224865e+08   \n\n     A.2_Expected Number of Deaths  A.3 Total Costs  \\\n0                         0.005443     4.152414e+07   \n1                         0.096251     1.476749e+09   \n2                         0.050271     2.386701e+08   \n3                         0.050168     2.106536e+08   \n4                         0.011308     1.141946e+09   \n..                             ...              ...   \n295                       0.037693     2.879840e+07   \n296                       0.001369     2.879840e+07   \n297                       0.057468     2.879840e+07   \n298                       0.597678     2.879840e+07   \n299                       0.119590     2.879840e+07   \n\n     A.3_Expected Number of Deaths  A.4 Total Costs  \\\n0                         0.090124     2.824868e+07   \n1                         2.594713     1.061808e+07   \n2                         0.473904     5.485795e+07   \n3                         0.353636     0.000000e+00   \n4                         2.315536     6.373503e+06   \n..                             ...              ...   \n295                       0.000000     1.218871e+07   \n296                       0.000000     1.188652e+07   \n297                       0.000000     2.301570e+07   \n298                       0.000000     0.000000e+00   \n299                       0.000000     0.000000e+00   \n\n     A.4_Expected Number of Deaths  A.5 Total Costs  \\\n0                         0.016040     5.315896e+07   \n1                         0.004789     1.715375e+06   \n2                         0.027997     0.000000e+00   \n3                         0.000000     0.000000e+00   \n4                         0.003377     0.000000e+00   \n..                             ...              ...   \n295                       0.005005     0.000000e+00   \n296                       0.005491     0.000000e+00   \n297                       0.009150     0.000000e+00   \n298                       0.000000     0.000000e+00   \n299                       0.000000     0.000000e+00   \n\n     A.5_Expected Number of Deaths  RfR Total Costs  Expected Evacuation Costs  \n0                         0.056448      253800000.0                        0.0  \n1                         0.001558      253800000.0                        0.0  \n2                         0.000000      253800000.0                        0.0  \n3                         0.000000      253800000.0                        0.0  \n4                         0.000000      253800000.0                        0.0  \n..                             ...              ...                        ...  \n295                       0.000000      369700000.0                        0.0  \n296                       0.000000      369700000.0                        0.0  \n297                       0.000000      369700000.0                        0.0  \n298                       0.000000      369700000.0                        0.0  \n299                       0.000000      369700000.0                        0.0  \n\n[300 rows x 12 columns]",
      "text/html": "<div>\n<style scoped>\n    .dataframe tbody tr th:only-of-type {\n        vertical-align: middle;\n    }\n\n    .dataframe tbody tr th {\n        vertical-align: top;\n    }\n\n    .dataframe thead th {\n        text-align: right;\n    }\n</style>\n<table border=\"1\" class=\"dataframe\">\n  <thead>\n    <tr style=\"text-align: right;\">\n      <th></th>\n      <th>A.1 Total Costs</th>\n      <th>A.1_Expected Number of Deaths</th>\n      <th>A.2 Total Costs</th>\n      <th>A.2_Expected Number of Deaths</th>\n      <th>A.3 Total Costs</th>\n      <th>A.3_Expected Number of Deaths</th>\n      <th>A.4 Total Costs</th>\n      <th>A.4_Expected Number of Deaths</th>\n      <th>A.5 Total Costs</th>\n      <th>A.5_Expected Number of Deaths</th>\n      <th>RfR Total Costs</th>\n      <th>Expected Evacuation Costs</th>\n    </tr>\n  </thead>\n  <tbody>\n    <tr>\n      <th>0</th>\n      <td>5.397251e+07</td>\n      <td>0.000000</td>\n      <td>4.620660e+06</td>\n      <td>0.005443</td>\n      <td>4.152414e+07</td>\n      <td>0.090124</td>\n      <td>2.824868e+07</td>\n      <td>0.016040</td>\n      <td>5.315896e+07</td>\n      <td>0.056448</td>\n      <td>253800000.0</td>\n      <td>0.0</td>\n    </tr>\n    <tr>\n      <th>1</th>\n      <td>5.397251e+07</td>\n      <td>0.000000</td>\n      <td>9.875764e+07</td>\n      <td>0.096251</td>\n      <td>1.476749e+09</td>\n      <td>2.594713</td>\n      <td>1.061808e+07</td>\n      <td>0.004789</td>\n      <td>1.715375e+06</td>\n      <td>0.001558</td>\n      <td>253800000.0</td>\n      <td>0.0</td>\n    </tr>\n    <tr>\n      <th>2</th>\n      <td>5.397251e+07</td>\n      <td>0.000000</td>\n      <td>4.682906e+07</td>\n      <td>0.050271</td>\n      <td>2.386701e+08</td>\n      <td>0.473904</td>\n      <td>5.485795e+07</td>\n      <td>0.027997</td>\n      <td>0.000000e+00</td>\n      <td>0.000000</td>\n      <td>253800000.0</td>\n      <td>0.0</td>\n    </tr>\n    <tr>\n      <th>3</th>\n      <td>5.397251e+07</td>\n      <td>0.000000</td>\n      <td>5.559100e+07</td>\n      <td>0.050168</td>\n      <td>2.106536e+08</td>\n      <td>0.353636</td>\n      <td>0.000000e+00</td>\n      <td>0.000000</td>\n      <td>0.000000e+00</td>\n      <td>0.000000</td>\n      <td>253800000.0</td>\n      <td>0.0</td>\n    </tr>\n    <tr>\n      <th>4</th>\n      <td>5.397251e+07</td>\n      <td>0.000000</td>\n      <td>9.558758e+06</td>\n      <td>0.011308</td>\n      <td>1.141946e+09</td>\n      <td>2.315536</td>\n      <td>6.373503e+06</td>\n      <td>0.003377</td>\n      <td>0.000000e+00</td>\n      <td>0.000000</td>\n      <td>253800000.0</td>\n      <td>0.0</td>\n    </tr>\n    <tr>\n      <th>...</th>\n      <td>...</td>\n      <td>...</td>\n      <td>...</td>\n      <td>...</td>\n      <td>...</td>\n      <td>...</td>\n      <td>...</td>\n      <td>...</td>\n      <td>...</td>\n      <td>...</td>\n      <td>...</td>\n      <td>...</td>\n    </tr>\n    <tr>\n      <th>295</th>\n      <td>1.625123e+07</td>\n      <td>0.009414</td>\n      <td>4.625496e+07</td>\n      <td>0.037693</td>\n      <td>2.879840e+07</td>\n      <td>0.000000</td>\n      <td>1.218871e+07</td>\n      <td>0.005005</td>\n      <td>0.000000e+00</td>\n      <td>0.000000</td>\n      <td>369700000.0</td>\n      <td>0.0</td>\n    </tr>\n    <tr>\n      <th>296</th>\n      <td>1.341257e+09</td>\n      <td>0.837254</td>\n      <td>1.460801e+06</td>\n      <td>0.001369</td>\n      <td>2.879840e+07</td>\n      <td>0.000000</td>\n      <td>1.188652e+07</td>\n      <td>0.005491</td>\n      <td>0.000000e+00</td>\n      <td>0.000000</td>\n      <td>369700000.0</td>\n      <td>0.0</td>\n    </tr>\n    <tr>\n      <th>297</th>\n      <td>2.975870e+09</td>\n      <td>1.660996</td>\n      <td>7.115702e+07</td>\n      <td>0.057468</td>\n      <td>2.879840e+07</td>\n      <td>0.000000</td>\n      <td>2.301570e+07</td>\n      <td>0.009150</td>\n      <td>0.000000e+00</td>\n      <td>0.000000</td>\n      <td>369700000.0</td>\n      <td>0.0</td>\n    </tr>\n    <tr>\n      <th>298</th>\n      <td>0.000000e+00</td>\n      <td>0.000000</td>\n      <td>7.561023e+08</td>\n      <td>0.597678</td>\n      <td>2.879840e+07</td>\n      <td>0.000000</td>\n      <td>0.000000e+00</td>\n      <td>0.000000</td>\n      <td>0.000000e+00</td>\n      <td>0.000000</td>\n      <td>369700000.0</td>\n      <td>0.0</td>\n    </tr>\n    <tr>\n      <th>299</th>\n      <td>2.210706e+09</td>\n      <td>1.660509</td>\n      <td>1.224865e+08</td>\n      <td>0.119590</td>\n      <td>2.879840e+07</td>\n      <td>0.000000</td>\n      <td>0.000000e+00</td>\n      <td>0.000000</td>\n      <td>0.000000e+00</td>\n      <td>0.000000</td>\n      <td>369700000.0</td>\n      <td>0.0</td>\n    </tr>\n  </tbody>\n</table>\n<p>300 rows × 12 columns</p>\n</div>"
     },
     "execution_count": 14,
     "metadata": {},
     "output_type": "execute_result"
    }
   ],
   "source": [
    "# only works because we have scalar outcomes\n",
    "pd.DataFrame(outcomes)"
   ]
  },
  {
   "cell_type": "code",
   "execution_count": 14,
   "metadata": {
    "pycharm": {
     "name": "#%%"
    }
   },
   "outputs": [],
   "source": []
  }
 ],
 "metadata": {
  "kernelspec": {
   "display_name": "Python 3 (ipykernel)",
   "language": "python",
   "name": "python3"
  },
  "language_info": {
   "codemirror_mode": {
    "name": "ipython",
    "version": 3
   },
   "file_extension": ".py",
   "mimetype": "text/x-python",
   "name": "python",
   "nbconvert_exporter": "python",
   "pygments_lexer": "ipython3",
   "version": "3.9.16"
  }
 },
 "nbformat": 4,
 "nbformat_minor": 4
}
