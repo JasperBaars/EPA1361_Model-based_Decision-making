{
 "cells": [
  {
   "cell_type": "code",
   "execution_count": 57,
   "metadata": {
    "ExecuteTime": {
     "end_time": "2023-05-10T12:06:50.421029Z",
     "start_time": "2023-05-10T12:06:49.987024Z"
    }
   },
   "outputs": [],
   "source": [
    "import numpy as np\n",
    "import scipy as sp\n",
    "import pandas as pd\n",
    "import matplotlib.pyplot as plt\n",
    "import seaborn as sns\n",
    "import networkx as nx"
   ]
  },
  {
   "cell_type": "code",
   "execution_count": 58,
   "metadata": {
    "scrolled": true
   },
   "outputs": [],
   "source": [
    "from ema_workbench import (\n",
    "    Model,\n",
    "    Policy,\n",
    "    ema_logging,\n",
    "    SequentialEvaluator,\n",
    "    MultiprocessingEvaluator,\n",
    ")\n",
    "from dike_model_function import DikeNetwork  # @UnresolvedImport\n",
    "from problem_formulation import get_model_for_problem_formulation, sum_over, sum_over_time\n",
    "\n"
   ]
  },
  {
   "cell_type": "code",
   "execution_count": 59,
   "metadata": {},
   "outputs": [],
   "source": [
    "ema_logging.log_to_stderr(ema_logging.INFO)\n",
    "\n",
    "# choose problem formulation number, between 0-5\n",
    "# each problem formulation has its own list of outcomes\n",
    "dike_model, planning_steps = get_model_for_problem_formulation(5)"
   ]
  },
  {
   "cell_type": "code",
   "execution_count": 60,
   "metadata": {},
   "outputs": [
    {
     "name": "stderr",
     "output_type": "stream",
     "text": [
      "[MainProcess/INFO] pool started with 8 workers\n",
      "[MainProcess/INFO] performing 50 scenarios * 2 policies * 1 model(s) = 100 experiments\n",
      "100%|████████████████████████████████████████| 100/100 [00:08<00:00, 11.13it/s]\n",
      "[MainProcess/INFO] experiments finished\n",
      "[MainProcess/INFO] terminating pool\n"
     ]
    }
   ],
   "source": [
    "# running the model through EMA workbench\n",
    "with MultiprocessingEvaluator(dike_model) as evaluator:\n",
    "    results = evaluator.perform_experiments(scenarios=50, policies=2)"
   ]
  },
  {
   "cell_type": "code",
   "execution_count": 61,
   "metadata": {
    "scrolled": true
   },
   "outputs": [],
   "source": [
    "# observing the simulation runs\n",
    "experiments, outcomes = results\n",
    "# print(outcomes.keys())"
   ]
  },
  {
   "cell_type": "code",
   "execution_count": 62,
   "outputs": [],
   "source": [
    "#latin hypercube\n",
    "df_exp = experiments"
   ],
   "metadata": {
    "collapsed": false
   }
  },
  {
   "cell_type": "code",
   "execution_count": 63,
   "outputs": [],
   "source": [
    "df = pd.DataFrame()\n",
    "\n",
    "for k in outcomes:\n",
    "    test_list = []\n",
    "    for i in range(len(experiments)):\n",
    "        t = outcomes[k][i].sum()\n",
    "        test_list.append(t)\n",
    "    df[k]=test_list"
   ],
   "metadata": {
    "collapsed": false
   }
  },
  {
   "cell_type": "code",
   "execution_count": 64,
   "outputs": [],
   "source": [
    "import pickle\n",
    "\n",
    "with open('df_outcomes.pkl','wb') as pickle_file:\n",
    "    pickle.dump(df, pickle_file)"
   ],
   "metadata": {
    "collapsed": false
   }
  },
  {
   "cell_type": "code",
   "execution_count": 65,
   "outputs": [],
   "source": [
    "df_outcomes = pd.read_pickle('df_outcomes.pkl')"
   ],
   "metadata": {
    "collapsed": false
   }
  },
  {
   "cell_type": "code",
   "execution_count": 66,
   "outputs": [],
   "source": [
    "df_outcomes[\"A.1_Deaths_Cost\"]=df_outcomes[\"A.1_Expected Number of Deaths\"]*2700000\n",
    "df_outcomes[\"A.2_Deaths_Cost\"]=df_outcomes[\"A.2_Expected Number of Deaths\"]*2700000\n",
    "df_outcomes[\"A.3_Deaths_Cost\"]=df_outcomes[\"A.3_Expected Number of Deaths\"]*2700000\n",
    "df_outcomes[\"A.4_Deaths_Cost\"]=df_outcomes[\"A.4_Expected Number of Deaths\"]*2700000\n",
    "df_outcomes[\"A.5_Deaths_Cost\"]=df_outcomes[\"A.5_Expected Number of Deaths\"]*2700000"
   ],
   "metadata": {
    "collapsed": false
   }
  },
  {
   "cell_type": "code",
   "execution_count": 67,
   "outputs": [],
   "source": [
    "to_drop = [\"A.1_Expected Number of Deaths\",\"A.2_Expected Number of Deaths\",\"A.3_Expected Number of Deaths\",\"A.4_Expected Number of Deaths\",\"A.5_Expected Number of Deaths\"]\n",
    "df_outcomes = df_outcomes.drop(to_drop, axis=1)\n",
    "df_outcomes['total_cost[€]']= df_outcomes.sum(axis=1)\n",
    "df_total_cost = df_outcomes['total_cost[€]']"
   ],
   "metadata": {
    "collapsed": false
   }
  },
  {
   "cell_type": "code",
   "execution_count": 72,
   "outputs": [],
   "source": [
    "results = pd.concat([df_exp, df_total_cost], axis=1)"
   ],
   "metadata": {
    "collapsed": false
   }
  },
  {
   "cell_type": "code",
   "execution_count": 70,
   "outputs": [
    {
     "data": {
      "text/plain": "    A.0_ID flood wave shape    A.1_Bmax A.1_Brate  A.1_pfail    A.2_Bmax  \\\n0                        49  255.353394      10.0   0.857858  153.945334   \n1                       110  199.955250      10.0   0.259020  257.246386   \n2                        87  186.283319       1.0   0.188153  113.923406   \n3                        74  210.207264      10.0   0.825674  146.468051   \n4                        57  140.352566       1.5   0.219324  328.733967   \n..                      ...         ...       ...        ...         ...   \n95                       44  330.800695      10.0   0.615837   61.855487   \n96                       95  217.455686       1.0   0.390092  342.671702   \n97                      126  103.662486      10.0   0.122901  128.440781   \n98                       92  323.485979       1.5   0.429788  286.929143   \n99                      117  109.876156       1.5   0.922805  344.344798   \n\n   A.2_Brate  A.2_pfail    A.3_Bmax A.3_Brate  A.3_pfail  ...  \\\n0        1.5   0.082724  283.572124      10.0   0.144225  ...   \n1        1.5   0.208543  314.759439       1.0   0.642869  ...   \n2       10.0   0.775229  159.722035       1.5   0.626463  ...   \n3        1.0   0.698236   39.067007      10.0   0.715761  ...   \n4        1.0   0.505976   61.089220      10.0   0.034604  ...   \n..       ...        ...         ...       ...        ...  ...   \n95      10.0   0.736271   97.374602       1.5   0.197463  ...   \n96       1.0   0.180443   70.767263      10.0   0.720447  ...   \n97      10.0   0.913998  308.535021       1.0   0.421243  ...   \n98       1.0   0.521217  104.429233       1.5   0.677923  ...   \n99       1.0   0.057407  167.475451       1.0   0.916250  ...   \n\n    A.4_DikeIncrease 1 A.4_DikeIncrease 2  A.5_DikeIncrease 0  \\\n0                    6                  4                   1   \n1                    6                  4                   1   \n2                    6                  4                   1   \n3                    6                  4                   1   \n4                    6                  4                   1   \n..                 ...                ...                 ...   \n95                   0                 10                   9   \n96                   0                 10                   9   \n97                   0                 10                   9   \n98                   0                 10                   9   \n99                   0                 10                   9   \n\n    A.5_DikeIncrease 1 A.5_DikeIncrease 2  EWS_DaysToThreat scenario policy  \\\n0                   10                  7                 0       54     52   \n1                   10                  7                 0       55     52   \n2                   10                  7                 0       56     52   \n3                   10                  7                 0       57     52   \n4                   10                  7                 0       58     52   \n..                 ...                ...               ...      ...    ...   \n95                   0                  0                 2       99     53   \n96                   0                  0                 2      100     53   \n97                   0                  0                 2      101     53   \n98                   0                  0                 2      102     53   \n99                   0                  0                 2      103     53   \n\n       model  total_cost[€]  \n0   dikesnet   1.919999e+09  \n1   dikesnet   1.912118e+09  \n2   dikesnet   2.100863e+09  \n3   dikesnet   1.997800e+09  \n4   dikesnet   2.150337e+09  \n..       ...            ...  \n95  dikesnet   1.632190e+09  \n96  dikesnet   1.643130e+09  \n97  dikesnet   1.632190e+09  \n98  dikesnet   1.632190e+09  \n99  dikesnet   1.679180e+09  \n\n[100 rows x 54 columns]",
      "text/html": "<div>\n<style scoped>\n    .dataframe tbody tr th:only-of-type {\n        vertical-align: middle;\n    }\n\n    .dataframe tbody tr th {\n        vertical-align: top;\n    }\n\n    .dataframe thead th {\n        text-align: right;\n    }\n</style>\n<table border=\"1\" class=\"dataframe\">\n  <thead>\n    <tr style=\"text-align: right;\">\n      <th></th>\n      <th>A.0_ID flood wave shape</th>\n      <th>A.1_Bmax</th>\n      <th>A.1_Brate</th>\n      <th>A.1_pfail</th>\n      <th>A.2_Bmax</th>\n      <th>A.2_Brate</th>\n      <th>A.2_pfail</th>\n      <th>A.3_Bmax</th>\n      <th>A.3_Brate</th>\n      <th>A.3_pfail</th>\n      <th>...</th>\n      <th>A.4_DikeIncrease 1</th>\n      <th>A.4_DikeIncrease 2</th>\n      <th>A.5_DikeIncrease 0</th>\n      <th>A.5_DikeIncrease 1</th>\n      <th>A.5_DikeIncrease 2</th>\n      <th>EWS_DaysToThreat</th>\n      <th>scenario</th>\n      <th>policy</th>\n      <th>model</th>\n      <th>total_cost[€]</th>\n    </tr>\n  </thead>\n  <tbody>\n    <tr>\n      <th>0</th>\n      <td>49</td>\n      <td>255.353394</td>\n      <td>10.0</td>\n      <td>0.857858</td>\n      <td>153.945334</td>\n      <td>1.5</td>\n      <td>0.082724</td>\n      <td>283.572124</td>\n      <td>10.0</td>\n      <td>0.144225</td>\n      <td>...</td>\n      <td>6</td>\n      <td>4</td>\n      <td>1</td>\n      <td>10</td>\n      <td>7</td>\n      <td>0</td>\n      <td>54</td>\n      <td>52</td>\n      <td>dikesnet</td>\n      <td>1.919999e+09</td>\n    </tr>\n    <tr>\n      <th>1</th>\n      <td>110</td>\n      <td>199.955250</td>\n      <td>10.0</td>\n      <td>0.259020</td>\n      <td>257.246386</td>\n      <td>1.5</td>\n      <td>0.208543</td>\n      <td>314.759439</td>\n      <td>1.0</td>\n      <td>0.642869</td>\n      <td>...</td>\n      <td>6</td>\n      <td>4</td>\n      <td>1</td>\n      <td>10</td>\n      <td>7</td>\n      <td>0</td>\n      <td>55</td>\n      <td>52</td>\n      <td>dikesnet</td>\n      <td>1.912118e+09</td>\n    </tr>\n    <tr>\n      <th>2</th>\n      <td>87</td>\n      <td>186.283319</td>\n      <td>1.0</td>\n      <td>0.188153</td>\n      <td>113.923406</td>\n      <td>10.0</td>\n      <td>0.775229</td>\n      <td>159.722035</td>\n      <td>1.5</td>\n      <td>0.626463</td>\n      <td>...</td>\n      <td>6</td>\n      <td>4</td>\n      <td>1</td>\n      <td>10</td>\n      <td>7</td>\n      <td>0</td>\n      <td>56</td>\n      <td>52</td>\n      <td>dikesnet</td>\n      <td>2.100863e+09</td>\n    </tr>\n    <tr>\n      <th>3</th>\n      <td>74</td>\n      <td>210.207264</td>\n      <td>10.0</td>\n      <td>0.825674</td>\n      <td>146.468051</td>\n      <td>1.0</td>\n      <td>0.698236</td>\n      <td>39.067007</td>\n      <td>10.0</td>\n      <td>0.715761</td>\n      <td>...</td>\n      <td>6</td>\n      <td>4</td>\n      <td>1</td>\n      <td>10</td>\n      <td>7</td>\n      <td>0</td>\n      <td>57</td>\n      <td>52</td>\n      <td>dikesnet</td>\n      <td>1.997800e+09</td>\n    </tr>\n    <tr>\n      <th>4</th>\n      <td>57</td>\n      <td>140.352566</td>\n      <td>1.5</td>\n      <td>0.219324</td>\n      <td>328.733967</td>\n      <td>1.0</td>\n      <td>0.505976</td>\n      <td>61.089220</td>\n      <td>10.0</td>\n      <td>0.034604</td>\n      <td>...</td>\n      <td>6</td>\n      <td>4</td>\n      <td>1</td>\n      <td>10</td>\n      <td>7</td>\n      <td>0</td>\n      <td>58</td>\n      <td>52</td>\n      <td>dikesnet</td>\n      <td>2.150337e+09</td>\n    </tr>\n    <tr>\n      <th>...</th>\n      <td>...</td>\n      <td>...</td>\n      <td>...</td>\n      <td>...</td>\n      <td>...</td>\n      <td>...</td>\n      <td>...</td>\n      <td>...</td>\n      <td>...</td>\n      <td>...</td>\n      <td>...</td>\n      <td>...</td>\n      <td>...</td>\n      <td>...</td>\n      <td>...</td>\n      <td>...</td>\n      <td>...</td>\n      <td>...</td>\n      <td>...</td>\n      <td>...</td>\n      <td>...</td>\n    </tr>\n    <tr>\n      <th>95</th>\n      <td>44</td>\n      <td>330.800695</td>\n      <td>10.0</td>\n      <td>0.615837</td>\n      <td>61.855487</td>\n      <td>10.0</td>\n      <td>0.736271</td>\n      <td>97.374602</td>\n      <td>1.5</td>\n      <td>0.197463</td>\n      <td>...</td>\n      <td>0</td>\n      <td>10</td>\n      <td>9</td>\n      <td>0</td>\n      <td>0</td>\n      <td>2</td>\n      <td>99</td>\n      <td>53</td>\n      <td>dikesnet</td>\n      <td>1.632190e+09</td>\n    </tr>\n    <tr>\n      <th>96</th>\n      <td>95</td>\n      <td>217.455686</td>\n      <td>1.0</td>\n      <td>0.390092</td>\n      <td>342.671702</td>\n      <td>1.0</td>\n      <td>0.180443</td>\n      <td>70.767263</td>\n      <td>10.0</td>\n      <td>0.720447</td>\n      <td>...</td>\n      <td>0</td>\n      <td>10</td>\n      <td>9</td>\n      <td>0</td>\n      <td>0</td>\n      <td>2</td>\n      <td>100</td>\n      <td>53</td>\n      <td>dikesnet</td>\n      <td>1.643130e+09</td>\n    </tr>\n    <tr>\n      <th>97</th>\n      <td>126</td>\n      <td>103.662486</td>\n      <td>10.0</td>\n      <td>0.122901</td>\n      <td>128.440781</td>\n      <td>10.0</td>\n      <td>0.913998</td>\n      <td>308.535021</td>\n      <td>1.0</td>\n      <td>0.421243</td>\n      <td>...</td>\n      <td>0</td>\n      <td>10</td>\n      <td>9</td>\n      <td>0</td>\n      <td>0</td>\n      <td>2</td>\n      <td>101</td>\n      <td>53</td>\n      <td>dikesnet</td>\n      <td>1.632190e+09</td>\n    </tr>\n    <tr>\n      <th>98</th>\n      <td>92</td>\n      <td>323.485979</td>\n      <td>1.5</td>\n      <td>0.429788</td>\n      <td>286.929143</td>\n      <td>1.0</td>\n      <td>0.521217</td>\n      <td>104.429233</td>\n      <td>1.5</td>\n      <td>0.677923</td>\n      <td>...</td>\n      <td>0</td>\n      <td>10</td>\n      <td>9</td>\n      <td>0</td>\n      <td>0</td>\n      <td>2</td>\n      <td>102</td>\n      <td>53</td>\n      <td>dikesnet</td>\n      <td>1.632190e+09</td>\n    </tr>\n    <tr>\n      <th>99</th>\n      <td>117</td>\n      <td>109.876156</td>\n      <td>1.5</td>\n      <td>0.922805</td>\n      <td>344.344798</td>\n      <td>1.0</td>\n      <td>0.057407</td>\n      <td>167.475451</td>\n      <td>1.0</td>\n      <td>0.916250</td>\n      <td>...</td>\n      <td>0</td>\n      <td>10</td>\n      <td>9</td>\n      <td>0</td>\n      <td>0</td>\n      <td>2</td>\n      <td>103</td>\n      <td>53</td>\n      <td>dikesnet</td>\n      <td>1.679180e+09</td>\n    </tr>\n  </tbody>\n</table>\n<p>100 rows × 54 columns</p>\n</div>"
     },
     "execution_count": 70,
     "metadata": {},
     "output_type": "execute_result"
    }
   ],
   "source": [
    "results"
   ],
   "metadata": {
    "collapsed": false
   }
  },
  {
   "cell_type": "code",
   "execution_count": null,
   "outputs": [],
   "source": [],
   "metadata": {
    "collapsed": false
   }
  },
  {
   "cell_type": "code",
   "execution_count": 11,
   "metadata": {},
   "outputs": [],
   "source": [
    "# # defining specific policies\n",
    "# # for example, policy 1 is about extra protection in upper boundary\n",
    "# # policy 2 is about extra protection in lower boundary\n",
    "# # policy 3 is extra protection in random locations\n",
    "#\n",
    "#\n",
    "# def get_do_nothing_dict():\n",
    "#     return {l.name: 0 for l in dike_model.levers}\n",
    "#\n",
    "#\n",
    "# policies = [\n",
    "#     Policy(\n",
    "#         \"policy 1\",\n",
    "#         **dict(\n",
    "#             get_do_nothing_dict(),\n",
    "#             **{\"0_RfR 0\": 1, \"0_RfR 1\": 1, \"0_RfR 2\": 1, \"A.1_DikeIncrease 0\": 5}\n",
    "#         )\n",
    "#     ),\n",
    "#     Policy(\n",
    "#         \"policy 2\",\n",
    "#         **dict(\n",
    "#             get_do_nothing_dict(),\n",
    "#             **{\"4_RfR 0\": 1, \"4_RfR 1\": 1, \"4_RfR 2\": 1, \"A.5_DikeIncrease 0\": 5}\n",
    "#         )\n",
    "#     ),\n",
    "#     Policy(\n",
    "#         \"policy 3\",\n",
    "#         **dict(\n",
    "#             get_do_nothing_dict(),\n",
    "#             **{\"1_RfR 0\": 1, \"2_RfR 1\": 1, \"3_RfR 2\": 1, \"A.3_DikeIncrease 0\": 5}\n",
    "#         )\n",
    "#     ),\n",
    "# ]"
   ]
  },
  {
   "cell_type": "code",
   "execution_count": 12,
   "metadata": {},
   "outputs": [
    {
     "name": "stderr",
     "output_type": "stream",
     "text": [
      "[MainProcess/INFO] pool started with 8 workers\n",
      "[MainProcess/INFO] performing 100 scenarios * 3 policies * 1 model(s) = 300 experiments\n",
      "100%|████████████████████████████████████████| 300/300 [00:25<00:00, 11.67it/s]\n",
      "[MainProcess/INFO] experiments finished\n",
      "[MainProcess/INFO] terminating pool\n"
     ]
    }
   ],
   "source": [
    "# # pass the policies list to EMA workbench experiment runs\n",
    "# n_scenarios = 100\n",
    "# with MultiprocessingEvaluator(dike_model) as evaluator:\n",
    "#     results = evaluator.perform_experiments(n_scenarios, policies)"
   ]
  },
  {
   "cell_type": "code",
   "execution_count": 13,
   "metadata": {},
   "outputs": [],
   "source": [
    "# experiments, outcomes = results"
   ]
  },
  {
   "cell_type": "code",
   "execution_count": 14,
   "metadata": {},
   "outputs": [
    {
     "data": {
      "text/plain": "     A.1 Total Costs  A.1_Expected Number of Deaths  A.2 Total Costs  \\\n0       5.397251e+07                       0.000000     4.620660e+06   \n1       5.397251e+07                       0.000000     9.875764e+07   \n2       5.397251e+07                       0.000000     4.682906e+07   \n3       5.397251e+07                       0.000000     5.559100e+07   \n4       5.397251e+07                       0.000000     9.558758e+06   \n..               ...                            ...              ...   \n295     1.625123e+07                       0.009414     4.625496e+07   \n296     1.341257e+09                       0.837254     1.460801e+06   \n297     2.975870e+09                       1.660996     7.115702e+07   \n298     0.000000e+00                       0.000000     7.561023e+08   \n299     2.210706e+09                       1.660509     1.224865e+08   \n\n     A.2_Expected Number of Deaths  A.3 Total Costs  \\\n0                         0.005443     4.152414e+07   \n1                         0.096251     1.476749e+09   \n2                         0.050271     2.386701e+08   \n3                         0.050168     2.106536e+08   \n4                         0.011308     1.141946e+09   \n..                             ...              ...   \n295                       0.037693     2.879840e+07   \n296                       0.001369     2.879840e+07   \n297                       0.057468     2.879840e+07   \n298                       0.597678     2.879840e+07   \n299                       0.119590     2.879840e+07   \n\n     A.3_Expected Number of Deaths  A.4 Total Costs  \\\n0                         0.090124     2.824868e+07   \n1                         2.594713     1.061808e+07   \n2                         0.473904     5.485795e+07   \n3                         0.353636     0.000000e+00   \n4                         2.315536     6.373503e+06   \n..                             ...              ...   \n295                       0.000000     1.218871e+07   \n296                       0.000000     1.188652e+07   \n297                       0.000000     2.301570e+07   \n298                       0.000000     0.000000e+00   \n299                       0.000000     0.000000e+00   \n\n     A.4_Expected Number of Deaths  A.5 Total Costs  \\\n0                         0.016040     5.315896e+07   \n1                         0.004789     1.715375e+06   \n2                         0.027997     0.000000e+00   \n3                         0.000000     0.000000e+00   \n4                         0.003377     0.000000e+00   \n..                             ...              ...   \n295                       0.005005     0.000000e+00   \n296                       0.005491     0.000000e+00   \n297                       0.009150     0.000000e+00   \n298                       0.000000     0.000000e+00   \n299                       0.000000     0.000000e+00   \n\n     A.5_Expected Number of Deaths  RfR Total Costs  Expected Evacuation Costs  \n0                         0.056448      253800000.0                        0.0  \n1                         0.001558      253800000.0                        0.0  \n2                         0.000000      253800000.0                        0.0  \n3                         0.000000      253800000.0                        0.0  \n4                         0.000000      253800000.0                        0.0  \n..                             ...              ...                        ...  \n295                       0.000000      369700000.0                        0.0  \n296                       0.000000      369700000.0                        0.0  \n297                       0.000000      369700000.0                        0.0  \n298                       0.000000      369700000.0                        0.0  \n299                       0.000000      369700000.0                        0.0  \n\n[300 rows x 12 columns]",
      "text/html": "<div>\n<style scoped>\n    .dataframe tbody tr th:only-of-type {\n        vertical-align: middle;\n    }\n\n    .dataframe tbody tr th {\n        vertical-align: top;\n    }\n\n    .dataframe thead th {\n        text-align: right;\n    }\n</style>\n<table border=\"1\" class=\"dataframe\">\n  <thead>\n    <tr style=\"text-align: right;\">\n      <th></th>\n      <th>A.1 Total Costs</th>\n      <th>A.1_Expected Number of Deaths</th>\n      <th>A.2 Total Costs</th>\n      <th>A.2_Expected Number of Deaths</th>\n      <th>A.3 Total Costs</th>\n      <th>A.3_Expected Number of Deaths</th>\n      <th>A.4 Total Costs</th>\n      <th>A.4_Expected Number of Deaths</th>\n      <th>A.5 Total Costs</th>\n      <th>A.5_Expected Number of Deaths</th>\n      <th>RfR Total Costs</th>\n      <th>Expected Evacuation Costs</th>\n    </tr>\n  </thead>\n  <tbody>\n    <tr>\n      <th>0</th>\n      <td>5.397251e+07</td>\n      <td>0.000000</td>\n      <td>4.620660e+06</td>\n      <td>0.005443</td>\n      <td>4.152414e+07</td>\n      <td>0.090124</td>\n      <td>2.824868e+07</td>\n      <td>0.016040</td>\n      <td>5.315896e+07</td>\n      <td>0.056448</td>\n      <td>253800000.0</td>\n      <td>0.0</td>\n    </tr>\n    <tr>\n      <th>1</th>\n      <td>5.397251e+07</td>\n      <td>0.000000</td>\n      <td>9.875764e+07</td>\n      <td>0.096251</td>\n      <td>1.476749e+09</td>\n      <td>2.594713</td>\n      <td>1.061808e+07</td>\n      <td>0.004789</td>\n      <td>1.715375e+06</td>\n      <td>0.001558</td>\n      <td>253800000.0</td>\n      <td>0.0</td>\n    </tr>\n    <tr>\n      <th>2</th>\n      <td>5.397251e+07</td>\n      <td>0.000000</td>\n      <td>4.682906e+07</td>\n      <td>0.050271</td>\n      <td>2.386701e+08</td>\n      <td>0.473904</td>\n      <td>5.485795e+07</td>\n      <td>0.027997</td>\n      <td>0.000000e+00</td>\n      <td>0.000000</td>\n      <td>253800000.0</td>\n      <td>0.0</td>\n    </tr>\n    <tr>\n      <th>3</th>\n      <td>5.397251e+07</td>\n      <td>0.000000</td>\n      <td>5.559100e+07</td>\n      <td>0.050168</td>\n      <td>2.106536e+08</td>\n      <td>0.353636</td>\n      <td>0.000000e+00</td>\n      <td>0.000000</td>\n      <td>0.000000e+00</td>\n      <td>0.000000</td>\n      <td>253800000.0</td>\n      <td>0.0</td>\n    </tr>\n    <tr>\n      <th>4</th>\n      <td>5.397251e+07</td>\n      <td>0.000000</td>\n      <td>9.558758e+06</td>\n      <td>0.011308</td>\n      <td>1.141946e+09</td>\n      <td>2.315536</td>\n      <td>6.373503e+06</td>\n      <td>0.003377</td>\n      <td>0.000000e+00</td>\n      <td>0.000000</td>\n      <td>253800000.0</td>\n      <td>0.0</td>\n    </tr>\n    <tr>\n      <th>...</th>\n      <td>...</td>\n      <td>...</td>\n      <td>...</td>\n      <td>...</td>\n      <td>...</td>\n      <td>...</td>\n      <td>...</td>\n      <td>...</td>\n      <td>...</td>\n      <td>...</td>\n      <td>...</td>\n      <td>...</td>\n    </tr>\n    <tr>\n      <th>295</th>\n      <td>1.625123e+07</td>\n      <td>0.009414</td>\n      <td>4.625496e+07</td>\n      <td>0.037693</td>\n      <td>2.879840e+07</td>\n      <td>0.000000</td>\n      <td>1.218871e+07</td>\n      <td>0.005005</td>\n      <td>0.000000e+00</td>\n      <td>0.000000</td>\n      <td>369700000.0</td>\n      <td>0.0</td>\n    </tr>\n    <tr>\n      <th>296</th>\n      <td>1.341257e+09</td>\n      <td>0.837254</td>\n      <td>1.460801e+06</td>\n      <td>0.001369</td>\n      <td>2.879840e+07</td>\n      <td>0.000000</td>\n      <td>1.188652e+07</td>\n      <td>0.005491</td>\n      <td>0.000000e+00</td>\n      <td>0.000000</td>\n      <td>369700000.0</td>\n      <td>0.0</td>\n    </tr>\n    <tr>\n      <th>297</th>\n      <td>2.975870e+09</td>\n      <td>1.660996</td>\n      <td>7.115702e+07</td>\n      <td>0.057468</td>\n      <td>2.879840e+07</td>\n      <td>0.000000</td>\n      <td>2.301570e+07</td>\n      <td>0.009150</td>\n      <td>0.000000e+00</td>\n      <td>0.000000</td>\n      <td>369700000.0</td>\n      <td>0.0</td>\n    </tr>\n    <tr>\n      <th>298</th>\n      <td>0.000000e+00</td>\n      <td>0.000000</td>\n      <td>7.561023e+08</td>\n      <td>0.597678</td>\n      <td>2.879840e+07</td>\n      <td>0.000000</td>\n      <td>0.000000e+00</td>\n      <td>0.000000</td>\n      <td>0.000000e+00</td>\n      <td>0.000000</td>\n      <td>369700000.0</td>\n      <td>0.0</td>\n    </tr>\n    <tr>\n      <th>299</th>\n      <td>2.210706e+09</td>\n      <td>1.660509</td>\n      <td>1.224865e+08</td>\n      <td>0.119590</td>\n      <td>2.879840e+07</td>\n      <td>0.000000</td>\n      <td>0.000000e+00</td>\n      <td>0.000000</td>\n      <td>0.000000e+00</td>\n      <td>0.000000</td>\n      <td>369700000.0</td>\n      <td>0.0</td>\n    </tr>\n  </tbody>\n</table>\n<p>300 rows × 12 columns</p>\n</div>"
     },
     "execution_count": 14,
     "metadata": {},
     "output_type": "execute_result"
    }
   ],
   "source": [
    "# # only works because we have scalar outcomes\n",
    "# pd.DataFrame(outcomes)"
   ]
  },
  {
   "cell_type": "code",
   "execution_count": 14,
   "metadata": {
    "pycharm": {
     "name": "#%%"
    }
   },
   "outputs": [],
   "source": []
  }
 ],
 "metadata": {
  "kernelspec": {
   "display_name": "Python 3 (ipykernel)",
   "language": "python",
   "name": "python3"
  },
  "language_info": {
   "codemirror_mode": {
    "name": "ipython",
    "version": 3
   },
   "file_extension": ".py",
   "mimetype": "text/x-python",
   "name": "python",
   "nbconvert_exporter": "python",
   "pygments_lexer": "ipython3",
   "version": "3.9.16"
  }
 },
 "nbformat": 4,
 "nbformat_minor": 4
}
