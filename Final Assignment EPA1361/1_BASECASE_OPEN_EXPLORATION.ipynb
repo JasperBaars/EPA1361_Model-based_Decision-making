{
 "cells": [
  {
   "cell_type": "code",
   "execution_count": 4,
   "outputs": [],
   "source": [
    "import numpy as np\n",
    "import scipy as sp\n",
    "import pandas as pd\n",
    "import matplotlib.pyplot as plt\n",
    "import seaborn as sns\n",
    "import networkx as nx\n",
    "\n",
    "from ema_workbench import (\n",
    "    Model,\n",
    "    Policy,\n",
    "    ema_logging,\n",
    "    SequentialEvaluator,\n",
    "    MultiprocessingEvaluator,\n",
    "    Samplers,\n",
    ")\n",
    "from dike_model_function import DikeNetwork  # @UnresolvedImport\n",
    "from problem_formulation import get_model_for_problem_formulation, sum_over, sum_over_time\n",
    "import pickle\n",
    "\n",
    "from ema_workbench.util import utilities\n",
    "from ema_workbench.analysis import prim, cart"
   ],
   "metadata": {
    "collapsed": false,
    "ExecuteTime": {
     "end_time": "2023-06-14T10:51:00.115870200Z",
     "start_time": "2023-06-14T10:50:59.989227800Z"
    }
   }
  },
  {
   "cell_type": "code",
   "execution_count": 5,
   "outputs": [
    {
     "data": {
      "text/plain": "<Logger EMA (DEBUG)>"
     },
     "execution_count": 5,
     "metadata": {},
     "output_type": "execute_result"
    }
   ],
   "source": [
    "ema_logging.log_to_stderr(ema_logging.INFO)"
   ],
   "metadata": {
    "collapsed": false,
    "ExecuteTime": {
     "end_time": "2023-06-14T10:51:00.274355700Z",
     "start_time": "2023-06-14T10:50:59.999909400Z"
    }
   }
  },
  {
   "cell_type": "markdown",
   "source": [
    "# Open Exploration"
   ],
   "metadata": {
    "collapsed": false
   }
  },
  {
   "cell_type": "markdown",
   "source": [
    "- No policy (everything 0)\n",
    "- Latin hypercube of scenarios (10.000 scenarios)\n",
    "- Result: choose 20 to 50 scenarios"
   ],
   "metadata": {
    "collapsed": false
   }
  },
  {
   "cell_type": "markdown",
   "source": [
    "First, the model is initialized, using problem formulation 5."
   ],
   "metadata": {
    "collapsed": false
   }
  },
  {
   "cell_type": "code",
   "execution_count": 6,
   "outputs": [],
   "source": [
    "# initiate model\n",
    "dike_model, planning_steps = get_model_for_problem_formulation(5)"
   ],
   "metadata": {
    "collapsed": false,
    "ExecuteTime": {
     "end_time": "2023-06-14T10:51:00.333338900Z",
     "start_time": "2023-06-14T10:51:00.019898800Z"
    }
   }
  },
  {
   "cell_type": "markdown",
   "source": [
    "Then, a reference policy is initialized, in which all policy variables are set to 0."
   ],
   "metadata": {
    "collapsed": false
   }
  },
  {
   "cell_type": "code",
   "execution_count": 7,
   "outputs": [],
   "source": [
    "# set reference policy as all 0's\n",
    "reference = Policy(\"0_policy\", **{l.name: 0 for l in dike_model.levers})"
   ],
   "metadata": {
    "collapsed": false,
    "ExecuteTime": {
     "end_time": "2023-06-14T10:51:00.333338900Z",
     "start_time": "2023-06-14T10:51:00.220316300Z"
    }
   }
  },
  {
   "cell_type": "markdown",
   "source": [
    "if we decide to include the timestep:this saves the seperate timesteps to a csv."
   ],
   "metadata": {
    "collapsed": false
   }
  },
  {
   "cell_type": "code",
   "execution_count": 8,
   "outputs": [],
   "source": [
    "# n_scenarios = 10000\n",
    "#\n",
    "# # running the model through EMA workbench, using Latin Hypercube Sampling and the reference policy\n",
    "# with MultiprocessingEvaluator(dike_model, n_processes=-1) as evaluator:\n",
    "#     results = evaluator.perform_experiments(scenarios=n_scenarios, policies=reference, uncertainty_sampling=Samplers.LHS)\n",
    "#\n",
    "# utilities.save_results(results,r'generated_datasets\\50ScenariosBaseCase_separate.csv')"
   ],
   "metadata": {
    "collapsed": false,
    "ExecuteTime": {
     "end_time": "2023-06-14T10:51:00.334338300Z",
     "start_time": "2023-06-14T10:51:00.225314900Z"
    }
   }
  },
  {
   "cell_type": "code",
   "execution_count": 9,
   "outputs": [],
   "source": [
    "# test = pd.read_csv(r'generated_datasets\\50ScenariosBaseCase_separate.csv', compression='gzip',on_bad_lines='skip').dropna()\n",
    "# test"
   ],
   "metadata": {
    "collapsed": false,
    "ExecuteTime": {
     "end_time": "2023-06-14T10:51:00.334338300Z",
     "start_time": "2023-06-14T10:51:00.255362300Z"
    }
   }
  },
  {
   "cell_type": "markdown",
   "source": [
    "However, this is the one that we will be using: combining the timesteps into a single value. The model is run, and results are saved"
   ],
   "metadata": {
    "collapsed": false
   }
  },
  {
   "cell_type": "code",
   "execution_count": 10,
   "outputs": [
    {
     "name": "stderr",
     "output_type": "stream",
     "text": [
      "[MainProcess/INFO] pool started with 12 workers\n",
      "[MainProcess/INFO] performing 10000 scenarios * 1 policies * 1 model(s) = 10000 experiments\n",
      "100%|████████████████████████████████████| 10000/10000 [15:03<00:00, 11.06it/s]\n",
      "[MainProcess/INFO] experiments finished\n",
      "[MainProcess/INFO] terminating pool\n"
     ]
    }
   ],
   "source": [
    "n_scenarios = 10_000\n",
    "\n",
    "# running the model through EMA workbench, using Latin Hypercube Sampling and the reference policy\n",
    "with MultiprocessingEvaluator(dike_model) as evaluator:\n",
    "    experiments, outcomes = evaluator.perform_experiments(scenarios=n_scenarios, policies=reference, uncertainty_sampling=Samplers.LHS)"
   ],
   "metadata": {
    "collapsed": false,
    "ExecuteTime": {
     "end_time": "2023-06-14T11:06:53.779949200Z",
     "start_time": "2023-06-14T10:51:00.256363100Z"
    }
   }
  },
  {
   "cell_type": "code",
   "execution_count": 11,
   "outputs": [],
   "source": [
    "# as we do not plan on using the timeseries data, we add them up into a single value. This is then saved to a pickle file for later use\n",
    "\n",
    "df = pd.DataFrame()\n",
    "for k in outcomes:\n",
    "    test_list = []\n",
    "    for i in range(len(experiments)):\n",
    "        t = outcomes[k][i].sum()\n",
    "        test_list.append(t)\n",
    "    df[k]=test_list\n",
    "\n",
    "with open(r'generated_datasets\\open_exploration_base_policy.pkl','wb') as pickle_file:\n",
    "    pickle.dump(df, pickle_file)"
   ],
   "metadata": {
    "collapsed": false,
    "ExecuteTime": {
     "end_time": "2023-06-14T11:06:54.558030100Z",
     "start_time": "2023-06-14T11:06:53.779949200Z"
    }
   }
  },
  {
   "cell_type": "markdown",
   "source": [
    "The data is then loaded into a dataframe. The cost of death variables are calculated and added to the data."
   ],
   "metadata": {
    "collapsed": false
   }
  },
  {
   "cell_type": "code",
   "execution_count": 12,
   "outputs": [],
   "source": [
    "outcomes = pd.read_pickle(r'generated_datasets\\open_exploration_base_policy.pkl')"
   ],
   "metadata": {
    "collapsed": false,
    "ExecuteTime": {
     "end_time": "2023-06-14T11:06:54.564049500Z",
     "start_time": "2023-06-14T11:06:54.560029Z"
    }
   }
  },
  {
   "cell_type": "code",
   "execution_count": 13,
   "outputs": [],
   "source": [
    "# calculate the cost of death so every column has the same unit (€)\n",
    "outcomes[\"A.1_Deaths_Cost\"]=outcomes[\"A.1_Expected Number of Deaths\"]*2_700_000\n",
    "outcomes[\"A.2_Deaths_Cost\"]=outcomes[\"A.2_Expected Number of Deaths\"]*2_700_000\n",
    "outcomes[\"A.3_Deaths_Cost\"]=outcomes[\"A.3_Expected Number of Deaths\"]*2_700_000\n",
    "outcomes[\"A.4_Deaths_Cost\"]=outcomes[\"A.4_Expected Number of Deaths\"]*2_700_000\n",
    "outcomes[\"A.5_Deaths_Cost\"]=outcomes[\"A.5_Expected Number of Deaths\"]*2_700_000\n",
    "\n",
    "to_drop = [\"A.1_Expected Number of Deaths\",\"A.2_Expected Number of Deaths\",\"A.3_Expected Number of Deaths\",\"A.4_Expected Number of Deaths\",\"A.5_Expected Number of Deaths\"]\n",
    "\n",
    "outcomes.drop(to_drop, axis=1, inplace=True)\n",
    "outcomes['total_cost[€]']= outcomes.sum(axis=1)"
   ],
   "metadata": {
    "collapsed": false,
    "ExecuteTime": {
     "end_time": "2023-06-14T11:06:54.584058600Z",
     "start_time": "2023-06-14T11:06:54.566047400Z"
    }
   }
  },
  {
   "cell_type": "code",
   "execution_count": 14,
   "outputs": [],
   "source": [
    "#input variables and output combined into a single dataframe\n",
    "results = experiments.join(outcomes)\n",
    "results.drop(columns=['policy','model','scenario'], inplace=True)"
   ],
   "metadata": {
    "collapsed": false,
    "ExecuteTime": {
     "end_time": "2023-06-14T11:06:54.614988400Z",
     "start_time": "2023-06-14T11:06:54.586057800Z"
    }
   }
  },
  {
   "cell_type": "code",
   "execution_count": 15,
   "outputs": [],
   "source": [
    "with open(r'generated_datasets\\open_exploration_base_policy_ALL_scenarios.pkl','wb') as pickle_file:\n",
    "    pickle.dump(results, pickle_file)\n"
   ],
   "metadata": {
    "collapsed": false,
    "ExecuteTime": {
     "end_time": "2023-06-14T11:06:54.615987300Z",
     "start_time": "2023-06-14T11:06:54.609030800Z"
    }
   }
  },
  {
   "cell_type": "code",
   "execution_count": 16,
   "outputs": [],
   "source": [
    "results = pd.read_pickle('generated_datasets\\open_exploration_base_policy_ALL_scenarios.pkl')"
   ],
   "metadata": {
    "collapsed": false,
    "ExecuteTime": {
     "end_time": "2023-06-14T11:06:54.629102300Z",
     "start_time": "2023-06-14T11:06:54.616984500Z"
    }
   }
  },
  {
   "cell_type": "code",
   "execution_count": 17,
   "outputs": [],
   "source": [
    "total_values = pd.DataFrame()\n",
    "total_values['Expected Annual Damage'] = results['A.1_Expected Annual Damage'] + \\\n",
    "                                         results['A.2_Expected Annual Damage'] + \\\n",
    "                                         results['A.3_Expected Annual Damage'] + \\\n",
    "                                         results['A.4_Expected Annual Damage'] + \\\n",
    "                                         results['A.5_Expected Annual Damage']\n",
    "\n",
    "total_values['Dike Investment Costs'] = results['A.1_Dike Investment Costs'] + \\\n",
    "                                        results['A.2_Dike Investment Costs'] + \\\n",
    "                                        results['A.3_Dike Investment Costs'] + \\\n",
    "                                        results['A.4_Dike Investment Costs'] + \\\n",
    "                                        results['A.5_Dike Investment Costs']\n",
    "\n",
    "total_values['Deaths_Cost'] = results['A.1_Deaths_Cost'] + \\\n",
    "                              results['A.2_Deaths_Cost'] + \\\n",
    "                              results['A.3_Deaths_Cost'] + \\\n",
    "                              results['A.4_Deaths_Cost'] + \\\n",
    "                              results['A.5_Deaths_Cost']"
   ],
   "metadata": {
    "collapsed": false,
    "ExecuteTime": {
     "end_time": "2023-06-14T11:06:54.657422100Z",
     "start_time": "2023-06-14T11:06:54.630102400Z"
    }
   }
  },
  {
   "cell_type": "markdown",
   "source": [
    "# Visualizations / conclusions?"
   ],
   "metadata": {
    "collapsed": false
   }
  },
  {
   "cell_type": "markdown",
   "source": [
    "Finding the worst case scenarios top 20, difined by highest total costs"
   ],
   "metadata": {
    "collapsed": false
   }
  },
  {
   "cell_type": "code",
   "execution_count": 18,
   "outputs": [],
   "source": [
    "n_scenarios_of_interest = 20\n",
    "\n",
    "results_of_interest = results.sort_values(by='total_cost[€]', ascending=False).head(n_scenarios_of_interest)\n",
    "\n",
    "with open(r'generated_datasets\\open_exploration_base_policy_worst_scenarios.pkl','wb') as pickle_file:\n",
    "    pickle.dump(results_of_interest, pickle_file)"
   ],
   "metadata": {
    "collapsed": false,
    "ExecuteTime": {
     "end_time": "2023-06-14T11:06:54.661246400Z",
     "start_time": "2023-06-14T11:06:54.643643Z"
    }
   }
  },
  {
   "cell_type": "markdown",
   "source": [
    "### Scenario Discovery\n",
    "- Boxplots\n",
    "- PRIM\n",
    "- Scatterplots\n",
    "- CART-tree"
   ],
   "metadata": {
    "collapsed": false
   }
  },
  {
   "cell_type": "code",
   "execution_count": 30,
   "outputs": [
    {
     "data": {
      "text/plain": "<Figure size 640x480 with 6 Axes>",
      "image/png": "[encoded data removed]"
     },
     "metadata": {},
     "output_type": "display_data"
    }
   ],
   "source": [
    "fig, axes = plt.subplots(3,2)\n",
    "\n",
    "# Expected Annual Damage boxplot\n",
    "sns.boxplot(\n",
    "    ax=axes[0,0],\n",
    "    data=total_values['Expected Annual Damage'],\n",
    "    orient='h',\n",
    "    color='greenyellow',\n",
    ").set(title='Expected Annual Damage')\n",
    "\n",
    "# Deaths_Cost boxplot\n",
    "sns.boxplot(\n",
    "    ax=axes[1,0],\n",
    "    data=total_values['Deaths_Cost'],\n",
    "    orient='h',\n",
    ").set(title='Deaths Cost')\n",
    "\n",
    "# Dike Investment Costs boxplot\n",
    "sns.boxplot(\n",
    "    ax=axes[2,0],\n",
    "    data=total_values['Dike Investment Costs'],\n",
    "    orient='h',\n",
    ").set(title='Dike Investment Costs')\n",
    "\n",
    "# Expected Annual Damage histogram\n",
    "sns.histplot(\n",
    "    ax=axes[0,1],\n",
    "    data=total_values['Expected Annual Damage'],\n",
    "    bins=7,\n",
    "    color='greenyellow',\n",
    ")\n",
    "\n",
    "# Dike Investment Costs histogram\n",
    "sns.histplot(\n",
    "    ax=axes[2,1],\n",
    "    data=total_values['Dike Investment Costs'],\n",
    "    bins=7,\n",
    ")\n",
    "\n",
    "# Deaths_Cost histogram\n",
    "sns.histplot(\n",
    "    ax=axes[1,1],\n",
    "    data=total_values['Deaths_Cost'],\n",
    "    bins=7,\n",
    ")\n",
    "\n",
    "plt.tight_layout()"
   ],
   "metadata": {
    "collapsed": false,
    "ExecuteTime": {
     "end_time": "2023-06-14T11:18:49.204047600Z",
     "start_time": "2023-06-14T11:18:47.785011800Z"
    }
   }
  },
  {
   "cell_type": "code",
   "execution_count": 20,
   "outputs": [
    {
     "data": {
      "text/plain": "<Figure size 640x480 with 2 Axes>",
      "image/png": "[encoded data removed]"
     },
     "metadata": {},
     "output_type": "display_data"
    }
   ],
   "source": [
    "fig, axes = plt.subplots(2)\n",
    "\n",
    "sns.boxplot(\n",
    "    ax=axes[0],\n",
    "    data=results['total_cost[€]'],\n",
    "    orient='h',\n",
    ").set(title='total cost [€]')\n",
    "\n",
    "sns.histplot(\n",
    "    ax=axes[1],\n",
    "    data=results['total_cost[€]'],\n",
    "    bins=7,\n",
    ")\n",
    "\n",
    "plt.tight_layout()"
   ],
   "metadata": {
    "collapsed": false,
    "ExecuteTime": {
     "end_time": "2023-06-14T11:06:56.613870300Z",
     "start_time": "2023-06-14T11:06:55.978990200Z"
    }
   }
  },
  {
   "cell_type": "markdown",
   "source": [
    "Eventueel nog plots per dikering"
   ],
   "metadata": {
    "collapsed": false
   }
  },
  {
   "cell_type": "markdown",
   "source": [
    "### DEATH ANALYSIS, SAME CAN BE DONE FOR OTHER VARIABLES"
   ],
   "metadata": {
    "collapsed": false
   }
  },
  {
   "cell_type": "code",
   "execution_count": 21,
   "outputs": [
    {
     "ename": "TypeError",
     "evalue": "numpy boolean subtract, the `-` operator, is not supported, use the bitwise_xor, the `^` operator, or the logical_xor function instead.",
     "output_type": "error",
     "traceback": [
      "\u001B[1;31m---------------------------------------------------------------------------\u001B[0m",
      "\u001B[1;31mTypeError\u001B[0m                                 Traceback (most recent call last)",
      "Cell \u001B[1;32mIn[21], line 8\u001B[0m\n\u001B[0;32m      6\u001B[0m y_dama \u001B[38;5;241m=\u001B[39m y_dama \u001B[38;5;241m>\u001B[39m np\u001B[38;5;241m.\u001B[39mpercentile(y_dama, \u001B[38;5;241m75\u001B[39m)\n\u001B[0;32m      7\u001B[0m y_invest \u001B[38;5;241m=\u001B[39m total_values[\u001B[38;5;124m'\u001B[39m\u001B[38;5;124mDike Investment Costs\u001B[39m\u001B[38;5;124m'\u001B[39m]\n\u001B[1;32m----> 8\u001B[0m y_invest \u001B[38;5;241m=\u001B[39m y_invest \u001B[38;5;241m>\u001B[39m \u001B[43mnp\u001B[49m\u001B[38;5;241;43m.\u001B[39;49m\u001B[43mpercentile\u001B[49m\u001B[43m(\u001B[49m\u001B[43my_dama\u001B[49m\u001B[43m,\u001B[49m\u001B[43m \u001B[49m\u001B[38;5;241;43m75\u001B[39;49m\u001B[43m)\u001B[49m\n",
      "File \u001B[1;32m<__array_function__ internals>:200\u001B[0m, in \u001B[0;36mpercentile\u001B[1;34m(*args, **kwargs)\u001B[0m\n",
      "File \u001B[1;32mD:\\EPA\\Advanced_simulation\\EPA1361_Model-based_Decision-making\\Lib\\site-packages\\numpy\\lib\\function_base.py:4205\u001B[0m, in \u001B[0;36mpercentile\u001B[1;34m(a, q, axis, out, overwrite_input, method, keepdims, interpolation)\u001B[0m\n\u001B[0;32m   4203\u001B[0m \u001B[38;5;28;01mif\u001B[39;00m \u001B[38;5;129;01mnot\u001B[39;00m _quantile_is_valid(q):\n\u001B[0;32m   4204\u001B[0m     \u001B[38;5;28;01mraise\u001B[39;00m \u001B[38;5;167;01mValueError\u001B[39;00m(\u001B[38;5;124m\"\u001B[39m\u001B[38;5;124mPercentiles must be in the range [0, 100]\u001B[39m\u001B[38;5;124m\"\u001B[39m)\n\u001B[1;32m-> 4205\u001B[0m \u001B[38;5;28;01mreturn\u001B[39;00m \u001B[43m_quantile_unchecked\u001B[49m\u001B[43m(\u001B[49m\n\u001B[0;32m   4206\u001B[0m \u001B[43m    \u001B[49m\u001B[43ma\u001B[49m\u001B[43m,\u001B[49m\u001B[43m \u001B[49m\u001B[43mq\u001B[49m\u001B[43m,\u001B[49m\u001B[43m \u001B[49m\u001B[43maxis\u001B[49m\u001B[43m,\u001B[49m\u001B[43m \u001B[49m\u001B[43mout\u001B[49m\u001B[43m,\u001B[49m\u001B[43m \u001B[49m\u001B[43moverwrite_input\u001B[49m\u001B[43m,\u001B[49m\u001B[43m \u001B[49m\u001B[43mmethod\u001B[49m\u001B[43m,\u001B[49m\u001B[43m \u001B[49m\u001B[43mkeepdims\u001B[49m\u001B[43m)\u001B[49m\n",
      "File \u001B[1;32mD:\\EPA\\Advanced_simulation\\EPA1361_Model-based_Decision-making\\Lib\\site-packages\\numpy\\lib\\function_base.py:4473\u001B[0m, in \u001B[0;36m_quantile_unchecked\u001B[1;34m(a, q, axis, out, overwrite_input, method, keepdims)\u001B[0m\n\u001B[0;32m   4465\u001B[0m \u001B[38;5;28;01mdef\u001B[39;00m \u001B[38;5;21m_quantile_unchecked\u001B[39m(a,\n\u001B[0;32m   4466\u001B[0m                         q,\n\u001B[0;32m   4467\u001B[0m                         axis\u001B[38;5;241m=\u001B[39m\u001B[38;5;28;01mNone\u001B[39;00m,\n\u001B[1;32m   (...)\u001B[0m\n\u001B[0;32m   4470\u001B[0m                         method\u001B[38;5;241m=\u001B[39m\u001B[38;5;124m\"\u001B[39m\u001B[38;5;124mlinear\u001B[39m\u001B[38;5;124m\"\u001B[39m,\n\u001B[0;32m   4471\u001B[0m                         keepdims\u001B[38;5;241m=\u001B[39m\u001B[38;5;28;01mFalse\u001B[39;00m):\n\u001B[0;32m   4472\u001B[0m \u001B[38;5;250m    \u001B[39m\u001B[38;5;124;03m\"\"\"Assumes that q is in [0, 1], and is an ndarray\"\"\"\u001B[39;00m\n\u001B[1;32m-> 4473\u001B[0m     \u001B[38;5;28;01mreturn\u001B[39;00m \u001B[43m_ureduce\u001B[49m\u001B[43m(\u001B[49m\u001B[43ma\u001B[49m\u001B[43m,\u001B[49m\n\u001B[0;32m   4474\u001B[0m \u001B[43m                    \u001B[49m\u001B[43mfunc\u001B[49m\u001B[38;5;241;43m=\u001B[39;49m\u001B[43m_quantile_ureduce_func\u001B[49m\u001B[43m,\u001B[49m\n\u001B[0;32m   4475\u001B[0m \u001B[43m                    \u001B[49m\u001B[43mq\u001B[49m\u001B[38;5;241;43m=\u001B[39;49m\u001B[43mq\u001B[49m\u001B[43m,\u001B[49m\n\u001B[0;32m   4476\u001B[0m \u001B[43m                    \u001B[49m\u001B[43mkeepdims\u001B[49m\u001B[38;5;241;43m=\u001B[39;49m\u001B[43mkeepdims\u001B[49m\u001B[43m,\u001B[49m\n\u001B[0;32m   4477\u001B[0m \u001B[43m                    \u001B[49m\u001B[43maxis\u001B[49m\u001B[38;5;241;43m=\u001B[39;49m\u001B[43maxis\u001B[49m\u001B[43m,\u001B[49m\n\u001B[0;32m   4478\u001B[0m \u001B[43m                    \u001B[49m\u001B[43mout\u001B[49m\u001B[38;5;241;43m=\u001B[39;49m\u001B[43mout\u001B[49m\u001B[43m,\u001B[49m\n\u001B[0;32m   4479\u001B[0m \u001B[43m                    \u001B[49m\u001B[43moverwrite_input\u001B[49m\u001B[38;5;241;43m=\u001B[39;49m\u001B[43moverwrite_input\u001B[49m\u001B[43m,\u001B[49m\n\u001B[0;32m   4480\u001B[0m \u001B[43m                    \u001B[49m\u001B[43mmethod\u001B[49m\u001B[38;5;241;43m=\u001B[39;49m\u001B[43mmethod\u001B[49m\u001B[43m)\u001B[49m\n",
      "File \u001B[1;32mD:\\EPA\\Advanced_simulation\\EPA1361_Model-based_Decision-making\\Lib\\site-packages\\numpy\\lib\\function_base.py:3752\u001B[0m, in \u001B[0;36m_ureduce\u001B[1;34m(a, func, keepdims, **kwargs)\u001B[0m\n\u001B[0;32m   3749\u001B[0m             index_out \u001B[38;5;241m=\u001B[39m (\u001B[38;5;241m0\u001B[39m, ) \u001B[38;5;241m*\u001B[39m nd\n\u001B[0;32m   3750\u001B[0m             kwargs[\u001B[38;5;124m'\u001B[39m\u001B[38;5;124mout\u001B[39m\u001B[38;5;124m'\u001B[39m] \u001B[38;5;241m=\u001B[39m out[(\u001B[38;5;28mEllipsis\u001B[39m, ) \u001B[38;5;241m+\u001B[39m index_out]\n\u001B[1;32m-> 3752\u001B[0m r \u001B[38;5;241m=\u001B[39m \u001B[43mfunc\u001B[49m\u001B[43m(\u001B[49m\u001B[43ma\u001B[49m\u001B[43m,\u001B[49m\u001B[43m \u001B[49m\u001B[38;5;241;43m*\u001B[39;49m\u001B[38;5;241;43m*\u001B[39;49m\u001B[43mkwargs\u001B[49m\u001B[43m)\u001B[49m\n\u001B[0;32m   3754\u001B[0m \u001B[38;5;28;01mif\u001B[39;00m out \u001B[38;5;129;01mis\u001B[39;00m \u001B[38;5;129;01mnot\u001B[39;00m \u001B[38;5;28;01mNone\u001B[39;00m:\n\u001B[0;32m   3755\u001B[0m     \u001B[38;5;28;01mreturn\u001B[39;00m out\n",
      "File \u001B[1;32mD:\\EPA\\Advanced_simulation\\EPA1361_Model-based_Decision-making\\Lib\\site-packages\\numpy\\lib\\function_base.py:4639\u001B[0m, in \u001B[0;36m_quantile_ureduce_func\u001B[1;34m(a, q, axis, out, overwrite_input, method)\u001B[0m\n\u001B[0;32m   4637\u001B[0m     \u001B[38;5;28;01melse\u001B[39;00m:\n\u001B[0;32m   4638\u001B[0m         arr \u001B[38;5;241m=\u001B[39m a\u001B[38;5;241m.\u001B[39mcopy()\n\u001B[1;32m-> 4639\u001B[0m result \u001B[38;5;241m=\u001B[39m \u001B[43m_quantile\u001B[49m\u001B[43m(\u001B[49m\u001B[43marr\u001B[49m\u001B[43m,\u001B[49m\n\u001B[0;32m   4640\u001B[0m \u001B[43m                   \u001B[49m\u001B[43mquantiles\u001B[49m\u001B[38;5;241;43m=\u001B[39;49m\u001B[43mq\u001B[49m\u001B[43m,\u001B[49m\n\u001B[0;32m   4641\u001B[0m \u001B[43m                   \u001B[49m\u001B[43maxis\u001B[49m\u001B[38;5;241;43m=\u001B[39;49m\u001B[43maxis\u001B[49m\u001B[43m,\u001B[49m\n\u001B[0;32m   4642\u001B[0m \u001B[43m                   \u001B[49m\u001B[43mmethod\u001B[49m\u001B[38;5;241;43m=\u001B[39;49m\u001B[43mmethod\u001B[49m\u001B[43m,\u001B[49m\n\u001B[0;32m   4643\u001B[0m \u001B[43m                   \u001B[49m\u001B[43mout\u001B[49m\u001B[38;5;241;43m=\u001B[39;49m\u001B[43mout\u001B[49m\u001B[43m)\u001B[49m\n\u001B[0;32m   4644\u001B[0m \u001B[38;5;28;01mreturn\u001B[39;00m result\n",
      "File \u001B[1;32mD:\\EPA\\Advanced_simulation\\EPA1361_Model-based_Decision-making\\Lib\\site-packages\\numpy\\lib\\function_base.py:4756\u001B[0m, in \u001B[0;36m_quantile\u001B[1;34m(arr, quantiles, axis, method, out)\u001B[0m\n\u001B[0;32m   4754\u001B[0m     result_shape \u001B[38;5;241m=\u001B[39m virtual_indexes\u001B[38;5;241m.\u001B[39mshape \u001B[38;5;241m+\u001B[39m (\u001B[38;5;241m1\u001B[39m,) \u001B[38;5;241m*\u001B[39m (arr\u001B[38;5;241m.\u001B[39mndim \u001B[38;5;241m-\u001B[39m \u001B[38;5;241m1\u001B[39m)\n\u001B[0;32m   4755\u001B[0m     gamma \u001B[38;5;241m=\u001B[39m gamma\u001B[38;5;241m.\u001B[39mreshape(result_shape)\n\u001B[1;32m-> 4756\u001B[0m     result \u001B[38;5;241m=\u001B[39m \u001B[43m_lerp\u001B[49m\u001B[43m(\u001B[49m\u001B[43mprevious\u001B[49m\u001B[43m,\u001B[49m\n\u001B[0;32m   4757\u001B[0m \u001B[43m                   \u001B[49m\u001B[38;5;28;43mnext\u001B[39;49m\u001B[43m,\u001B[49m\n\u001B[0;32m   4758\u001B[0m \u001B[43m                   \u001B[49m\u001B[43mgamma\u001B[49m\u001B[43m,\u001B[49m\n\u001B[0;32m   4759\u001B[0m \u001B[43m                   \u001B[49m\u001B[43mout\u001B[49m\u001B[38;5;241;43m=\u001B[39;49m\u001B[43mout\u001B[49m\u001B[43m)\u001B[49m\n\u001B[0;32m   4760\u001B[0m \u001B[38;5;28;01mif\u001B[39;00m np\u001B[38;5;241m.\u001B[39many(slices_having_nans):\n\u001B[0;32m   4761\u001B[0m     \u001B[38;5;28;01mif\u001B[39;00m result\u001B[38;5;241m.\u001B[39mndim \u001B[38;5;241m==\u001B[39m \u001B[38;5;241m0\u001B[39m \u001B[38;5;129;01mand\u001B[39;00m out \u001B[38;5;129;01mis\u001B[39;00m \u001B[38;5;28;01mNone\u001B[39;00m:\n\u001B[0;32m   4762\u001B[0m         \u001B[38;5;66;03m# can't write to a scalar\u001B[39;00m\n",
      "File \u001B[1;32mD:\\EPA\\Advanced_simulation\\EPA1361_Model-based_Decision-making\\Lib\\site-packages\\numpy\\lib\\function_base.py:4573\u001B[0m, in \u001B[0;36m_lerp\u001B[1;34m(a, b, t, out)\u001B[0m\n\u001B[0;32m   4559\u001B[0m \u001B[38;5;28;01mdef\u001B[39;00m \u001B[38;5;21m_lerp\u001B[39m(a, b, t, out\u001B[38;5;241m=\u001B[39m\u001B[38;5;28;01mNone\u001B[39;00m):\n\u001B[0;32m   4560\u001B[0m \u001B[38;5;250m    \u001B[39m\u001B[38;5;124;03m\"\"\"\u001B[39;00m\n\u001B[0;32m   4561\u001B[0m \u001B[38;5;124;03m    Compute the linear interpolation weighted by gamma on each point of\u001B[39;00m\n\u001B[0;32m   4562\u001B[0m \u001B[38;5;124;03m    two same shape array.\u001B[39;00m\n\u001B[1;32m   (...)\u001B[0m\n\u001B[0;32m   4571\u001B[0m \u001B[38;5;124;03m        Output array.\u001B[39;00m\n\u001B[0;32m   4572\u001B[0m \u001B[38;5;124;03m    \"\"\"\u001B[39;00m\n\u001B[1;32m-> 4573\u001B[0m     diff_b_a \u001B[38;5;241m=\u001B[39m \u001B[43msubtract\u001B[49m\u001B[43m(\u001B[49m\u001B[43mb\u001B[49m\u001B[43m,\u001B[49m\u001B[43m \u001B[49m\u001B[43ma\u001B[49m\u001B[43m)\u001B[49m\n\u001B[0;32m   4574\u001B[0m     \u001B[38;5;66;03m# asanyarray is a stop-gap until gh-13105\u001B[39;00m\n\u001B[0;32m   4575\u001B[0m     lerp_interpolation \u001B[38;5;241m=\u001B[39m asanyarray(add(a, diff_b_a \u001B[38;5;241m*\u001B[39m t, out\u001B[38;5;241m=\u001B[39mout))\n",
      "\u001B[1;31mTypeError\u001B[0m: numpy boolean subtract, the `-` operator, is not supported, use the bitwise_xor, the `^` operator, or the logical_xor function instead."
     ]
    }
   ],
   "source": [
    "x = results.iloc[:,:19]  # Only take the uncertainties\n",
    "\n",
    "y_death_cost = total_values['Deaths_Cost'].values\n",
    "y_death_cost = y_death_cost > np.percentile(y_death_cost, 75)\n",
    "y_dama = total_values['Expected Annual Damage']\n",
    "y_dama = y_dama > np.percentile(y_dama, 75)\n",
    "y_invest = total_values['Dike Investment Costs']\n",
    "y_invest = y_invest > np.percentile(y_dama, 75)\n"
   ],
   "metadata": {
    "collapsed": false,
    "ExecuteTime": {
     "end_time": "2023-06-14T11:06:57.278998500Z",
     "start_time": "2023-06-14T11:06:56.571868700Z"
    }
   }
  },
  {
   "cell_type": "code",
   "execution_count": null,
   "outputs": [],
   "source": [
    "prim_alg = prim.Prim(x,\n",
    "                     y_death_cost,\n",
    "                     threshold=0.75,\n",
    "                     peel_alpha=0.05,) # deze variabelen nog tweaken\n",
    "box = prim_alg.find_box()\n",
    "\n",
    "box.show_tradeoff()\n",
    "plt.tight_layout()\n"
   ],
   "metadata": {
    "collapsed": false
   }
  },
  {
   "cell_type": "code",
   "execution_count": null,
   "outputs": [],
   "source": [
    "box.inspect()\n",
    "box.inspect(style='graph')\n",
    "plt.tight_layout()"
   ],
   "metadata": {
    "collapsed": false
   }
  },
  {
   "cell_type": "code",
   "execution_count": null,
   "outputs": [],
   "source": [
    "box.select(-1)\n",
    "box.show_pairs_scatter()\n",
    "fig = plt.gcf()\n",
    "plt.tight_layout()\n"
   ],
   "metadata": {
    "collapsed": false
   }
  },
  {
   "cell_type": "code",
   "execution_count": null,
   "outputs": [],
   "source": [
    "prim_alg = prim.Prim(x,\n",
    "                     y_dama,\n",
    "                     threshold=0.75,\n",
    "                     peel_alpha=0.05,) # deze variabelen nog tweaken\n",
    "box = prim_alg.find_box()\n",
    "\n",
    "box.show_tradeoff()\n",
    "plt.tight_layout()"
   ],
   "metadata": {
    "collapsed": false
   }
  },
  {
   "cell_type": "code",
   "execution_count": null,
   "outputs": [],
   "source": [
    "box.inspect()\n",
    "box.inspect(style='graph')\n",
    "plt.tight_layout()\n"
   ],
   "metadata": {
    "collapsed": false
   }
  },
  {
   "cell_type": "code",
   "execution_count": null,
   "outputs": [],
   "source": [
    "box.select(-1)\n",
    "box.show_pairs_scatter()\n",
    "fig = plt.gcf()\n",
    "plt.tight_layout()\n"
   ],
   "metadata": {
    "collapsed": false
   }
  },
  {
   "cell_type": "code",
   "execution_count": null,
   "outputs": [],
   "source": [
    "prim_alg = prim.Prim(x,\n",
    "                     y_invest,\n",
    "                     threshold=0.75,\n",
    "                     peel_alpha=0.05,) # deze variabelen nog tweaken\n",
    "box = prim_alg.find_box()\n",
    "\n",
    "box.show_tradeoff()\n",
    "plt.tight_layout()"
   ],
   "metadata": {
    "collapsed": false
   }
  },
  {
   "cell_type": "code",
   "execution_count": null,
   "outputs": [],
   "source": [
    "box.inspect()\n",
    "box.inspect(style='graph')\n",
    "plt.tight_layout()\n"
   ],
   "metadata": {
    "collapsed": false
   }
  },
  {
   "cell_type": "code",
   "execution_count": null,
   "outputs": [],
   "source": [
    "box.select(-1)\n",
    "box.show_pairs_scatter()\n",
    "fig = plt.gcf()\n",
    "plt.tight_layout()"
   ],
   "metadata": {
    "collapsed": false
   }
  },
  {
   "cell_type": "markdown",
   "source": [
    "### CART"
   ],
   "metadata": {
    "collapsed": false
   }
  },
  {
   "cell_type": "code",
   "execution_count": null,
   "outputs": [],
   "source": [
    "cart_plot = cart.CART(x, y_death_cost, 0.05)\n",
    "cart_plot.build_tree()\n",
    "\n",
    "# Make sure to have GraphViz installed for the tree to show up (https://www.graphviz.org/download/)\n",
    "fig = cart_plot.show_tree()\n",
    "fig.set_size_inches(12, 12)\n",
    "plt.show()"
   ],
   "metadata": {
    "collapsed": false
   }
  },
  {
   "cell_type": "code",
   "execution_count": null,
   "outputs": [],
   "source": [
    "cart_plot = cart.CART(x, y_cost, 0.05)\n",
    "cart_plot.build_tree()\n",
    "\n",
    "# Make sure to have GraphViz installed for the tree to show up (https://www.graphviz.org/download/)\n",
    "fig = cart_plot.show_tree()\n",
    "fig.set_size_inches(12, 12)\n",
    "plt.show()"
   ],
   "metadata": {
    "collapsed": false
   }
  },
  {
   "cell_type": "code",
   "execution_count": null,
   "outputs": [],
   "source": [
    "plt.show()\n",
    "cart_plot = cart.CART(x, y_invest, 0.05)\n",
    "cart_plot.build_tree()\n",
    "\n",
    "# Make sure to have GraphViz installed for the tree to show up (https://www.graphviz.org/download/)\n",
    "fig = cart_plot.show_tree()\n",
    "fig.set_size_inches(12, 12)\n",
    "plt.show()"
   ],
   "metadata": {
    "collapsed": false
   }
  },
  {
   "cell_type": "code",
   "execution_count": null,
   "outputs": [],
   "source": [],
   "metadata": {
    "collapsed": false
   }
  }
 ],
 "metadata": {
  "kernelspec": {
   "display_name": "Python 3",
   "language": "python",
   "name": "python3"
  },
  "language_info": {
   "codemirror_mode": {
    "name": "ipython",
    "version": 2
   },
   "file_extension": ".py",
   "mimetype": "text/x-python",
   "name": "python",
   "nbconvert_exporter": "python",
   "pygments_lexer": "ipython2",
   "version": "2.7.6"
  }
 },
 "nbformat": 4,
 "nbformat_minor": 0
}
