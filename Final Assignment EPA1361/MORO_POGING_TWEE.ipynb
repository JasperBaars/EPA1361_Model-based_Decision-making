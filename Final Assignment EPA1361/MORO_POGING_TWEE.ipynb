{
 "cells": [
  {
   "cell_type": "markdown",
   "source": [
    "### Choice of robustness metrics:\n",
    "\n",
    "\n",
    "| Robustness metric \t | value \t |\n",
    "|:-------------------:|:-------:|\n",
    "|   test          \t   | 0    \t  |\n",
    "|          \t          |    \t    |\n",
    "|          \t          |    \t    |\n"
   ],
   "metadata": {
    "collapsed": false
   }
  },
  {
   "cell_type": "markdown",
   "source": [
    "First, packages are imported."
   ],
   "metadata": {
    "collapsed": false
   }
  },
  {
   "cell_type": "code",
   "execution_count": 1,
   "metadata": {
    "collapsed": true,
    "ExecuteTime": {
     "end_time": "2023-06-14T14:50:36.543063900Z",
     "start_time": "2023-06-14T14:50:34.643079100Z"
    }
   },
   "outputs": [],
   "source": [
    "#   import packages\n",
    "import numpy as np\n",
    "import scipy as sp\n",
    "import pandas as pd\n",
    "import matplotlib.pyplot as plt\n",
    "import seaborn as sns\n",
    "import networkx as nx\n",
    "import pickle\n",
    "import functools\n",
    "\n",
    "from ema_workbench import (\n",
    "    Model,\n",
    "    Policy,\n",
    "    Scenario,\n",
    "    ema_logging,\n",
    "    SequentialEvaluator,\n",
    "    MultiprocessingEvaluator,\n",
    "    util,\n",
    "    ScalarOutcome,\n",
    ")\n",
    "from dike_model_function import DikeNetwork  # @UnresolvedImport\n",
    "from problem_formulation import get_model_for_problem_formulation, sum_over, sum_over_time\n",
    "from ema_workbench.em_framework.samplers import sample_uncertainties\n",
    "from ema_workbench.em_framework.optimization import ArchiveLogger, EpsilonProgress\n",
    "from ema_workbench.em_framework import parameters_from_csv\n",
    "from ema_workbench.em_framework.optimization import EpsilonProgress\n",
    "from ema_workbench.em_framework.evaluators import BaseEvaluator"
   ]
  },
  {
   "cell_type": "markdown",
   "source": [
    "Then, the model is loaded, and logging is set."
   ],
   "metadata": {
    "collapsed": false
   }
  },
  {
   "cell_type": "code",
   "execution_count": 2,
   "outputs": [
    {
     "data": {
      "text/plain": "<Logger EMA (DEBUG)>"
     },
     "execution_count": 2,
     "metadata": {},
     "output_type": "execute_result"
    }
   ],
   "source": [
    "dike_model, planning_steps = get_model_for_problem_formulation(5)\n",
    "ema_logging.log_to_stderr(ema_logging.INFO)"
   ],
   "metadata": {
    "collapsed": false,
    "ExecuteTime": {
     "end_time": "2023-06-14T14:50:38.617851Z",
     "start_time": "2023-06-14T14:50:37.791817200Z"
    }
   }
  },
  {
   "cell_type": "markdown",
   "source": [
    "The results from the basecase open exploration, which includes the worst scenarios, are loaded into a Pandas DataFrame."
   ],
   "metadata": {
    "collapsed": false
   }
  },
  {
   "cell_type": "code",
   "execution_count": 3,
   "outputs": [],
   "source": [
    "open_exploration_results = pd.read_pickle(r'generated_datasets\\open_exploration_base_policy_worst_scenarios.pkl')"
   ],
   "metadata": {
    "collapsed": false,
    "ExecuteTime": {
     "end_time": "2023-06-14T14:50:39.933763700Z",
     "start_time": "2023-06-14T14:50:39.850713600Z"
    }
   }
  },
  {
   "cell_type": "markdown",
   "source": [
    "To calculate the robustness metrics, which are defined as the total annual damage, total expected number of deaths, total dike investment costs, total room for the river costs and total expected evacuation costs, lists of these variables are saved for later use."
   ],
   "metadata": {
    "collapsed": false
   }
  },
  {
   "cell_type": "code",
   "execution_count": 4,
   "outputs": [],
   "source": [
    "# List the names of vars to make `robustness_functions` a bit more read-able\n",
    "var_list_damage = ['A.1_Expected Annual Damage',\n",
    "                   'A.2_Expected Annual Damage',\n",
    "                   'A.3_Expected Annual Damage',\n",
    "                   'A.4_Expected Annual Damage',\n",
    "                   'A.5_Expected Annual Damage',]\n",
    "var_list_deaths = ['A.1_Expected Number of Deaths',\n",
    "                   'A.2_Expected Number of Deaths',\n",
    "                   'A.3_Expected Number of Deaths',\n",
    "                   'A.4_Expected Number of Deaths',\n",
    "                   'A.5_Expected Number of Deaths',]\n",
    "var_list_dike = ['A.1_Dike Investment Costs',\n",
    "                 'A.2_Dike Investment Costs',\n",
    "                 'A.3_Dike Investment Costs',\n",
    "                 'A.4_Dike Investment Costs',\n",
    "                 'A.5_Dike Investment Costs',]\n",
    "var_list_rfr = ['RfR Total Costs',]\n",
    "var_list_evac = ['Expected Evacuation Costs',]"
   ],
   "metadata": {
    "collapsed": false,
    "ExecuteTime": {
     "end_time": "2023-06-14T14:50:41.825915700Z",
     "start_time": "2023-06-14T14:50:41.801247100Z"
    }
   }
  },
  {
   "cell_type": "markdown",
   "source": [
    "Then, the robustness metric is initiated into a function. For this, we chose LEG UIT.\n",
    "Furthermore, maximalization and minimalization functions are initiated to use in the optimization process."
   ],
   "metadata": {
    "collapsed": false
   }
  },
  {
   "cell_type": "code",
   "execution_count": 5,
   "outputs": [],
   "source": [
    "def robust_sum(*data):\n",
    "    sumsumsum = sum(sum(sum(data)))\n",
    "\n",
    "    # we moeten nog een bron vinden waarom we deze metric gebruiken!\n",
    "    mean = np.mean(sumsumsum)\n",
    "    iqr = sp.stats.iqr(sumsumsum) + mean * 0.005\n",
    "    result = mean + iqr\n",
    "\n",
    "    return result\n",
    "\n",
    "\n",
    "# robustness metrics\n",
    "maximize = ScalarOutcome.MAXIMIZE\n",
    "minimize = ScalarOutcome.MINIMIZE"
   ],
   "metadata": {
    "collapsed": false,
    "ExecuteTime": {
     "end_time": "2023-06-14T14:50:43.993343400Z",
     "start_time": "2023-06-14T14:50:43.984811800Z"
    }
   }
  },
  {
   "cell_type": "markdown",
   "source": [
    "Then, we make the robustness functions and add constraints. CONSTRAINTS STILL NEED TO BE DONE IF WE DECIDE TO DO SO."
   ],
   "metadata": {
    "collapsed": false
   }
  },
  {
   "cell_type": "code",
   "execution_count": 6,
   "outputs": [],
   "source": [
    "robustness_functions = [\n",
    "    ScalarOutcome('Damage Cost',\n",
    "                  variable_name=var_list_damage,\n",
    "                  function=robust_sum,\n",
    "                  kind=minimize,\n",
    "                  expected_range=(0, 4e16)),\n",
    "    ScalarOutcome('Deaths Score',\n",
    "                  variable_name=var_list_deaths,\n",
    "                  function=robust_sum,\n",
    "                  kind=minimize,\n",
    "                  expected_range=(0, 8.5e19)),\n",
    "    ScalarOutcome('Dike Invest Cost',\n",
    "                  variable_name=var_list_dike,\n",
    "                  function=robust_sum,\n",
    "                  kind=minimize,\n",
    "                  expected_range=(1e18, 1.3e7)),\n",
    "    ScalarOutcome(\"RfR Invest Cost\",\n",
    "                  kind=minimize,\n",
    "                  function=robust_sum,\n",
    "                  variable_name=\"RfR Total Costs\"),\n",
    "    ScalarOutcome(\"Evacuation Cost\",\n",
    "                  kind=minimize,\n",
    "                  function=robust_sum,\n",
    "                  variable_name=\"Expected Evacuation Costs\"),\n",
    "]\n",
    "\n",
    "# constraints = [\n",
    "#     Constraint()\n",
    "# ]"
   ],
   "metadata": {
    "collapsed": false,
    "ExecuteTime": {
     "end_time": "2023-06-14T14:50:45.621551200Z",
     "start_time": "2023-06-14T14:50:45.600554100Z"
    }
   }
  },
  {
   "cell_type": "markdown",
   "source": [
    "These scenarios are then loaded into a model variable."
   ],
   "metadata": {
    "collapsed": false
   }
  },
  {
   "cell_type": "code",
   "execution_count": 7,
   "outputs": [],
   "source": [
    "scenarios = []\n",
    "for row_number in range(open_exploration_results.shape[0]):\n",
    "    scenarios.append(\n",
    "        Scenario(name=row_number, **open_exploration_results.iloc[row_number, :16].to_dict())\n",
    "    )"
   ],
   "metadata": {
    "collapsed": false,
    "ExecuteTime": {
     "end_time": "2023-06-14T14:50:46.840403900Z",
     "start_time": "2023-06-14T14:50:46.827739400Z"
    }
   }
  },
  {
   "cell_type": "markdown",
   "source": [
    "Finally, the model variables are set."
   ],
   "metadata": {
    "collapsed": false
   }
  },
  {
   "cell_type": "code",
   "execution_count": 9,
   "outputs": [],
   "source": [
    "# general input\n",
    "nfe = 2000 #make this large\n",
    "epsilons = [0.05, ]*len(robustness_functions)"
   ],
   "metadata": {
    "collapsed": false,
    "ExecuteTime": {
     "end_time": "2023-06-14T14:50:53.903414500Z",
     "start_time": "2023-06-14T14:50:53.881170900Z"
    }
   }
  },
  {
   "cell_type": "markdown",
   "source": [
    "Then, the model can be run. Results are saved."
   ],
   "metadata": {
    "collapsed": false
   }
  },
  {
   "cell_type": "code",
   "execution_count": 10,
   "outputs": [
    {
     "name": "stderr",
     "output_type": "stream",
     "text": [
      "[MainProcess/INFO] pool started with 12 workers\n",
      "23it [00:52,  2.30s/it]                                                        \n",
      "[MainProcess/INFO] optimization completed, found 11 solutions\n",
      "[MainProcess/INFO] terminating pool\n"
     ]
    }
   ],
   "source": [
    "# Run MORO\n",
    "with MultiprocessingEvaluator(dike_model) as evaluator:\n",
    "    results, convergence = evaluator.robust_optimize(robustness_functions,\n",
    "                                                     scenarios=scenarios,\n",
    "                                                     nfe=nfe,\n",
    "                                                     epsilons=epsilons,\n",
    "                                                     convergence=[\n",
    "                                                         EpsilonProgress()],\n",
    "                                                     population_size=5,\n",
    "                                                     )\n",
    "\n",
    "# Write the results so this step can be skipped when doing multiple analyzes\n",
    "with open(r'generated_datasets/initial_Pareto_policies_test.pkl', 'wb') as file_pi:\n",
    "    pickle.dump(results, file_pi)"
   ],
   "metadata": {
    "collapsed": false,
    "ExecuteTime": {
     "end_time": "2023-06-14T14:52:22.744192800Z",
     "start_time": "2023-06-14T14:50:54.987237700Z"
    }
   }
  },
  {
   "cell_type": "markdown",
   "source": [
    "Now, we can continue with the visualization. This part does not work at all, and needs a lot of work still."
   ],
   "metadata": {
    "collapsed": false
   }
  },
  {
   "cell_type": "code",
   "execution_count": null,
   "outputs": [],
   "source": [],
   "metadata": {
    "collapsed": false
   }
  },
  {
   "cell_type": "code",
   "execution_count": null,
   "outputs": [],
   "source": [
    "# Extract the levers for each Pareto policy\n",
    "policies = []\n",
    "for row in range(results.shape[0]):\n",
    "    policies.append(\n",
    "        # Do not include the damage scores\n",
    "        Policy(name=row, **results.iloc[row, :-5].to_dict())\n",
    "    )\n",
    "\n",
    "with MultiprocessingEvaluator(dike_model) as evaluator:\n",
    "    results = evaluator.perform_experiments(scenarios=50, policies=policies)\n",
    "\n",
    "# Write the results so this step can be skipped when doing multiple analyzes\n",
    "with open('Outcomes/epsilon_results.pkl', 'wb') as file_pi:\n",
    "    pickle.dump(results, file_pi)"
   ],
   "metadata": {
    "collapsed": false
   }
  }
 ],
 "metadata": {
  "kernelspec": {
   "display_name": "Python 3",
   "language": "python",
   "name": "python3"
  },
  "language_info": {
   "codemirror_mode": {
    "name": "ipython",
    "version": 2
   },
   "file_extension": ".py",
   "mimetype": "text/x-python",
   "name": "python",
   "nbconvert_exporter": "python",
   "pygments_lexer": "ipython2",
   "version": "2.7.6"
  }
 },
 "nbformat": 4,
 "nbformat_minor": 0
}
