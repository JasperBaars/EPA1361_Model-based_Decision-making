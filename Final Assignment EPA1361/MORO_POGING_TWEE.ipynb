{
 "cells": [
  {
   "cell_type": "code",
   "execution_count": 1,
   "metadata": {
    "collapsed": true,
    "ExecuteTime": {
     "end_time": "2023-06-13T16:21:16.204532400Z",
     "start_time": "2023-06-13T16:21:14.234160400Z"
    }
   },
   "outputs": [],
   "source": [
    "#   import packages\n",
    "import numpy as np\n",
    "import scipy as sp\n",
    "import pandas as pd\n",
    "import matplotlib.pyplot as plt\n",
    "import seaborn as sns\n",
    "import networkx as nx\n",
    "import pickle\n",
    "import functools\n",
    "\n",
    "from ema_workbench import (\n",
    "    Model,\n",
    "    Policy,\n",
    "    ema_logging,\n",
    "    SequentialEvaluator,\n",
    "    MultiprocessingEvaluator,\n",
    "    util,\n",
    "    ScalarOutcome,\n",
    ")\n",
    "from dike_model_function import DikeNetwork  # @UnresolvedImport\n",
    "from problem_formulation import get_model_for_problem_formulation, sum_over, sum_over_time\n",
    "from ema_workbench.em_framework.samplers import sample_uncertainties\n",
    "from ema_workbench.em_framework.optimization import ArchiveLogger, EpsilonProgress\n",
    "from ema_workbench.em_framework import parameters_from_csv\n"
   ]
  },
  {
   "cell_type": "code",
   "execution_count": 11,
   "outputs": [
    {
     "name": "stderr",
     "output_type": "stream",
     "text": [
      "C:\\Users\\beren\\AppData\\Local\\Temp\\ipykernel_15580\\4046386692.py:1: DtypeWarning: Columns (52) have mixed types. Specify dtype option on import or set low_memory=False.\n",
      "  results = pd.read_csv(r'generated_datasets\\Open_exploration_500s_100p.csv', compression='gzip',on_bad_lines='skip')\n"
     ]
    }
   ],
   "source": [],
   "metadata": {
    "collapsed": false,
    "ExecuteTime": {
     "end_time": "2023-06-13T16:24:54.486415200Z",
     "start_time": "2023-06-13T16:24:52.547022900Z"
    }
   }
  },
  {
   "cell_type": "code",
   "execution_count": 13,
   "outputs": [
    {
     "data": {
      "text/plain": "   experiments.csv    A.1_Bmax  A.1_Brate  A.1_pfail    A.2_Bmax  A.2_Brate   \n0            103.0  126.761790       10.0   0.480237  286.206356        1.5  \\\n1             77.0  174.536130        1.0   0.514238  140.234977       10.0   \n2            104.0  347.401620        1.0   0.788641  340.740728        1.5   \n3             67.0  243.821032        1.0   0.301965  110.680584        1.5   \n4            107.0  254.885236       10.0   0.382175   64.608617        1.0   \n\n   A.2_pfail    A.3_Bmax  A.3_Brate  A.3_pfail  ...  A.4_DikeIncrease 0   \n0   0.209962  235.418035        1.0   0.867331  ...                 8.0  \\\n1   0.017645   44.285252        1.5   0.955095  ...                 8.0   \n2   0.189081   82.164102       10.0   0.304170  ...                 8.0   \n3   0.247839  326.319987        1.0   0.897078  ...                 8.0   \n4   0.387761  275.928361        1.0   0.138295  ...                 8.0   \n\n   A.4_DikeIncrease 1  A.4_DikeIncrease 2  A.5_DikeIncrease 0   \n0                 5.0                 6.0                10.0  \\\n1                 5.0                 6.0                10.0   \n2                 5.0                 6.0                10.0   \n3                 5.0                 6.0                10.0   \n4                 5.0                 6.0                10.0   \n\n   A.5_DikeIncrease 1  A.5_DikeIncrease 2  EWS_DaysToThreat  scenario  policy   \n0                 4.0                 1.0               0.0     100.0     0.0  \\\n1                 4.0                 1.0               0.0     101.0     0.0   \n2                 4.0                 1.0               0.0     102.0     0.0   \n3                 4.0                 1.0               0.0     103.0     0.0   \n4                 4.0                 1.0               0.0     104.0     0.0   \n\n      model  \n0  dikesnet  \n1  dikesnet  \n2  dikesnet  \n3  dikesnet  \n4  dikesnet  \n\n[5 rows x 53 columns]",
      "text/html": "<div>\n<style scoped>\n    .dataframe tbody tr th:only-of-type {\n        vertical-align: middle;\n    }\n\n    .dataframe tbody tr th {\n        vertical-align: top;\n    }\n\n    .dataframe thead th {\n        text-align: right;\n    }\n</style>\n<table border=\"1\" class=\"dataframe\">\n  <thead>\n    <tr style=\"text-align: right;\">\n      <th></th>\n      <th>experiments.csv</th>\n      <th>A.1_Bmax</th>\n      <th>A.1_Brate</th>\n      <th>A.1_pfail</th>\n      <th>A.2_Bmax</th>\n      <th>A.2_Brate</th>\n      <th>A.2_pfail</th>\n      <th>A.3_Bmax</th>\n      <th>A.3_Brate</th>\n      <th>A.3_pfail</th>\n      <th>...</th>\n      <th>A.4_DikeIncrease 0</th>\n      <th>A.4_DikeIncrease 1</th>\n      <th>A.4_DikeIncrease 2</th>\n      <th>A.5_DikeIncrease 0</th>\n      <th>A.5_DikeIncrease 1</th>\n      <th>A.5_DikeIncrease 2</th>\n      <th>EWS_DaysToThreat</th>\n      <th>scenario</th>\n      <th>policy</th>\n      <th>model</th>\n    </tr>\n  </thead>\n  <tbody>\n    <tr>\n      <th>0</th>\n      <td>103.0</td>\n      <td>126.761790</td>\n      <td>10.0</td>\n      <td>0.480237</td>\n      <td>286.206356</td>\n      <td>1.5</td>\n      <td>0.209962</td>\n      <td>235.418035</td>\n      <td>1.0</td>\n      <td>0.867331</td>\n      <td>...</td>\n      <td>8.0</td>\n      <td>5.0</td>\n      <td>6.0</td>\n      <td>10.0</td>\n      <td>4.0</td>\n      <td>1.0</td>\n      <td>0.0</td>\n      <td>100.0</td>\n      <td>0.0</td>\n      <td>dikesnet</td>\n    </tr>\n    <tr>\n      <th>1</th>\n      <td>77.0</td>\n      <td>174.536130</td>\n      <td>1.0</td>\n      <td>0.514238</td>\n      <td>140.234977</td>\n      <td>10.0</td>\n      <td>0.017645</td>\n      <td>44.285252</td>\n      <td>1.5</td>\n      <td>0.955095</td>\n      <td>...</td>\n      <td>8.0</td>\n      <td>5.0</td>\n      <td>6.0</td>\n      <td>10.0</td>\n      <td>4.0</td>\n      <td>1.0</td>\n      <td>0.0</td>\n      <td>101.0</td>\n      <td>0.0</td>\n      <td>dikesnet</td>\n    </tr>\n    <tr>\n      <th>2</th>\n      <td>104.0</td>\n      <td>347.401620</td>\n      <td>1.0</td>\n      <td>0.788641</td>\n      <td>340.740728</td>\n      <td>1.5</td>\n      <td>0.189081</td>\n      <td>82.164102</td>\n      <td>10.0</td>\n      <td>0.304170</td>\n      <td>...</td>\n      <td>8.0</td>\n      <td>5.0</td>\n      <td>6.0</td>\n      <td>10.0</td>\n      <td>4.0</td>\n      <td>1.0</td>\n      <td>0.0</td>\n      <td>102.0</td>\n      <td>0.0</td>\n      <td>dikesnet</td>\n    </tr>\n    <tr>\n      <th>3</th>\n      <td>67.0</td>\n      <td>243.821032</td>\n      <td>1.0</td>\n      <td>0.301965</td>\n      <td>110.680584</td>\n      <td>1.5</td>\n      <td>0.247839</td>\n      <td>326.319987</td>\n      <td>1.0</td>\n      <td>0.897078</td>\n      <td>...</td>\n      <td>8.0</td>\n      <td>5.0</td>\n      <td>6.0</td>\n      <td>10.0</td>\n      <td>4.0</td>\n      <td>1.0</td>\n      <td>0.0</td>\n      <td>103.0</td>\n      <td>0.0</td>\n      <td>dikesnet</td>\n    </tr>\n    <tr>\n      <th>4</th>\n      <td>107.0</td>\n      <td>254.885236</td>\n      <td>10.0</td>\n      <td>0.382175</td>\n      <td>64.608617</td>\n      <td>1.0</td>\n      <td>0.387761</td>\n      <td>275.928361</td>\n      <td>1.0</td>\n      <td>0.138295</td>\n      <td>...</td>\n      <td>8.0</td>\n      <td>5.0</td>\n      <td>6.0</td>\n      <td>10.0</td>\n      <td>4.0</td>\n      <td>1.0</td>\n      <td>0.0</td>\n      <td>104.0</td>\n      <td>0.0</td>\n      <td>dikesnet</td>\n    </tr>\n  </tbody>\n</table>\n<p>5 rows × 53 columns</p>\n</div>"
     },
     "execution_count": 13,
     "metadata": {},
     "output_type": "execute_result"
    }
   ],
   "source": [],
   "metadata": {
    "collapsed": false,
    "ExecuteTime": {
     "end_time": "2023-06-13T16:25:00.883512500Z",
     "start_time": "2023-06-13T16:25:00.852617200Z"
    }
   }
  },
  {
   "cell_type": "code",
   "execution_count": null,
   "outputs": [],
   "source": [],
   "metadata": {
    "collapsed": false
   }
  }
 ],
 "metadata": {
  "kernelspec": {
   "display_name": "Python 3",
   "language": "python",
   "name": "python3"
  },
  "language_info": {
   "codemirror_mode": {
    "name": "ipython",
    "version": 2
   },
   "file_extension": ".py",
   "mimetype": "text/x-python",
   "name": "python",
   "nbconvert_exporter": "python",
   "pygments_lexer": "ipython2",
   "version": "2.7.6"
  }
 },
 "nbformat": 4,
 "nbformat_minor": 0
}
