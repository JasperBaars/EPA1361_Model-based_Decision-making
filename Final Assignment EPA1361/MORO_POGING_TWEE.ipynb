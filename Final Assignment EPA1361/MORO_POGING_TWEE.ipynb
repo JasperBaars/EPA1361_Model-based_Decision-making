{
 "cells": [
  {
   "cell_type": "markdown",
   "source": [
    "### Choice of robustness metrics:\n",
    "| Robustness metric \t | value \t |\n",
    "|:-------------------:|:-------:|\n",
    "|   test          \t   | 0    \t  |\n",
    "|          \t          |    \t    |\n",
    "|          \t          |    \t    |"
   ],
   "metadata": {
    "collapsed": false
   }
  },
  {
   "cell_type": "code",
   "execution_count": 2,
   "metadata": {
    "collapsed": true,
    "ExecuteTime": {
     "end_time": "2023-06-14T09:01:32.597627300Z",
     "start_time": "2023-06-14T09:01:30.869683700Z"
    }
   },
   "outputs": [],
   "source": [
    "#   import packages\n",
    "import numpy as np\n",
    "import scipy as sp\n",
    "import pandas as pd\n",
    "import matplotlib.pyplot as plt\n",
    "import seaborn as sns\n",
    "import networkx as nx\n",
    "import pickle\n",
    "import functools\n",
    "\n",
    "from ema_workbench import (\n",
    "    Model,\n",
    "    Policy,\n",
    "    ema_logging,\n",
    "    SequentialEvaluator,\n",
    "    MultiprocessingEvaluator,\n",
    "    util,\n",
    "    ScalarOutcome,\n",
    ")\n",
    "from dike_model_function import DikeNetwork  # @UnresolvedImport\n",
    "from problem_formulation import get_model_for_problem_formulation, sum_over, sum_over_time\n",
    "from ema_workbench.em_framework.samplers import sample_uncertainties\n",
    "from ema_workbench.em_framework.optimization import ArchiveLogger, EpsilonProgress\n",
    "from ema_workbench.em_framework import parameters_from_csv\n"
   ]
  },
  {
   "cell_type": "code",
   "execution_count": 3,
   "outputs": [
    {
     "data": {
      "text/plain": "<Logger EMA (DEBUG)>"
     },
     "execution_count": 3,
     "metadata": {},
     "output_type": "execute_result"
    }
   ],
   "source": [
    "dike_model, planning_steps = get_model_for_problem_formulation(5)\n",
    "ema_logging.log_to_stderr(ema_logging.INFO)"
   ],
   "metadata": {
    "collapsed": false,
    "ExecuteTime": {
     "end_time": "2023-06-14T09:01:36.508200100Z",
     "start_time": "2023-06-14T09:01:35.693600500Z"
    }
   }
  },
  {
   "cell_type": "code",
   "execution_count": 4,
   "outputs": [],
   "source": [
    "# List the names of vars to make `robustness_functions` a bit more read-able\n",
    "var_list_damage = ['A.1_Expected Annual Damage',\n",
    "                   'A.2_Expected Annual Damage',\n",
    "                   'A.3_Expected Annual Damage',\n",
    "                   'A.4_Expected Annual Damage',\n",
    "                   'A.5_Expected Annual Damage',]\n",
    "var_list_deaths = ['A.1_Expected Number of Deaths',\n",
    "                   'A.2_Expected Number of Deaths',\n",
    "                   'A.3_Expected Number of Deaths',\n",
    "                   'A.4_Expected Number of Deaths',\n",
    "                   'A.5_Expected Number of Deaths',]\n",
    "var_list_dike = ['A.1_Dike Investment Costs',\n",
    "                 'A.2_Dike Investment Costs',\n",
    "                 'A.3_Dike Investment Costs',\n",
    "                 'A.4_Dike Investment Costs',\n",
    "                 'A.5_Dike Investment Costs',]\n",
    "var_list_rfr = ['RfR Total Costs',]\n",
    "var_list_evac = ['Expected Evacuation Costs',]"
   ],
   "metadata": {
    "collapsed": false,
    "ExecuteTime": {
     "end_time": "2023-06-14T09:01:37.549678200Z",
     "start_time": "2023-06-14T09:01:37.538599200Z"
    }
   }
  },
  {
   "cell_type": "code",
   "execution_count": 7,
   "outputs": [],
   "source": [
    "def sum_sum_sum(*data):\n",
    "    sumsumsum = sum(sum(sum(data)))\n",
    "\n",
    "    mean = np.mean(sumsumsum)\n",
    "    iqr = sp.stats.iqr(sumsumsum) + mean * 0.005\n",
    "    result = mean + iqr\n",
    "\n",
    "    return result\n",
    "\n",
    "# robustness metrics\n",
    "maximize = ScalarOutcome.MAXIMIZE\n",
    "minimize = ScalarOutcome.MINIMIZE\n",
    "\n",
    "# These functions need to only return one score value...\n",
    "robustness_functions = [\n",
    "    ScalarOutcome('Damage Score', variable_name=var_list_damage,\n",
    "                  function=sum_sum_sum, kind=minimize, expected_range=(0, 4e16)),\n",
    "    ScalarOutcome('Deaths Score', variable_name=var_list_deaths,\n",
    "                  function=sum_sum_sum, kind=minimize, expected_range=(0, 8.5e19)),\n",
    "    ScalarOutcome('Dike Invest Score', variable_name=var_list_dike,\n",
    "                  function=sum_sum_sum, kind=minimize, expected_range=(1e18, 1.3e7)),\n",
    "    ScalarOutcome(\"RfR Invest Score\", kind=minimize, variable_name=\"RfR Total Costs\", function=sum_sum_sum),\n",
    "    ScalarOutcome(\"Evac Score\", kind=minimize, variable_name=\"Expected Evacuation Costs\", function=sum_sum_sum),\n",
    "]\n",
    "\n",
    "constraints = [\n",
    "    Constraint()\n",
    "]"
   ],
   "metadata": {
    "collapsed": false,
    "ExecuteTime": {
     "end_time": "2023-06-14T09:09:07.750521300Z",
     "start_time": "2023-06-14T09:09:07.730438500Z"
    }
   }
  },
  {
   "cell_type": "code",
   "execution_count": null,
   "outputs": [
    {
     "name": "stderr",
     "output_type": "stream",
     "text": [
      "[MainProcess/INFO] pool started with 12 workers\n",
      "  2%|█                                         | 5/200 [00:12<08:17,  2.55s/it]"
     ]
    },
    {
     "name": "stdout",
     "output_type": "stream",
     "text": [
      "112790238.16708945 563951.1908354473\n",
      "0.020874262862093176 0.00010437131431046589\n",
      "6799603726.300705 33998018.63150352\n",
      "6062000000.0 30310000.0\n",
      "7756.5065218566015 38.78253260928301\n",
      "14964097.452866822 74820.48726433411\n",
      "0.0012325041313132755 6.162520656566377e-06\n",
      "9411974141.233093 47059870.70616547\n",
      "12996000000.0 64980000.0\n",
      "1489.1048254493414 7.445524127246707\n",
      "162512471.69085583 812562.3584542791\n",
      "0.025148261108202077 0.0001257413055410104\n",
      "7910344530.817875 39551722.65408938\n",
      "7260000000.0 36300000.0\n",
      "13057.89164696927 65.28945823484635\n",
      "214022713.7406583 1070113.5687032915\n",
      "0.19508086771298122 0.0009754043385649062\n",
      "7879866945.239641 39399334.726198204\n",
      "9701000000.0 48505000.0\n",
      "0.0 0.0\n",
      "176775294.9862554 883876.4749312771\n",
      "0.02525271274772862 0.0001262635637386431\n",
      "8905336493.451618 44526682.46725809\n",
      "15174000000.0 75870000.0\n",
      "14640.679566350716 73.20339783175358\n"
     ]
    }
   ],
   "source": [
    "from ema_workbench.em_framework.optimization import EpsilonProgress\n",
    "from ema_workbench.em_framework.evaluators import BaseEvaluator\n",
    "\n",
    "# general input\n",
    "n_scenarios = 10\n",
    "scenarios = sample_uncertainties(dike_model, n_scenarios)\n",
    "nfe = 200 #make this large\n",
    "\n",
    "BaseEvaluator.reporting_frequency = 0.1\n",
    "\n",
    "epsilons = [0.05, ]*len(robustness_functions)\n",
    "\n",
    "# Record the run time\n",
    "\n",
    "# Run MORO\n",
    "with MultiprocessingEvaluator(dike_model) as evaluator:\n",
    "    results, convergence = evaluator.robust_optimize(robustness_functions,\n",
    "                                                     scenarios=scenarios,\n",
    "                                                     nfe=nfe,\n",
    "                                                     epsilons=epsilons,\n",
    "                                                     convergence=[\n",
    "                                                         EpsilonProgress()],\n",
    "                                                     population_size=5,\n",
    "                                                     )\n",
    "\n",
    "# Write the results so this step can be skipped when doing multiple analyzes\n",
    "with open(r'generated_datasets/initial_Pareto_policies.pkl', 'wb') as file_pi:\n",
    "    pickle.dump(results, file_pi)"
   ],
   "metadata": {
    "collapsed": false,
    "ExecuteTime": {
     "start_time": "2023-06-14T09:09:09.582869Z"
    }
   }
  },
  {
   "cell_type": "code",
   "execution_count": null,
   "outputs": [],
   "source": [
    "results"
   ],
   "metadata": {
    "collapsed": false
   }
  },
  {
   "cell_type": "code",
   "execution_count": null,
   "outputs": [],
   "source": [
    "# Extract the levers for each Pareto policy\n",
    "policies = []\n",
    "for row in range(results.shape[0]):\n",
    "    policies.append(\n",
    "        # Do not include the damage scores\n",
    "        Policy(name=row, **results.iloc[row, :-5].to_dict())\n",
    "    )\n",
    "\n",
    "with MultiprocessingEvaluator(dike_model) as evaluator:\n",
    "    results = evaluator.perform_experiments(scenarios=50, policies=policies)\n",
    "\n",
    "# Write the results so this step can be skipped when doing multiple analyzes\n",
    "with open('Outcomes/epsilon_results.pkl', 'wb') as file_pi:\n",
    "    pickle.dump(results, file_pi)"
   ],
   "metadata": {
    "collapsed": false
   }
  }
 ],
 "metadata": {
  "kernelspec": {
   "display_name": "Python 3",
   "language": "python",
   "name": "python3"
  },
  "language_info": {
   "codemirror_mode": {
    "name": "ipython",
    "version": 2
   },
   "file_extension": ".py",
   "mimetype": "text/x-python",
   "name": "python",
   "nbconvert_exporter": "python",
   "pygments_lexer": "ipython2",
   "version": "2.7.6"
  }
 },
 "nbformat": 4,
 "nbformat_minor": 0
}
