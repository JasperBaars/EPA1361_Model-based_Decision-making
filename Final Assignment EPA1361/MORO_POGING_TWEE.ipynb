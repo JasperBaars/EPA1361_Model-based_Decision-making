{
 "cells": [
  {
   "cell_type": "markdown",
   "source": [
    "### Choice of robustness metrics:\n",
    "| Robustness metric \t | value \t |\n",
    "|:-------------------:|:-------:|\n",
    "|   test          \t   | 0    \t  |\n",
    "|          \t          |    \t    |\n",
    "|          \t          |    \t    |"
   ],
   "metadata": {
    "collapsed": false
   }
  },
  {
   "cell_type": "code",
   "execution_count": 21,
   "metadata": {
    "collapsed": true,
    "ExecuteTime": {
     "end_time": "2023-06-14T13:25:21.250113400Z",
     "start_time": "2023-06-14T13:25:21.242212Z"
    }
   },
   "outputs": [],
   "source": [
    "#   import packages\n",
    "import numpy as np\n",
    "import scipy as sp\n",
    "import pandas as pd\n",
    "import matplotlib.pyplot as plt\n",
    "import seaborn as sns\n",
    "import networkx as nx\n",
    "import pickle\n",
    "import functools\n",
    "\n",
    "from ema_workbench import (\n",
    "    Model,\n",
    "    Policy,\n",
    "    Scenario,\n",
    "    ema_logging,\n",
    "    SequentialEvaluator,\n",
    "    MultiprocessingEvaluator,\n",
    "    util,\n",
    "    ScalarOutcome,\n",
    ")\n",
    "from dike_model_function import DikeNetwork  # @UnresolvedImport\n",
    "from problem_formulation import get_model_for_problem_formulation, sum_over, sum_over_time\n",
    "from ema_workbench.em_framework.samplers import sample_uncertainties\n",
    "from ema_workbench.em_framework.optimization import ArchiveLogger, EpsilonProgress\n",
    "from ema_workbench.em_framework import parameters_from_csv"
   ]
  },
  {
   "cell_type": "code",
   "execution_count": 22,
   "outputs": [
    {
     "data": {
      "text/plain": "<Logger EMA (DEBUG)>"
     },
     "execution_count": 22,
     "metadata": {},
     "output_type": "execute_result"
    }
   ],
   "source": [
    "dike_model, planning_steps = get_model_for_problem_formulation(5)\n",
    "ema_logging.log_to_stderr(ema_logging.INFO)"
   ],
   "metadata": {
    "collapsed": false,
    "ExecuteTime": {
     "end_time": "2023-06-14T13:25:22.154839700Z",
     "start_time": "2023-06-14T13:25:21.971940Z"
    }
   }
  },
  {
   "cell_type": "code",
   "execution_count": 35,
   "outputs": [],
   "source": [
    "results = pd.read_pickle(r'generated_datasets\\open_exploration_base_policy_worst_scenarios.pkl')"
   ],
   "metadata": {
    "collapsed": false,
    "ExecuteTime": {
     "end_time": "2023-06-14T13:35:38.885973200Z",
     "start_time": "2023-06-14T13:35:38.868921600Z"
    }
   }
  },
  {
   "cell_type": "code",
   "execution_count": 36,
   "outputs": [
    {
     "data": {
      "text/plain": "      A.0_ID flood wave shape    A.1_Bmax A.1_Brate  A.1_pfail    A.2_Bmax   \n2876                       75   52.635894      10.0   0.233370   50.689544  \\\n8630                       89   33.994820       1.5   0.116091  107.433393   \n4407                       77   98.044495       1.5   0.092074  267.174771   \n5858                      115  207.098402       1.0   0.315454  323.413032   \n3220                      106   92.695207      10.0   0.267308  179.748371   \n6381                      117  169.723118       1.5   0.298968   63.938258   \n5246                       44   89.557890       1.0   0.289095  270.471943   \n7761                       69  209.612261       1.5   0.348515  340.447661   \n8098                       74  167.762596       1.0   0.307648  336.742864   \n4494                       23  100.196406       1.0   0.266927  178.828152   \n6967                       78   64.673571       1.5   0.170888  230.163429   \n7271                       75   44.093184       1.5   0.291562  233.733798   \n4370                       43  190.641201       1.5   0.120809   48.457395   \n1581                       23   38.503749       1.5   0.147093  281.723003   \n5478                       68   30.585452      10.0   0.182270  348.442252   \n7018                       40   43.621010       1.5   0.199182  111.473406   \n2161                      116  293.960791       1.0   0.340118   34.130034   \n1644                        1  180.315656      10.0   0.308701   33.763141   \n9864                       18   76.825927      10.0   0.323480  305.267886   \n2970                       67   72.159188       1.0   0.250954  294.442561   \n\n     A.2_Brate  A.2_pfail    A.3_Bmax A.3_Brate  A.3_pfail  ...   \n2876       1.0   0.028522  103.353196       1.5   0.050318  ...  \\\n8630      10.0   0.031524  119.060586      10.0   0.006063  ...   \n4407       1.0   0.418196  237.649627       1.5   0.015146  ...   \n5858      10.0   0.084600  204.869330      10.0   0.050775  ...   \n3220       1.5   0.659591  309.848294       1.0   0.051963  ...   \n6381      10.0   0.687465  248.828283       1.0   0.077979  ...   \n5246       1.5   0.916772   53.569762      10.0   0.025754  ...   \n7761       1.5   0.027082  194.752218       1.5   0.031996  ...   \n8098      10.0   0.038736  227.102691       1.5   0.100092  ...   \n4494       1.0   0.077813  279.849696       1.0   0.145576  ...   \n6967      10.0   0.214987  210.196956       1.5   0.074391  ...   \n7271       1.0   0.049778  310.986218       1.0   0.079213  ...   \n4370      10.0   0.071839  134.178381       1.0   0.017571  ...   \n1581      10.0   0.094436  266.924328       1.5   0.124626  ...   \n5478       1.0   0.418288  216.756238       1.0   0.106903  ...   \n7018       1.5   0.821798  195.056496       1.5   0.027361  ...   \n2161      10.0   0.987106   81.677043       1.0   0.165105  ...   \n1644       1.5   0.074541  206.827042      10.0   0.006484  ...   \n9864       1.0   0.605350  193.760018       1.5   0.018970  ...   \n2970      10.0   0.080307  163.143704       1.0   0.101426  ...   \n\n      A.5_Expected Annual Damage A.5_Dike Investment Costs  RfR Total Costs   \n2876                0.000000e+00                         0              0.0  \\\n8630                0.000000e+00                         0              0.0   \n4407                0.000000e+00                         0              0.0   \n5858                0.000000e+00                         0              0.0   \n3220                0.000000e+00                         0              0.0   \n6381                0.000000e+00                         0              0.0   \n5246                0.000000e+00                         0              0.0   \n7761                0.000000e+00                         0              0.0   \n8098                0.000000e+00                         0              0.0   \n4494                8.744064e+07                         0              0.0   \n6967                0.000000e+00                         0              0.0   \n7271                0.000000e+00                         0              0.0   \n4370                0.000000e+00                         0              0.0   \n1581                0.000000e+00                         0              0.0   \n5478                0.000000e+00                         0              0.0   \n7018                0.000000e+00                         0              0.0   \n2161                9.261865e+08                         0              0.0   \n1644                0.000000e+00                         0              0.0   \n9864                0.000000e+00                         0              0.0   \n2970                0.000000e+00                         0              0.0   \n\n      Expected Evacuation Costs A.1_Deaths_Cost  A.2_Deaths_Cost   \n2876                        0.0    4.724317e+06     1.971384e+06  \\\n8630                        0.0    4.860992e+06     2.056688e+06   \n4407                        0.0    4.771733e+06     3.425450e+04   \n5858                        0.0    4.751208e+06     1.350675e+06   \n3220                        0.0    4.872019e+06     0.000000e+00   \n6381                        0.0    4.873446e+06     0.000000e+00   \n5246                        0.0    4.817928e+06     0.000000e+00   \n7761                        0.0    3.861678e+06     1.941281e+06   \n8098                        0.0    4.897874e+06     1.846443e+06   \n4494                        0.0    4.868309e+06     1.027346e+06   \n6967                        0.0    4.843180e+06     3.415450e+05   \n7271                        0.0    4.724317e+06     2.001455e+06   \n4370                        0.0    4.845644e+06     2.504598e+05   \n1581                        0.0    4.868309e+06     1.155472e+06   \n5478                        0.0    4.902241e+06     2.116959e+05   \n7018                        0.0    4.847394e+06     1.099430e+04   \n2161                        0.0    3.731978e+06     0.000000e+00   \n1644                        0.0    4.751311e+06     1.223434e+06   \n9864                        0.0    4.827745e+06     1.558246e+04   \n2970                        0.0    4.876239e+06     1.088773e+06   \n\n     A.3_Deaths_Cost A.4_Deaths_Cost A.5_Deaths_Cost  total_cost[€]  \n2876    7.971065e+06        0.000000    0.000000e+00   6.665195e+09  \n8630    7.809525e+06        0.000000    0.000000e+00   6.186894e+09  \n4407    8.082873e+06        0.000000    0.000000e+00   6.100085e+09  \n5858    7.932134e+06    11443.173949    0.000000e+00   5.993869e+09  \n3220    8.185112e+06        0.000000    0.000000e+00   5.692527e+09  \n6381    7.926118e+06    23728.330854    0.000000e+00   5.687616e+09  \n5246    8.301208e+06        0.000000    0.000000e+00   5.683404e+09  \n7761    7.767134e+06        0.000000    0.000000e+00   5.633348e+09  \n8098    7.694322e+06        0.000000    0.000000e+00   5.553505e+09  \n4494    3.844651e+06        0.000000    1.372036e+05   5.543567e+09  \n6967    8.279660e+06        0.000000    0.000000e+00   5.536973e+09  \n7271    7.887198e+06      469.598850    0.000000e+00   5.470812e+09  \n4370    7.807502e+06        0.000000    0.000000e+00   5.423223e+09  \n1581    8.158197e+06        0.000000    0.000000e+00   5.419957e+09  \n5478    8.654192e+06        0.000000    0.000000e+00   5.411912e+09  \n7018    8.465460e+06        0.000000    0.000000e+00   5.410641e+09  \n2161    6.768267e+06        0.000000    1.585241e+06   5.409971e+09  \n1644    7.932701e+06        0.000000    0.000000e+00   5.392028e+09  \n9864    8.339914e+06        0.000000    0.000000e+00   5.381515e+09  \n2970    7.990632e+06        0.000000    0.000000e+00   5.376973e+09  \n\n[20 rows x 68 columns]",
      "text/html": "<div>\n<style scoped>\n    .dataframe tbody tr th:only-of-type {\n        vertical-align: middle;\n    }\n\n    .dataframe tbody tr th {\n        vertical-align: top;\n    }\n\n    .dataframe thead th {\n        text-align: right;\n    }\n</style>\n<table border=\"1\" class=\"dataframe\">\n  <thead>\n    <tr style=\"text-align: right;\">\n      <th></th>\n      <th>A.0_ID flood wave shape</th>\n      <th>A.1_Bmax</th>\n      <th>A.1_Brate</th>\n      <th>A.1_pfail</th>\n      <th>A.2_Bmax</th>\n      <th>A.2_Brate</th>\n      <th>A.2_pfail</th>\n      <th>A.3_Bmax</th>\n      <th>A.3_Brate</th>\n      <th>A.3_pfail</th>\n      <th>...</th>\n      <th>A.5_Expected Annual Damage</th>\n      <th>A.5_Dike Investment Costs</th>\n      <th>RfR Total Costs</th>\n      <th>Expected Evacuation Costs</th>\n      <th>A.1_Deaths_Cost</th>\n      <th>A.2_Deaths_Cost</th>\n      <th>A.3_Deaths_Cost</th>\n      <th>A.4_Deaths_Cost</th>\n      <th>A.5_Deaths_Cost</th>\n      <th>total_cost[€]</th>\n    </tr>\n  </thead>\n  <tbody>\n    <tr>\n      <th>2876</th>\n      <td>75</td>\n      <td>52.635894</td>\n      <td>10.0</td>\n      <td>0.233370</td>\n      <td>50.689544</td>\n      <td>1.0</td>\n      <td>0.028522</td>\n      <td>103.353196</td>\n      <td>1.5</td>\n      <td>0.050318</td>\n      <td>...</td>\n      <td>0.000000e+00</td>\n      <td>0</td>\n      <td>0.0</td>\n      <td>0.0</td>\n      <td>4.724317e+06</td>\n      <td>1.971384e+06</td>\n      <td>7.971065e+06</td>\n      <td>0.000000</td>\n      <td>0.000000e+00</td>\n      <td>6.665195e+09</td>\n    </tr>\n    <tr>\n      <th>8630</th>\n      <td>89</td>\n      <td>33.994820</td>\n      <td>1.5</td>\n      <td>0.116091</td>\n      <td>107.433393</td>\n      <td>10.0</td>\n      <td>0.031524</td>\n      <td>119.060586</td>\n      <td>10.0</td>\n      <td>0.006063</td>\n      <td>...</td>\n      <td>0.000000e+00</td>\n      <td>0</td>\n      <td>0.0</td>\n      <td>0.0</td>\n      <td>4.860992e+06</td>\n      <td>2.056688e+06</td>\n      <td>7.809525e+06</td>\n      <td>0.000000</td>\n      <td>0.000000e+00</td>\n      <td>6.186894e+09</td>\n    </tr>\n    <tr>\n      <th>4407</th>\n      <td>77</td>\n      <td>98.044495</td>\n      <td>1.5</td>\n      <td>0.092074</td>\n      <td>267.174771</td>\n      <td>1.0</td>\n      <td>0.418196</td>\n      <td>237.649627</td>\n      <td>1.5</td>\n      <td>0.015146</td>\n      <td>...</td>\n      <td>0.000000e+00</td>\n      <td>0</td>\n      <td>0.0</td>\n      <td>0.0</td>\n      <td>4.771733e+06</td>\n      <td>3.425450e+04</td>\n      <td>8.082873e+06</td>\n      <td>0.000000</td>\n      <td>0.000000e+00</td>\n      <td>6.100085e+09</td>\n    </tr>\n    <tr>\n      <th>5858</th>\n      <td>115</td>\n      <td>207.098402</td>\n      <td>1.0</td>\n      <td>0.315454</td>\n      <td>323.413032</td>\n      <td>10.0</td>\n      <td>0.084600</td>\n      <td>204.869330</td>\n      <td>10.0</td>\n      <td>0.050775</td>\n      <td>...</td>\n      <td>0.000000e+00</td>\n      <td>0</td>\n      <td>0.0</td>\n      <td>0.0</td>\n      <td>4.751208e+06</td>\n      <td>1.350675e+06</td>\n      <td>7.932134e+06</td>\n      <td>11443.173949</td>\n      <td>0.000000e+00</td>\n      <td>5.993869e+09</td>\n    </tr>\n    <tr>\n      <th>3220</th>\n      <td>106</td>\n      <td>92.695207</td>\n      <td>10.0</td>\n      <td>0.267308</td>\n      <td>179.748371</td>\n      <td>1.5</td>\n      <td>0.659591</td>\n      <td>309.848294</td>\n      <td>1.0</td>\n      <td>0.051963</td>\n      <td>...</td>\n      <td>0.000000e+00</td>\n      <td>0</td>\n      <td>0.0</td>\n      <td>0.0</td>\n      <td>4.872019e+06</td>\n      <td>0.000000e+00</td>\n      <td>8.185112e+06</td>\n      <td>0.000000</td>\n      <td>0.000000e+00</td>\n      <td>5.692527e+09</td>\n    </tr>\n    <tr>\n      <th>6381</th>\n      <td>117</td>\n      <td>169.723118</td>\n      <td>1.5</td>\n      <td>0.298968</td>\n      <td>63.938258</td>\n      <td>10.0</td>\n      <td>0.687465</td>\n      <td>248.828283</td>\n      <td>1.0</td>\n      <td>0.077979</td>\n      <td>...</td>\n      <td>0.000000e+00</td>\n      <td>0</td>\n      <td>0.0</td>\n      <td>0.0</td>\n      <td>4.873446e+06</td>\n      <td>0.000000e+00</td>\n      <td>7.926118e+06</td>\n      <td>23728.330854</td>\n      <td>0.000000e+00</td>\n      <td>5.687616e+09</td>\n    </tr>\n    <tr>\n      <th>5246</th>\n      <td>44</td>\n      <td>89.557890</td>\n      <td>1.0</td>\n      <td>0.289095</td>\n      <td>270.471943</td>\n      <td>1.5</td>\n      <td>0.916772</td>\n      <td>53.569762</td>\n      <td>10.0</td>\n      <td>0.025754</td>\n      <td>...</td>\n      <td>0.000000e+00</td>\n      <td>0</td>\n      <td>0.0</td>\n      <td>0.0</td>\n      <td>4.817928e+06</td>\n      <td>0.000000e+00</td>\n      <td>8.301208e+06</td>\n      <td>0.000000</td>\n      <td>0.000000e+00</td>\n      <td>5.683404e+09</td>\n    </tr>\n    <tr>\n      <th>7761</th>\n      <td>69</td>\n      <td>209.612261</td>\n      <td>1.5</td>\n      <td>0.348515</td>\n      <td>340.447661</td>\n      <td>1.5</td>\n      <td>0.027082</td>\n      <td>194.752218</td>\n      <td>1.5</td>\n      <td>0.031996</td>\n      <td>...</td>\n      <td>0.000000e+00</td>\n      <td>0</td>\n      <td>0.0</td>\n      <td>0.0</td>\n      <td>3.861678e+06</td>\n      <td>1.941281e+06</td>\n      <td>7.767134e+06</td>\n      <td>0.000000</td>\n      <td>0.000000e+00</td>\n      <td>5.633348e+09</td>\n    </tr>\n    <tr>\n      <th>8098</th>\n      <td>74</td>\n      <td>167.762596</td>\n      <td>1.0</td>\n      <td>0.307648</td>\n      <td>336.742864</td>\n      <td>10.0</td>\n      <td>0.038736</td>\n      <td>227.102691</td>\n      <td>1.5</td>\n      <td>0.100092</td>\n      <td>...</td>\n      <td>0.000000e+00</td>\n      <td>0</td>\n      <td>0.0</td>\n      <td>0.0</td>\n      <td>4.897874e+06</td>\n      <td>1.846443e+06</td>\n      <td>7.694322e+06</td>\n      <td>0.000000</td>\n      <td>0.000000e+00</td>\n      <td>5.553505e+09</td>\n    </tr>\n    <tr>\n      <th>4494</th>\n      <td>23</td>\n      <td>100.196406</td>\n      <td>1.0</td>\n      <td>0.266927</td>\n      <td>178.828152</td>\n      <td>1.0</td>\n      <td>0.077813</td>\n      <td>279.849696</td>\n      <td>1.0</td>\n      <td>0.145576</td>\n      <td>...</td>\n      <td>8.744064e+07</td>\n      <td>0</td>\n      <td>0.0</td>\n      <td>0.0</td>\n      <td>4.868309e+06</td>\n      <td>1.027346e+06</td>\n      <td>3.844651e+06</td>\n      <td>0.000000</td>\n      <td>1.372036e+05</td>\n      <td>5.543567e+09</td>\n    </tr>\n    <tr>\n      <th>6967</th>\n      <td>78</td>\n      <td>64.673571</td>\n      <td>1.5</td>\n      <td>0.170888</td>\n      <td>230.163429</td>\n      <td>10.0</td>\n      <td>0.214987</td>\n      <td>210.196956</td>\n      <td>1.5</td>\n      <td>0.074391</td>\n      <td>...</td>\n      <td>0.000000e+00</td>\n      <td>0</td>\n      <td>0.0</td>\n      <td>0.0</td>\n      <td>4.843180e+06</td>\n      <td>3.415450e+05</td>\n      <td>8.279660e+06</td>\n      <td>0.000000</td>\n      <td>0.000000e+00</td>\n      <td>5.536973e+09</td>\n    </tr>\n    <tr>\n      <th>7271</th>\n      <td>75</td>\n      <td>44.093184</td>\n      <td>1.5</td>\n      <td>0.291562</td>\n      <td>233.733798</td>\n      <td>1.0</td>\n      <td>0.049778</td>\n      <td>310.986218</td>\n      <td>1.0</td>\n      <td>0.079213</td>\n      <td>...</td>\n      <td>0.000000e+00</td>\n      <td>0</td>\n      <td>0.0</td>\n      <td>0.0</td>\n      <td>4.724317e+06</td>\n      <td>2.001455e+06</td>\n      <td>7.887198e+06</td>\n      <td>469.598850</td>\n      <td>0.000000e+00</td>\n      <td>5.470812e+09</td>\n    </tr>\n    <tr>\n      <th>4370</th>\n      <td>43</td>\n      <td>190.641201</td>\n      <td>1.5</td>\n      <td>0.120809</td>\n      <td>48.457395</td>\n      <td>10.0</td>\n      <td>0.071839</td>\n      <td>134.178381</td>\n      <td>1.0</td>\n      <td>0.017571</td>\n      <td>...</td>\n      <td>0.000000e+00</td>\n      <td>0</td>\n      <td>0.0</td>\n      <td>0.0</td>\n      <td>4.845644e+06</td>\n      <td>2.504598e+05</td>\n      <td>7.807502e+06</td>\n      <td>0.000000</td>\n      <td>0.000000e+00</td>\n      <td>5.423223e+09</td>\n    </tr>\n    <tr>\n      <th>1581</th>\n      <td>23</td>\n      <td>38.503749</td>\n      <td>1.5</td>\n      <td>0.147093</td>\n      <td>281.723003</td>\n      <td>10.0</td>\n      <td>0.094436</td>\n      <td>266.924328</td>\n      <td>1.5</td>\n      <td>0.124626</td>\n      <td>...</td>\n      <td>0.000000e+00</td>\n      <td>0</td>\n      <td>0.0</td>\n      <td>0.0</td>\n      <td>4.868309e+06</td>\n      <td>1.155472e+06</td>\n      <td>8.158197e+06</td>\n      <td>0.000000</td>\n      <td>0.000000e+00</td>\n      <td>5.419957e+09</td>\n    </tr>\n    <tr>\n      <th>5478</th>\n      <td>68</td>\n      <td>30.585452</td>\n      <td>10.0</td>\n      <td>0.182270</td>\n      <td>348.442252</td>\n      <td>1.0</td>\n      <td>0.418288</td>\n      <td>216.756238</td>\n      <td>1.0</td>\n      <td>0.106903</td>\n      <td>...</td>\n      <td>0.000000e+00</td>\n      <td>0</td>\n      <td>0.0</td>\n      <td>0.0</td>\n      <td>4.902241e+06</td>\n      <td>2.116959e+05</td>\n      <td>8.654192e+06</td>\n      <td>0.000000</td>\n      <td>0.000000e+00</td>\n      <td>5.411912e+09</td>\n    </tr>\n    <tr>\n      <th>7018</th>\n      <td>40</td>\n      <td>43.621010</td>\n      <td>1.5</td>\n      <td>0.199182</td>\n      <td>111.473406</td>\n      <td>1.5</td>\n      <td>0.821798</td>\n      <td>195.056496</td>\n      <td>1.5</td>\n      <td>0.027361</td>\n      <td>...</td>\n      <td>0.000000e+00</td>\n      <td>0</td>\n      <td>0.0</td>\n      <td>0.0</td>\n      <td>4.847394e+06</td>\n      <td>1.099430e+04</td>\n      <td>8.465460e+06</td>\n      <td>0.000000</td>\n      <td>0.000000e+00</td>\n      <td>5.410641e+09</td>\n    </tr>\n    <tr>\n      <th>2161</th>\n      <td>116</td>\n      <td>293.960791</td>\n      <td>1.0</td>\n      <td>0.340118</td>\n      <td>34.130034</td>\n      <td>10.0</td>\n      <td>0.987106</td>\n      <td>81.677043</td>\n      <td>1.0</td>\n      <td>0.165105</td>\n      <td>...</td>\n      <td>9.261865e+08</td>\n      <td>0</td>\n      <td>0.0</td>\n      <td>0.0</td>\n      <td>3.731978e+06</td>\n      <td>0.000000e+00</td>\n      <td>6.768267e+06</td>\n      <td>0.000000</td>\n      <td>1.585241e+06</td>\n      <td>5.409971e+09</td>\n    </tr>\n    <tr>\n      <th>1644</th>\n      <td>1</td>\n      <td>180.315656</td>\n      <td>10.0</td>\n      <td>0.308701</td>\n      <td>33.763141</td>\n      <td>1.5</td>\n      <td>0.074541</td>\n      <td>206.827042</td>\n      <td>10.0</td>\n      <td>0.006484</td>\n      <td>...</td>\n      <td>0.000000e+00</td>\n      <td>0</td>\n      <td>0.0</td>\n      <td>0.0</td>\n      <td>4.751311e+06</td>\n      <td>1.223434e+06</td>\n      <td>7.932701e+06</td>\n      <td>0.000000</td>\n      <td>0.000000e+00</td>\n      <td>5.392028e+09</td>\n    </tr>\n    <tr>\n      <th>9864</th>\n      <td>18</td>\n      <td>76.825927</td>\n      <td>10.0</td>\n      <td>0.323480</td>\n      <td>305.267886</td>\n      <td>1.0</td>\n      <td>0.605350</td>\n      <td>193.760018</td>\n      <td>1.5</td>\n      <td>0.018970</td>\n      <td>...</td>\n      <td>0.000000e+00</td>\n      <td>0</td>\n      <td>0.0</td>\n      <td>0.0</td>\n      <td>4.827745e+06</td>\n      <td>1.558246e+04</td>\n      <td>8.339914e+06</td>\n      <td>0.000000</td>\n      <td>0.000000e+00</td>\n      <td>5.381515e+09</td>\n    </tr>\n    <tr>\n      <th>2970</th>\n      <td>67</td>\n      <td>72.159188</td>\n      <td>1.0</td>\n      <td>0.250954</td>\n      <td>294.442561</td>\n      <td>10.0</td>\n      <td>0.080307</td>\n      <td>163.143704</td>\n      <td>1.0</td>\n      <td>0.101426</td>\n      <td>...</td>\n      <td>0.000000e+00</td>\n      <td>0</td>\n      <td>0.0</td>\n      <td>0.0</td>\n      <td>4.876239e+06</td>\n      <td>1.088773e+06</td>\n      <td>7.990632e+06</td>\n      <td>0.000000</td>\n      <td>0.000000e+00</td>\n      <td>5.376973e+09</td>\n    </tr>\n  </tbody>\n</table>\n<p>20 rows × 68 columns</p>\n</div>"
     },
     "execution_count": 36,
     "metadata": {},
     "output_type": "execute_result"
    }
   ],
   "source": [
    "results"
   ],
   "metadata": {
    "collapsed": false,
    "ExecuteTime": {
     "end_time": "2023-06-14T13:35:39.359909200Z",
     "start_time": "2023-06-14T13:35:39.327380800Z"
    }
   }
  },
  {
   "cell_type": "code",
   "execution_count": 33,
   "outputs": [
    {
     "data": {
      "text/plain": "Scenario({'0_RfR 0': 0.0, '0_RfR 1': 0.0, '0_RfR 2': 0.0, '1_RfR 0': 0.0, '1_RfR 1': 0.0, '1_RfR 2': 0.0, '2_RfR 0': 1.0, '2_RfR 1': 1.0, '2_RfR 2': 1.0, '3_RfR 0': 1.0, '3_RfR 1': 0.0, '3_RfR 2': 1.0, '4_RfR 0': 0.0, '4_RfR 1': 1.0, '4_RfR 2': 1.0, 'EWS_DaysToThreat': 2.0})"
     },
     "execution_count": 33,
     "metadata": {},
     "output_type": "execute_result"
    }
   ],
   "source": [
    "scenarios = []\n",
    "for row_number in range(results.shape[0]):\n",
    "    scenarios.append(\n",
    "        Scenario(name=row_number, **results.iloc[row_number, :16].to_dict())\n",
    "    )\n",
    "\n",
    "scenarios[1]"
   ],
   "metadata": {
    "collapsed": false,
    "ExecuteTime": {
     "end_time": "2023-06-14T13:34:24.719035100Z",
     "start_time": "2023-06-14T13:34:24.705044300Z"
    }
   }
  },
  {
   "cell_type": "code",
   "execution_count": 28,
   "outputs": [],
   "source": [
    "# List the names of vars to make `robustness_functions` a bit more read-able\n",
    "var_list_damage = ['A.1_Expected Annual Damage',\n",
    "                   'A.2_Expected Annual Damage',\n",
    "                   'A.3_Expected Annual Damage',\n",
    "                   'A.4_Expected Annual Damage',\n",
    "                   'A.5_Expected Annual Damage',]\n",
    "var_list_deaths = ['A.1_Expected Number of Deaths',\n",
    "                   'A.2_Expected Number of Deaths',\n",
    "                   'A.3_Expected Number of Deaths',\n",
    "                   'A.4_Expected Number of Deaths',\n",
    "                   'A.5_Expected Number of Deaths',]\n",
    "var_list_dike = ['A.1_Dike Investment Costs',\n",
    "                 'A.2_Dike Investment Costs',\n",
    "                 'A.3_Dike Investment Costs',\n",
    "                 'A.4_Dike Investment Costs',\n",
    "                 'A.5_Dike Investment Costs',]\n",
    "var_list_rfr = ['RfR Total Costs',]\n",
    "var_list_evac = ['Expected Evacuation Costs',]"
   ],
   "metadata": {
    "collapsed": false,
    "ExecuteTime": {
     "end_time": "2023-06-14T13:25:48.479725100Z",
     "start_time": "2023-06-14T13:25:48.471731800Z"
    }
   }
  },
  {
   "cell_type": "code",
   "execution_count": 29,
   "outputs": [],
   "source": [
    "def sum_sum_sum(*data):\n",
    "    sumsumsum = sum(sum(sum(data)))\n",
    "\n",
    "    mean = np.mean(sumsumsum)\n",
    "    iqr = sp.stats.iqr(sumsumsum) + mean * 0.005\n",
    "    result = mean + iqr\n",
    "\n",
    "    return result\n",
    "\n",
    "# robustness metrics\n",
    "maximize = ScalarOutcome.MAXIMIZE\n",
    "minimize = ScalarOutcome.MINIMIZE\n",
    "\n",
    "# These functions need to only return one score value...\n",
    "robustness_functions = [\n",
    "    ScalarOutcome('Damage Score', variable_name=var_list_damage,\n",
    "                  function=sum_sum_sum, kind=minimize, expected_range=(0, 4e16)),\n",
    "    ScalarOutcome('Deaths Score', variable_name=var_list_deaths,\n",
    "                  function=sum_sum_sum, kind=minimize, expected_range=(0, 8.5e19)),\n",
    "    ScalarOutcome('Dike Invest Score', variable_name=var_list_dike,\n",
    "                  function=sum_sum_sum, kind=minimize, expected_range=(1e18, 1.3e7)),\n",
    "    ScalarOutcome(\"RfR Invest Score\", kind=minimize, variable_name=\"RfR Total Costs\", function=sum_sum_sum),\n",
    "    ScalarOutcome(\"Evac Score\", kind=minimize, variable_name=\"Expected Evacuation Costs\", function=sum_sum_sum),\n",
    "]\n",
    "\n",
    "# constraints = [\n",
    "#     Constraint()\n",
    "# ]"
   ],
   "metadata": {
    "collapsed": false,
    "ExecuteTime": {
     "end_time": "2023-06-14T13:25:49.912891900Z",
     "start_time": "2023-06-14T13:25:49.904837900Z"
    }
   }
  },
  {
   "cell_type": "code",
   "execution_count": 30,
   "outputs": [
    {
     "name": "stderr",
     "output_type": "stream",
     "text": [
      "[MainProcess/INFO] pool started with 12 workers\n",
      "100%|████████████████████████████████████████| 200/200 [07:18<00:00,  2.19s/it]\n",
      "[MainProcess/INFO] optimization completed, found 36 solutions\n",
      "[MainProcess/INFO] terminating pool\n"
     ]
    }
   ],
   "source": [
    "from ema_workbench.em_framework.optimization import EpsilonProgress\n",
    "from ema_workbench.em_framework.evaluators import BaseEvaluator\n",
    "\n",
    "# general input\n",
    "n_scenarios = 10\n",
    "#scenarios = sample_uncertainties(dike_model, n_scenarios)\n",
    "nfe = 200 #make this large\n",
    "\n",
    "BaseEvaluator.reporting_frequency = 0.1\n",
    "\n",
    "epsilons = [0.05, ]*len(robustness_functions)\n",
    "\n",
    "# Run MORO\n",
    "with MultiprocessingEvaluator(dike_model) as evaluator:\n",
    "    results, convergence = evaluator.robust_optimize(robustness_functions,\n",
    "                                                     scenarios=scenarios,\n",
    "                                                     nfe=nfe,\n",
    "                                                     epsilons=epsilons,\n",
    "                                                     convergence=[\n",
    "                                                         EpsilonProgress()],\n",
    "                                                     population_size=5,\n",
    "                                                     )\n",
    "\n",
    "# Write the results so this step can be skipped when doing multiple analyzes\n",
    "with open(r'generated_datasets/initial_Pareto_policies_test.pkl', 'wb') as file_pi:\n",
    "    pickle.dump(results, file_pi)"
   ],
   "metadata": {
    "collapsed": false,
    "ExecuteTime": {
     "end_time": "2023-06-14T13:33:55.951165800Z",
     "start_time": "2023-06-14T13:26:04.354252600Z"
    }
   }
  },
  {
   "cell_type": "code",
   "execution_count": 31,
   "outputs": [
    {
     "data": {
      "text/plain": "    0_RfR 0  0_RfR 1  0_RfR 2  1_RfR 0  1_RfR 1  1_RfR 2  2_RfR 0  2_RfR 1   \n0         0        0        0        0        1        1        0        1  \\\n1         0        0        0        0        0        0        1        1   \n2         0        0        0        1        1        0        1        0   \n3         0        0        0        0        0        0        1        1   \n4         0        0        0        1        0        0        1        0   \n5         0        0        0        0        0        0        1        1   \n6         0        0        0        0        0        0        1        1   \n7         1        0        0        0        0        0        1        1   \n8         1        0        0        0        1        0        1        0   \n9         1        0        0        0        0        0        0        0   \n10        1        0        0        0        1        0        0        0   \n11        1        0        0        0        0        0        1        0   \n12        1        0        0        1        1        0        1        0   \n13        1        0        0        0        0        0        1        1   \n14        1        0        0        0        0        0        1        0   \n15        1        0        0        0        0        0        1        0   \n16        0        0        0        0        0        0        1        0   \n17        1        0        0        0        0        0        1        0   \n18        1        0        0        0        1        0        1        1   \n19        1        0        0        0        0        0        1        0   \n20        1        0        0        1        1        0        1        1   \n21        0        0        0        0        0        0        1        0   \n22        1        0        0        0        0        0        1        0   \n23        1        1        0        1        1        0        1        0   \n24        1        0        0        1        0        0        1        0   \n25        1        0        0        1        0        1        1        0   \n26        1        0        0        0        0        1        1        0   \n27        1        0        0        1        0        1        1        0   \n28        0        0        0        0        0        0        1        0   \n29        0        0        0        0        0        0        1        0   \n30        0        0        0        0        0        0        1        0   \n31        0        0        0        0        0        0        1        0   \n32        0        0        0        0        0        0        1        0   \n33        0        0        0        0        0        0        1        0   \n34        0        0        0        0        0        0        1        0   \n35        0        0        0        0        0        0        1        0   \n\n    2_RfR 2  3_RfR 0  ...  A.4_DikeIncrease 1  A.4_DikeIncrease 2   \n0         1        1  ...                   9                   4  \\\n1         1        1  ...                   4                   4   \n2         0        0  ...                   8                   5   \n3         1        1  ...                   4                   4   \n4         1        0  ...                   7                   5   \n5         1        1  ...                   4                   4   \n6         0        1  ...                   5                   4   \n7         1        1  ...                   7                   4   \n8         1        1  ...                   5                   5   \n9         1        1  ...                   5                   6   \n10        1        1  ...                   5                   6   \n11        1        1  ...                   5                   5   \n12        1        1  ...                   6                   5   \n13        1        1  ...                   5                   5   \n14        1        1  ...                   2                   5   \n15        1        1  ...                   2                   5   \n16        1        1  ...                   5                   5   \n17        0        1  ...                   2                   6   \n18        1        1  ...                   2                   6   \n19        1        1  ...                   2                   5   \n20        1        1  ...                   6                   5   \n21        1        1  ...                   5                   5   \n22        1        1  ...                   2                   5   \n23        1        1  ...                   5                   5   \n24        1        1  ...                   2                   5   \n25        1        1  ...                   5                   5   \n26        1        1  ...                   2                   5   \n27        1        1  ...                   5                   5   \n28        1        1  ...                   5                   5   \n29        1        1  ...                   5                   5   \n30        1        1  ...                   5                   5   \n31        1        1  ...                   5                   5   \n32        1        1  ...                   5                   5   \n33        1        1  ...                   5                   5   \n34        1        1  ...                   5                   5   \n35        1        1  ...                   5                   2   \n\n    A.5_DikeIncrease 0  A.5_DikeIncrease 1  A.5_DikeIncrease 2  Damage Score   \n0                    8                   7                   8  3.289723e+08  \\\n1                    3                   8                   6  5.256698e+08   \n2                    3                   0                   4  3.393533e+10   \n3                    4                   3                   1  4.491303e+08   \n4                    3                   7                   4  2.322056e+09   \n5                    4                   3                   1  4.491303e+08   \n6                    4                   0                   1  4.040926e+10   \n7                    4                   3                   1  4.419574e+08   \n8                    4                   3                   1  5.670860e+08   \n9                    3                   3                   2  3.002689e+09   \n10                   4                   3                   1  1.081608e+09   \n11                   4                   3                   2  4.222094e+08   \n12                   3                   3                   2  2.920762e+08   \n13                   4                   3                   2  3.793720e+08   \n14                   4                   3                   1  4.370366e+08   \n15                   3                   3                   1  1.710333e+09   \n16                   3                   3                   2  3.892663e+10   \n17                   4                   3                   1  5.730302e+08   \n18                   4                   3                   1  4.006095e+08   \n19                   3                   3                   2  8.396869e+09   \n20                   4                   3                   1  1.818243e+08   \n21                   4                   3                   1  4.516784e+08   \n22                   4                   3                   1  1.121159e+09   \n23                   4                   3                   1  5.882297e+08   \n24                   3                   3                   2  8.771956e+08   \n25                   3                   3                   2  3.241498e+08   \n26                   4                   3                   2  6.836246e+08   \n27                   3                   3                   2  3.259350e+08   \n28                   3                   0                   2  3.906485e+10   \n29                   4                   3                   1  2.781801e+08   \n30                   4                   3                   1  4.921584e+08   \n31                   4                   3                   1  5.147289e+08   \n32                   3                   0                   2  3.906485e+10   \n33                   4                   3                   1  4.803639e+08   \n34                   4                   3                   1  9.471857e+08   \n35                   4                   3                   1  1.705352e+08   \n\n    Deaths Score  Dike Invest Score  RfR Invest Score     Evac Score  \n0       0.019151       1.282910e+10      2.759328e+10    8492.785575  \n1       0.030398       1.665022e+10      1.701867e+10   13435.983837  \n2      25.453450       9.783276e+09      1.966785e+10       0.000000  \n3       0.022343       1.202956e+10      1.701867e+10   13868.855066  \n4       0.133354       1.126489e+10      1.590714e+10   67795.551981  \n5       0.186191       1.202956e+10      1.701867e+10       0.000000  \n6       1.525338       7.930595e+09      1.640160e+10  248069.569703  \n7       0.184515       1.114355e+10      1.871913e+10       0.000000  \n8       0.043630       1.196181e+10      2.247984e+10   13092.620220  \n9       0.135888       1.032857e+10      9.901260e+09   53655.764033  \n10      0.065694       1.224507e+10      1.427904e+10   30888.783263  \n11      0.022441       1.232698e+10      1.810206e+10   12719.979457  \n12      0.014270       1.232438e+10      2.929374e+10    9150.609831  \n13      0.018088       1.252644e+10      1.871913e+10   11811.857786  \n14      0.022940       1.094827e+10      1.810206e+10   13217.735876  \n15      0.789848       9.898209e+09      1.051833e+10       0.000000  \n16     12.110639       9.679669e+09      1.125399e+10       0.000000  \n17      0.036915       1.160858e+10      1.748499e+10   16066.555749  \n18      0.015372       1.127292e+10      2.553303e+10    6681.372252  \n19      2.532995       9.753068e+09      2.053818e+10       0.000000  \n20      0.008104       1.118254e+10      2.991081e+10    5681.238824  \n21      0.023408       1.438215e+10      1.125399e+10   13726.544317  \n22      0.064905       1.130431e+10      1.051833e+10   32362.404332  \n23      0.036522       8.914296e+09      2.855808e+10   16494.056428  \n24      0.343425       9.753068e+09      2.247984e+10       0.000000  \n25      0.015865       1.099871e+10      2.929374e+10    9864.042659  \n26      0.262508       9.803904e+09      2.247984e+10       0.000000  \n27      0.133036       9.968738e+09      2.929374e+10       0.000000  \n28     12.158903       8.062813e+09      1.369011e+10       0.000000  \n29      0.112354       9.988628e+09      1.883772e+10       0.000000  \n30      0.201985       1.313875e+10      1.125399e+10       0.000000  \n31      0.213610       9.988628e+09      1.125399e+10       0.000000  \n32      1.459068       8.062813e+09      1.369011e+10  212129.895444  \n33      0.199843       9.988628e+09      1.640160e+10       0.000000  \n34      0.410260       9.988628e+09      8.817870e+09       0.000000  \n35      0.067984       1.090478e+10      1.883772e+10       0.000000  \n\n[36 rows x 36 columns]",
      "text/html": "<div>\n<style scoped>\n    .dataframe tbody tr th:only-of-type {\n        vertical-align: middle;\n    }\n\n    .dataframe tbody tr th {\n        vertical-align: top;\n    }\n\n    .dataframe thead th {\n        text-align: right;\n    }\n</style>\n<table border=\"1\" class=\"dataframe\">\n  <thead>\n    <tr style=\"text-align: right;\">\n      <th></th>\n      <th>0_RfR 0</th>\n      <th>0_RfR 1</th>\n      <th>0_RfR 2</th>\n      <th>1_RfR 0</th>\n      <th>1_RfR 1</th>\n      <th>1_RfR 2</th>\n      <th>2_RfR 0</th>\n      <th>2_RfR 1</th>\n      <th>2_RfR 2</th>\n      <th>3_RfR 0</th>\n      <th>...</th>\n      <th>A.4_DikeIncrease 1</th>\n      <th>A.4_DikeIncrease 2</th>\n      <th>A.5_DikeIncrease 0</th>\n      <th>A.5_DikeIncrease 1</th>\n      <th>A.5_DikeIncrease 2</th>\n      <th>Damage Score</th>\n      <th>Deaths Score</th>\n      <th>Dike Invest Score</th>\n      <th>RfR Invest Score</th>\n      <th>Evac Score</th>\n    </tr>\n  </thead>\n  <tbody>\n    <tr>\n      <th>0</th>\n      <td>0</td>\n      <td>0</td>\n      <td>0</td>\n      <td>0</td>\n      <td>1</td>\n      <td>1</td>\n      <td>0</td>\n      <td>1</td>\n      <td>1</td>\n      <td>1</td>\n      <td>...</td>\n      <td>9</td>\n      <td>4</td>\n      <td>8</td>\n      <td>7</td>\n      <td>8</td>\n      <td>3.289723e+08</td>\n      <td>0.019151</td>\n      <td>1.282910e+10</td>\n      <td>2.759328e+10</td>\n      <td>8492.785575</td>\n    </tr>\n    <tr>\n      <th>1</th>\n      <td>0</td>\n      <td>0</td>\n      <td>0</td>\n      <td>0</td>\n      <td>0</td>\n      <td>0</td>\n      <td>1</td>\n      <td>1</td>\n      <td>1</td>\n      <td>1</td>\n      <td>...</td>\n      <td>4</td>\n      <td>4</td>\n      <td>3</td>\n      <td>8</td>\n      <td>6</td>\n      <td>5.256698e+08</td>\n      <td>0.030398</td>\n      <td>1.665022e+10</td>\n      <td>1.701867e+10</td>\n      <td>13435.983837</td>\n    </tr>\n    <tr>\n      <th>2</th>\n      <td>0</td>\n      <td>0</td>\n      <td>0</td>\n      <td>1</td>\n      <td>1</td>\n      <td>0</td>\n      <td>1</td>\n      <td>0</td>\n      <td>0</td>\n      <td>0</td>\n      <td>...</td>\n      <td>8</td>\n      <td>5</td>\n      <td>3</td>\n      <td>0</td>\n      <td>4</td>\n      <td>3.393533e+10</td>\n      <td>25.453450</td>\n      <td>9.783276e+09</td>\n      <td>1.966785e+10</td>\n      <td>0.000000</td>\n    </tr>\n    <tr>\n      <th>3</th>\n      <td>0</td>\n      <td>0</td>\n      <td>0</td>\n      <td>0</td>\n      <td>0</td>\n      <td>0</td>\n      <td>1</td>\n      <td>1</td>\n      <td>1</td>\n      <td>1</td>\n      <td>...</td>\n      <td>4</td>\n      <td>4</td>\n      <td>4</td>\n      <td>3</td>\n      <td>1</td>\n      <td>4.491303e+08</td>\n      <td>0.022343</td>\n      <td>1.202956e+10</td>\n      <td>1.701867e+10</td>\n      <td>13868.855066</td>\n    </tr>\n    <tr>\n      <th>4</th>\n      <td>0</td>\n      <td>0</td>\n      <td>0</td>\n      <td>1</td>\n      <td>0</td>\n      <td>0</td>\n      <td>1</td>\n      <td>0</td>\n      <td>1</td>\n      <td>0</td>\n      <td>...</td>\n      <td>7</td>\n      <td>5</td>\n      <td>3</td>\n      <td>7</td>\n      <td>4</td>\n      <td>2.322056e+09</td>\n      <td>0.133354</td>\n      <td>1.126489e+10</td>\n      <td>1.590714e+10</td>\n      <td>67795.551981</td>\n    </tr>\n    <tr>\n      <th>5</th>\n      <td>0</td>\n      <td>0</td>\n      <td>0</td>\n      <td>0</td>\n      <td>0</td>\n      <td>0</td>\n      <td>1</td>\n      <td>1</td>\n      <td>1</td>\n      <td>1</td>\n      <td>...</td>\n      <td>4</td>\n      <td>4</td>\n      <td>4</td>\n      <td>3</td>\n      <td>1</td>\n      <td>4.491303e+08</td>\n      <td>0.186191</td>\n      <td>1.202956e+10</td>\n      <td>1.701867e+10</td>\n      <td>0.000000</td>\n    </tr>\n    <tr>\n      <th>6</th>\n      <td>0</td>\n      <td>0</td>\n      <td>0</td>\n      <td>0</td>\n      <td>0</td>\n      <td>0</td>\n      <td>1</td>\n      <td>1</td>\n      <td>0</td>\n      <td>1</td>\n      <td>...</td>\n      <td>5</td>\n      <td>4</td>\n      <td>4</td>\n      <td>0</td>\n      <td>1</td>\n      <td>4.040926e+10</td>\n      <td>1.525338</td>\n      <td>7.930595e+09</td>\n      <td>1.640160e+10</td>\n      <td>248069.569703</td>\n    </tr>\n    <tr>\n      <th>7</th>\n      <td>1</td>\n      <td>0</td>\n      <td>0</td>\n      <td>0</td>\n      <td>0</td>\n      <td>0</td>\n      <td>1</td>\n      <td>1</td>\n      <td>1</td>\n      <td>1</td>\n      <td>...</td>\n      <td>7</td>\n      <td>4</td>\n      <td>4</td>\n      <td>3</td>\n      <td>1</td>\n      <td>4.419574e+08</td>\n      <td>0.184515</td>\n      <td>1.114355e+10</td>\n      <td>1.871913e+10</td>\n      <td>0.000000</td>\n    </tr>\n    <tr>\n      <th>8</th>\n      <td>1</td>\n      <td>0</td>\n      <td>0</td>\n      <td>0</td>\n      <td>1</td>\n      <td>0</td>\n      <td>1</td>\n      <td>0</td>\n      <td>1</td>\n      <td>1</td>\n      <td>...</td>\n      <td>5</td>\n      <td>5</td>\n      <td>4</td>\n      <td>3</td>\n      <td>1</td>\n      <td>5.670860e+08</td>\n      <td>0.043630</td>\n      <td>1.196181e+10</td>\n      <td>2.247984e+10</td>\n      <td>13092.620220</td>\n    </tr>\n    <tr>\n      <th>9</th>\n      <td>1</td>\n      <td>0</td>\n      <td>0</td>\n      <td>0</td>\n      <td>0</td>\n      <td>0</td>\n      <td>0</td>\n      <td>0</td>\n      <td>1</td>\n      <td>1</td>\n      <td>...</td>\n      <td>5</td>\n      <td>6</td>\n      <td>3</td>\n      <td>3</td>\n      <td>2</td>\n      <td>3.002689e+09</td>\n      <td>0.135888</td>\n      <td>1.032857e+10</td>\n      <td>9.901260e+09</td>\n      <td>53655.764033</td>\n    </tr>\n    <tr>\n      <th>10</th>\n      <td>1</td>\n      <td>0</td>\n      <td>0</td>\n      <td>0</td>\n      <td>1</td>\n      <td>0</td>\n      <td>0</td>\n      <td>0</td>\n      <td>1</td>\n      <td>1</td>\n      <td>...</td>\n      <td>5</td>\n      <td>6</td>\n      <td>4</td>\n      <td>3</td>\n      <td>1</td>\n      <td>1.081608e+09</td>\n      <td>0.065694</td>\n      <td>1.224507e+10</td>\n      <td>1.427904e+10</td>\n      <td>30888.783263</td>\n    </tr>\n    <tr>\n      <th>11</th>\n      <td>1</td>\n      <td>0</td>\n      <td>0</td>\n      <td>0</td>\n      <td>0</td>\n      <td>0</td>\n      <td>1</td>\n      <td>0</td>\n      <td>1</td>\n      <td>1</td>\n      <td>...</td>\n      <td>5</td>\n      <td>5</td>\n      <td>4</td>\n      <td>3</td>\n      <td>2</td>\n      <td>4.222094e+08</td>\n      <td>0.022441</td>\n      <td>1.232698e+10</td>\n      <td>1.810206e+10</td>\n      <td>12719.979457</td>\n    </tr>\n    <tr>\n      <th>12</th>\n      <td>1</td>\n      <td>0</td>\n      <td>0</td>\n      <td>1</td>\n      <td>1</td>\n      <td>0</td>\n      <td>1</td>\n      <td>0</td>\n      <td>1</td>\n      <td>1</td>\n      <td>...</td>\n      <td>6</td>\n      <td>5</td>\n      <td>3</td>\n      <td>3</td>\n      <td>2</td>\n      <td>2.920762e+08</td>\n      <td>0.014270</td>\n      <td>1.232438e+10</td>\n      <td>2.929374e+10</td>\n      <td>9150.609831</td>\n    </tr>\n    <tr>\n      <th>13</th>\n      <td>1</td>\n      <td>0</td>\n      <td>0</td>\n      <td>0</td>\n      <td>0</td>\n      <td>0</td>\n      <td>1</td>\n      <td>1</td>\n      <td>1</td>\n      <td>1</td>\n      <td>...</td>\n      <td>5</td>\n      <td>5</td>\n      <td>4</td>\n      <td>3</td>\n      <td>2</td>\n      <td>3.793720e+08</td>\n      <td>0.018088</td>\n      <td>1.252644e+10</td>\n      <td>1.871913e+10</td>\n      <td>11811.857786</td>\n    </tr>\n    <tr>\n      <th>14</th>\n      <td>1</td>\n      <td>0</td>\n      <td>0</td>\n      <td>0</td>\n      <td>0</td>\n      <td>0</td>\n      <td>1</td>\n      <td>0</td>\n      <td>1</td>\n      <td>1</td>\n      <td>...</td>\n      <td>2</td>\n      <td>5</td>\n      <td>4</td>\n      <td>3</td>\n      <td>1</td>\n      <td>4.370366e+08</td>\n      <td>0.022940</td>\n      <td>1.094827e+10</td>\n      <td>1.810206e+10</td>\n      <td>13217.735876</td>\n    </tr>\n    <tr>\n      <th>15</th>\n      <td>1</td>\n      <td>0</td>\n      <td>0</td>\n      <td>0</td>\n      <td>0</td>\n      <td>0</td>\n      <td>1</td>\n      <td>0</td>\n      <td>1</td>\n      <td>1</td>\n      <td>...</td>\n      <td>2</td>\n      <td>5</td>\n      <td>3</td>\n      <td>3</td>\n      <td>1</td>\n      <td>1.710333e+09</td>\n      <td>0.789848</td>\n      <td>9.898209e+09</td>\n      <td>1.051833e+10</td>\n      <td>0.000000</td>\n    </tr>\n    <tr>\n      <th>16</th>\n      <td>0</td>\n      <td>0</td>\n      <td>0</td>\n      <td>0</td>\n      <td>0</td>\n      <td>0</td>\n      <td>1</td>\n      <td>0</td>\n      <td>1</td>\n      <td>1</td>\n      <td>...</td>\n      <td>5</td>\n      <td>5</td>\n      <td>3</td>\n      <td>3</td>\n      <td>2</td>\n      <td>3.892663e+10</td>\n      <td>12.110639</td>\n      <td>9.679669e+09</td>\n      <td>1.125399e+10</td>\n      <td>0.000000</td>\n    </tr>\n    <tr>\n      <th>17</th>\n      <td>1</td>\n      <td>0</td>\n      <td>0</td>\n      <td>0</td>\n      <td>0</td>\n      <td>0</td>\n      <td>1</td>\n      <td>0</td>\n      <td>0</td>\n      <td>1</td>\n      <td>...</td>\n      <td>2</td>\n      <td>6</td>\n      <td>4</td>\n      <td>3</td>\n      <td>1</td>\n      <td>5.730302e+08</td>\n      <td>0.036915</td>\n      <td>1.160858e+10</td>\n      <td>1.748499e+10</td>\n      <td>16066.555749</td>\n    </tr>\n    <tr>\n      <th>18</th>\n      <td>1</td>\n      <td>0</td>\n      <td>0</td>\n      <td>0</td>\n      <td>1</td>\n      <td>0</td>\n      <td>1</td>\n      <td>1</td>\n      <td>1</td>\n      <td>1</td>\n      <td>...</td>\n      <td>2</td>\n      <td>6</td>\n      <td>4</td>\n      <td>3</td>\n      <td>1</td>\n      <td>4.006095e+08</td>\n      <td>0.015372</td>\n      <td>1.127292e+10</td>\n      <td>2.553303e+10</td>\n      <td>6681.372252</td>\n    </tr>\n    <tr>\n      <th>19</th>\n      <td>1</td>\n      <td>0</td>\n      <td>0</td>\n      <td>0</td>\n      <td>0</td>\n      <td>0</td>\n      <td>1</td>\n      <td>0</td>\n      <td>1</td>\n      <td>1</td>\n      <td>...</td>\n      <td>2</td>\n      <td>5</td>\n      <td>3</td>\n      <td>3</td>\n      <td>2</td>\n      <td>8.396869e+09</td>\n      <td>2.532995</td>\n      <td>9.753068e+09</td>\n      <td>2.053818e+10</td>\n      <td>0.000000</td>\n    </tr>\n    <tr>\n      <th>20</th>\n      <td>1</td>\n      <td>0</td>\n      <td>0</td>\n      <td>1</td>\n      <td>1</td>\n      <td>0</td>\n      <td>1</td>\n      <td>1</td>\n      <td>1</td>\n      <td>1</td>\n      <td>...</td>\n      <td>6</td>\n      <td>5</td>\n      <td>4</td>\n      <td>3</td>\n      <td>1</td>\n      <td>1.818243e+08</td>\n      <td>0.008104</td>\n      <td>1.118254e+10</td>\n      <td>2.991081e+10</td>\n      <td>5681.238824</td>\n    </tr>\n    <tr>\n      <th>21</th>\n      <td>0</td>\n      <td>0</td>\n      <td>0</td>\n      <td>0</td>\n      <td>0</td>\n      <td>0</td>\n      <td>1</td>\n      <td>0</td>\n      <td>1</td>\n      <td>1</td>\n      <td>...</td>\n      <td>5</td>\n      <td>5</td>\n      <td>4</td>\n      <td>3</td>\n      <td>1</td>\n      <td>4.516784e+08</td>\n      <td>0.023408</td>\n      <td>1.438215e+10</td>\n      <td>1.125399e+10</td>\n      <td>13726.544317</td>\n    </tr>\n    <tr>\n      <th>22</th>\n      <td>1</td>\n      <td>0</td>\n      <td>0</td>\n      <td>0</td>\n      <td>0</td>\n      <td>0</td>\n      <td>1</td>\n      <td>0</td>\n      <td>1</td>\n      <td>1</td>\n      <td>...</td>\n      <td>2</td>\n      <td>5</td>\n      <td>4</td>\n      <td>3</td>\n      <td>1</td>\n      <td>1.121159e+09</td>\n      <td>0.064905</td>\n      <td>1.130431e+10</td>\n      <td>1.051833e+10</td>\n      <td>32362.404332</td>\n    </tr>\n    <tr>\n      <th>23</th>\n      <td>1</td>\n      <td>1</td>\n      <td>0</td>\n      <td>1</td>\n      <td>1</td>\n      <td>0</td>\n      <td>1</td>\n      <td>0</td>\n      <td>1</td>\n      <td>1</td>\n      <td>...</td>\n      <td>5</td>\n      <td>5</td>\n      <td>4</td>\n      <td>3</td>\n      <td>1</td>\n      <td>5.882297e+08</td>\n      <td>0.036522</td>\n      <td>8.914296e+09</td>\n      <td>2.855808e+10</td>\n      <td>16494.056428</td>\n    </tr>\n    <tr>\n      <th>24</th>\n      <td>1</td>\n      <td>0</td>\n      <td>0</td>\n      <td>1</td>\n      <td>0</td>\n      <td>0</td>\n      <td>1</td>\n      <td>0</td>\n      <td>1</td>\n      <td>1</td>\n      <td>...</td>\n      <td>2</td>\n      <td>5</td>\n      <td>3</td>\n      <td>3</td>\n      <td>2</td>\n      <td>8.771956e+08</td>\n      <td>0.343425</td>\n      <td>9.753068e+09</td>\n      <td>2.247984e+10</td>\n      <td>0.000000</td>\n    </tr>\n    <tr>\n      <th>25</th>\n      <td>1</td>\n      <td>0</td>\n      <td>0</td>\n      <td>1</td>\n      <td>0</td>\n      <td>1</td>\n      <td>1</td>\n      <td>0</td>\n      <td>1</td>\n      <td>1</td>\n      <td>...</td>\n      <td>5</td>\n      <td>5</td>\n      <td>3</td>\n      <td>3</td>\n      <td>2</td>\n      <td>3.241498e+08</td>\n      <td>0.015865</td>\n      <td>1.099871e+10</td>\n      <td>2.929374e+10</td>\n      <td>9864.042659</td>\n    </tr>\n    <tr>\n      <th>26</th>\n      <td>1</td>\n      <td>0</td>\n      <td>0</td>\n      <td>0</td>\n      <td>0</td>\n      <td>1</td>\n      <td>1</td>\n      <td>0</td>\n      <td>1</td>\n      <td>1</td>\n      <td>...</td>\n      <td>2</td>\n      <td>5</td>\n      <td>4</td>\n      <td>3</td>\n      <td>2</td>\n      <td>6.836246e+08</td>\n      <td>0.262508</td>\n      <td>9.803904e+09</td>\n      <td>2.247984e+10</td>\n      <td>0.000000</td>\n    </tr>\n    <tr>\n      <th>27</th>\n      <td>1</td>\n      <td>0</td>\n      <td>0</td>\n      <td>1</td>\n      <td>0</td>\n      <td>1</td>\n      <td>1</td>\n      <td>0</td>\n      <td>1</td>\n      <td>1</td>\n      <td>...</td>\n      <td>5</td>\n      <td>5</td>\n      <td>3</td>\n      <td>3</td>\n      <td>2</td>\n      <td>3.259350e+08</td>\n      <td>0.133036</td>\n      <td>9.968738e+09</td>\n      <td>2.929374e+10</td>\n      <td>0.000000</td>\n    </tr>\n    <tr>\n      <th>28</th>\n      <td>0</td>\n      <td>0</td>\n      <td>0</td>\n      <td>0</td>\n      <td>0</td>\n      <td>0</td>\n      <td>1</td>\n      <td>0</td>\n      <td>1</td>\n      <td>1</td>\n      <td>...</td>\n      <td>5</td>\n      <td>5</td>\n      <td>3</td>\n      <td>0</td>\n      <td>2</td>\n      <td>3.906485e+10</td>\n      <td>12.158903</td>\n      <td>8.062813e+09</td>\n      <td>1.369011e+10</td>\n      <td>0.000000</td>\n    </tr>\n    <tr>\n      <th>29</th>\n      <td>0</td>\n      <td>0</td>\n      <td>0</td>\n      <td>0</td>\n      <td>0</td>\n      <td>0</td>\n      <td>1</td>\n      <td>0</td>\n      <td>1</td>\n      <td>1</td>\n      <td>...</td>\n      <td>5</td>\n      <td>5</td>\n      <td>4</td>\n      <td>3</td>\n      <td>1</td>\n      <td>2.781801e+08</td>\n      <td>0.112354</td>\n      <td>9.988628e+09</td>\n      <td>1.883772e+10</td>\n      <td>0.000000</td>\n    </tr>\n    <tr>\n      <th>30</th>\n      <td>0</td>\n      <td>0</td>\n      <td>0</td>\n      <td>0</td>\n      <td>0</td>\n      <td>0</td>\n      <td>1</td>\n      <td>0</td>\n      <td>1</td>\n      <td>1</td>\n      <td>...</td>\n      <td>5</td>\n      <td>5</td>\n      <td>4</td>\n      <td>3</td>\n      <td>1</td>\n      <td>4.921584e+08</td>\n      <td>0.201985</td>\n      <td>1.313875e+10</td>\n      <td>1.125399e+10</td>\n      <td>0.000000</td>\n    </tr>\n    <tr>\n      <th>31</th>\n      <td>0</td>\n      <td>0</td>\n      <td>0</td>\n      <td>0</td>\n      <td>0</td>\n      <td>0</td>\n      <td>1</td>\n      <td>0</td>\n      <td>1</td>\n      <td>1</td>\n      <td>...</td>\n      <td>5</td>\n      <td>5</td>\n      <td>4</td>\n      <td>3</td>\n      <td>1</td>\n      <td>5.147289e+08</td>\n      <td>0.213610</td>\n      <td>9.988628e+09</td>\n      <td>1.125399e+10</td>\n      <td>0.000000</td>\n    </tr>\n    <tr>\n      <th>32</th>\n      <td>0</td>\n      <td>0</td>\n      <td>0</td>\n      <td>0</td>\n      <td>0</td>\n      <td>0</td>\n      <td>1</td>\n      <td>0</td>\n      <td>1</td>\n      <td>1</td>\n      <td>...</td>\n      <td>5</td>\n      <td>5</td>\n      <td>3</td>\n      <td>0</td>\n      <td>2</td>\n      <td>3.906485e+10</td>\n      <td>1.459068</td>\n      <td>8.062813e+09</td>\n      <td>1.369011e+10</td>\n      <td>212129.895444</td>\n    </tr>\n    <tr>\n      <th>33</th>\n      <td>0</td>\n      <td>0</td>\n      <td>0</td>\n      <td>0</td>\n      <td>0</td>\n      <td>0</td>\n      <td>1</td>\n      <td>0</td>\n      <td>1</td>\n      <td>1</td>\n      <td>...</td>\n      <td>5</td>\n      <td>5</td>\n      <td>4</td>\n      <td>3</td>\n      <td>1</td>\n      <td>4.803639e+08</td>\n      <td>0.199843</td>\n      <td>9.988628e+09</td>\n      <td>1.640160e+10</td>\n      <td>0.000000</td>\n    </tr>\n    <tr>\n      <th>34</th>\n      <td>0</td>\n      <td>0</td>\n      <td>0</td>\n      <td>0</td>\n      <td>0</td>\n      <td>0</td>\n      <td>1</td>\n      <td>0</td>\n      <td>1</td>\n      <td>1</td>\n      <td>...</td>\n      <td>5</td>\n      <td>5</td>\n      <td>4</td>\n      <td>3</td>\n      <td>1</td>\n      <td>9.471857e+08</td>\n      <td>0.410260</td>\n      <td>9.988628e+09</td>\n      <td>8.817870e+09</td>\n      <td>0.000000</td>\n    </tr>\n    <tr>\n      <th>35</th>\n      <td>0</td>\n      <td>0</td>\n      <td>0</td>\n      <td>0</td>\n      <td>0</td>\n      <td>0</td>\n      <td>1</td>\n      <td>0</td>\n      <td>1</td>\n      <td>1</td>\n      <td>...</td>\n      <td>5</td>\n      <td>2</td>\n      <td>4</td>\n      <td>3</td>\n      <td>1</td>\n      <td>1.705352e+08</td>\n      <td>0.067984</td>\n      <td>1.090478e+10</td>\n      <td>1.883772e+10</td>\n      <td>0.000000</td>\n    </tr>\n  </tbody>\n</table>\n<p>36 rows × 36 columns</p>\n</div>"
     },
     "execution_count": 31,
     "metadata": {},
     "output_type": "execute_result"
    }
   ],
   "source": [
    "results"
   ],
   "metadata": {
    "collapsed": false,
    "ExecuteTime": {
     "end_time": "2023-06-14T13:34:00.997779200Z",
     "start_time": "2023-06-14T13:34:00.955003Z"
    }
   }
  },
  {
   "cell_type": "code",
   "execution_count": null,
   "outputs": [],
   "source": [
    "# Extract the levers for each Pareto policy\n",
    "policies = []\n",
    "for row in range(results.shape[0]):\n",
    "    policies.append(\n",
    "        # Do not include the damage scores\n",
    "        Policy(name=row, **results.iloc[row, :-5].to_dict())\n",
    "    )\n",
    "\n",
    "with MultiprocessingEvaluator(dike_model) as evaluator:\n",
    "    results = evaluator.perform_experiments(scenarios=50, policies=policies)\n",
    "\n",
    "# Write the results so this step can be skipped when doing multiple analyzes\n",
    "with open('Outcomes/epsilon_results.pkl', 'wb') as file_pi:\n",
    "    pickle.dump(results, file_pi)"
   ],
   "metadata": {
    "collapsed": false
   }
  }
 ],
 "metadata": {
  "kernelspec": {
   "display_name": "Python 3",
   "language": "python",
   "name": "python3"
  },
  "language_info": {
   "codemirror_mode": {
    "name": "ipython",
    "version": 2
   },
   "file_extension": ".py",
   "mimetype": "text/x-python",
   "name": "python",
   "nbconvert_exporter": "python",
   "pygments_lexer": "ipython2",
   "version": "2.7.6"
  }
 },
 "nbformat": 4,
 "nbformat_minor": 0
}
