{
 "cells": [
  {
   "cell_type": "markdown",
   "source": [
    "### Choice of robustness metrics:\n",
    "| Robustness metric \t | value \t |\n",
    "|:-------------------:|:-------:|\n",
    "|   test          \t   | 0    \t  |\n",
    "|          \t          |    \t    |\n",
    "|          \t          |    \t    |"
   ],
   "metadata": {
    "collapsed": false
   }
  },
  {
   "cell_type": "code",
   "execution_count": 9,
   "metadata": {
    "collapsed": true,
    "ExecuteTime": {
     "end_time": "2023-06-14T09:31:47.551492500Z",
     "start_time": "2023-06-14T09:31:47.536314Z"
    }
   },
   "outputs": [],
   "source": [
    "#   import packages\n",
    "import numpy as np\n",
    "import scipy as sp\n",
    "import pandas as pd\n",
    "import matplotlib.pyplot as plt\n",
    "import seaborn as sns\n",
    "import networkx as nx\n",
    "import pickle\n",
    "import functools\n",
    "\n",
    "from ema_workbench import (\n",
    "    Model,\n",
    "    Policy,\n",
    "    ema_logging,\n",
    "    SequentialEvaluator,\n",
    "    MultiprocessingEvaluator,\n",
    "    util,\n",
    "    ScalarOutcome,\n",
    ")\n",
    "from dike_model_function import DikeNetwork  # @UnresolvedImport\n",
    "from problem_formulation import get_model_for_problem_formulation, sum_over, sum_over_time\n",
    "from ema_workbench.em_framework.samplers import sample_uncertainties\n",
    "from ema_workbench.em_framework.optimization import ArchiveLogger, EpsilonProgress\n",
    "from ema_workbench.em_framework import parameters_from_csv\n"
   ]
  },
  {
   "cell_type": "code",
   "execution_count": 10,
   "outputs": [
    {
     "data": {
      "text/plain": "<Logger EMA (DEBUG)>"
     },
     "execution_count": 10,
     "metadata": {},
     "output_type": "execute_result"
    }
   ],
   "source": [
    "dike_model, planning_steps = get_model_for_problem_formulation(5)\n",
    "ema_logging.log_to_stderr(ema_logging.INFO)"
   ],
   "metadata": {
    "collapsed": false,
    "ExecuteTime": {
     "end_time": "2023-06-14T09:31:47.739099900Z",
     "start_time": "2023-06-14T09:31:47.541495900Z"
    }
   }
  },
  {
   "cell_type": "code",
   "execution_count": 11,
   "outputs": [],
   "source": [
    "# List the names of vars to make `robustness_functions` a bit more read-able\n",
    "var_list_damage = ['A.1_Expected Annual Damage',\n",
    "                   'A.2_Expected Annual Damage',\n",
    "                   'A.3_Expected Annual Damage',\n",
    "                   'A.4_Expected Annual Damage',\n",
    "                   'A.5_Expected Annual Damage',]\n",
    "var_list_deaths = ['A.1_Expected Number of Deaths',\n",
    "                   'A.2_Expected Number of Deaths',\n",
    "                   'A.3_Expected Number of Deaths',\n",
    "                   'A.4_Expected Number of Deaths',\n",
    "                   'A.5_Expected Number of Deaths',]\n",
    "var_list_dike = ['A.1_Dike Investment Costs',\n",
    "                 'A.2_Dike Investment Costs',\n",
    "                 'A.3_Dike Investment Costs',\n",
    "                 'A.4_Dike Investment Costs',\n",
    "                 'A.5_Dike Investment Costs',]\n",
    "var_list_rfr = ['RfR Total Costs',]\n",
    "var_list_evac = ['Expected Evacuation Costs',]"
   ],
   "metadata": {
    "collapsed": false,
    "ExecuteTime": {
     "end_time": "2023-06-14T09:31:47.742095500Z",
     "start_time": "2023-06-14T09:31:47.737113100Z"
    }
   }
  },
  {
   "cell_type": "code",
   "execution_count": 12,
   "outputs": [],
   "source": [
    "def sum_sum_sum(*data):\n",
    "    sumsumsum = sum(sum(sum(data)))\n",
    "\n",
    "    mean = np.mean(sumsumsum)\n",
    "    iqr = sp.stats.iqr(sumsumsum) + mean * 0.005\n",
    "    result = mean + iqr\n",
    "\n",
    "    return result\n",
    "\n",
    "# robustness metrics\n",
    "maximize = ScalarOutcome.MAXIMIZE\n",
    "minimize = ScalarOutcome.MINIMIZE\n",
    "\n",
    "# These functions need to only return one score value...\n",
    "robustness_functions = [\n",
    "    ScalarOutcome('Damage Score', variable_name=var_list_damage,\n",
    "                  function=sum_sum_sum, kind=minimize, expected_range=(0, 4e16)),\n",
    "    ScalarOutcome('Deaths Score', variable_name=var_list_deaths,\n",
    "                  function=sum_sum_sum, kind=minimize, expected_range=(0, 8.5e19)),\n",
    "    ScalarOutcome('Dike Invest Score', variable_name=var_list_dike,\n",
    "                  function=sum_sum_sum, kind=minimize, expected_range=(1e18, 1.3e7)),\n",
    "    ScalarOutcome(\"RfR Invest Score\", kind=minimize, variable_name=\"RfR Total Costs\", function=sum_sum_sum),\n",
    "    ScalarOutcome(\"Evac Score\", kind=minimize, variable_name=\"Expected Evacuation Costs\", function=sum_sum_sum),\n",
    "]\n",
    "\n",
    "# constraints = [\n",
<<<<<<< Updated upstream
    "#    Constraint()\n",
=======
    "#     Constraint()\n",
>>>>>>> Stashed changes
    "# ]"
   ],
   "metadata": {
    "collapsed": false,
    "ExecuteTime": {
     "end_time": "2023-06-14T09:31:47.756804200Z",
     "start_time": "2023-06-14T09:31:47.744095200Z"
    }
   }
  },
  {
   "cell_type": "code",
   "execution_count": 13,
   "outputs": [
    {
     "name": "stderr",
     "output_type": "stream",
     "text": [
      "[MainProcess/INFO] pool started with 12 workers\n",
      "202it [03:15,  1.03it/s]                                                       \n",
      "[MainProcess/INFO] optimization completed, found 39 solutions\n",
      "[MainProcess/INFO] terminating pool\n"
     ]
    }
   ],
   "source": [
    "from ema_workbench.em_framework.optimization import EpsilonProgress\n",
    "from ema_workbench.em_framework.evaluators import BaseEvaluator\n",
    "\n",
    "# general input\n",
    "n_scenarios = 10\n",
    "scenarios = sample_uncertainties(dike_model, n_scenarios)\n",
    "nfe = 200 #make this large\n",
    "\n",
    "BaseEvaluator.reporting_frequency = 0.1\n",
    "\n",
    "epsilons = [0.05, ]*len(robustness_functions)\n",
    "\n",
    "# Record the run time\n",
    "\n",
    "# Run MORO\n",
    "with MultiprocessingEvaluator(dike_model) as evaluator:\n",
    "    results, convergence = evaluator.robust_optimize(robustness_functions,\n",
    "                                                     scenarios=scenarios,\n",
    "                                                     nfe=nfe,\n",
    "                                                     epsilons=epsilons,\n",
    "                                                     convergence=[\n",
    "                                                         EpsilonProgress()],\n",
    "                                                     population_size=5,\n",
    "                                                     )\n",
    "\n",
    "# Write the results so this step can be skipped when doing multiple analyzes\n",
    "with open(r'generated_datasets/initial_Pareto_policies.pkl', 'wb') as file_pi:\n",
    "    pickle.dump(results, file_pi)"
   ],
   "metadata": {
    "collapsed": false,
    "ExecuteTime": {
     "end_time": "2023-06-14T09:35:50.102698200Z",
     "start_time": "2023-06-14T09:31:47.756804200Z"
    }
   }
  },
  {
   "cell_type": "code",
   "execution_count": 14,
   "outputs": [
    {
     "data": {
      "text/plain": "    0_RfR 0  0_RfR 1  0_RfR 2  1_RfR 0  1_RfR 1  1_RfR 2  2_RfR 0  2_RfR 1  \\\n0         1        0        1        1        0        0        0        1   \n1         0        1        0        0        1        0        1        1   \n2         1        1        0        0        1        0        1        1   \n3         0        0        1        0        1        0        1        1   \n4         0        1        1        0        1        0        1        1   \n5         0        0        1        0        1        0        1        1   \n6         0        0        1        0        1        0        1        1   \n7         1        0        1        0        1        0        1        1   \n8         0        0        1        0        1        0        1        1   \n9         0        0        1        0        1        0        0        1   \n10        0        0        1        0        1        0        1        1   \n11        1        0        1        0        0        0        1        1   \n12        1        0        1        0        1        0        1        1   \n13        0        0        1        0        1        0        1        1   \n14        0        0        1        0        1        0        1        0   \n15        1        0        1        0        1        0        1        0   \n16        0        0        1        0        1        0        1        1   \n17        1        0        1        0        1        0        1        1   \n18        0        0        1        0        0        0        1        1   \n19        1        0        1        0        1        0        1        0   \n20        1        0        1        0        1        0        1        0   \n21        0        0        1        0        0        0        1        0   \n22        1        0        1        0        0        0        1        0   \n23        0        0        1        0        0        0        1        0   \n24        0        0        1        0        0        0        1        0   \n25        0        0        1        0        1        0        1        0   \n26        0        0        1        0        0        0        1        0   \n27        0        0        1        0        1        0        1        0   \n28        0        0        1        0        0        0        1        0   \n29        0        0        1        0        0        0        1        0   \n30        0        0        1        0        0        0        1        0   \n31        0        0        1        0        0        0        1        0   \n32        0        1        1        0        0        0        1        0   \n33        0        0        1        0        1        0        1        0   \n34        0        0        1        0        0        0        1        0   \n35        0        0        1        0        0        0        1        0   \n36        0        1        1        0        0        0        1        0   \n37        0        0        1        0        0        0        1        0   \n38        0        0        1        0        0        0        1        0   \n\n    2_RfR 2  3_RfR 0  ...  A.4_DikeIncrease 1  A.4_DikeIncrease 2  \\\n0         0        1  ...                   0                   6   \n1         0        1  ...                   0                   6   \n2         0        1  ...                   0                   6   \n3         0        1  ...                   6                   4   \n4         0        0  ...                   1                   7   \n5         0        0  ...                   6                   5   \n6         0        0  ...                   1                   4   \n7         0        0  ...                   6                   5   \n8         0        0  ...                   1                   3   \n9         0        0  ...                   0                   4   \n10        0        0  ...                   7                   3   \n11        0        1  ...                   0                   3   \n12        0        0  ...                   4                  10   \n13        0        0  ...                   7                   2   \n14        0        1  ...                   1                   3   \n15        0        0  ...                   7                   5   \n16        0        1  ...                   2                   2   \n17        0        1  ...                   0                   3   \n18        0        0  ...                   7                   3   \n19        0        1  ...                   7                   2   \n20        0        0  ...                   6                   5   \n21        0        0  ...                   7                   0   \n22        0        0  ...                   7                   6   \n23        0        0  ...                   6                   0   \n24        0        1  ...                   7                   3   \n25        0        1  ...                   6                   2   \n26        0        1  ...                   7                   3   \n27        0        0  ...                   0                   3   \n28        0        0  ...                   7                   3   \n29        0        0  ...                   0                   3   \n30        0        0  ...                   0                   3   \n31        0        0  ...                   0                   3   \n32        0        1  ...                   7                   3   \n33        0        1  ...                   0                   3   \n34        0        0  ...                   0                   3   \n35        0        0  ...                   0                   3   \n36        0        1  ...                   0                   3   \n37        0        0  ...                   0                   3   \n38        0        0  ...                   0                   3   \n\n    A.5_DikeIncrease 0  A.5_DikeIncrease 1  A.5_DikeIncrease 2  Damage Score  \\\n0                    6                   0                   4  1.698042e+08   \n1                   10                   0                   0  1.268663e+07   \n2                    9                   0                   0  3.347917e+07   \n3                   10                   6                   0  5.044538e+06   \n4                    5                   6                   0  4.541067e+08   \n5                    5                   6                   0  4.294361e+08   \n6                    5                   6                   0  1.071248e+09   \n7                   10                   0                   0  6.897236e+07   \n8                    5                   6                   0  1.074898e+09   \n9                   10                   7                   6  3.754296e+07   \n10                  10                   0                   1  5.440800e+07   \n11                  10                   6                   1  1.464075e+08   \n12                  10                   7                   1  3.052268e+07   \n13                  10                   8                   1  2.792851e+07   \n14                  10                   2                   7  6.670077e+06   \n15                  10                   6                   0  5.987493e+07   \n16                  10                   3                   6  5.044538e+06   \n17                  10                   0                   1  1.268663e+07   \n18                   3                   6                   1  4.929289e+08   \n19                   2                   6                   0  8.906115e+08   \n20                  10                   5                   0  4.120108e+07   \n21                   5                   1                   7  4.740641e+08   \n22                  10                   1                   7  2.656029e+08   \n23                  10                   2                   7  2.656029e+08   \n24                  10                   1                   0  1.089253e+08   \n25                  10                   6                   7  6.670077e+06   \n26                  10                   1                   0  1.057552e+08   \n27                   2                   5                   0  1.591472e+09   \n28                   3                   2                   0  2.106065e+09   \n29                   3                   6                   0  5.597365e+08   \n30                  10                   5                   0  2.261794e+09   \n31                   2                   2                   0  2.738594e+09   \n32                   1                   6                   0  3.112501e+08   \n33                   2                   2                   0  1.300184e+09   \n34                   2                   2                   0  2.667627e+09   \n35                   2                   2                   0  2.841794e+09   \n36                  10                   6                   0  6.670077e+06   \n37                   2                   2                   0  3.090690e+09   \n38                   2                   2                   0  2.258541e+09   \n\n    Deaths Score  Dike Invest Score  RfR Invest Score     Evac Score  \n0       0.174249       4.764912e+09      1.042587e+10       0.000000  \n1       0.002437       4.790280e+09      1.123992e+10     853.505784  \n2       0.042495       5.264260e+09      1.209015e+10       0.000000  \n3       0.001005       5.497159e+09      6.092310e+09     340.851094  \n4       0.055144       4.340664e+09      5.724480e+09   29557.113623  \n5       0.053329       4.560613e+09      4.874250e+09   34149.975796  \n6       0.100951       4.385718e+09      4.874250e+09   36654.893336  \n7       0.010306       4.336973e+09      8.298285e+09    5696.015485  \n8       0.101707       4.212293e+09      4.874250e+09   36814.446823  \n9       0.052395       6.226116e+09      3.347655e+09       0.000000  \n10      0.065956       4.786896e+09      4.874250e+09       0.000000  \n11      0.148901       6.089842e+09      4.753650e+09       0.000000  \n12      0.004436       4.929305e+09      5.724480e+09    2353.554068  \n13      0.035063       5.754318e+09      4.874250e+09       0.000000  \n14      0.008682       7.168730e+09      5.783775e+09       0.000000  \n15      0.006834       5.006819e+09      5.415945e+09    2814.513205  \n16      0.006701       5.636363e+09      6.092310e+09       0.000000  \n17      0.016250       5.507982e+09      6.942540e+09       0.000000  \n18      0.523070       5.458588e+09      2.685360e+09       0.000000  \n19      0.100413       3.709858e+09      6.634005e+09   56240.874384  \n20      0.006013       4.441532e+09      5.415945e+09    2863.554628  \n21      0.522470       5.753718e+09      2.376825e+09       0.000000  \n22      0.276575       5.470419e+09      3.227055e+09       0.000000  \n23      0.276575       5.931917e+09      2.376825e+09       0.000000  \n24      0.011179       5.057818e+09      2.376825e+09    3989.486472  \n25      0.001302       6.580238e+09      5.783775e+09     426.272636  \n26      0.013503       5.121353e+09      2.376825e+09    3173.111649  \n27      0.159344       3.938726e+09      4.565715e+09   64057.237851  \n28      0.218546       4.535686e+09      2.376825e+09   71898.493330  \n29      0.072929       4.840014e+09      1.158765e+09   41765.880952  \n30      0.202405       4.211631e+09      2.376825e+09   38104.152370  \n31      0.270496       3.699875e+09      2.376825e+09   88594.676917  \n32      0.041062       4.914943e+09      4.445115e+09   27678.240696  \n33      0.132895       3.793839e+09      5.783775e+09   59715.190409  \n34      0.262217       4.125271e+09      2.376825e+09   84446.303285  \n35      0.282701       3.652435e+09      2.376825e+09   94891.213144  \n36      0.001042       5.617685e+09      4.445115e+09     529.581063  \n37      0.309556       2.873154e+09      2.376825e+09  109684.817367  \n38      0.244454       3.988820e+09      1.158765e+09  126667.534876  \n\n[39 rows x 36 columns]",
      "text/html": "<div>\n<style scoped>\n    .dataframe tbody tr th:only-of-type {\n        vertical-align: middle;\n    }\n\n    .dataframe tbody tr th {\n        vertical-align: top;\n    }\n\n    .dataframe thead th {\n        text-align: right;\n    }\n</style>\n<table border=\"1\" class=\"dataframe\">\n  <thead>\n    <tr style=\"text-align: right;\">\n      <th></th>\n      <th>0_RfR 0</th>\n      <th>0_RfR 1</th>\n      <th>0_RfR 2</th>\n      <th>1_RfR 0</th>\n      <th>1_RfR 1</th>\n      <th>1_RfR 2</th>\n      <th>2_RfR 0</th>\n      <th>2_RfR 1</th>\n      <th>2_RfR 2</th>\n      <th>3_RfR 0</th>\n      <th>...</th>\n      <th>A.4_DikeIncrease 1</th>\n      <th>A.4_DikeIncrease 2</th>\n      <th>A.5_DikeIncrease 0</th>\n      <th>A.5_DikeIncrease 1</th>\n      <th>A.5_DikeIncrease 2</th>\n      <th>Damage Score</th>\n      <th>Deaths Score</th>\n      <th>Dike Invest Score</th>\n      <th>RfR Invest Score</th>\n      <th>Evac Score</th>\n    </tr>\n  </thead>\n  <tbody>\n    <tr>\n      <th>0</th>\n      <td>1</td>\n      <td>0</td>\n      <td>1</td>\n      <td>1</td>\n      <td>0</td>\n      <td>0</td>\n      <td>0</td>\n      <td>1</td>\n      <td>0</td>\n      <td>1</td>\n      <td>...</td>\n      <td>0</td>\n      <td>6</td>\n      <td>6</td>\n      <td>0</td>\n      <td>4</td>\n      <td>1.698042e+08</td>\n      <td>0.174249</td>\n      <td>4.764912e+09</td>\n      <td>1.042587e+10</td>\n      <td>0.000000</td>\n    </tr>\n    <tr>\n      <th>1</th>\n      <td>0</td>\n      <td>1</td>\n      <td>0</td>\n      <td>0</td>\n      <td>1</td>\n      <td>0</td>\n      <td>1</td>\n      <td>1</td>\n      <td>0</td>\n      <td>1</td>\n      <td>...</td>\n      <td>0</td>\n      <td>6</td>\n      <td>10</td>\n      <td>0</td>\n      <td>0</td>\n      <td>1.268663e+07</td>\n      <td>0.002437</td>\n      <td>4.790280e+09</td>\n      <td>1.123992e+10</td>\n      <td>853.505784</td>\n    </tr>\n    <tr>\n      <th>2</th>\n      <td>1</td>\n      <td>1</td>\n      <td>0</td>\n      <td>0</td>\n      <td>1</td>\n      <td>0</td>\n      <td>1</td>\n      <td>1</td>\n      <td>0</td>\n      <td>1</td>\n      <td>...</td>\n      <td>0</td>\n      <td>6</td>\n      <td>9</td>\n      <td>0</td>\n      <td>0</td>\n      <td>3.347917e+07</td>\n      <td>0.042495</td>\n      <td>5.264260e+09</td>\n      <td>1.209015e+10</td>\n      <td>0.000000</td>\n    </tr>\n    <tr>\n      <th>3</th>\n      <td>0</td>\n      <td>0</td>\n      <td>1</td>\n      <td>0</td>\n      <td>1</td>\n      <td>0</td>\n      <td>1</td>\n      <td>1</td>\n      <td>0</td>\n      <td>1</td>\n      <td>...</td>\n      <td>6</td>\n      <td>4</td>\n      <td>10</td>\n      <td>6</td>\n      <td>0</td>\n      <td>5.044538e+06</td>\n      <td>0.001005</td>\n      <td>5.497159e+09</td>\n      <td>6.092310e+09</td>\n      <td>340.851094</td>\n    </tr>\n    <tr>\n      <th>4</th>\n      <td>0</td>\n      <td>1</td>\n      <td>1</td>\n      <td>0</td>\n      <td>1</td>\n      <td>0</td>\n      <td>1</td>\n      <td>1</td>\n      <td>0</td>\n      <td>0</td>\n      <td>...</td>\n      <td>1</td>\n      <td>7</td>\n      <td>5</td>\n      <td>6</td>\n      <td>0</td>\n      <td>4.541067e+08</td>\n      <td>0.055144</td>\n      <td>4.340664e+09</td>\n      <td>5.724480e+09</td>\n      <td>29557.113623</td>\n    </tr>\n    <tr>\n      <th>5</th>\n      <td>0</td>\n      <td>0</td>\n      <td>1</td>\n      <td>0</td>\n      <td>1</td>\n      <td>0</td>\n      <td>1</td>\n      <td>1</td>\n      <td>0</td>\n      <td>0</td>\n      <td>...</td>\n      <td>6</td>\n      <td>5</td>\n      <td>5</td>\n      <td>6</td>\n      <td>0</td>\n      <td>4.294361e+08</td>\n      <td>0.053329</td>\n      <td>4.560613e+09</td>\n      <td>4.874250e+09</td>\n      <td>34149.975796</td>\n    </tr>\n    <tr>\n      <th>6</th>\n      <td>0</td>\n      <td>0</td>\n      <td>1</td>\n      <td>0</td>\n      <td>1</td>\n      <td>0</td>\n      <td>1</td>\n      <td>1</td>\n      <td>0</td>\n      <td>0</td>\n      <td>...</td>\n      <td>1</td>\n      <td>4</td>\n      <td>5</td>\n      <td>6</td>\n      <td>0</td>\n      <td>1.071248e+09</td>\n      <td>0.100951</td>\n      <td>4.385718e+09</td>\n      <td>4.874250e+09</td>\n      <td>36654.893336</td>\n    </tr>\n    <tr>\n      <th>7</th>\n      <td>1</td>\n      <td>0</td>\n      <td>1</td>\n      <td>0</td>\n      <td>1</td>\n      <td>0</td>\n      <td>1</td>\n      <td>1</td>\n      <td>0</td>\n      <td>0</td>\n      <td>...</td>\n      <td>6</td>\n      <td>5</td>\n      <td>10</td>\n      <td>0</td>\n      <td>0</td>\n      <td>6.897236e+07</td>\n      <td>0.010306</td>\n      <td>4.336973e+09</td>\n      <td>8.298285e+09</td>\n      <td>5696.015485</td>\n    </tr>\n    <tr>\n      <th>8</th>\n      <td>0</td>\n      <td>0</td>\n      <td>1</td>\n      <td>0</td>\n      <td>1</td>\n      <td>0</td>\n      <td>1</td>\n      <td>1</td>\n      <td>0</td>\n      <td>0</td>\n      <td>...</td>\n      <td>1</td>\n      <td>3</td>\n      <td>5</td>\n      <td>6</td>\n      <td>0</td>\n      <td>1.074898e+09</td>\n      <td>0.101707</td>\n      <td>4.212293e+09</td>\n      <td>4.874250e+09</td>\n      <td>36814.446823</td>\n    </tr>\n    <tr>\n      <th>9</th>\n      <td>0</td>\n      <td>0</td>\n      <td>1</td>\n      <td>0</td>\n      <td>1</td>\n      <td>0</td>\n      <td>0</td>\n      <td>1</td>\n      <td>0</td>\n      <td>0</td>\n      <td>...</td>\n      <td>0</td>\n      <td>4</td>\n      <td>10</td>\n      <td>7</td>\n      <td>6</td>\n      <td>3.754296e+07</td>\n      <td>0.052395</td>\n      <td>6.226116e+09</td>\n      <td>3.347655e+09</td>\n      <td>0.000000</td>\n    </tr>\n    <tr>\n      <th>10</th>\n      <td>0</td>\n      <td>0</td>\n      <td>1</td>\n      <td>0</td>\n      <td>1</td>\n      <td>0</td>\n      <td>1</td>\n      <td>1</td>\n      <td>0</td>\n      <td>0</td>\n      <td>...</td>\n      <td>7</td>\n      <td>3</td>\n      <td>10</td>\n      <td>0</td>\n      <td>1</td>\n      <td>5.440800e+07</td>\n      <td>0.065956</td>\n      <td>4.786896e+09</td>\n      <td>4.874250e+09</td>\n      <td>0.000000</td>\n    </tr>\n    <tr>\n      <th>11</th>\n      <td>1</td>\n      <td>0</td>\n      <td>1</td>\n      <td>0</td>\n      <td>0</td>\n      <td>0</td>\n      <td>1</td>\n      <td>1</td>\n      <td>0</td>\n      <td>1</td>\n      <td>...</td>\n      <td>0</td>\n      <td>3</td>\n      <td>10</td>\n      <td>6</td>\n      <td>1</td>\n      <td>1.464075e+08</td>\n      <td>0.148901</td>\n      <td>6.089842e+09</td>\n      <td>4.753650e+09</td>\n      <td>0.000000</td>\n    </tr>\n    <tr>\n      <th>12</th>\n      <td>1</td>\n      <td>0</td>\n      <td>1</td>\n      <td>0</td>\n      <td>1</td>\n      <td>0</td>\n      <td>1</td>\n      <td>1</td>\n      <td>0</td>\n      <td>0</td>\n      <td>...</td>\n      <td>4</td>\n      <td>10</td>\n      <td>10</td>\n      <td>7</td>\n      <td>1</td>\n      <td>3.052268e+07</td>\n      <td>0.004436</td>\n      <td>4.929305e+09</td>\n      <td>5.724480e+09</td>\n      <td>2353.554068</td>\n    </tr>\n    <tr>\n      <th>13</th>\n      <td>0</td>\n      <td>0</td>\n      <td>1</td>\n      <td>0</td>\n      <td>1</td>\n      <td>0</td>\n      <td>1</td>\n      <td>1</td>\n      <td>0</td>\n      <td>0</td>\n      <td>...</td>\n      <td>7</td>\n      <td>2</td>\n      <td>10</td>\n      <td>8</td>\n      <td>1</td>\n      <td>2.792851e+07</td>\n      <td>0.035063</td>\n      <td>5.754318e+09</td>\n      <td>4.874250e+09</td>\n      <td>0.000000</td>\n    </tr>\n    <tr>\n      <th>14</th>\n      <td>0</td>\n      <td>0</td>\n      <td>1</td>\n      <td>0</td>\n      <td>1</td>\n      <td>0</td>\n      <td>1</td>\n      <td>0</td>\n      <td>0</td>\n      <td>1</td>\n      <td>...</td>\n      <td>1</td>\n      <td>3</td>\n      <td>10</td>\n      <td>2</td>\n      <td>7</td>\n      <td>6.670077e+06</td>\n      <td>0.008682</td>\n      <td>7.168730e+09</td>\n      <td>5.783775e+09</td>\n      <td>0.000000</td>\n    </tr>\n    <tr>\n      <th>15</th>\n      <td>1</td>\n      <td>0</td>\n      <td>1</td>\n      <td>0</td>\n      <td>1</td>\n      <td>0</td>\n      <td>1</td>\n      <td>0</td>\n      <td>0</td>\n      <td>0</td>\n      <td>...</td>\n      <td>7</td>\n      <td>5</td>\n      <td>10</td>\n      <td>6</td>\n      <td>0</td>\n      <td>5.987493e+07</td>\n      <td>0.006834</td>\n      <td>5.006819e+09</td>\n      <td>5.415945e+09</td>\n      <td>2814.513205</td>\n    </tr>\n    <tr>\n      <th>16</th>\n      <td>0</td>\n      <td>0</td>\n      <td>1</td>\n      <td>0</td>\n      <td>1</td>\n      <td>0</td>\n      <td>1</td>\n      <td>1</td>\n      <td>0</td>\n      <td>1</td>\n      <td>...</td>\n      <td>2</td>\n      <td>2</td>\n      <td>10</td>\n      <td>3</td>\n      <td>6</td>\n      <td>5.044538e+06</td>\n      <td>0.006701</td>\n      <td>5.636363e+09</td>\n      <td>6.092310e+09</td>\n      <td>0.000000</td>\n    </tr>\n    <tr>\n      <th>17</th>\n      <td>1</td>\n      <td>0</td>\n      <td>1</td>\n      <td>0</td>\n      <td>1</td>\n      <td>0</td>\n      <td>1</td>\n      <td>1</td>\n      <td>0</td>\n      <td>1</td>\n      <td>...</td>\n      <td>0</td>\n      <td>3</td>\n      <td>10</td>\n      <td>0</td>\n      <td>1</td>\n      <td>1.268663e+07</td>\n      <td>0.016250</td>\n      <td>5.507982e+09</td>\n      <td>6.942540e+09</td>\n      <td>0.000000</td>\n    </tr>\n    <tr>\n      <th>18</th>\n      <td>0</td>\n      <td>0</td>\n      <td>1</td>\n      <td>0</td>\n      <td>0</td>\n      <td>0</td>\n      <td>1</td>\n      <td>1</td>\n      <td>0</td>\n      <td>0</td>\n      <td>...</td>\n      <td>7</td>\n      <td>3</td>\n      <td>3</td>\n      <td>6</td>\n      <td>1</td>\n      <td>4.929289e+08</td>\n      <td>0.523070</td>\n      <td>5.458588e+09</td>\n      <td>2.685360e+09</td>\n      <td>0.000000</td>\n    </tr>\n    <tr>\n      <th>19</th>\n      <td>1</td>\n      <td>0</td>\n      <td>1</td>\n      <td>0</td>\n      <td>1</td>\n      <td>0</td>\n      <td>1</td>\n      <td>0</td>\n      <td>0</td>\n      <td>1</td>\n      <td>...</td>\n      <td>7</td>\n      <td>2</td>\n      <td>2</td>\n      <td>6</td>\n      <td>0</td>\n      <td>8.906115e+08</td>\n      <td>0.100413</td>\n      <td>3.709858e+09</td>\n      <td>6.634005e+09</td>\n      <td>56240.874384</td>\n    </tr>\n    <tr>\n      <th>20</th>\n      <td>1</td>\n      <td>0</td>\n      <td>1</td>\n      <td>0</td>\n      <td>1</td>\n      <td>0</td>\n      <td>1</td>\n      <td>0</td>\n      <td>0</td>\n      <td>0</td>\n      <td>...</td>\n      <td>6</td>\n      <td>5</td>\n      <td>10</td>\n      <td>5</td>\n      <td>0</td>\n      <td>4.120108e+07</td>\n      <td>0.006013</td>\n      <td>4.441532e+09</td>\n      <td>5.415945e+09</td>\n      <td>2863.554628</td>\n    </tr>\n    <tr>\n      <th>21</th>\n      <td>0</td>\n      <td>0</td>\n      <td>1</td>\n      <td>0</td>\n      <td>0</td>\n      <td>0</td>\n      <td>1</td>\n      <td>0</td>\n      <td>0</td>\n      <td>0</td>\n      <td>...</td>\n      <td>7</td>\n      <td>0</td>\n      <td>5</td>\n      <td>1</td>\n      <td>7</td>\n      <td>4.740641e+08</td>\n      <td>0.522470</td>\n      <td>5.753718e+09</td>\n      <td>2.376825e+09</td>\n      <td>0.000000</td>\n    </tr>\n    <tr>\n      <th>22</th>\n      <td>1</td>\n      <td>0</td>\n      <td>1</td>\n      <td>0</td>\n      <td>0</td>\n      <td>0</td>\n      <td>1</td>\n      <td>0</td>\n      <td>0</td>\n      <td>0</td>\n      <td>...</td>\n      <td>7</td>\n      <td>6</td>\n      <td>10</td>\n      <td>1</td>\n      <td>7</td>\n      <td>2.656029e+08</td>\n      <td>0.276575</td>\n      <td>5.470419e+09</td>\n      <td>3.227055e+09</td>\n      <td>0.000000</td>\n    </tr>\n    <tr>\n      <th>23</th>\n      <td>0</td>\n      <td>0</td>\n      <td>1</td>\n      <td>0</td>\n      <td>0</td>\n      <td>0</td>\n      <td>1</td>\n      <td>0</td>\n      <td>0</td>\n      <td>0</td>\n      <td>...</td>\n      <td>6</td>\n      <td>0</td>\n      <td>10</td>\n      <td>2</td>\n      <td>7</td>\n      <td>2.656029e+08</td>\n      <td>0.276575</td>\n      <td>5.931917e+09</td>\n      <td>2.376825e+09</td>\n      <td>0.000000</td>\n    </tr>\n    <tr>\n      <th>24</th>\n      <td>0</td>\n      <td>0</td>\n      <td>1</td>\n      <td>0</td>\n      <td>0</td>\n      <td>0</td>\n      <td>1</td>\n      <td>0</td>\n      <td>0</td>\n      <td>1</td>\n      <td>...</td>\n      <td>7</td>\n      <td>3</td>\n      <td>10</td>\n      <td>1</td>\n      <td>0</td>\n      <td>1.089253e+08</td>\n      <td>0.011179</td>\n      <td>5.057818e+09</td>\n      <td>2.376825e+09</td>\n      <td>3989.486472</td>\n    </tr>\n    <tr>\n      <th>25</th>\n      <td>0</td>\n      <td>0</td>\n      <td>1</td>\n      <td>0</td>\n      <td>1</td>\n      <td>0</td>\n      <td>1</td>\n      <td>0</td>\n      <td>0</td>\n      <td>1</td>\n      <td>...</td>\n      <td>6</td>\n      <td>2</td>\n      <td>10</td>\n      <td>6</td>\n      <td>7</td>\n      <td>6.670077e+06</td>\n      <td>0.001302</td>\n      <td>6.580238e+09</td>\n      <td>5.783775e+09</td>\n      <td>426.272636</td>\n    </tr>\n    <tr>\n      <th>26</th>\n      <td>0</td>\n      <td>0</td>\n      <td>1</td>\n      <td>0</td>\n      <td>0</td>\n      <td>0</td>\n      <td>1</td>\n      <td>0</td>\n      <td>0</td>\n      <td>1</td>\n      <td>...</td>\n      <td>7</td>\n      <td>3</td>\n      <td>10</td>\n      <td>1</td>\n      <td>0</td>\n      <td>1.057552e+08</td>\n      <td>0.013503</td>\n      <td>5.121353e+09</td>\n      <td>2.376825e+09</td>\n      <td>3173.111649</td>\n    </tr>\n    <tr>\n      <th>27</th>\n      <td>0</td>\n      <td>0</td>\n      <td>1</td>\n      <td>0</td>\n      <td>1</td>\n      <td>0</td>\n      <td>1</td>\n      <td>0</td>\n      <td>0</td>\n      <td>0</td>\n      <td>...</td>\n      <td>0</td>\n      <td>3</td>\n      <td>2</td>\n      <td>5</td>\n      <td>0</td>\n      <td>1.591472e+09</td>\n      <td>0.159344</td>\n      <td>3.938726e+09</td>\n      <td>4.565715e+09</td>\n      <td>64057.237851</td>\n    </tr>\n    <tr>\n      <th>28</th>\n      <td>0</td>\n      <td>0</td>\n      <td>1</td>\n      <td>0</td>\n      <td>0</td>\n      <td>0</td>\n      <td>1</td>\n      <td>0</td>\n      <td>0</td>\n      <td>0</td>\n      <td>...</td>\n      <td>7</td>\n      <td>3</td>\n      <td>3</td>\n      <td>2</td>\n      <td>0</td>\n      <td>2.106065e+09</td>\n      <td>0.218546</td>\n      <td>4.535686e+09</td>\n      <td>2.376825e+09</td>\n      <td>71898.493330</td>\n    </tr>\n    <tr>\n      <th>29</th>\n      <td>0</td>\n      <td>0</td>\n      <td>1</td>\n      <td>0</td>\n      <td>0</td>\n      <td>0</td>\n      <td>1</td>\n      <td>0</td>\n      <td>0</td>\n      <td>0</td>\n      <td>...</td>\n      <td>0</td>\n      <td>3</td>\n      <td>3</td>\n      <td>6</td>\n      <td>0</td>\n      <td>5.597365e+08</td>\n      <td>0.072929</td>\n      <td>4.840014e+09</td>\n      <td>1.158765e+09</td>\n      <td>41765.880952</td>\n    </tr>\n    <tr>\n      <th>30</th>\n      <td>0</td>\n      <td>0</td>\n      <td>1</td>\n      <td>0</td>\n      <td>0</td>\n      <td>0</td>\n      <td>1</td>\n      <td>0</td>\n      <td>0</td>\n      <td>0</td>\n      <td>...</td>\n      <td>0</td>\n      <td>3</td>\n      <td>10</td>\n      <td>5</td>\n      <td>0</td>\n      <td>2.261794e+09</td>\n      <td>0.202405</td>\n      <td>4.211631e+09</td>\n      <td>2.376825e+09</td>\n      <td>38104.152370</td>\n    </tr>\n    <tr>\n      <th>31</th>\n      <td>0</td>\n      <td>0</td>\n      <td>1</td>\n      <td>0</td>\n      <td>0</td>\n      <td>0</td>\n      <td>1</td>\n      <td>0</td>\n      <td>0</td>\n      <td>0</td>\n      <td>...</td>\n      <td>0</td>\n      <td>3</td>\n      <td>2</td>\n      <td>2</td>\n      <td>0</td>\n      <td>2.738594e+09</td>\n      <td>0.270496</td>\n      <td>3.699875e+09</td>\n      <td>2.376825e+09</td>\n      <td>88594.676917</td>\n    </tr>\n    <tr>\n      <th>32</th>\n      <td>0</td>\n      <td>1</td>\n      <td>1</td>\n      <td>0</td>\n      <td>0</td>\n      <td>0</td>\n      <td>1</td>\n      <td>0</td>\n      <td>0</td>\n      <td>1</td>\n      <td>...</td>\n      <td>7</td>\n      <td>3</td>\n      <td>1</td>\n      <td>6</td>\n      <td>0</td>\n      <td>3.112501e+08</td>\n      <td>0.041062</td>\n      <td>4.914943e+09</td>\n      <td>4.445115e+09</td>\n      <td>27678.240696</td>\n    </tr>\n    <tr>\n      <th>33</th>\n      <td>0</td>\n      <td>0</td>\n      <td>1</td>\n      <td>0</td>\n      <td>1</td>\n      <td>0</td>\n      <td>1</td>\n      <td>0</td>\n      <td>0</td>\n      <td>1</td>\n      <td>...</td>\n      <td>0</td>\n      <td>3</td>\n      <td>2</td>\n      <td>2</td>\n      <td>0</td>\n      <td>1.300184e+09</td>\n      <td>0.132895</td>\n      <td>3.793839e+09</td>\n      <td>5.783775e+09</td>\n      <td>59715.190409</td>\n    </tr>\n    <tr>\n      <th>34</th>\n      <td>0</td>\n      <td>0</td>\n      <td>1</td>\n      <td>0</td>\n      <td>0</td>\n      <td>0</td>\n      <td>1</td>\n      <td>0</td>\n      <td>0</td>\n      <td>0</td>\n      <td>...</td>\n      <td>0</td>\n      <td>3</td>\n      <td>2</td>\n      <td>2</td>\n      <td>0</td>\n      <td>2.667627e+09</td>\n      <td>0.262217</td>\n      <td>4.125271e+09</td>\n      <td>2.376825e+09</td>\n      <td>84446.303285</td>\n    </tr>\n    <tr>\n      <th>35</th>\n      <td>0</td>\n      <td>0</td>\n      <td>1</td>\n      <td>0</td>\n      <td>0</td>\n      <td>0</td>\n      <td>1</td>\n      <td>0</td>\n      <td>0</td>\n      <td>0</td>\n      <td>...</td>\n      <td>0</td>\n      <td>3</td>\n      <td>2</td>\n      <td>2</td>\n      <td>0</td>\n      <td>2.841794e+09</td>\n      <td>0.282701</td>\n      <td>3.652435e+09</td>\n      <td>2.376825e+09</td>\n      <td>94891.213144</td>\n    </tr>\n    <tr>\n      <th>36</th>\n      <td>0</td>\n      <td>1</td>\n      <td>1</td>\n      <td>0</td>\n      <td>0</td>\n      <td>0</td>\n      <td>1</td>\n      <td>0</td>\n      <td>0</td>\n      <td>1</td>\n      <td>...</td>\n      <td>0</td>\n      <td>3</td>\n      <td>10</td>\n      <td>6</td>\n      <td>0</td>\n      <td>6.670077e+06</td>\n      <td>0.001042</td>\n      <td>5.617685e+09</td>\n      <td>4.445115e+09</td>\n      <td>529.581063</td>\n    </tr>\n    <tr>\n      <th>37</th>\n      <td>0</td>\n      <td>0</td>\n      <td>1</td>\n      <td>0</td>\n      <td>0</td>\n      <td>0</td>\n      <td>1</td>\n      <td>0</td>\n      <td>0</td>\n      <td>0</td>\n      <td>...</td>\n      <td>0</td>\n      <td>3</td>\n      <td>2</td>\n      <td>2</td>\n      <td>0</td>\n      <td>3.090690e+09</td>\n      <td>0.309556</td>\n      <td>2.873154e+09</td>\n      <td>2.376825e+09</td>\n      <td>109684.817367</td>\n    </tr>\n    <tr>\n      <th>38</th>\n      <td>0</td>\n      <td>0</td>\n      <td>1</td>\n      <td>0</td>\n      <td>0</td>\n      <td>0</td>\n      <td>1</td>\n      <td>0</td>\n      <td>0</td>\n      <td>0</td>\n      <td>...</td>\n      <td>0</td>\n      <td>3</td>\n      <td>2</td>\n      <td>2</td>\n      <td>0</td>\n      <td>2.258541e+09</td>\n      <td>0.244454</td>\n      <td>3.988820e+09</td>\n      <td>1.158765e+09</td>\n      <td>126667.534876</td>\n    </tr>\n  </tbody>\n</table>\n<p>39 rows × 36 columns</p>\n</div>"
     },
     "execution_count": 14,
     "metadata": {},
     "output_type": "execute_result"
    }
   ],
   "source": [
    "results"
   ],
   "metadata": {
    "collapsed": false,
    "ExecuteTime": {
     "end_time": "2023-06-14T09:35:50.186220800Z",
     "start_time": "2023-06-14T09:35:50.103699500Z"
    }
   }
  },
  {
   "cell_type": "code",
   "execution_count": 15,
   "outputs": [
    {
     "name": "stderr",
     "output_type": "stream",
     "text": [
      "[MainProcess/INFO] pool started with 12 workers\n",
      "[MainProcess/INFO] performing 50 scenarios * 39 policies * 1 model(s) = 1950 experiments\n",
      "100%|██████████████████████████████████████| 1950/1950 [03:00<00:00, 10.78it/s]\n",
      "[MainProcess/INFO] experiments finished\n",
      "[MainProcess/INFO] terminating pool\n"
     ]
    },
    {
     "ename": "FileNotFoundError",
     "evalue": "[Errno 2] No such file or directory: 'Outcomes/epsilon_results.pkl'",
     "output_type": "error",
     "traceback": [
      "\u001B[1;31m---------------------------------------------------------------------------\u001B[0m",
      "\u001B[1;31mFileNotFoundError\u001B[0m                         Traceback (most recent call last)",
      "Cell \u001B[1;32mIn[15], line 13\u001B[0m\n\u001B[0;32m     10\u001B[0m     results \u001B[38;5;241m=\u001B[39m evaluator\u001B[38;5;241m.\u001B[39mperform_experiments(scenarios\u001B[38;5;241m=\u001B[39m\u001B[38;5;241m50\u001B[39m, policies\u001B[38;5;241m=\u001B[39mpolicies)\n\u001B[0;32m     12\u001B[0m \u001B[38;5;66;03m# Write the results so this step can be skipped when doing multiple analyzes\u001B[39;00m\n\u001B[1;32m---> 13\u001B[0m \u001B[38;5;28;01mwith\u001B[39;00m \u001B[38;5;28;43mopen\u001B[39;49m\u001B[43m(\u001B[49m\u001B[38;5;124;43m'\u001B[39;49m\u001B[38;5;124;43mOutcomes/epsilon_results.pkl\u001B[39;49m\u001B[38;5;124;43m'\u001B[39;49m\u001B[43m,\u001B[49m\u001B[43m \u001B[49m\u001B[38;5;124;43m'\u001B[39;49m\u001B[38;5;124;43mwb\u001B[39;49m\u001B[38;5;124;43m'\u001B[39;49m\u001B[43m)\u001B[49m \u001B[38;5;28;01mas\u001B[39;00m file_pi:\n\u001B[0;32m     14\u001B[0m     pickle\u001B[38;5;241m.\u001B[39mdump(results, file_pi)\n",
      "File \u001B[1;32mD:\\EPA\\Advanced_simulation\\EPA1361_Model-based_Decision-making\\Lib\\site-packages\\IPython\\core\\interactiveshell.py:284\u001B[0m, in \u001B[0;36m_modified_open\u001B[1;34m(file, *args, **kwargs)\u001B[0m\n\u001B[0;32m    277\u001B[0m \u001B[38;5;28;01mif\u001B[39;00m file \u001B[38;5;129;01min\u001B[39;00m {\u001B[38;5;241m0\u001B[39m, \u001B[38;5;241m1\u001B[39m, \u001B[38;5;241m2\u001B[39m}:\n\u001B[0;32m    278\u001B[0m     \u001B[38;5;28;01mraise\u001B[39;00m \u001B[38;5;167;01mValueError\u001B[39;00m(\n\u001B[0;32m    279\u001B[0m         \u001B[38;5;124mf\u001B[39m\u001B[38;5;124m\"\u001B[39m\u001B[38;5;124mIPython won\u001B[39m\u001B[38;5;124m'\u001B[39m\u001B[38;5;124mt let you open fd=\u001B[39m\u001B[38;5;132;01m{\u001B[39;00mfile\u001B[38;5;132;01m}\u001B[39;00m\u001B[38;5;124m by default \u001B[39m\u001B[38;5;124m\"\u001B[39m\n\u001B[0;32m    280\u001B[0m         \u001B[38;5;124m\"\u001B[39m\u001B[38;5;124mas it is likely to crash IPython. If you know what you are doing, \u001B[39m\u001B[38;5;124m\"\u001B[39m\n\u001B[0;32m    281\u001B[0m         \u001B[38;5;124m\"\u001B[39m\u001B[38;5;124myou can use builtins\u001B[39m\u001B[38;5;124m'\u001B[39m\u001B[38;5;124m open.\u001B[39m\u001B[38;5;124m\"\u001B[39m\n\u001B[0;32m    282\u001B[0m     )\n\u001B[1;32m--> 284\u001B[0m \u001B[38;5;28;01mreturn\u001B[39;00m \u001B[43mio_open\u001B[49m\u001B[43m(\u001B[49m\u001B[43mfile\u001B[49m\u001B[43m,\u001B[49m\u001B[43m \u001B[49m\u001B[38;5;241;43m*\u001B[39;49m\u001B[43margs\u001B[49m\u001B[43m,\u001B[49m\u001B[43m \u001B[49m\u001B[38;5;241;43m*\u001B[39;49m\u001B[38;5;241;43m*\u001B[39;49m\u001B[43mkwargs\u001B[49m\u001B[43m)\u001B[49m\n",
      "\u001B[1;31mFileNotFoundError\u001B[0m: [Errno 2] No such file or directory: 'Outcomes/epsilon_results.pkl'"
     ]
    }
   ],
   "source": [
    "# Extract the levers for each Pareto policy\n",
    "policies = []\n",
    "for row in range(results.shape[0]):\n",
    "    policies.append(\n",
    "        # Do not include the damage scores\n",
    "        Policy(name=row, **results.iloc[row, :-5].to_dict())\n",
    "    )\n",
    "\n",
    "with MultiprocessingEvaluator(dike_model) as evaluator:\n",
    "    results = evaluator.perform_experiments(scenarios=50, policies=policies)\n",
    "\n",
    "with open(r'generated_datasets/epsilon_results.pkl', 'wb') as file_pi:\n",
    "    pickle.dump(results, file_pi)"
   ],
   "metadata": {
    "collapsed": false,
    "ExecuteTime": {
     "end_time": "2023-06-14T09:39:37.926583500Z",
     "start_time": "2023-06-14T09:35:50.186220800Z"
    }
   }
  }
 ],
 "metadata": {
  "kernelspec": {
   "display_name": "Python 3",
   "language": "python",
   "name": "python3"
  },
  "language_info": {
   "codemirror_mode": {
    "name": "ipython",
    "version": 2
   },
   "file_extension": ".py",
   "mimetype": "text/x-python",
   "name": "python",
   "nbconvert_exporter": "python",
   "pygments_lexer": "ipython2",
   "version": "2.7.6"
  }
 },
 "nbformat": 4,
 "nbformat_minor": 0
}
