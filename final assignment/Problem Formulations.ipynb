{
 "cells": [
  {
   "cell_type": "code",
   "execution_count": 1,
   "metadata": {
    "ExecuteTime": {
     "end_time": "2023-05-30T14:30:34.084665200Z",
     "start_time": "2023-05-30T14:30:33.828721700Z"
    }
   },
   "outputs": [],
   "source": [
    "import numpy as np\n",
    "import scipy as sp\n",
    "import pandas as pd\n",
    "import matplotlib.pyplot as plt\n",
    "import seaborn as sns\n",
    "import networkx as nx"
   ]
  },
  {
   "cell_type": "code",
   "execution_count": 2,
   "metadata": {
    "ExecuteTime": {
     "end_time": "2023-05-30T14:31:27.894635200Z",
     "start_time": "2023-05-30T14:31:27.886366800Z"
    }
   },
   "outputs": [
    {
     "name": "stdout",
     "output_type": "stream",
     "text": [
      "2.0.1\n",
      "3.1\n"
     ]
    }
   ],
   "source": [
    "# make sure pandas is version 1.0 or higher\n",
    "# make sure networkx is verion 2.4 or higher\n",
    "print(pd.__version__)\n",
    "print(nx.__version__)"
   ]
  },
  {
   "cell_type": "code",
   "execution_count": 3,
   "metadata": {
    "scrolled": true,
    "ExecuteTime": {
     "end_time": "2023-05-31T15:25:05.496045700Z",
     "start_time": "2023-05-31T15:25:05.483580500Z"
    }
   },
   "outputs": [],
   "source": [
    "from ema_workbench import (\n",
    "    Model,\n",
    "    Policy,\n",
    "    ema_logging,\n",
    "    SequentialEvaluator,\n",
    "    MultiprocessingEvaluator,\n",
    ")\n",
    "from dike_model_function import DikeNetwork  # @UnresolvedImport\n",
    "from problem_formulation import get_model_for_problem_formulation, sum_over, sum_over_time\n",
    "\n"
   ]
  },
  {
   "cell_type": "code",
   "execution_count": 4,
   "metadata": {
    "ExecuteTime": {
     "end_time": "2023-05-30T14:31:41.500543300Z",
     "start_time": "2023-05-30T14:31:40.729783900Z"
    }
   },
   "outputs": [],
   "source": [
    "ema_logging.log_to_stderr(ema_logging.INFO)\n",
    "\n",
    "# choose problem formulation number, between 0-5\n",
    "# each problem formulation has its own list of outcomes\n",
    "dike_model, planning_steps = get_model_for_problem_formulation(3)"
   ]
  },
  {
   "cell_type": "code",
   "execution_count": 5,
   "metadata": {
    "ExecuteTime": {
     "end_time": "2023-05-30T14:31:53.965383Z",
     "start_time": "2023-05-30T14:31:53.937042700Z"
    }
   },
   "outputs": [
    {
     "name": "stdout",
     "output_type": "stream",
     "text": [
      "CategoricalParameter('discount rate 0', [0, 1, 2, 3])\n",
      "CategoricalParameter('discount rate 1', [0, 1, 2, 3])\n",
      "CategoricalParameter('discount rate 2', [0, 1, 2, 3])\n",
      "IntegerParameter('A.0_ID flood wave shape', 0, 132, resolution=None, default=None, variable_name=['A.0_ID flood wave shape'], pff=False)\n",
      "RealParameter('A.1_Bmax', 30, 350, resolution=None, default=None, variable_name=['A.1_Bmax'], pff=False)\n",
      "RealParameter('A.1_pfail', 0, 1, resolution=None, default=None, variable_name=['A.1_pfail'], pff=False)\n",
      "CategoricalParameter('A.1_Brate', [0, 1, 2])\n",
      "RealParameter('A.2_Bmax', 30, 350, resolution=None, default=None, variable_name=['A.2_Bmax'], pff=False)\n",
      "RealParameter('A.2_pfail', 0, 1, resolution=None, default=None, variable_name=['A.2_pfail'], pff=False)\n",
      "CategoricalParameter('A.2_Brate', [0, 1, 2])\n",
      "RealParameter('A.3_Bmax', 30, 350, resolution=None, default=None, variable_name=['A.3_Bmax'], pff=False)\n",
      "RealParameter('A.3_pfail', 0, 1, resolution=None, default=None, variable_name=['A.3_pfail'], pff=False)\n",
      "CategoricalParameter('A.3_Brate', [0, 1, 2])\n",
      "RealParameter('A.4_Bmax', 30, 350, resolution=None, default=None, variable_name=['A.4_Bmax'], pff=False)\n",
      "RealParameter('A.4_pfail', 0, 1, resolution=None, default=None, variable_name=['A.4_pfail'], pff=False)\n",
      "CategoricalParameter('A.4_Brate', [0, 1, 2])\n",
      "RealParameter('A.5_Bmax', 30, 350, resolution=None, default=None, variable_name=['A.5_Bmax'], pff=False)\n",
      "RealParameter('A.5_pfail', 0, 1, resolution=None, default=None, variable_name=['A.5_pfail'], pff=False)\n",
      "CategoricalParameter('A.5_Brate', [0, 1, 2])\n"
     ]
    }
   ],
   "source": [
    "# enlisting uncertainties, their types (RealParameter/IntegerParameter/CategoricalParameter), lower boundary, and upper boundary\n",
    "import copy\n",
    "\n",
    "for unc in dike_model.uncertainties:\n",
    "    print(repr(unc))\n",
    "\n",
    "uncertainties = copy.deepcopy(dike_model.uncertainties)"
   ]
  },
  {
   "cell_type": "code",
   "execution_count": 6,
   "metadata": {
    "ExecuteTime": {
     "end_time": "2023-05-30T14:32:36.235525900Z",
     "start_time": "2023-05-30T14:32:36.223431400Z"
    }
   },
   "outputs": [
    {
     "name": "stdout",
     "output_type": "stream",
     "text": [
      "IntegerParameter('0_RfR 0', 0, 1, resolution=None, default=None, variable_name=['0_RfR 0'], pff=False)\n",
      "IntegerParameter('0_RfR 1', 0, 1, resolution=None, default=None, variable_name=['0_RfR 1'], pff=False)\n",
      "IntegerParameter('0_RfR 2', 0, 1, resolution=None, default=None, variable_name=['0_RfR 2'], pff=False)\n",
      "IntegerParameter('1_RfR 0', 0, 1, resolution=None, default=None, variable_name=['1_RfR 0'], pff=False)\n",
      "IntegerParameter('1_RfR 1', 0, 1, resolution=None, default=None, variable_name=['1_RfR 1'], pff=False)\n",
      "IntegerParameter('1_RfR 2', 0, 1, resolution=None, default=None, variable_name=['1_RfR 2'], pff=False)\n",
      "IntegerParameter('2_RfR 0', 0, 1, resolution=None, default=None, variable_name=['2_RfR 0'], pff=False)\n",
      "IntegerParameter('2_RfR 1', 0, 1, resolution=None, default=None, variable_name=['2_RfR 1'], pff=False)\n",
      "IntegerParameter('2_RfR 2', 0, 1, resolution=None, default=None, variable_name=['2_RfR 2'], pff=False)\n",
      "IntegerParameter('3_RfR 0', 0, 1, resolution=None, default=None, variable_name=['3_RfR 0'], pff=False)\n",
      "IntegerParameter('3_RfR 1', 0, 1, resolution=None, default=None, variable_name=['3_RfR 1'], pff=False)\n",
      "IntegerParameter('3_RfR 2', 0, 1, resolution=None, default=None, variable_name=['3_RfR 2'], pff=False)\n",
      "IntegerParameter('4_RfR 0', 0, 1, resolution=None, default=None, variable_name=['4_RfR 0'], pff=False)\n",
      "IntegerParameter('4_RfR 1', 0, 1, resolution=None, default=None, variable_name=['4_RfR 1'], pff=False)\n",
      "IntegerParameter('4_RfR 2', 0, 1, resolution=None, default=None, variable_name=['4_RfR 2'], pff=False)\n",
      "IntegerParameter('EWS_DaysToThreat', 0, 4, resolution=None, default=None, variable_name=['EWS_DaysToThreat'], pff=False)\n",
      "IntegerParameter('A.1_DikeIncrease 0', 0, 10, resolution=None, default=None, variable_name=['A.1_DikeIncrease 0'], pff=False)\n",
      "IntegerParameter('A.1_DikeIncrease 1', 0, 10, resolution=None, default=None, variable_name=['A.1_DikeIncrease 1'], pff=False)\n",
      "IntegerParameter('A.1_DikeIncrease 2', 0, 10, resolution=None, default=None, variable_name=['A.1_DikeIncrease 2'], pff=False)\n",
      "IntegerParameter('A.2_DikeIncrease 0', 0, 10, resolution=None, default=None, variable_name=['A.2_DikeIncrease 0'], pff=False)\n",
      "IntegerParameter('A.2_DikeIncrease 1', 0, 10, resolution=None, default=None, variable_name=['A.2_DikeIncrease 1'], pff=False)\n",
      "IntegerParameter('A.2_DikeIncrease 2', 0, 10, resolution=None, default=None, variable_name=['A.2_DikeIncrease 2'], pff=False)\n",
      "IntegerParameter('A.3_DikeIncrease 0', 0, 10, resolution=None, default=None, variable_name=['A.3_DikeIncrease 0'], pff=False)\n",
      "IntegerParameter('A.3_DikeIncrease 1', 0, 10, resolution=None, default=None, variable_name=['A.3_DikeIncrease 1'], pff=False)\n",
      "IntegerParameter('A.3_DikeIncrease 2', 0, 10, resolution=None, default=None, variable_name=['A.3_DikeIncrease 2'], pff=False)\n",
      "IntegerParameter('A.4_DikeIncrease 0', 0, 10, resolution=None, default=None, variable_name=['A.4_DikeIncrease 0'], pff=False)\n",
      "IntegerParameter('A.4_DikeIncrease 1', 0, 10, resolution=None, default=None, variable_name=['A.4_DikeIncrease 1'], pff=False)\n",
      "IntegerParameter('A.4_DikeIncrease 2', 0, 10, resolution=None, default=None, variable_name=['A.4_DikeIncrease 2'], pff=False)\n",
      "IntegerParameter('A.5_DikeIncrease 0', 0, 10, resolution=None, default=None, variable_name=['A.5_DikeIncrease 0'], pff=False)\n",
      "IntegerParameter('A.5_DikeIncrease 1', 0, 10, resolution=None, default=None, variable_name=['A.5_DikeIncrease 1'], pff=False)\n",
      "IntegerParameter('A.5_DikeIncrease 2', 0, 10, resolution=None, default=None, variable_name=['A.5_DikeIncrease 2'], pff=False)\n"
     ]
    }
   ],
   "source": [
    "# enlisting policy levers, their types (RealParameter/IntegerParameter), lower boundary, and upper boundary\n",
    "for policy in dike_model.levers:\n",
    "    print(repr(policy))\n",
    "\n",
    "levers = copy.deepcopy(dike_model.levers)"
   ]
  },
  {
   "cell_type": "code",
   "execution_count": 7,
   "metadata": {
    "ExecuteTime": {
     "end_time": "2023-05-30T14:32:47.502157700Z",
     "start_time": "2023-05-30T14:32:47.489778100Z"
    }
   },
   "outputs": [
    {
     "name": "stdout",
     "output_type": "stream",
     "text": [
      "ScalarOutcome('A.1 Total Costs', variable_name=('A.1_Expected Annual Damage', 'A.1_Dike Investment Costs'), function=<function sum_over at 0x000001CBD6FBE3E0>)\n",
      "ScalarOutcome('A.1_Expected Number of Deaths', variable_name=('A.1_Expected Number of Deaths',), function=<function sum_over at 0x000001CBD6FBE3E0>)\n",
      "ScalarOutcome('A.2 Total Costs', variable_name=('A.2_Expected Annual Damage', 'A.2_Dike Investment Costs'), function=<function sum_over at 0x000001CBD6FBE3E0>)\n",
      "ScalarOutcome('A.2_Expected Number of Deaths', variable_name=('A.2_Expected Number of Deaths',), function=<function sum_over at 0x000001CBD6FBE3E0>)\n",
      "ScalarOutcome('A.3 Total Costs', variable_name=('A.3_Expected Annual Damage', 'A.3_Dike Investment Costs'), function=<function sum_over at 0x000001CBD6FBE3E0>)\n",
      "ScalarOutcome('A.3_Expected Number of Deaths', variable_name=('A.3_Expected Number of Deaths',), function=<function sum_over at 0x000001CBD6FBE3E0>)\n",
      "ScalarOutcome('A.4 Total Costs', variable_name=('A.4_Expected Annual Damage', 'A.4_Dike Investment Costs'), function=<function sum_over at 0x000001CBD6FBE3E0>)\n",
      "ScalarOutcome('A.4_Expected Number of Deaths', variable_name=('A.4_Expected Number of Deaths',), function=<function sum_over at 0x000001CBD6FBE3E0>)\n",
      "ScalarOutcome('A.5 Total Costs', variable_name=('A.5_Expected Annual Damage', 'A.5_Dike Investment Costs'), function=<function sum_over at 0x000001CBD6FBE3E0>)\n",
      "ScalarOutcome('A.5_Expected Number of Deaths', variable_name=('A.5_Expected Number of Deaths',), function=<function sum_over at 0x000001CBD6FBE3E0>)\n",
      "ScalarOutcome('RfR Total Costs', variable_name=('RfR Total Costs',), function=<function sum_over at 0x000001CBD6FBE3E0>)\n",
      "ScalarOutcome('Expected Evacuation Costs', variable_name=('Expected Evacuation Costs',), function=<function sum_over at 0x000001CBD6FBE3E0>)\n"
     ]
    }
   ],
   "source": [
    "# enlisting outcomes\n",
    "for outcome in dike_model.outcomes:\n",
    "    print(repr(outcome))"
   ]
  },
  {
   "cell_type": "code",
   "execution_count": 8,
   "metadata": {
    "ExecuteTime": {
     "end_time": "2023-05-30T14:33:50.394716700Z",
     "start_time": "2023-05-30T14:32:51.029066500Z"
    }
   },
   "outputs": [
    {
     "name": "stderr",
     "output_type": "stream",
     "text": [
      "[MainProcess/INFO] pool started with 12 workers\n",
      "[MainProcess/INFO] performing 50 scenarios * 4 policies * 1 model(s) = 200 experiments\n",
      "100%|████████████████████████████████████████| 200/200 [00:22<00:00,  8.97it/s]\n",
      "[MainProcess/INFO] experiments finished\n",
      "[MainProcess/INFO] terminating pool\n"
     ]
    }
   ],
   "source": [
    "# running the model through EMA workbench\n",
    "with MultiprocessingEvaluator(dike_model) as evaluator:\n",
    "    results = evaluator.perform_experiments(scenarios=50, policies=4)"
   ]
  },
  {
   "cell_type": "code",
   "execution_count": 9,
   "metadata": {
    "scrolled": true,
    "ExecuteTime": {
     "end_time": "2023-05-30T14:34:31.719050Z",
     "start_time": "2023-05-30T14:34:31.675839Z"
    }
   },
   "outputs": [
    {
     "name": "stdout",
     "output_type": "stream",
     "text": [
      "dict_keys(['A.1 Total Costs', 'A.1_Expected Number of Deaths', 'A.2 Total Costs', 'A.2_Expected Number of Deaths', 'A.3 Total Costs', 'A.3_Expected Number of Deaths', 'A.4 Total Costs', 'A.4_Expected Number of Deaths', 'A.5 Total Costs', 'A.5_Expected Number of Deaths', 'RfR Total Costs', 'Expected Evacuation Costs'])\n"
     ]
    },
    {
     "data": {
      "text/plain": "     A.0_ID flood wave shape    A.1_Bmax A.1_Brate  A.1_pfail    A.2_Bmax   \n0                        125  223.408919       1.0   0.158324  224.091582  \\\n1                         83  240.871228       1.0   0.780215  264.014176   \n2                         40  273.102408      10.0   0.638830  201.595000   \n3                        131  338.820408       1.5   0.763394  159.241497   \n4                         37   83.244918       1.5   0.310804  125.776506   \n..                       ...         ...       ...        ...         ...   \n195                       23  159.911740       1.5   0.554992  349.462498   \n196                      120  124.679967       1.0   0.839886  147.994288   \n197                       48  221.205347      10.0   0.359213  109.281117   \n198                       75  108.119165       1.0   0.285587   43.039054   \n199                       90   45.643569      10.0   0.123702  220.080543   \n\n    A.2_Brate  A.2_pfail    A.3_Bmax A.3_Brate  A.3_pfail  ...   \n0         1.0   0.814863   48.817663      10.0   0.490223  ...  \\\n1         1.0   0.975670  320.353898       1.0   0.051028  ...   \n2        10.0   0.305733  274.039518       1.0   0.511084  ...   \n3        10.0   0.014630  342.860523       1.0   0.117215  ...   \n4         1.0   0.050850  264.042485       1.0   0.848097  ...   \n..        ...        ...         ...       ...        ...  ...   \n195       1.0   0.083676   97.034470      10.0   0.210364  ...   \n196       1.5   0.566425  126.668076      10.0   0.892815  ...   \n197      10.0   0.381484  292.585705      10.0   0.445445  ...   \n198       1.5   0.132523  112.797906      10.0   0.556914  ...   \n199      10.0   0.500008   63.067896       1.0   0.233724  ...   \n\n     A.4_DikeIncrease 0 A.4_DikeIncrease 1  A.4_DikeIncrease 2   \n0                     3                  0                   3  \\\n1                     3                  0                   3   \n2                     3                  0                   3   \n3                     3                  0                   3   \n4                     3                  0                   3   \n..                  ...                ...                 ...   \n195                   2                  6                   0   \n196                   2                  6                   0   \n197                   2                  6                   0   \n198                   2                  6                   0   \n199                   2                  6                   0   \n\n     A.5_DikeIncrease 0 A.5_DikeIncrease 1  A.5_DikeIncrease 2   \n0                     0                  6                   2  \\\n1                     0                  6                   2   \n2                     0                  6                   2   \n3                     0                  6                   2   \n4                     0                  6                   2   \n..                  ...                ...                 ...   \n195                   8                  5                   7   \n196                   8                  5                   7   \n197                   8                  5                   7   \n198                   8                  5                   7   \n199                   8                  5                   7   \n\n    EWS_DaysToThreat scenario policy     model  \n0                  3        4      0  dikesnet  \n1                  3        5      0  dikesnet  \n2                  3        6      0  dikesnet  \n3                  3        7      0  dikesnet  \n4                  3        8      0  dikesnet  \n..               ...      ...    ...       ...  \n195                4       49      3  dikesnet  \n196                4       50      3  dikesnet  \n197                4       51      3  dikesnet  \n198                4       52      3  dikesnet  \n199                4       53      3  dikesnet  \n\n[200 rows x 53 columns]",
      "text/html": "<div>\n<style scoped>\n    .dataframe tbody tr th:only-of-type {\n        vertical-align: middle;\n    }\n\n    .dataframe tbody tr th {\n        vertical-align: top;\n    }\n\n    .dataframe thead th {\n        text-align: right;\n    }\n</style>\n<table border=\"1\" class=\"dataframe\">\n  <thead>\n    <tr style=\"text-align: right;\">\n      <th></th>\n      <th>A.0_ID flood wave shape</th>\n      <th>A.1_Bmax</th>\n      <th>A.1_Brate</th>\n      <th>A.1_pfail</th>\n      <th>A.2_Bmax</th>\n      <th>A.2_Brate</th>\n      <th>A.2_pfail</th>\n      <th>A.3_Bmax</th>\n      <th>A.3_Brate</th>\n      <th>A.3_pfail</th>\n      <th>...</th>\n      <th>A.4_DikeIncrease 0</th>\n      <th>A.4_DikeIncrease 1</th>\n      <th>A.4_DikeIncrease 2</th>\n      <th>A.5_DikeIncrease 0</th>\n      <th>A.5_DikeIncrease 1</th>\n      <th>A.5_DikeIncrease 2</th>\n      <th>EWS_DaysToThreat</th>\n      <th>scenario</th>\n      <th>policy</th>\n      <th>model</th>\n    </tr>\n  </thead>\n  <tbody>\n    <tr>\n      <th>0</th>\n      <td>125</td>\n      <td>223.408919</td>\n      <td>1.0</td>\n      <td>0.158324</td>\n      <td>224.091582</td>\n      <td>1.0</td>\n      <td>0.814863</td>\n      <td>48.817663</td>\n      <td>10.0</td>\n      <td>0.490223</td>\n      <td>...</td>\n      <td>3</td>\n      <td>0</td>\n      <td>3</td>\n      <td>0</td>\n      <td>6</td>\n      <td>2</td>\n      <td>3</td>\n      <td>4</td>\n      <td>0</td>\n      <td>dikesnet</td>\n    </tr>\n    <tr>\n      <th>1</th>\n      <td>83</td>\n      <td>240.871228</td>\n      <td>1.0</td>\n      <td>0.780215</td>\n      <td>264.014176</td>\n      <td>1.0</td>\n      <td>0.975670</td>\n      <td>320.353898</td>\n      <td>1.0</td>\n      <td>0.051028</td>\n      <td>...</td>\n      <td>3</td>\n      <td>0</td>\n      <td>3</td>\n      <td>0</td>\n      <td>6</td>\n      <td>2</td>\n      <td>3</td>\n      <td>5</td>\n      <td>0</td>\n      <td>dikesnet</td>\n    </tr>\n    <tr>\n      <th>2</th>\n      <td>40</td>\n      <td>273.102408</td>\n      <td>10.0</td>\n      <td>0.638830</td>\n      <td>201.595000</td>\n      <td>10.0</td>\n      <td>0.305733</td>\n      <td>274.039518</td>\n      <td>1.0</td>\n      <td>0.511084</td>\n      <td>...</td>\n      <td>3</td>\n      <td>0</td>\n      <td>3</td>\n      <td>0</td>\n      <td>6</td>\n      <td>2</td>\n      <td>3</td>\n      <td>6</td>\n      <td>0</td>\n      <td>dikesnet</td>\n    </tr>\n    <tr>\n      <th>3</th>\n      <td>131</td>\n      <td>338.820408</td>\n      <td>1.5</td>\n      <td>0.763394</td>\n      <td>159.241497</td>\n      <td>10.0</td>\n      <td>0.014630</td>\n      <td>342.860523</td>\n      <td>1.0</td>\n      <td>0.117215</td>\n      <td>...</td>\n      <td>3</td>\n      <td>0</td>\n      <td>3</td>\n      <td>0</td>\n      <td>6</td>\n      <td>2</td>\n      <td>3</td>\n      <td>7</td>\n      <td>0</td>\n      <td>dikesnet</td>\n    </tr>\n    <tr>\n      <th>4</th>\n      <td>37</td>\n      <td>83.244918</td>\n      <td>1.5</td>\n      <td>0.310804</td>\n      <td>125.776506</td>\n      <td>1.0</td>\n      <td>0.050850</td>\n      <td>264.042485</td>\n      <td>1.0</td>\n      <td>0.848097</td>\n      <td>...</td>\n      <td>3</td>\n      <td>0</td>\n      <td>3</td>\n      <td>0</td>\n      <td>6</td>\n      <td>2</td>\n      <td>3</td>\n      <td>8</td>\n      <td>0</td>\n      <td>dikesnet</td>\n    </tr>\n    <tr>\n      <th>...</th>\n      <td>...</td>\n      <td>...</td>\n      <td>...</td>\n      <td>...</td>\n      <td>...</td>\n      <td>...</td>\n      <td>...</td>\n      <td>...</td>\n      <td>...</td>\n      <td>...</td>\n      <td>...</td>\n      <td>...</td>\n      <td>...</td>\n      <td>...</td>\n      <td>...</td>\n      <td>...</td>\n      <td>...</td>\n      <td>...</td>\n      <td>...</td>\n      <td>...</td>\n      <td>...</td>\n    </tr>\n    <tr>\n      <th>195</th>\n      <td>23</td>\n      <td>159.911740</td>\n      <td>1.5</td>\n      <td>0.554992</td>\n      <td>349.462498</td>\n      <td>1.0</td>\n      <td>0.083676</td>\n      <td>97.034470</td>\n      <td>10.0</td>\n      <td>0.210364</td>\n      <td>...</td>\n      <td>2</td>\n      <td>6</td>\n      <td>0</td>\n      <td>8</td>\n      <td>5</td>\n      <td>7</td>\n      <td>4</td>\n      <td>49</td>\n      <td>3</td>\n      <td>dikesnet</td>\n    </tr>\n    <tr>\n      <th>196</th>\n      <td>120</td>\n      <td>124.679967</td>\n      <td>1.0</td>\n      <td>0.839886</td>\n      <td>147.994288</td>\n      <td>1.5</td>\n      <td>0.566425</td>\n      <td>126.668076</td>\n      <td>10.0</td>\n      <td>0.892815</td>\n      <td>...</td>\n      <td>2</td>\n      <td>6</td>\n      <td>0</td>\n      <td>8</td>\n      <td>5</td>\n      <td>7</td>\n      <td>4</td>\n      <td>50</td>\n      <td>3</td>\n      <td>dikesnet</td>\n    </tr>\n    <tr>\n      <th>197</th>\n      <td>48</td>\n      <td>221.205347</td>\n      <td>10.0</td>\n      <td>0.359213</td>\n      <td>109.281117</td>\n      <td>10.0</td>\n      <td>0.381484</td>\n      <td>292.585705</td>\n      <td>10.0</td>\n      <td>0.445445</td>\n      <td>...</td>\n      <td>2</td>\n      <td>6</td>\n      <td>0</td>\n      <td>8</td>\n      <td>5</td>\n      <td>7</td>\n      <td>4</td>\n      <td>51</td>\n      <td>3</td>\n      <td>dikesnet</td>\n    </tr>\n    <tr>\n      <th>198</th>\n      <td>75</td>\n      <td>108.119165</td>\n      <td>1.0</td>\n      <td>0.285587</td>\n      <td>43.039054</td>\n      <td>1.5</td>\n      <td>0.132523</td>\n      <td>112.797906</td>\n      <td>10.0</td>\n      <td>0.556914</td>\n      <td>...</td>\n      <td>2</td>\n      <td>6</td>\n      <td>0</td>\n      <td>8</td>\n      <td>5</td>\n      <td>7</td>\n      <td>4</td>\n      <td>52</td>\n      <td>3</td>\n      <td>dikesnet</td>\n    </tr>\n    <tr>\n      <th>199</th>\n      <td>90</td>\n      <td>45.643569</td>\n      <td>10.0</td>\n      <td>0.123702</td>\n      <td>220.080543</td>\n      <td>10.0</td>\n      <td>0.500008</td>\n      <td>63.067896</td>\n      <td>1.0</td>\n      <td>0.233724</td>\n      <td>...</td>\n      <td>2</td>\n      <td>6</td>\n      <td>0</td>\n      <td>8</td>\n      <td>5</td>\n      <td>7</td>\n      <td>4</td>\n      <td>53</td>\n      <td>3</td>\n      <td>dikesnet</td>\n    </tr>\n  </tbody>\n</table>\n<p>200 rows × 53 columns</p>\n</div>"
     },
     "execution_count": 9,
     "metadata": {},
     "output_type": "execute_result"
    }
   ],
   "source": [
    "# observing the simulation runs\n",
    "experiments, outcomes = results\n",
    "print(outcomes.keys())\n",
    "experiments"
   ]
  },
  {
   "cell_type": "code",
   "execution_count": 10,
   "metadata": {
    "ExecuteTime": {
     "end_time": "2023-05-30T14:42:56.694676700Z",
     "start_time": "2023-05-30T14:42:56.671955300Z"
    }
   },
   "outputs": [
    {
     "data": {
      "text/plain": "     A.1 Total Costs  A.1_Expected Number of Deaths  A.2 Total Costs   \n0       2.362139e+08                            0.0     2.756653e+08  \\\n1       2.362139e+08                            0.0     2.756653e+08   \n2       2.362139e+08                            0.0     2.756653e+08   \n3       2.362139e+08                            0.0     2.760354e+08   \n4       2.362139e+08                            0.0     2.756653e+08   \n..               ...                            ...              ...   \n195     1.275684e+08                            0.0     4.140258e+08   \n196     1.275684e+08                            0.0     2.328077e+08   \n197     1.275684e+08                            0.0     2.488805e+08   \n198     1.275684e+08                            0.0     3.016376e+08   \n199     1.275684e+08                            0.0     2.370900e+08   \n\n     A.2_Expected Number of Deaths  A.3 Total Costs   \n0                         0.000000     2.763155e+07  \\\n1                         0.000000     3.134873e+08   \n2                         0.000000     2.140573e+07   \n3                         0.000033     1.241088e+08   \n4                         0.000000     2.029929e+07   \n..                             ...              ...   \n195                       0.023710     1.249149e+08   \n196                       0.001386     1.249149e+08   \n197                       0.002616     1.249149e+08   \n198                       0.012055     1.249149e+08   \n199                       0.001376     1.249149e+08   \n\n     A.3_Expected Number of Deaths  A.4 Total Costs   \n0                         0.001878     1.780335e+07  \\\n1                         0.068165     1.780335e+07   \n2                         0.000330     2.940587e+07   \n3                         0.019208     1.780335e+07   \n4                         0.000000     1.780335e+07   \n..                             ...              ...   \n195                       0.000000     2.079341e+07   \n196                       0.000000     2.106195e+07   \n197                       0.000000     2.079341e+07   \n198                       0.000000     2.079341e+07   \n199                       0.000000     2.079341e+07   \n\n     A.4_Expected Number of Deaths  A.5 Total Costs   \n0                         0.000000     7.968449e+07  \\\n1                         0.000000     7.401174e+07   \n2                         0.000865     7.401174e+07   \n3                         0.000000     7.401174e+07   \n4                         0.000000     2.245834e+08   \n..                             ...              ...   \n195                       0.000000     1.648516e+08   \n196                       0.000024     1.648516e+08   \n197                       0.000000     1.648516e+08   \n198                       0.000000     1.648516e+08   \n199                       0.000000     1.648516e+08   \n\n     A.5_Expected Number of Deaths  RfR Total Costs  Expected Evacuation Costs  \n0                         0.000761     1.080100e+09                 824.903572  \n1                         0.000000     1.080100e+09               17817.456675  \n2                         0.000000     1.080100e+09                1232.140984  \n3                         0.000000     1.080100e+09                4425.755609  \n4                         0.015218     1.080100e+09               10143.252193  \n..                             ...              ...                        ...  \n195                       0.000000     1.014500e+09               15383.632085  \n196                       0.000000     1.014500e+09                 801.126489  \n197                       0.000000     1.014500e+09                1505.148315  \n198                       0.000000     1.014500e+09                7524.656356  \n199                       0.000000     1.014500e+09                 766.494137  \n\n[200 rows x 12 columns]",
      "text/html": "<div>\n<style scoped>\n    .dataframe tbody tr th:only-of-type {\n        vertical-align: middle;\n    }\n\n    .dataframe tbody tr th {\n        vertical-align: top;\n    }\n\n    .dataframe thead th {\n        text-align: right;\n    }\n</style>\n<table border=\"1\" class=\"dataframe\">\n  <thead>\n    <tr style=\"text-align: right;\">\n      <th></th>\n      <th>A.1 Total Costs</th>\n      <th>A.1_Expected Number of Deaths</th>\n      <th>A.2 Total Costs</th>\n      <th>A.2_Expected Number of Deaths</th>\n      <th>A.3 Total Costs</th>\n      <th>A.3_Expected Number of Deaths</th>\n      <th>A.4 Total Costs</th>\n      <th>A.4_Expected Number of Deaths</th>\n      <th>A.5 Total Costs</th>\n      <th>A.5_Expected Number of Deaths</th>\n      <th>RfR Total Costs</th>\n      <th>Expected Evacuation Costs</th>\n    </tr>\n  </thead>\n  <tbody>\n    <tr>\n      <th>0</th>\n      <td>2.362139e+08</td>\n      <td>0.0</td>\n      <td>2.756653e+08</td>\n      <td>0.000000</td>\n      <td>2.763155e+07</td>\n      <td>0.001878</td>\n      <td>1.780335e+07</td>\n      <td>0.000000</td>\n      <td>7.968449e+07</td>\n      <td>0.000761</td>\n      <td>1.080100e+09</td>\n      <td>824.903572</td>\n    </tr>\n    <tr>\n      <th>1</th>\n      <td>2.362139e+08</td>\n      <td>0.0</td>\n      <td>2.756653e+08</td>\n      <td>0.000000</td>\n      <td>3.134873e+08</td>\n      <td>0.068165</td>\n      <td>1.780335e+07</td>\n      <td>0.000000</td>\n      <td>7.401174e+07</td>\n      <td>0.000000</td>\n      <td>1.080100e+09</td>\n      <td>17817.456675</td>\n    </tr>\n    <tr>\n      <th>2</th>\n      <td>2.362139e+08</td>\n      <td>0.0</td>\n      <td>2.756653e+08</td>\n      <td>0.000000</td>\n      <td>2.140573e+07</td>\n      <td>0.000330</td>\n      <td>2.940587e+07</td>\n      <td>0.000865</td>\n      <td>7.401174e+07</td>\n      <td>0.000000</td>\n      <td>1.080100e+09</td>\n      <td>1232.140984</td>\n    </tr>\n    <tr>\n      <th>3</th>\n      <td>2.362139e+08</td>\n      <td>0.0</td>\n      <td>2.760354e+08</td>\n      <td>0.000033</td>\n      <td>1.241088e+08</td>\n      <td>0.019208</td>\n      <td>1.780335e+07</td>\n      <td>0.000000</td>\n      <td>7.401174e+07</td>\n      <td>0.000000</td>\n      <td>1.080100e+09</td>\n      <td>4425.755609</td>\n    </tr>\n    <tr>\n      <th>4</th>\n      <td>2.362139e+08</td>\n      <td>0.0</td>\n      <td>2.756653e+08</td>\n      <td>0.000000</td>\n      <td>2.029929e+07</td>\n      <td>0.000000</td>\n      <td>1.780335e+07</td>\n      <td>0.000000</td>\n      <td>2.245834e+08</td>\n      <td>0.015218</td>\n      <td>1.080100e+09</td>\n      <td>10143.252193</td>\n    </tr>\n    <tr>\n      <th>...</th>\n      <td>...</td>\n      <td>...</td>\n      <td>...</td>\n      <td>...</td>\n      <td>...</td>\n      <td>...</td>\n      <td>...</td>\n      <td>...</td>\n      <td>...</td>\n      <td>...</td>\n      <td>...</td>\n      <td>...</td>\n    </tr>\n    <tr>\n      <th>195</th>\n      <td>1.275684e+08</td>\n      <td>0.0</td>\n      <td>4.140258e+08</td>\n      <td>0.023710</td>\n      <td>1.249149e+08</td>\n      <td>0.000000</td>\n      <td>2.079341e+07</td>\n      <td>0.000000</td>\n      <td>1.648516e+08</td>\n      <td>0.000000</td>\n      <td>1.014500e+09</td>\n      <td>15383.632085</td>\n    </tr>\n    <tr>\n      <th>196</th>\n      <td>1.275684e+08</td>\n      <td>0.0</td>\n      <td>2.328077e+08</td>\n      <td>0.001386</td>\n      <td>1.249149e+08</td>\n      <td>0.000000</td>\n      <td>2.106195e+07</td>\n      <td>0.000024</td>\n      <td>1.648516e+08</td>\n      <td>0.000000</td>\n      <td>1.014500e+09</td>\n      <td>801.126489</td>\n    </tr>\n    <tr>\n      <th>197</th>\n      <td>1.275684e+08</td>\n      <td>0.0</td>\n      <td>2.488805e+08</td>\n      <td>0.002616</td>\n      <td>1.249149e+08</td>\n      <td>0.000000</td>\n      <td>2.079341e+07</td>\n      <td>0.000000</td>\n      <td>1.648516e+08</td>\n      <td>0.000000</td>\n      <td>1.014500e+09</td>\n      <td>1505.148315</td>\n    </tr>\n    <tr>\n      <th>198</th>\n      <td>1.275684e+08</td>\n      <td>0.0</td>\n      <td>3.016376e+08</td>\n      <td>0.012055</td>\n      <td>1.249149e+08</td>\n      <td>0.000000</td>\n      <td>2.079341e+07</td>\n      <td>0.000000</td>\n      <td>1.648516e+08</td>\n      <td>0.000000</td>\n      <td>1.014500e+09</td>\n      <td>7524.656356</td>\n    </tr>\n    <tr>\n      <th>199</th>\n      <td>1.275684e+08</td>\n      <td>0.0</td>\n      <td>2.370900e+08</td>\n      <td>0.001376</td>\n      <td>1.249149e+08</td>\n      <td>0.000000</td>\n      <td>2.079341e+07</td>\n      <td>0.000000</td>\n      <td>1.648516e+08</td>\n      <td>0.000000</td>\n      <td>1.014500e+09</td>\n      <td>766.494137</td>\n    </tr>\n  </tbody>\n</table>\n<p>200 rows × 12 columns</p>\n</div>"
     },
     "execution_count": 10,
     "metadata": {},
     "output_type": "execute_result"
    }
   ],
   "source": [
    "# only works because we have scalar outcomes\n",
    "pd.DataFrame(outcomes)"
   ]
  },
  {
   "cell_type": "code",
   "execution_count": 11,
   "metadata": {
    "ExecuteTime": {
     "end_time": "2023-05-30T14:45:24.542570900Z",
     "start_time": "2023-05-30T14:45:24.534946200Z"
    }
   },
   "outputs": [],
   "source": [
    "# defining specific policies\n",
    "# for example, policy 1 is about extra protection in upper boundary\n",
    "# policy 2 is about extra protection in lower boundary\n",
    "# policy 3 is extra protection in random locations\n",
    "\n",
    "\n",
    "def get_do_nothing_dict():\n",
    "    return {l.name: 0 for l in dike_model.levers}\n",
    "\n",
    "\n",
    "policies = [\n",
    "    Policy(\n",
    "        \"policy 1\",\n",
    "        **dict(\n",
    "            get_do_nothing_dict(),\n",
    "            **{\"0_RfR 0\": 1, \"0_RfR 1\": 1, \"0_RfR 2\": 1, \"A.1_DikeIncrease 0\": 5}\n",
    "        )\n",
    "    ),\n",
    "    Policy(\n",
    "        \"policy 2\",\n",
    "        **dict(\n",
    "            get_do_nothing_dict(),\n",
    "            **{\"4_RfR 0\": 1, \"4_RfR 1\": 1, \"4_RfR 2\": 1, \"A.5_DikeIncrease 0\": 5}\n",
    "        )\n",
    "    ),\n",
    "    Policy(\n",
    "        \"policy 3\",\n",
    "        **dict(\n",
    "            get_do_nothing_dict(),\n",
    "            **{\"1_RfR 0\": 1, \"2_RfR 1\": 1, \"3_RfR 2\": 1, \"A.3_DikeIncrease 0\": 5}\n",
    "        )\n",
    "    ),\n",
    "]"
   ]
  },
  {
   "cell_type": "code",
   "execution_count": 12,
   "metadata": {
    "ExecuteTime": {
     "end_time": "2023-05-30T14:47:08.131959800Z",
     "start_time": "2023-05-30T14:45:57.518779100Z"
    }
   },
   "outputs": [
    {
     "name": "stderr",
     "output_type": "stream",
     "text": [
      "[MainProcess/INFO] pool started with 12 workers\n",
      "[MainProcess/INFO] performing 100 scenarios * 3 policies * 1 model(s) = 300 experiments\n",
      "100%|████████████████████████████████████████| 300/300 [00:33<00:00,  8.87it/s]\n",
      "[MainProcess/INFO] experiments finished\n",
      "[MainProcess/INFO] terminating pool\n"
     ]
    }
   ],
   "source": [
    "# pass the policies list to EMA workbench experiment runs\n",
    "n_scenarios = 100\n",
    "with MultiprocessingEvaluator(dike_model) as evaluator:\n",
    "    results = evaluator.perform_experiments(n_scenarios, policies)"
   ]
  },
  {
   "cell_type": "code",
   "execution_count": 13,
   "metadata": {
    "ExecuteTime": {
     "end_time": "2023-05-30T14:48:02.614767300Z",
     "start_time": "2023-05-30T14:48:02.587205700Z"
    }
   },
   "outputs": [],
   "source": [
    "experiments, outcomes = results"
   ]
  },
  {
   "cell_type": "code",
   "execution_count": 14,
   "metadata": {
    "ExecuteTime": {
     "end_time": "2023-05-30T14:48:07.225560100Z",
     "start_time": "2023-05-30T14:48:07.199512500Z"
    }
   },
   "outputs": [
    {
     "data": {
      "text/plain": "     A.1 Total Costs  A.1_Expected Number of Deaths  A.2 Total Costs   \n0       5.397251e+07                       0.000000     2.940134e+07  \\\n1       5.397251e+07                       0.000000     7.654760e+08   \n2       5.397251e+07                       0.000000     1.064251e+09   \n3       5.397251e+07                       0.000000     6.438176e+07   \n4       5.397251e+07                       0.000000     5.391142e+07   \n..               ...                            ...              ...   \n295     0.000000e+00                       0.000000     1.753654e+08   \n296     1.757340e+09                       1.096198     5.621821e+08   \n297     2.409055e+09                       1.502787     9.061625e+07   \n298     0.000000e+00                       0.000000     3.829710e+07   \n299     2.580790e+08                       0.212538     2.077215e+08   \n\n     A.2_Expected Number of Deaths  A.3 Total Costs   \n0                         0.036130     5.577643e+07  \\\n1                         0.733633     0.000000e+00   \n2                         0.801452     1.100186e+09   \n3                         0.068545     1.699339e+07   \n4                         0.051075     1.022718e+08   \n..                             ...              ...   \n295                       0.137486     2.879840e+07   \n296                       0.451983     2.879840e+07   \n297                       0.075869     2.879840e+07   \n298                       0.034122     2.879840e+07   \n299                       0.236376     2.879840e+07   \n\n     A.3_Expected Number of Deaths  A.4 Total Costs   \n0                         0.128101     3.148095e+07  \\\n1                         0.000000     0.000000e+00   \n2                         1.617034     0.000000e+00   \n3                         0.034638     1.452240e+08   \n4                         0.181446     2.766527e+07   \n..                             ...              ...   \n295                       0.000000     0.000000e+00   \n296                       0.000000     0.000000e+00   \n297                       0.000000     2.417788e+06   \n298                       0.000000     4.880576e+07   \n299                       0.000000     1.025400e+08   \n\n     A.4_Expected Number of Deaths  A.5 Total Costs   \n0                         0.019504     0.000000e+00  \\\n1                         0.000000     2.218155e+07   \n2                         0.000000     0.000000e+00   \n3                         0.066848     0.000000e+00   \n4                         0.013273     0.000000e+00   \n..                             ...              ...   \n295                       0.000000     0.000000e+00   \n296                       0.000000     0.000000e+00   \n297                       0.000977     0.000000e+00   \n298                       0.020880     0.000000e+00   \n299                       0.052499     0.000000e+00   \n\n     A.5_Expected Number of Deaths  RfR Total Costs  Expected Evacuation Costs  \n0                         0.000000      253800000.0                        0.0  \n1                         0.020833      253800000.0                        0.0  \n2                         0.000000      253800000.0                        0.0  \n3                         0.000000      253800000.0                        0.0  \n4                         0.000000      253800000.0                        0.0  \n..                             ...              ...                        ...  \n295                       0.000000      369700000.0                        0.0  \n296                       0.000000      369700000.0                        0.0  \n297                       0.000000      369700000.0                        0.0  \n298                       0.000000      369700000.0                        0.0  \n299                       0.000000      369700000.0                        0.0  \n\n[300 rows x 12 columns]",
      "text/html": "<div>\n<style scoped>\n    .dataframe tbody tr th:only-of-type {\n        vertical-align: middle;\n    }\n\n    .dataframe tbody tr th {\n        vertical-align: top;\n    }\n\n    .dataframe thead th {\n        text-align: right;\n    }\n</style>\n<table border=\"1\" class=\"dataframe\">\n  <thead>\n    <tr style=\"text-align: right;\">\n      <th></th>\n      <th>A.1 Total Costs</th>\n      <th>A.1_Expected Number of Deaths</th>\n      <th>A.2 Total Costs</th>\n      <th>A.2_Expected Number of Deaths</th>\n      <th>A.3 Total Costs</th>\n      <th>A.3_Expected Number of Deaths</th>\n      <th>A.4 Total Costs</th>\n      <th>A.4_Expected Number of Deaths</th>\n      <th>A.5 Total Costs</th>\n      <th>A.5_Expected Number of Deaths</th>\n      <th>RfR Total Costs</th>\n      <th>Expected Evacuation Costs</th>\n    </tr>\n  </thead>\n  <tbody>\n    <tr>\n      <th>0</th>\n      <td>5.397251e+07</td>\n      <td>0.000000</td>\n      <td>2.940134e+07</td>\n      <td>0.036130</td>\n      <td>5.577643e+07</td>\n      <td>0.128101</td>\n      <td>3.148095e+07</td>\n      <td>0.019504</td>\n      <td>0.000000e+00</td>\n      <td>0.000000</td>\n      <td>253800000.0</td>\n      <td>0.0</td>\n    </tr>\n    <tr>\n      <th>1</th>\n      <td>5.397251e+07</td>\n      <td>0.000000</td>\n      <td>7.654760e+08</td>\n      <td>0.733633</td>\n      <td>0.000000e+00</td>\n      <td>0.000000</td>\n      <td>0.000000e+00</td>\n      <td>0.000000</td>\n      <td>2.218155e+07</td>\n      <td>0.020833</td>\n      <td>253800000.0</td>\n      <td>0.0</td>\n    </tr>\n    <tr>\n      <th>2</th>\n      <td>5.397251e+07</td>\n      <td>0.000000</td>\n      <td>1.064251e+09</td>\n      <td>0.801452</td>\n      <td>1.100186e+09</td>\n      <td>1.617034</td>\n      <td>0.000000e+00</td>\n      <td>0.000000</td>\n      <td>0.000000e+00</td>\n      <td>0.000000</td>\n      <td>253800000.0</td>\n      <td>0.0</td>\n    </tr>\n    <tr>\n      <th>3</th>\n      <td>5.397251e+07</td>\n      <td>0.000000</td>\n      <td>6.438176e+07</td>\n      <td>0.068545</td>\n      <td>1.699339e+07</td>\n      <td>0.034638</td>\n      <td>1.452240e+08</td>\n      <td>0.066848</td>\n      <td>0.000000e+00</td>\n      <td>0.000000</td>\n      <td>253800000.0</td>\n      <td>0.0</td>\n    </tr>\n    <tr>\n      <th>4</th>\n      <td>5.397251e+07</td>\n      <td>0.000000</td>\n      <td>5.391142e+07</td>\n      <td>0.051075</td>\n      <td>1.022718e+08</td>\n      <td>0.181446</td>\n      <td>2.766527e+07</td>\n      <td>0.013273</td>\n      <td>0.000000e+00</td>\n      <td>0.000000</td>\n      <td>253800000.0</td>\n      <td>0.0</td>\n    </tr>\n    <tr>\n      <th>...</th>\n      <td>...</td>\n      <td>...</td>\n      <td>...</td>\n      <td>...</td>\n      <td>...</td>\n      <td>...</td>\n      <td>...</td>\n      <td>...</td>\n      <td>...</td>\n      <td>...</td>\n      <td>...</td>\n      <td>...</td>\n    </tr>\n    <tr>\n      <th>295</th>\n      <td>0.000000e+00</td>\n      <td>0.000000</td>\n      <td>1.753654e+08</td>\n      <td>0.137486</td>\n      <td>2.879840e+07</td>\n      <td>0.000000</td>\n      <td>0.000000e+00</td>\n      <td>0.000000</td>\n      <td>0.000000e+00</td>\n      <td>0.000000</td>\n      <td>369700000.0</td>\n      <td>0.0</td>\n    </tr>\n    <tr>\n      <th>296</th>\n      <td>1.757340e+09</td>\n      <td>1.096198</td>\n      <td>5.621821e+08</td>\n      <td>0.451983</td>\n      <td>2.879840e+07</td>\n      <td>0.000000</td>\n      <td>0.000000e+00</td>\n      <td>0.000000</td>\n      <td>0.000000e+00</td>\n      <td>0.000000</td>\n      <td>369700000.0</td>\n      <td>0.0</td>\n    </tr>\n    <tr>\n      <th>297</th>\n      <td>2.409055e+09</td>\n      <td>1.502787</td>\n      <td>9.061625e+07</td>\n      <td>0.075869</td>\n      <td>2.879840e+07</td>\n      <td>0.000000</td>\n      <td>2.417788e+06</td>\n      <td>0.000977</td>\n      <td>0.000000e+00</td>\n      <td>0.000000</td>\n      <td>369700000.0</td>\n      <td>0.0</td>\n    </tr>\n    <tr>\n      <th>298</th>\n      <td>0.000000e+00</td>\n      <td>0.000000</td>\n      <td>3.829710e+07</td>\n      <td>0.034122</td>\n      <td>2.879840e+07</td>\n      <td>0.000000</td>\n      <td>4.880576e+07</td>\n      <td>0.020880</td>\n      <td>0.000000e+00</td>\n      <td>0.000000</td>\n      <td>369700000.0</td>\n      <td>0.0</td>\n    </tr>\n    <tr>\n      <th>299</th>\n      <td>2.580790e+08</td>\n      <td>0.212538</td>\n      <td>2.077215e+08</td>\n      <td>0.236376</td>\n      <td>2.879840e+07</td>\n      <td>0.000000</td>\n      <td>1.025400e+08</td>\n      <td>0.052499</td>\n      <td>0.000000e+00</td>\n      <td>0.000000</td>\n      <td>369700000.0</td>\n      <td>0.0</td>\n    </tr>\n  </tbody>\n</table>\n<p>300 rows × 12 columns</p>\n</div>"
     },
     "execution_count": 14,
     "metadata": {},
     "output_type": "execute_result"
    }
   ],
   "source": [
    "# only works because we have scalar outcomes\n",
    "pd.DataFrame(outcomes)"
   ]
  },
  {
   "cell_type": "code",
   "execution_count": null,
   "metadata": {
    "pycharm": {
     "name": "#%%"
    }
   },
   "outputs": [],
   "source": []
  }
 ],
 "metadata": {
  "kernelspec": {
   "display_name": "Python 3 (ipykernel)",
   "language": "python",
   "name": "python3"
  },
  "language_info": {
   "codemirror_mode": {
    "name": "ipython",
    "version": 3
   },
   "file_extension": ".py",
   "mimetype": "text/x-python",
   "name": "python",
   "nbconvert_exporter": "python",
   "pygments_lexer": "ipython3",
   "version": "3.9.16"
  }
 },
 "nbformat": 4,
 "nbformat_minor": 4
}
