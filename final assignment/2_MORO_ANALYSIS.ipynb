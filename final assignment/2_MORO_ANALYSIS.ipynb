{
 "cells": [
  {
   "cell_type": "markdown",
   "source": [
    "# Multi-objective Robust Optimization\n",
    "A robust optimization method for finding policies under deep uncertainty across scenarios.\n",
    "\n",
    "\n",
    "### sources:\n",
    "https://doi.org/10.1007/s10584-014-1210-4\n",
    "https://emaworkbench.readthedocs.io/en/latest/examples/robust_optimization_lake_model_dps.html\n",
    "https://github.com/WKSu/Model-based-decision-making/blob/ba6a6f2b9f7f32b56d7e11c9caeaedf5562deea4/MORO.py\n",
    "\n",
    "### Problem formulation\n",
    "\n",
    "    0. Total cost, and casualties\n",
    "    1. Expected damages, costs, and casualties\n",
    "    2. expected damages, dike investment costs, rfr costs, evacuation cost, and casualties\n",
    "    3. costs and casualties disaggregated over dike rings, and room for the river and evacuation costs\n",
    "    4. Expected damages, dike investment cost and casualties disaggregated over dike rings and room for the river and evacuation costs\n",
    "    5. disaggregate over time and space"
   ],
   "metadata": {
    "collapsed": false
   }
  },
  {
   "cell_type": "markdown",
   "source": [
    "First, packages are imported."
   ],
   "metadata": {
    "collapsed": false
   }
  },
  {
   "cell_type": "code",
   "execution_count": 8,
   "outputs": [
    {
     "data": {
      "text/plain": "<Logger EMA (DEBUG)>"
     },
     "execution_count": 8,
     "metadata": {},
     "output_type": "execute_result"
    }
   ],
   "source": [
    "import numpy as np\n",
    "import scipy as sp\n",
    "import pandas as pd\n",
    "import matplotlib.pyplot as plt\n",
    "import seaborn as sns\n",
    "import networkx as nx\n",
    "import pickle\n",
    "\n",
    "from ema_workbench import (\n",
    "    Model,\n",
    "    Policy,\n",
    "    ema_logging,\n",
    "    SequentialEvaluator,\n",
    "    MultiprocessingEvaluator,\n",
    "    util,\n",
    "    ScalarOutcome,\n",
    ")\n",
    "from dike_model_function import DikeNetwork  # @UnresolvedImport\n",
    "from problem_formulation import get_model_for_problem_formulation, sum_over, sum_over_time\n",
    "from ema_workbench.em_framework.samplers import sample_uncertainties\n",
    "\n",
    "ema_logging.log_to_stderr(ema_logging.INFO)"
   ],
   "metadata": {
    "collapsed": false,
    "ExecuteTime": {
     "end_time": "2023-06-01T13:11:15.027814700Z",
     "start_time": "2023-06-01T13:11:15.019750800Z"
    }
   }
  },
  {
   "cell_type": "code",
   "execution_count": 18,
   "outputs": [
    {
     "data": {
      "text/plain": "odict_keys(['A.1_Expected Annual Damage', 'A.1_Dike Investment Costs', 'A.1_Expected Number of Deaths', 'A.2_Expected Annual Damage', 'A.2_Dike Investment Costs', 'A.2_Expected Number of Deaths', 'A.3_Expected Annual Damage', 'A.3_Dike Investment Costs', 'A.3_Expected Number of Deaths', 'A.4_Expected Annual Damage', 'A.4_Dike Investment Costs', 'A.4_Expected Number of Deaths', 'A.5_Expected Annual Damage', 'A.5_Dike Investment Costs', 'A.5_Expected Number of Deaths', 'RfR Total Costs', 'Expected Evacuation Costs'])"
     },
     "execution_count": 18,
     "metadata": {},
     "output_type": "execute_result"
    }
   ],
   "source": [
    "dike_model, planning_steps = get_model_for_problem_formulation(5)\n",
    "dike_model.outcomes.keys()"
   ],
   "metadata": {
    "collapsed": false,
    "ExecuteTime": {
     "end_time": "2023-06-01T13:55:47.157786800Z",
     "start_time": "2023-06-01T13:55:46.800506700Z"
    }
   }
  },
  {
   "cell_type": "markdown",
   "source": [
    "\n"
   ],
   "metadata": {
    "collapsed": false
   }
  },
  {
   "cell_type": "code",
   "execution_count": 11,
   "outputs": [],
   "source": [
    "def robust_analysis():\n",
    "\n",
    "    # choose problem formulation number, between 0-5\n",
    "    # each problem formulation has its own list of outcomes\n",
    "    dike_model, planning_steps = get_model_for_problem_formulation(0)\n",
    "\n",
    "    dike_model.outcomes\n",
    "\n",
    "\n",
    "    def signal_to_noise(data):\n",
    "        mean = np.mean(data)\n",
    "        std = np.std(data)\n",
    "        sn = mean / std\n",
    "        return sn\n",
    "\n",
    "    MAXIMIZE = ScalarOutcome.MAXIMIZE\n",
    "    MINIMIZE = ScalarOutcome.MINIMIZE\n",
    "    robustness_functions = [\n",
    "        ScalarOutcome(\"mean p\", kind=MINIMIZE, variable_name=\"4_RfR 2\", function=np.mean),\n",
    "        ScalarOutcome(\"std p\", kind=MINIMIZE, variable_name=\"4_RfR 2\", function=np.std),\n",
    "        ScalarOutcome(\"sn reliability\", kind=MAXIMIZE, variable_name=\"4_RfR 2\", function=signal_to_noise),\n",
    "    ]\n",
    "\n",
    "    n_scenarios = 10\n",
    "    scenarios = sample_uncertainties(dike_model, n_scenarios)\n",
    "    nfe = 1000\n",
    "\n",
    "    with MultiprocessingEvaluator(dike_model) as evaluator:\n",
    "        evaluator.robust_optimize(\n",
    "            robustness_functions,\n",
    "            scenarios,\n",
    "            nfe=nfe,\n",
    "            epsilons=[0.1] * len(robustness_functions),\n",
    "            population_size=5,\n",
    "        )"
   ],
   "metadata": {
    "collapsed": false,
    "ExecuteTime": {
     "end_time": "2023-06-01T13:13:06.472573600Z",
     "start_time": "2023-06-01T13:13:06.468271500Z"
    }
   }
  },
  {
   "cell_type": "code",
   "execution_count": 12,
   "outputs": [
    {
     "name": "stderr",
     "output_type": "stream",
     "text": [
      "  0%|                                                 | 0/1000 [00:00<?, ?it/s]"
     ]
    },
    {
     "ename": "KeyError",
     "evalue": "'4_RfR 2'",
     "output_type": "error",
     "traceback": [
      "\u001B[1;31m---------------------------------------------------------------------------\u001B[0m",
      "\u001B[1;31mKeyError\u001B[0m                                  Traceback (most recent call last)",
      "Cell \u001B[1;32mIn[12], line 1\u001B[0m\n\u001B[1;32m----> 1\u001B[0m \u001B[43mrobust_analysis\u001B[49m\u001B[43m(\u001B[49m\u001B[43m)\u001B[49m\n",
      "Cell \u001B[1;32mIn[11], line 29\u001B[0m, in \u001B[0;36mrobust_analysis\u001B[1;34m()\u001B[0m\n\u001B[0;32m     26\u001B[0m nfe \u001B[38;5;241m=\u001B[39m \u001B[38;5;241m1000\u001B[39m\n\u001B[0;32m     28\u001B[0m \u001B[38;5;28;01mwith\u001B[39;00m MultiprocessingEvaluator(dike_model) \u001B[38;5;28;01mas\u001B[39;00m evaluator:\n\u001B[1;32m---> 29\u001B[0m     \u001B[43mevaluator\u001B[49m\u001B[38;5;241;43m.\u001B[39;49m\u001B[43mrobust_optimize\u001B[49m\u001B[43m(\u001B[49m\n\u001B[0;32m     30\u001B[0m \u001B[43m        \u001B[49m\u001B[43mrobustness_functions\u001B[49m\u001B[43m,\u001B[49m\n\u001B[0;32m     31\u001B[0m \u001B[43m        \u001B[49m\u001B[43mscenarios\u001B[49m\u001B[43m,\u001B[49m\n\u001B[0;32m     32\u001B[0m \u001B[43m        \u001B[49m\u001B[43mnfe\u001B[49m\u001B[38;5;241;43m=\u001B[39;49m\u001B[43mnfe\u001B[49m\u001B[43m,\u001B[49m\n\u001B[0;32m     33\u001B[0m \u001B[43m        \u001B[49m\u001B[43mepsilons\u001B[49m\u001B[38;5;241;43m=\u001B[39;49m\u001B[43m[\u001B[49m\u001B[38;5;241;43m0.1\u001B[39;49m\u001B[43m]\u001B[49m\u001B[43m \u001B[49m\u001B[38;5;241;43m*\u001B[39;49m\u001B[43m \u001B[49m\u001B[38;5;28;43mlen\u001B[39;49m\u001B[43m(\u001B[49m\u001B[43mrobustness_functions\u001B[49m\u001B[43m)\u001B[49m\u001B[43m,\u001B[49m\n\u001B[0;32m     34\u001B[0m \u001B[43m        \u001B[49m\u001B[43mpopulation_size\u001B[49m\u001B[38;5;241;43m=\u001B[39;49m\u001B[38;5;241;43m5\u001B[39;49m\u001B[43m,\u001B[49m\n\u001B[0;32m     35\u001B[0m \u001B[43m    \u001B[49m\u001B[43m)\u001B[49m\n",
      "File \u001B[1;32m~\\Documents\\TU_Delft\\M_Jaar_1\\Q4\\Model_based_decision_making\\mbd_venv\\Lib\\site-packages\\ema_workbench\\em_framework\\evaluators.py:278\u001B[0m, in \u001B[0;36mBaseEvaluator.robust_optimize\u001B[1;34m(self, robustness_functions, scenarios, algorithm, nfe, convergence_freq, logging_freq, **kwargs)\u001B[0m\n\u001B[0;32m    262\u001B[0m \u001B[38;5;28;01mdef\u001B[39;00m \u001B[38;5;21mrobust_optimize\u001B[39m(\n\u001B[0;32m    263\u001B[0m     \u001B[38;5;28mself\u001B[39m,\n\u001B[0;32m    264\u001B[0m     robustness_functions,\n\u001B[1;32m   (...)\u001B[0m\n\u001B[0;32m    270\u001B[0m     \u001B[38;5;241m*\u001B[39m\u001B[38;5;241m*\u001B[39mkwargs,\n\u001B[0;32m    271\u001B[0m ):\n\u001B[0;32m    272\u001B[0m \u001B[38;5;250m    \u001B[39m\u001B[38;5;124;03m\"\"\"convenience method for robust optimization.\u001B[39;00m\n\u001B[0;32m    273\u001B[0m \n\u001B[0;32m    274\u001B[0m \u001B[38;5;124;03m    is forwarded to :func:robust_optimize, with evaluator and models\u001B[39;00m\n\u001B[0;32m    275\u001B[0m \u001B[38;5;124;03m    arguments added in.\u001B[39;00m\n\u001B[0;32m    276\u001B[0m \n\u001B[0;32m    277\u001B[0m \u001B[38;5;124;03m    \"\"\"\u001B[39;00m\n\u001B[1;32m--> 278\u001B[0m     \u001B[38;5;28;01mreturn\u001B[39;00m \u001B[43mrobust_optimize\u001B[49m\u001B[43m(\u001B[49m\n\u001B[0;32m    279\u001B[0m \u001B[43m        \u001B[49m\u001B[38;5;28;43mself\u001B[39;49m\u001B[38;5;241;43m.\u001B[39;49m\u001B[43m_msis\u001B[49m\u001B[43m,\u001B[49m\n\u001B[0;32m    280\u001B[0m \u001B[43m        \u001B[49m\u001B[43mrobustness_functions\u001B[49m\u001B[43m,\u001B[49m\n\u001B[0;32m    281\u001B[0m \u001B[43m        \u001B[49m\u001B[43mscenarios\u001B[49m\u001B[43m,\u001B[49m\n\u001B[0;32m    282\u001B[0m \u001B[43m        \u001B[49m\u001B[38;5;28;43mself\u001B[39;49m\u001B[43m,\u001B[49m\n\u001B[0;32m    283\u001B[0m \u001B[43m        \u001B[49m\u001B[43malgorithm\u001B[49m\u001B[38;5;241;43m=\u001B[39;49m\u001B[43malgorithm\u001B[49m\u001B[43m,\u001B[49m\n\u001B[0;32m    284\u001B[0m \u001B[43m        \u001B[49m\u001B[43mnfe\u001B[49m\u001B[38;5;241;43m=\u001B[39;49m\u001B[43mnfe\u001B[49m\u001B[43m,\u001B[49m\n\u001B[0;32m    285\u001B[0m \u001B[43m        \u001B[49m\u001B[43mconvergence_freq\u001B[49m\u001B[38;5;241;43m=\u001B[39;49m\u001B[43mconvergence_freq\u001B[49m\u001B[43m,\u001B[49m\n\u001B[0;32m    286\u001B[0m \u001B[43m        \u001B[49m\u001B[43mlogging_freq\u001B[49m\u001B[38;5;241;43m=\u001B[39;49m\u001B[43mlogging_freq\u001B[49m\u001B[43m,\u001B[49m\n\u001B[0;32m    287\u001B[0m \u001B[43m        \u001B[49m\u001B[38;5;241;43m*\u001B[39;49m\u001B[38;5;241;43m*\u001B[39;49m\u001B[43mkwargs\u001B[49m\u001B[43m,\u001B[49m\n\u001B[0;32m    288\u001B[0m \u001B[43m    \u001B[49m\u001B[43m)\u001B[49m\n",
      "File \u001B[1;32m~\\Documents\\TU_Delft\\M_Jaar_1\\Q4\\Model_based_decision_making\\mbd_venv\\Lib\\site-packages\\ema_workbench\\em_framework\\evaluators.py:812\u001B[0m, in \u001B[0;36mrobust_optimize\u001B[1;34m(model, robustness_functions, scenarios, evaluator, algorithm, nfe, convergence, constraints, convergence_freq, logging_freq, **kwargs)\u001B[0m\n\u001B[0;32m    809\u001B[0m \u001B[38;5;28;01mif\u001B[39;00m \u001B[38;5;129;01mnot\u001B[39;00m evaluator:\n\u001B[0;32m    810\u001B[0m     evaluator \u001B[38;5;241m=\u001B[39m SequentialEvaluator(model)\n\u001B[1;32m--> 812\u001B[0m \u001B[38;5;28;01mreturn\u001B[39;00m \u001B[43m_optimize\u001B[49m\u001B[43m(\u001B[49m\n\u001B[0;32m    813\u001B[0m \u001B[43m    \u001B[49m\u001B[43mproblem\u001B[49m\u001B[43m,\u001B[49m\n\u001B[0;32m    814\u001B[0m \u001B[43m    \u001B[49m\u001B[43mevaluator\u001B[49m\u001B[43m,\u001B[49m\n\u001B[0;32m    815\u001B[0m \u001B[43m    \u001B[49m\u001B[43malgorithm\u001B[49m\u001B[43m,\u001B[49m\n\u001B[0;32m    816\u001B[0m \u001B[43m    \u001B[49m\u001B[43mconvergence\u001B[49m\u001B[43m,\u001B[49m\n\u001B[0;32m    817\u001B[0m \u001B[43m    \u001B[49m\u001B[38;5;28;43mint\u001B[39;49m\u001B[43m(\u001B[49m\u001B[43mnfe\u001B[49m\u001B[43m)\u001B[49m\u001B[43m,\u001B[49m\n\u001B[0;32m    818\u001B[0m \u001B[43m    \u001B[49m\u001B[43mconvergence_freq\u001B[49m\u001B[43m,\u001B[49m\n\u001B[0;32m    819\u001B[0m \u001B[43m    \u001B[49m\u001B[43mlogging_freq\u001B[49m\u001B[43m,\u001B[49m\n\u001B[0;32m    820\u001B[0m \u001B[43m    \u001B[49m\u001B[38;5;241;43m*\u001B[39;49m\u001B[38;5;241;43m*\u001B[39;49m\u001B[43mkwargs\u001B[49m\u001B[43m,\u001B[49m\n\u001B[0;32m    821\u001B[0m \u001B[43m\u001B[49m\u001B[43m)\u001B[49m\n",
      "File \u001B[1;32m~\\Documents\\TU_Delft\\M_Jaar_1\\Q4\\Model_based_decision_making\\mbd_venv\\Lib\\site-packages\\ema_workbench\\em_framework\\optimization.py:1070\u001B[0m, in \u001B[0;36m_optimize\u001B[1;34m(problem, evaluator, algorithm, convergence, nfe, convergence_freq, logging_freq, variator, **kwargs)\u001B[0m\n\u001B[0;32m   1067\u001B[0m evaluator\u001B[38;5;241m.\u001B[39mcallback \u001B[38;5;241m=\u001B[39m callback\n\u001B[0;32m   1069\u001B[0m \u001B[38;5;28;01mwith\u001B[39;00m temporary_filter(name\u001B[38;5;241m=\u001B[39m[callbacks\u001B[38;5;241m.\u001B[39m\u001B[38;5;18m__name__\u001B[39m, evaluators\u001B[38;5;241m.\u001B[39m\u001B[38;5;18m__name__\u001B[39m], level\u001B[38;5;241m=\u001B[39mINFO):\n\u001B[1;32m-> 1070\u001B[0m     \u001B[43moptimizer\u001B[49m\u001B[38;5;241;43m.\u001B[39;49m\u001B[43mrun\u001B[49m\u001B[43m(\u001B[49m\u001B[43mnfe\u001B[49m\u001B[43m)\u001B[49m\n\u001B[0;32m   1072\u001B[0m convergence(optimizer, force\u001B[38;5;241m=\u001B[39m\u001B[38;5;28;01mTrue\u001B[39;00m)\n\u001B[0;32m   1074\u001B[0m \u001B[38;5;66;03m# convergence.pbar.__exit__(None, None, None)\u001B[39;00m\n",
      "File \u001B[1;32m~\\Documents\\TU_Delft\\M_Jaar_1\\Q4\\Model_based_decision_making\\mbd_venv\\Lib\\site-packages\\platypus\\core.py:407\u001B[0m, in \u001B[0;36mAlgorithm.run\u001B[1;34m(self, condition, callback)\u001B[0m\n\u001B[0;32m    404\u001B[0m LOGGER\u001B[38;5;241m.\u001B[39mlog(logging\u001B[38;5;241m.\u001B[39mINFO, \u001B[38;5;124m\"\u001B[39m\u001B[38;5;132;01m%s\u001B[39;00m\u001B[38;5;124m starting\u001B[39m\u001B[38;5;124m\"\u001B[39m, \u001B[38;5;28mtype\u001B[39m(\u001B[38;5;28mself\u001B[39m)\u001B[38;5;241m.\u001B[39m\u001B[38;5;18m__name__\u001B[39m)\n\u001B[0;32m    406\u001B[0m \u001B[38;5;28;01mwhile\u001B[39;00m \u001B[38;5;129;01mnot\u001B[39;00m condition(\u001B[38;5;28mself\u001B[39m):\n\u001B[1;32m--> 407\u001B[0m     \u001B[38;5;28;43mself\u001B[39;49m\u001B[38;5;241;43m.\u001B[39;49m\u001B[43mstep\u001B[49m\u001B[43m(\u001B[49m\u001B[43m)\u001B[49m\n\u001B[0;32m    409\u001B[0m     \u001B[38;5;28;01mif\u001B[39;00m \u001B[38;5;28mself\u001B[39m\u001B[38;5;241m.\u001B[39mlog_frequency \u001B[38;5;129;01mis\u001B[39;00m \u001B[38;5;129;01mnot\u001B[39;00m \u001B[38;5;28;01mNone\u001B[39;00m \u001B[38;5;129;01mand\u001B[39;00m \u001B[38;5;28mself\u001B[39m\u001B[38;5;241m.\u001B[39mnfe \u001B[38;5;241m>\u001B[39m\u001B[38;5;241m=\u001B[39m last_log \u001B[38;5;241m+\u001B[39m \u001B[38;5;28mself\u001B[39m\u001B[38;5;241m.\u001B[39mlog_frequency:\n\u001B[0;32m    410\u001B[0m         LOGGER\u001B[38;5;241m.\u001B[39mlog(logging\u001B[38;5;241m.\u001B[39mINFO,\n\u001B[0;32m    411\u001B[0m                    \u001B[38;5;124m\"\u001B[39m\u001B[38;5;132;01m%s\u001B[39;00m\u001B[38;5;124m running; NFE Complete: \u001B[39m\u001B[38;5;132;01m%d\u001B[39;00m\u001B[38;5;124m, Elapsed Time: \u001B[39m\u001B[38;5;132;01m%s\u001B[39;00m\u001B[38;5;124m\"\u001B[39m,\n\u001B[0;32m    412\u001B[0m                    \u001B[38;5;28mtype\u001B[39m(\u001B[38;5;28mself\u001B[39m)\u001B[38;5;241m.\u001B[39m\u001B[38;5;18m__name__\u001B[39m,\n\u001B[0;32m    413\u001B[0m                    \u001B[38;5;28mself\u001B[39m\u001B[38;5;241m.\u001B[39mnfe,\n\u001B[0;32m    414\u001B[0m                    datetime\u001B[38;5;241m.\u001B[39mtimedelta(seconds\u001B[38;5;241m=\u001B[39mtime\u001B[38;5;241m.\u001B[39mtime()\u001B[38;5;241m-\u001B[39mstart_time))\n",
      "File \u001B[1;32m~\\Documents\\TU_Delft\\M_Jaar_1\\Q4\\Model_based_decision_making\\mbd_venv\\Lib\\site-packages\\platypus\\algorithms.py:1521\u001B[0m, in \u001B[0;36mPeriodicAction.step\u001B[1;34m(self)\u001B[0m\n\u001B[0;32m   1520\u001B[0m \u001B[38;5;28;01mdef\u001B[39;00m \u001B[38;5;21mstep\u001B[39m(\u001B[38;5;28mself\u001B[39m):\n\u001B[1;32m-> 1521\u001B[0m     \u001B[38;5;28;43mself\u001B[39;49m\u001B[38;5;241;43m.\u001B[39;49m\u001B[43malgorithm\u001B[49m\u001B[38;5;241;43m.\u001B[39;49m\u001B[43mstep\u001B[49m\u001B[43m(\u001B[49m\u001B[43m)\u001B[49m\n\u001B[0;32m   1522\u001B[0m     \u001B[38;5;28mself\u001B[39m\u001B[38;5;241m.\u001B[39miteration \u001B[38;5;241m+\u001B[39m\u001B[38;5;241m=\u001B[39m \u001B[38;5;241m1\u001B[39m\n\u001B[0;32m   1523\u001B[0m     \u001B[38;5;28mself\u001B[39m\u001B[38;5;241m.\u001B[39mnfe \u001B[38;5;241m=\u001B[39m \u001B[38;5;28mself\u001B[39m\u001B[38;5;241m.\u001B[39malgorithm\u001B[38;5;241m.\u001B[39mnfe\n",
      "File \u001B[1;32m~\\Documents\\TU_Delft\\M_Jaar_1\\Q4\\Model_based_decision_making\\mbd_venv\\Lib\\site-packages\\platypus\\algorithms.py:180\u001B[0m, in \u001B[0;36mNSGAII.step\u001B[1;34m(self)\u001B[0m\n\u001B[0;32m    178\u001B[0m \u001B[38;5;28;01mdef\u001B[39;00m \u001B[38;5;21mstep\u001B[39m(\u001B[38;5;28mself\u001B[39m):\n\u001B[0;32m    179\u001B[0m     \u001B[38;5;28;01mif\u001B[39;00m \u001B[38;5;28mself\u001B[39m\u001B[38;5;241m.\u001B[39mnfe \u001B[38;5;241m==\u001B[39m \u001B[38;5;241m0\u001B[39m:\n\u001B[1;32m--> 180\u001B[0m         \u001B[38;5;28;43mself\u001B[39;49m\u001B[38;5;241;43m.\u001B[39;49m\u001B[43minitialize\u001B[49m\u001B[43m(\u001B[49m\u001B[43m)\u001B[49m\n\u001B[0;32m    181\u001B[0m     \u001B[38;5;28;01melse\u001B[39;00m:\n\u001B[0;32m    182\u001B[0m         \u001B[38;5;28mself\u001B[39m\u001B[38;5;241m.\u001B[39miterate()\n",
      "File \u001B[1;32m~\\Documents\\TU_Delft\\M_Jaar_1\\Q4\\Model_based_decision_making\\mbd_venv\\Lib\\site-packages\\platypus\\algorithms.py:190\u001B[0m, in \u001B[0;36mNSGAII.initialize\u001B[1;34m(self)\u001B[0m\n\u001B[0;32m    189\u001B[0m \u001B[38;5;28;01mdef\u001B[39;00m \u001B[38;5;21minitialize\u001B[39m(\u001B[38;5;28mself\u001B[39m):\n\u001B[1;32m--> 190\u001B[0m     \u001B[38;5;28;43msuper\u001B[39;49m\u001B[43m(\u001B[49m\u001B[43m)\u001B[49m\u001B[38;5;241;43m.\u001B[39;49m\u001B[43minitialize\u001B[49m\u001B[43m(\u001B[49m\u001B[43m)\u001B[49m\n\u001B[0;32m    192\u001B[0m     \u001B[38;5;28;01mif\u001B[39;00m \u001B[38;5;28mself\u001B[39m\u001B[38;5;241m.\u001B[39marchive \u001B[38;5;129;01mis\u001B[39;00m \u001B[38;5;129;01mnot\u001B[39;00m \u001B[38;5;28;01mNone\u001B[39;00m:\n\u001B[0;32m    193\u001B[0m         \u001B[38;5;28mself\u001B[39m\u001B[38;5;241m.\u001B[39marchive \u001B[38;5;241m+\u001B[39m\u001B[38;5;241m=\u001B[39m \u001B[38;5;28mself\u001B[39m\u001B[38;5;241m.\u001B[39mpopulation\n",
      "File \u001B[1;32m~\\Documents\\TU_Delft\\M_Jaar_1\\Q4\\Model_based_decision_making\\mbd_venv\\Lib\\site-packages\\platypus\\algorithms.py:71\u001B[0m, in \u001B[0;36mAbstractGeneticAlgorithm.initialize\u001B[1;34m(self)\u001B[0m\n\u001B[0;32m     69\u001B[0m \u001B[38;5;28;01mdef\u001B[39;00m \u001B[38;5;21minitialize\u001B[39m(\u001B[38;5;28mself\u001B[39m):\n\u001B[0;32m     70\u001B[0m     \u001B[38;5;28mself\u001B[39m\u001B[38;5;241m.\u001B[39mpopulation \u001B[38;5;241m=\u001B[39m [\u001B[38;5;28mself\u001B[39m\u001B[38;5;241m.\u001B[39mgenerator\u001B[38;5;241m.\u001B[39mgenerate(\u001B[38;5;28mself\u001B[39m\u001B[38;5;241m.\u001B[39mproblem) \u001B[38;5;28;01mfor\u001B[39;00m _ \u001B[38;5;129;01min\u001B[39;00m \u001B[38;5;28mrange\u001B[39m(\u001B[38;5;28mself\u001B[39m\u001B[38;5;241m.\u001B[39mpopulation_size)]\n\u001B[1;32m---> 71\u001B[0m     \u001B[38;5;28;43mself\u001B[39;49m\u001B[38;5;241;43m.\u001B[39;49m\u001B[43mevaluate_all\u001B[49m\u001B[43m(\u001B[49m\u001B[38;5;28;43mself\u001B[39;49m\u001B[38;5;241;43m.\u001B[39;49m\u001B[43mpopulation\u001B[49m\u001B[43m)\u001B[49m\n",
      "File \u001B[1;32m~\\Documents\\TU_Delft\\M_Jaar_1\\Q4\\Model_based_decision_making\\mbd_venv\\Lib\\site-packages\\platypus\\core.py:380\u001B[0m, in \u001B[0;36mAlgorithm.evaluate_all\u001B[1;34m(self, solutions)\u001B[0m\n\u001B[0;32m    377\u001B[0m unevaluated \u001B[38;5;241m=\u001B[39m [s \u001B[38;5;28;01mfor\u001B[39;00m s \u001B[38;5;129;01min\u001B[39;00m solutions \u001B[38;5;28;01mif\u001B[39;00m \u001B[38;5;129;01mnot\u001B[39;00m s\u001B[38;5;241m.\u001B[39mevaluated]\n\u001B[0;32m    379\u001B[0m jobs \u001B[38;5;241m=\u001B[39m [_EvaluateJob(s) \u001B[38;5;28;01mfor\u001B[39;00m s \u001B[38;5;129;01min\u001B[39;00m unevaluated]\n\u001B[1;32m--> 380\u001B[0m results \u001B[38;5;241m=\u001B[39m \u001B[38;5;28;43mself\u001B[39;49m\u001B[38;5;241;43m.\u001B[39;49m\u001B[43mevaluator\u001B[49m\u001B[38;5;241;43m.\u001B[39;49m\u001B[43mevaluate_all\u001B[49m\u001B[43m(\u001B[49m\u001B[43mjobs\u001B[49m\u001B[43m)\u001B[49m\n\u001B[0;32m    382\u001B[0m \u001B[38;5;66;03m# if needed, update the original solution with the results\u001B[39;00m\n\u001B[0;32m    383\u001B[0m \u001B[38;5;28;01mfor\u001B[39;00m i, result \u001B[38;5;129;01min\u001B[39;00m \u001B[38;5;28menumerate\u001B[39m(results):\n",
      "File \u001B[1;32m~\\Documents\\TU_Delft\\M_Jaar_1\\Q4\\Model_based_decision_making\\mbd_venv\\Lib\\site-packages\\ema_workbench\\em_framework\\evaluators.py:190\u001B[0m, in \u001B[0;36mBaseEvaluator.evaluate_all\u001B[1;34m(self, jobs, **kwargs)\u001B[0m\n\u001B[0;32m    188\u001B[0m     evaluate(jobs_collection, experiments, outcomes, problem)\n\u001B[0;32m    189\u001B[0m \u001B[38;5;28;01melse\u001B[39;00m:\n\u001B[1;32m--> 190\u001B[0m     \u001B[43mevaluate_robust\u001B[49m\u001B[43m(\u001B[49m\u001B[43mjobs_collection\u001B[49m\u001B[43m,\u001B[49m\u001B[43m \u001B[49m\u001B[43mexperiments\u001B[49m\u001B[43m,\u001B[49m\u001B[43m \u001B[49m\u001B[43moutcomes\u001B[49m\u001B[43m,\u001B[49m\u001B[43m \u001B[49m\u001B[43mproblem\u001B[49m\u001B[43m)\u001B[49m\n\u001B[0;32m    192\u001B[0m \u001B[38;5;28;01mreturn\u001B[39;00m jobs\n",
      "File \u001B[1;32m~\\Documents\\TU_Delft\\M_Jaar_1\\Q4\\Model_based_decision_making\\mbd_venv\\Lib\\site-packages\\ema_workbench\\em_framework\\optimization.py:433\u001B[0m, in \u001B[0;36mevaluate_robust\u001B[1;34m(jobs_collection, experiments, outcomes, problem)\u001B[0m\n\u001B[0;32m    431\u001B[0m job_outcomes \u001B[38;5;241m=\u001B[39m []\n\u001B[0;32m    432\u001B[0m \u001B[38;5;28;01mfor\u001B[39;00m rf \u001B[38;5;129;01min\u001B[39;00m robustness_functions:\n\u001B[1;32m--> 433\u001B[0m     data \u001B[38;5;241m=\u001B[39m \u001B[43m[\u001B[49m\u001B[43moutcomes\u001B[49m\u001B[43m[\u001B[49m\u001B[43mvar_name\u001B[49m\u001B[43m]\u001B[49m\u001B[43m[\u001B[49m\u001B[43mlogical\u001B[49m\u001B[43m]\u001B[49m\u001B[43m \u001B[49m\u001B[38;5;28;43;01mfor\u001B[39;49;00m\u001B[43m \u001B[49m\u001B[43mvar_name\u001B[49m\u001B[43m \u001B[49m\u001B[38;5;129;43;01min\u001B[39;49;00m\u001B[43m \u001B[49m\u001B[43mrf\u001B[49m\u001B[38;5;241;43m.\u001B[39;49m\u001B[43mvariable_name\u001B[49m\u001B[43m]\u001B[49m\n\u001B[0;32m    434\u001B[0m     score \u001B[38;5;241m=\u001B[39m rf\u001B[38;5;241m.\u001B[39mfunction(\u001B[38;5;241m*\u001B[39mdata)\n\u001B[0;32m    435\u001B[0m     job_outcomes_dict[rf\u001B[38;5;241m.\u001B[39mname] \u001B[38;5;241m=\u001B[39m score\n",
      "File \u001B[1;32m~\\Documents\\TU_Delft\\M_Jaar_1\\Q4\\Model_based_decision_making\\mbd_venv\\Lib\\site-packages\\ema_workbench\\em_framework\\optimization.py:433\u001B[0m, in \u001B[0;36m<listcomp>\u001B[1;34m(.0)\u001B[0m\n\u001B[0;32m    431\u001B[0m job_outcomes \u001B[38;5;241m=\u001B[39m []\n\u001B[0;32m    432\u001B[0m \u001B[38;5;28;01mfor\u001B[39;00m rf \u001B[38;5;129;01min\u001B[39;00m robustness_functions:\n\u001B[1;32m--> 433\u001B[0m     data \u001B[38;5;241m=\u001B[39m [\u001B[43moutcomes\u001B[49m\u001B[43m[\u001B[49m\u001B[43mvar_name\u001B[49m\u001B[43m]\u001B[49m[logical] \u001B[38;5;28;01mfor\u001B[39;00m var_name \u001B[38;5;129;01min\u001B[39;00m rf\u001B[38;5;241m.\u001B[39mvariable_name]\n\u001B[0;32m    434\u001B[0m     score \u001B[38;5;241m=\u001B[39m rf\u001B[38;5;241m.\u001B[39mfunction(\u001B[38;5;241m*\u001B[39mdata)\n\u001B[0;32m    435\u001B[0m     job_outcomes_dict[rf\u001B[38;5;241m.\u001B[39mname] \u001B[38;5;241m=\u001B[39m score\n",
      "\u001B[1;31mKeyError\u001B[0m: '4_RfR 2'"
     ]
    }
   ],
   "source": [
    "robust_analysis()"
   ],
   "metadata": {
    "collapsed": false,
    "ExecuteTime": {
     "end_time": "2023-06-01T13:13:56.133302400Z",
     "start_time": "2023-06-01T13:13:06.784189100Z"
    }
   }
  },
  {
   "cell_type": "code",
   "execution_count": 19,
   "outputs": [
    {
     "data": {
      "text/plain": "   0_RfR 0  0_RfR 1  0_RfR 2  1_RfR 0  1_RfR 1  1_RfR 2  2_RfR 0  2_RfR 1   \n0        0        0        1        1        1        0        0        1  \\\n\n   2_RfR 2  3_RfR 0  ...  A.3_DikeIncrease 2  A.4_DikeIncrease 0   \n0        1        0  ...                   2                  10  \\\n\n   A.4_DikeIncrease 1  A.4_DikeIncrease 2  A.5_DikeIncrease 0   \n0                   0                   9                   2  \\\n\n   A.5_DikeIncrease 1  A.5_DikeIncrease 2    mean p     std p  sn reliability  \n0                   9                   3  0.004025  0.009496             0.0  \n\n[1 rows x 34 columns]",
      "text/html": "<div>\n<style scoped>\n    .dataframe tbody tr th:only-of-type {\n        vertical-align: middle;\n    }\n\n    .dataframe tbody tr th {\n        vertical-align: top;\n    }\n\n    .dataframe thead th {\n        text-align: right;\n    }\n</style>\n<table border=\"1\" class=\"dataframe\">\n  <thead>\n    <tr style=\"text-align: right;\">\n      <th></th>\n      <th>0_RfR 0</th>\n      <th>0_RfR 1</th>\n      <th>0_RfR 2</th>\n      <th>1_RfR 0</th>\n      <th>1_RfR 1</th>\n      <th>1_RfR 2</th>\n      <th>2_RfR 0</th>\n      <th>2_RfR 1</th>\n      <th>2_RfR 2</th>\n      <th>3_RfR 0</th>\n      <th>...</th>\n      <th>A.3_DikeIncrease 2</th>\n      <th>A.4_DikeIncrease 0</th>\n      <th>A.4_DikeIncrease 1</th>\n      <th>A.4_DikeIncrease 2</th>\n      <th>A.5_DikeIncrease 0</th>\n      <th>A.5_DikeIncrease 1</th>\n      <th>A.5_DikeIncrease 2</th>\n      <th>mean p</th>\n      <th>std p</th>\n      <th>sn reliability</th>\n    </tr>\n  </thead>\n  <tbody>\n    <tr>\n      <th>0</th>\n      <td>0</td>\n      <td>0</td>\n      <td>1</td>\n      <td>1</td>\n      <td>1</td>\n      <td>0</td>\n      <td>0</td>\n      <td>1</td>\n      <td>1</td>\n      <td>0</td>\n      <td>...</td>\n      <td>2</td>\n      <td>10</td>\n      <td>0</td>\n      <td>9</td>\n      <td>2</td>\n      <td>9</td>\n      <td>3</td>\n      <td>0.004025</td>\n      <td>0.009496</td>\n      <td>0.0</td>\n    </tr>\n  </tbody>\n</table>\n<p>1 rows × 34 columns</p>\n</div>"
     },
     "execution_count": 19,
     "metadata": {},
     "output_type": "execute_result"
    }
   ],
   "source": [
    "test = pd.read_pickle('test.pkl')\n",
    "test"
   ],
   "metadata": {
    "collapsed": false,
    "ExecuteTime": {
     "end_time": "2023-06-01T14:36:14.777329700Z",
     "start_time": "2023-06-01T14:36:14.712908300Z"
    }
   }
  },
  {
   "cell_type": "code",
   "execution_count": null,
   "outputs": [],
   "source": [],
   "metadata": {
    "collapsed": false
   }
  }
 ],
 "metadata": {
  "kernelspec": {
   "display_name": "Python 3",
   "language": "python",
   "name": "python3"
  },
  "language_info": {
   "codemirror_mode": {
    "name": "ipython",
    "version": 2
   },
   "file_extension": ".py",
   "mimetype": "text/x-python",
   "name": "python",
   "nbconvert_exporter": "python",
   "pygments_lexer": "ipython2",
   "version": "2.7.6"
  }
 },
 "nbformat": 4,
 "nbformat_minor": 0
}
