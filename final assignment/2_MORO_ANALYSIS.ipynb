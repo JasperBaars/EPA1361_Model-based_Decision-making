{
 "cells": [
  {
   "cell_type": "markdown",
   "source": [
    "# Multi-objective Robust Optimization\n",
    "A robust optimization method for finding policies under deep uncertainty across scenarios.\n",
    "\n",
    "\n",
    "### sources:\n",
    "https://doi.org/10.1007/s10584-014-1210-4\n",
    "https://emaworkbench.readthedocs.io/en/latest/examples/robust_optimization_lake_model_dps.html\n",
    "https://github.com/WKSu/Model-based-decision-making/blob/ba6a6f2b9f7f32b56d7e11c9caeaedf5562deea4/MORO.py\n",
    "\n",
    "### Problem formulation\n",
    "\n",
    "    0. Total cost, and casualties\n",
    "    1. Expected damages, costs, and casualties\n",
    "    2. expected damages, dike investment costs, rfr costs, evacuation cost, and casualties\n",
    "    3. costs and casualties disaggregated over dike rings, and room for the river and evacuation costs\n",
    "    4. Expected damages, dike investment cost and casualties disaggregated over dike rings and room for the river and evacuation costs\n",
    "    5. disaggregate over time and space"
   ],
   "metadata": {
    "collapsed": false
   }
  },
  {
   "cell_type": "markdown",
   "source": [
    "First, packages are imported."
   ],
   "metadata": {
    "collapsed": false
   }
  },
  {
   "cell_type": "code",
   "execution_count": 15,
   "outputs": [
    {
     "data": {
      "text/plain": "<Logger EMA (DEBUG)>"
     },
     "execution_count": 15,
     "metadata": {},
     "output_type": "execute_result"
    }
   ],
   "source": [
    "import numpy as np\n",
    "import scipy as sp\n",
    "import pandas as pd\n",
    "import matplotlib.pyplot as plt\n",
    "import seaborn as sns\n",
    "import networkx as nx\n",
    "import pickle\n",
    "\n",
    "from ema_workbench import (\n",
    "    Model,\n",
    "    Policy,\n",
    "    ema_logging,\n",
    "    SequentialEvaluator,\n",
    "    MultiprocessingEvaluator,\n",
    "    util,\n",
    ")\n",
    "from dike_model_function import DikeNetwork  # @UnresolvedImport\n",
    "from problem_formulation import get_model_for_problem_formulation, sum_over, sum_over_time\n",
    "\n",
    "ema_logging.log_to_stderr(ema_logging.INFO)"
   ],
   "metadata": {
    "collapsed": false,
    "ExecuteTime": {
     "end_time": "2023-05-31T15:25:13.907000200Z",
     "start_time": "2023-05-31T15:25:13.891272200Z"
    }
   }
  },
  {
   "cell_type": "markdown",
   "source": [
    "\n"
   ],
   "metadata": {
    "collapsed": false
   }
  },
  {
   "cell_type": "code",
   "execution_count": 13,
   "outputs": [],
   "source": [
    "def robust_analysis():\n",
    "\n",
    "    # choose problem formulation number, between 0-5\n",
    "    # each problem formulation has its own list of outcomes\n",
    "    dike_model, planning_steps = get_model_for_problem_formulation(0)\n",
    "\n",
    "    dike_model.outcomes\n",
    "\n",
    "\n",
    "    def signal_to_noise(data):\n",
    "        mean = np.mean(data)\n",
    "        std = np.std(data)\n",
    "        sn = mean / std\n",
    "        return sn"
   ],
   "metadata": {
    "collapsed": false,
    "ExecuteTime": {
     "end_time": "2023-05-31T15:22:33.291170800Z",
     "start_time": "2023-05-31T15:22:33.285135600Z"
    }
   }
  },
  {
   "cell_type": "code",
   "execution_count": 14,
   "outputs": [
    {
     "name": "stdout",
     "output_type": "stream",
     "text": [
      "<ema_workbench.em_framework.model.Model object at 0x000002B7CBC86050>\n",
      "[0 1 2]\n"
     ]
    }
   ],
   "source": [
    "robust_analysis()"
   ],
   "metadata": {
    "collapsed": false,
    "ExecuteTime": {
     "end_time": "2023-05-31T15:22:33.889399700Z",
     "start_time": "2023-05-31T15:22:33.723671400Z"
    }
   }
  },
  {
   "cell_type": "code",
   "execution_count": null,
   "outputs": [],
   "source": [],
   "metadata": {
    "collapsed": false
   }
  }
 ],
 "metadata": {
  "kernelspec": {
   "display_name": "Python 3",
   "language": "python",
   "name": "python3"
  },
  "language_info": {
   "codemirror_mode": {
    "name": "ipython",
    "version": 2
   },
   "file_extension": ".py",
   "mimetype": "text/x-python",
   "name": "python",
   "nbconvert_exporter": "python",
   "pygments_lexer": "ipython2",
   "version": "2.7.6"
  }
 },
 "nbformat": 4,
 "nbformat_minor": 0
}
